{
  "cells": [
    {
      "cell_type": "markdown",
      "metadata": {
        "colab_type": "text",
        "id": "view-in-github"
      },
      "source": [
        "<a href=\"https://colab.research.google.com/github/shivhub09/LSTM_STOCK_PRICE_PREDICTION/blob/main/STOCK_PRICE_PREDICTION_BHEL.ipynb\" target=\"_parent\"><img src=\"https://colab.research.google.com/assets/colab-badge.svg\" alt=\"Open In Colab\"/></a>"
      ]
    },
    {
      "cell_type": "markdown",
      "metadata": {
        "id": "Yhz7LGOAO942"
      },
      "source": [
        "### Stock Market Prediction And Forecasting Using Stacked LSTM"
      ]
    },
    {
      "cell_type": "code",
      "execution_count": null,
      "metadata": {
        "id": "20rrfStlO943"
      },
      "outputs": [],
      "source": [
        "### Keras and Tensorflow >2.0"
      ]
    },
    {
      "cell_type": "code",
      "execution_count": null,
      "metadata": {
        "colab": {
          "base_uri": "https://localhost:8080/"
        },
        "id": "xDhXtKi1O944",
        "outputId": "ff3d669b-8ba1-4b5a-ca9f-6b093fa282e7"
      },
      "outputs": [
        {
          "name": "stdout",
          "output_type": "stream",
          "text": [
            "Requirement already satisfied: yfinance in /usr/local/lib/python3.10/dist-packages (0.2.36)\n",
            "Requirement already satisfied: pandas>=1.3.0 in /usr/local/lib/python3.10/dist-packages (from yfinance) (1.5.3)\n",
            "Requirement already satisfied: numpy>=1.16.5 in /usr/local/lib/python3.10/dist-packages (from yfinance) (1.25.2)\n",
            "Requirement already satisfied: requests>=2.31 in /usr/local/lib/python3.10/dist-packages (from yfinance) (2.31.0)\n",
            "Requirement already satisfied: multitasking>=0.0.7 in /usr/local/lib/python3.10/dist-packages (from yfinance) (0.0.11)\n",
            "Requirement already satisfied: lxml>=4.9.1 in /usr/local/lib/python3.10/dist-packages (from yfinance) (4.9.4)\n",
            "Requirement already satisfied: appdirs>=1.4.4 in /usr/local/lib/python3.10/dist-packages (from yfinance) (1.4.4)\n",
            "Requirement already satisfied: pytz>=2022.5 in /usr/local/lib/python3.10/dist-packages (from yfinance) (2023.4)\n",
            "Requirement already satisfied: frozendict>=2.3.4 in /usr/local/lib/python3.10/dist-packages (from yfinance) (2.4.0)\n",
            "Requirement already satisfied: peewee>=3.16.2 in /usr/local/lib/python3.10/dist-packages (from yfinance) (3.17.1)\n",
            "Requirement already satisfied: beautifulsoup4>=4.11.1 in /usr/local/lib/python3.10/dist-packages (from yfinance) (4.12.3)\n",
            "Requirement already satisfied: html5lib>=1.1 in /usr/local/lib/python3.10/dist-packages (from yfinance) (1.1)\n",
            "Requirement already satisfied: soupsieve>1.2 in /usr/local/lib/python3.10/dist-packages (from beautifulsoup4>=4.11.1->yfinance) (2.5)\n",
            "Requirement already satisfied: six>=1.9 in /usr/local/lib/python3.10/dist-packages (from html5lib>=1.1->yfinance) (1.16.0)\n",
            "Requirement already satisfied: webencodings in /usr/local/lib/python3.10/dist-packages (from html5lib>=1.1->yfinance) (0.5.1)\n",
            "Requirement already satisfied: python-dateutil>=2.8.1 in /usr/local/lib/python3.10/dist-packages (from pandas>=1.3.0->yfinance) (2.8.2)\n",
            "Requirement already satisfied: charset-normalizer<4,>=2 in /usr/local/lib/python3.10/dist-packages (from requests>=2.31->yfinance) (3.3.2)\n",
            "Requirement already satisfied: idna<4,>=2.5 in /usr/local/lib/python3.10/dist-packages (from requests>=2.31->yfinance) (3.6)\n",
            "Requirement already satisfied: urllib3<3,>=1.21.1 in /usr/local/lib/python3.10/dist-packages (from requests>=2.31->yfinance) (2.0.7)\n",
            "Requirement already satisfied: certifi>=2017.4.17 in /usr/local/lib/python3.10/dist-packages (from requests>=2.31->yfinance) (2024.2.2)\n"
          ]
        }
      ],
      "source": [
        "!pip install yfinance"
      ]
    },
    {
      "cell_type": "code",
      "execution_count": null,
      "metadata": {
        "id": "z-9MI-XDPCm-"
      },
      "outputs": [],
      "source": [
        "import yfinance as yf\n",
        "from datetime import datetime"
      ]
    },
    {
      "cell_type": "code",
      "execution_count": null,
      "metadata": {
        "colab": {
          "base_uri": "https://localhost:8080/"
        },
        "id": "V1orRdsOO944",
        "outputId": "1dad2f9c-8c3a-41f5-9c76-2578b6906fd9"
      },
      "outputs": [
        {
          "name": "stderr",
          "output_type": "stream",
          "text": [
            "\r[*********************100%%**********************]  1 of 1 completed\n"
          ]
        }
      ],
      "source": [
        "df = yf.download(\"BHEL.NS\", )"
      ]
    },
    {
      "cell_type": "code",
      "execution_count": null,
      "metadata": {
        "id": "MlR4XFXPO944"
      },
      "outputs": [],
      "source": [
        "df.to_csv('BHEL.csv')"
      ]
    },
    {
      "cell_type": "code",
      "execution_count": null,
      "metadata": {
        "id": "L6QCzmGeO944"
      },
      "outputs": [],
      "source": [
        "import pandas as pd"
      ]
    },
    {
      "cell_type": "code",
      "execution_count": null,
      "metadata": {
        "id": "OJGoM4FWPeIV"
      },
      "outputs": [],
      "source": [
        "# end = datetime.now()\n",
        "# start = datetime(end.year - 5, end.month - 1, end.day-3)"
      ]
    },
    {
      "cell_type": "code",
      "execution_count": null,
      "metadata": {
        "colab": {
          "base_uri": "https://localhost:8080/"
        },
        "id": "l89gOmJrO944",
        "outputId": "292041b9-e085-4981-8b3c-b77da2a19261"
      },
      "outputs": [
        {
          "name": "stderr",
          "output_type": "stream",
          "text": [
            "\r[*********************100%%**********************]  1 of 1 completed\n"
          ]
        }
      ],
      "source": [
        "# df = yf.download(\"BHEL.NS\" , start=start, end=end)\n",
        "df = yf.download(\"BHEL.NS\")"
      ]
    },
    {
      "cell_type": "code",
      "execution_count": null,
      "metadata": {
        "colab": {
          "base_uri": "https://localhost:8080/",
          "height": 238
        },
        "id": "jFGnqVyWO945",
        "outputId": "3b701587-dee3-453c-a6b9-52eec7f61979"
      },
      "outputs": [
        {
          "data": {
            "application/vnd.google.colaboratory.intrinsic+json": {
              "summary": "{\n  \"name\": \"df\",\n  \"rows\": 7075,\n  \"fields\": [\n    {\n      \"column\": \"Open\",\n      \"properties\": {\n        \"dtype\": \"number\",\n        \"std\": 90.63609107052204,\n        \"min\": 5.133333206176758,\n        \"max\": 384.6266784667969,\n        \"num_unique_values\": 4452,\n        \"samples\": [\n          8.833333015441895,\n          20.433332443237305,\n          115.06666564941406\n        ],\n        \"semantic_type\": \"\",\n        \"description\": \"\"\n      }\n    },\n    {\n      \"column\": \"High\",\n      \"properties\": {\n        \"dtype\": \"number\",\n        \"std\": 91.96001466240445,\n        \"min\": 5.133333206176758,\n        \"max\": 390.6666564941406,\n        \"num_unique_values\": 4897,\n        \"samples\": [\n          12.056666374206543,\n          12.44333267211914,\n          77.44999694824219\n        ],\n        \"semantic_type\": \"\",\n        \"description\": \"\"\n      }\n    },\n    {\n      \"column\": \"Low\",\n      \"properties\": {\n        \"dtype\": \"number\",\n        \"std\": 89.03688033900286,\n        \"min\": 5.073332786560059,\n        \"max\": 374.97332763671875,\n        \"num_unique_values\": 4983,\n        \"samples\": [\n          370.5333251953125,\n          11.553333282470703,\n          76.5999984741211\n        ],\n        \"semantic_type\": \"\",\n        \"description\": \"\"\n      }\n    },\n    {\n      \"column\": \"Close\",\n      \"properties\": {\n        \"dtype\": \"number\",\n        \"std\": 90.41091890942462,\n        \"min\": 5.133333206176758,\n        \"max\": 382.6933288574219,\n        \"num_unique_values\": 5589,\n        \"samples\": [\n          310.14666748046875,\n          11.369999885559082,\n          294.3800048828125\n        ],\n        \"semantic_type\": \"\",\n        \"description\": \"\"\n      }\n    },\n    {\n      \"column\": \"Adj Close\",\n      \"properties\": {\n        \"dtype\": \"number\",\n        \"std\": 74.963991163809,\n        \"min\": 3.9781417846679688,\n        \"max\": 307.2757263183594,\n        \"num_unique_values\": 6130,\n        \"samples\": [\n          45.723228454589844,\n          29.332250595092773,\n          63.784889221191406\n        ],\n        \"semantic_type\": \"\",\n        \"description\": \"\"\n      }\n    },\n    {\n      \"column\": \"Volume\",\n      \"properties\": {\n        \"dtype\": \"number\",\n        \"std\": 21097048,\n        \"min\": 0,\n        \"max\": 510138918,\n        \"num_unique_values\": 6863,\n        \"samples\": [\n          5958570,\n          5230125,\n          8924940\n        ],\n        \"semantic_type\": \"\",\n        \"description\": \"\"\n      }\n    }\n  ]\n}",
              "type": "dataframe",
              "variable_name": "df"
            },
            "text/html": [
              "\n",
              "  <div id=\"df-0074effd-b671-4ad8-a41f-378e9e1c8604\" class=\"colab-df-container\">\n",
              "    <div>\n",
              "<style scoped>\n",
              "    .dataframe tbody tr th:only-of-type {\n",
              "        vertical-align: middle;\n",
              "    }\n",
              "\n",
              "    .dataframe tbody tr th {\n",
              "        vertical-align: top;\n",
              "    }\n",
              "\n",
              "    .dataframe thead th {\n",
              "        text-align: right;\n",
              "    }\n",
              "</style>\n",
              "<table border=\"1\" class=\"dataframe\">\n",
              "  <thead>\n",
              "    <tr style=\"text-align: right;\">\n",
              "      <th></th>\n",
              "      <th>Open</th>\n",
              "      <th>High</th>\n",
              "      <th>Low</th>\n",
              "      <th>Close</th>\n",
              "      <th>Adj Close</th>\n",
              "      <th>Volume</th>\n",
              "    </tr>\n",
              "    <tr>\n",
              "      <th>Date</th>\n",
              "      <th></th>\n",
              "      <th></th>\n",
              "      <th></th>\n",
              "      <th></th>\n",
              "      <th></th>\n",
              "      <th></th>\n",
              "    </tr>\n",
              "  </thead>\n",
              "  <tbody>\n",
              "    <tr>\n",
              "      <th>1996-01-01</th>\n",
              "      <td>5.733333</td>\n",
              "      <td>5.883333</td>\n",
              "      <td>5.733333</td>\n",
              "      <td>5.883333</td>\n",
              "      <td>4.559365</td>\n",
              "      <td>1501500</td>\n",
              "    </tr>\n",
              "    <tr>\n",
              "      <th>1996-01-02</th>\n",
              "      <td>5.883333</td>\n",
              "      <td>5.616666</td>\n",
              "      <td>5.616666</td>\n",
              "      <td>5.616666</td>\n",
              "      <td>4.352707</td>\n",
              "      <td>1500</td>\n",
              "    </tr>\n",
              "    <tr>\n",
              "      <th>1996-01-03</th>\n",
              "      <td>5.616666</td>\n",
              "      <td>5.700000</td>\n",
              "      <td>5.603333</td>\n",
              "      <td>5.700000</td>\n",
              "      <td>4.417287</td>\n",
              "      <td>4500</td>\n",
              "    </tr>\n",
              "    <tr>\n",
              "      <th>1996-01-04</th>\n",
              "      <td>5.700000</td>\n",
              "      <td>5.600000</td>\n",
              "      <td>5.600000</td>\n",
              "      <td>5.600000</td>\n",
              "      <td>4.339791</td>\n",
              "      <td>1500</td>\n",
              "    </tr>\n",
              "    <tr>\n",
              "      <th>1996-01-05</th>\n",
              "      <td>5.600000</td>\n",
              "      <td>5.700000</td>\n",
              "      <td>5.533333</td>\n",
              "      <td>5.700000</td>\n",
              "      <td>4.417287</td>\n",
              "      <td>1438500</td>\n",
              "    </tr>\n",
              "  </tbody>\n",
              "</table>\n",
              "</div>\n",
              "    <div class=\"colab-df-buttons\">\n",
              "\n",
              "  <div class=\"colab-df-container\">\n",
              "    <button class=\"colab-df-convert\" onclick=\"convertToInteractive('df-0074effd-b671-4ad8-a41f-378e9e1c8604')\"\n",
              "            title=\"Convert this dataframe to an interactive table.\"\n",
              "            style=\"display:none;\">\n",
              "\n",
              "  <svg xmlns=\"http://www.w3.org/2000/svg\" height=\"24px\" viewBox=\"0 -960 960 960\">\n",
              "    <path d=\"M120-120v-720h720v720H120Zm60-500h600v-160H180v160Zm220 220h160v-160H400v160Zm0 220h160v-160H400v160ZM180-400h160v-160H180v160Zm440 0h160v-160H620v160ZM180-180h160v-160H180v160Zm440 0h160v-160H620v160Z\"/>\n",
              "  </svg>\n",
              "    </button>\n",
              "\n",
              "  <style>\n",
              "    .colab-df-container {\n",
              "      display:flex;\n",
              "      gap: 12px;\n",
              "    }\n",
              "\n",
              "    .colab-df-convert {\n",
              "      background-color: #E8F0FE;\n",
              "      border: none;\n",
              "      border-radius: 50%;\n",
              "      cursor: pointer;\n",
              "      display: none;\n",
              "      fill: #1967D2;\n",
              "      height: 32px;\n",
              "      padding: 0 0 0 0;\n",
              "      width: 32px;\n",
              "    }\n",
              "\n",
              "    .colab-df-convert:hover {\n",
              "      background-color: #E2EBFA;\n",
              "      box-shadow: 0px 1px 2px rgba(60, 64, 67, 0.3), 0px 1px 3px 1px rgba(60, 64, 67, 0.15);\n",
              "      fill: #174EA6;\n",
              "    }\n",
              "\n",
              "    .colab-df-buttons div {\n",
              "      margin-bottom: 4px;\n",
              "    }\n",
              "\n",
              "    [theme=dark] .colab-df-convert {\n",
              "      background-color: #3B4455;\n",
              "      fill: #D2E3FC;\n",
              "    }\n",
              "\n",
              "    [theme=dark] .colab-df-convert:hover {\n",
              "      background-color: #434B5C;\n",
              "      box-shadow: 0px 1px 3px 1px rgba(0, 0, 0, 0.15);\n",
              "      filter: drop-shadow(0px 1px 2px rgba(0, 0, 0, 0.3));\n",
              "      fill: #FFFFFF;\n",
              "    }\n",
              "  </style>\n",
              "\n",
              "    <script>\n",
              "      const buttonEl =\n",
              "        document.querySelector('#df-0074effd-b671-4ad8-a41f-378e9e1c8604 button.colab-df-convert');\n",
              "      buttonEl.style.display =\n",
              "        google.colab.kernel.accessAllowed ? 'block' : 'none';\n",
              "\n",
              "      async function convertToInteractive(key) {\n",
              "        const element = document.querySelector('#df-0074effd-b671-4ad8-a41f-378e9e1c8604');\n",
              "        const dataTable =\n",
              "          await google.colab.kernel.invokeFunction('convertToInteractive',\n",
              "                                                    [key], {});\n",
              "        if (!dataTable) return;\n",
              "\n",
              "        const docLinkHtml = 'Like what you see? Visit the ' +\n",
              "          '<a target=\"_blank\" href=https://colab.research.google.com/notebooks/data_table.ipynb>data table notebook</a>'\n",
              "          + ' to learn more about interactive tables.';\n",
              "        element.innerHTML = '';\n",
              "        dataTable['output_type'] = 'display_data';\n",
              "        await google.colab.output.renderOutput(dataTable, element);\n",
              "        const docLink = document.createElement('div');\n",
              "        docLink.innerHTML = docLinkHtml;\n",
              "        element.appendChild(docLink);\n",
              "      }\n",
              "    </script>\n",
              "  </div>\n",
              "\n",
              "\n",
              "<div id=\"df-29432c0e-ad71-41b9-9bc6-8726af2e4072\">\n",
              "  <button class=\"colab-df-quickchart\" onclick=\"quickchart('df-29432c0e-ad71-41b9-9bc6-8726af2e4072')\"\n",
              "            title=\"Suggest charts\"\n",
              "            style=\"display:none;\">\n",
              "\n",
              "<svg xmlns=\"http://www.w3.org/2000/svg\" height=\"24px\"viewBox=\"0 0 24 24\"\n",
              "     width=\"24px\">\n",
              "    <g>\n",
              "        <path d=\"M19 3H5c-1.1 0-2 .9-2 2v14c0 1.1.9 2 2 2h14c1.1 0 2-.9 2-2V5c0-1.1-.9-2-2-2zM9 17H7v-7h2v7zm4 0h-2V7h2v10zm4 0h-2v-4h2v4z\"/>\n",
              "    </g>\n",
              "</svg>\n",
              "  </button>\n",
              "\n",
              "<style>\n",
              "  .colab-df-quickchart {\n",
              "      --bg-color: #E8F0FE;\n",
              "      --fill-color: #1967D2;\n",
              "      --hover-bg-color: #E2EBFA;\n",
              "      --hover-fill-color: #174EA6;\n",
              "      --disabled-fill-color: #AAA;\n",
              "      --disabled-bg-color: #DDD;\n",
              "  }\n",
              "\n",
              "  [theme=dark] .colab-df-quickchart {\n",
              "      --bg-color: #3B4455;\n",
              "      --fill-color: #D2E3FC;\n",
              "      --hover-bg-color: #434B5C;\n",
              "      --hover-fill-color: #FFFFFF;\n",
              "      --disabled-bg-color: #3B4455;\n",
              "      --disabled-fill-color: #666;\n",
              "  }\n",
              "\n",
              "  .colab-df-quickchart {\n",
              "    background-color: var(--bg-color);\n",
              "    border: none;\n",
              "    border-radius: 50%;\n",
              "    cursor: pointer;\n",
              "    display: none;\n",
              "    fill: var(--fill-color);\n",
              "    height: 32px;\n",
              "    padding: 0;\n",
              "    width: 32px;\n",
              "  }\n",
              "\n",
              "  .colab-df-quickchart:hover {\n",
              "    background-color: var(--hover-bg-color);\n",
              "    box-shadow: 0 1px 2px rgba(60, 64, 67, 0.3), 0 1px 3px 1px rgba(60, 64, 67, 0.15);\n",
              "    fill: var(--button-hover-fill-color);\n",
              "  }\n",
              "\n",
              "  .colab-df-quickchart-complete:disabled,\n",
              "  .colab-df-quickchart-complete:disabled:hover {\n",
              "    background-color: var(--disabled-bg-color);\n",
              "    fill: var(--disabled-fill-color);\n",
              "    box-shadow: none;\n",
              "  }\n",
              "\n",
              "  .colab-df-spinner {\n",
              "    border: 2px solid var(--fill-color);\n",
              "    border-color: transparent;\n",
              "    border-bottom-color: var(--fill-color);\n",
              "    animation:\n",
              "      spin 1s steps(1) infinite;\n",
              "  }\n",
              "\n",
              "  @keyframes spin {\n",
              "    0% {\n",
              "      border-color: transparent;\n",
              "      border-bottom-color: var(--fill-color);\n",
              "      border-left-color: var(--fill-color);\n",
              "    }\n",
              "    20% {\n",
              "      border-color: transparent;\n",
              "      border-left-color: var(--fill-color);\n",
              "      border-top-color: var(--fill-color);\n",
              "    }\n",
              "    30% {\n",
              "      border-color: transparent;\n",
              "      border-left-color: var(--fill-color);\n",
              "      border-top-color: var(--fill-color);\n",
              "      border-right-color: var(--fill-color);\n",
              "    }\n",
              "    40% {\n",
              "      border-color: transparent;\n",
              "      border-right-color: var(--fill-color);\n",
              "      border-top-color: var(--fill-color);\n",
              "    }\n",
              "    60% {\n",
              "      border-color: transparent;\n",
              "      border-right-color: var(--fill-color);\n",
              "    }\n",
              "    80% {\n",
              "      border-color: transparent;\n",
              "      border-right-color: var(--fill-color);\n",
              "      border-bottom-color: var(--fill-color);\n",
              "    }\n",
              "    90% {\n",
              "      border-color: transparent;\n",
              "      border-bottom-color: var(--fill-color);\n",
              "    }\n",
              "  }\n",
              "</style>\n",
              "\n",
              "  <script>\n",
              "    async function quickchart(key) {\n",
              "      const quickchartButtonEl =\n",
              "        document.querySelector('#' + key + ' button');\n",
              "      quickchartButtonEl.disabled = true;  // To prevent multiple clicks.\n",
              "      quickchartButtonEl.classList.add('colab-df-spinner');\n",
              "      try {\n",
              "        const charts = await google.colab.kernel.invokeFunction(\n",
              "            'suggestCharts', [key], {});\n",
              "      } catch (error) {\n",
              "        console.error('Error during call to suggestCharts:', error);\n",
              "      }\n",
              "      quickchartButtonEl.classList.remove('colab-df-spinner');\n",
              "      quickchartButtonEl.classList.add('colab-df-quickchart-complete');\n",
              "    }\n",
              "    (() => {\n",
              "      let quickchartButtonEl =\n",
              "        document.querySelector('#df-29432c0e-ad71-41b9-9bc6-8726af2e4072 button');\n",
              "      quickchartButtonEl.style.display =\n",
              "        google.colab.kernel.accessAllowed ? 'block' : 'none';\n",
              "    })();\n",
              "  </script>\n",
              "</div>\n",
              "\n",
              "    </div>\n",
              "  </div>\n"
            ],
            "text/plain": [
              "                Open      High       Low     Close  Adj Close   Volume\n",
              "Date                                                                  \n",
              "1996-01-01  5.733333  5.883333  5.733333  5.883333   4.559365  1501500\n",
              "1996-01-02  5.883333  5.616666  5.616666  5.616666   4.352707     1500\n",
              "1996-01-03  5.616666  5.700000  5.603333  5.700000   4.417287     4500\n",
              "1996-01-04  5.700000  5.600000  5.600000  5.600000   4.339791     1500\n",
              "1996-01-05  5.600000  5.700000  5.533333  5.700000   4.417287  1438500"
            ]
          },
          "execution_count": 159,
          "metadata": {},
          "output_type": "execute_result"
        }
      ],
      "source": [
        "df.head()"
      ]
    },
    {
      "cell_type": "code",
      "execution_count": null,
      "metadata": {
        "colab": {
          "base_uri": "https://localhost:8080/"
        },
        "id": "Kl4bqphPPV8k",
        "outputId": "e9bc592e-4005-4f0e-b469-9fc4f76b5295"
      },
      "outputs": [
        {
          "data": {
            "text/plain": [
              "(7075, 6)"
            ]
          },
          "execution_count": 160,
          "metadata": {},
          "output_type": "execute_result"
        }
      ],
      "source": [
        "df.shape"
      ]
    },
    {
      "cell_type": "code",
      "execution_count": null,
      "metadata": {
        "colab": {
          "base_uri": "https://localhost:8080/",
          "height": 238
        },
        "id": "LW4umMhSO945",
        "outputId": "8b40609b-04b6-40c8-e9ee-cc40784ff599"
      },
      "outputs": [
        {
          "data": {
            "application/vnd.google.colaboratory.intrinsic+json": {
              "summary": "{\n  \"name\": \"df\",\n  \"rows\": 5,\n  \"fields\": [\n    {\n      \"column\": \"Open\",\n      \"properties\": {\n        \"dtype\": \"number\",\n        \"std\": 2.9650884646630704,\n        \"min\": 224.0,\n        \"max\": 232.0,\n        \"num_unique_values\": 5,\n        \"samples\": [\n          224.0,\n          228.0500030517578,\n          229.4499969482422\n        ],\n        \"semantic_type\": \"\",\n        \"description\": \"\"\n      }\n    },\n    {\n      \"column\": \"High\",\n      \"properties\": {\n        \"dtype\": \"number\",\n        \"std\": 2.2252560997562636,\n        \"min\": 228.39999389648438,\n        \"max\": 233.75,\n        \"num_unique_values\": 5,\n        \"samples\": [\n          229.39999389648438,\n          228.39999389648438,\n          233.75\n        ],\n        \"semantic_type\": \"\",\n        \"description\": \"\"\n      }\n    },\n    {\n      \"column\": \"Low\",\n      \"properties\": {\n        \"dtype\": \"number\",\n        \"std\": 3.6752549063586923,\n        \"min\": 220.0500030517578,\n        \"max\": 228.5,\n        \"num_unique_values\": 5,\n        \"samples\": [\n          220.9499969482422,\n          221.75,\n          228.5\n        ],\n        \"semantic_type\": \"\",\n        \"description\": \"\"\n      }\n    },\n    {\n      \"column\": \"Close\",\n      \"properties\": {\n        \"dtype\": \"number\",\n        \"std\": 3.5950682407353067,\n        \"min\": 221.89999389648438,\n        \"max\": 229.60000610351562,\n        \"num_unique_values\": 5,\n        \"samples\": [\n          228.5,\n          222.60000610351562,\n          229.60000610351562\n        ],\n        \"semantic_type\": \"\",\n        \"description\": \"\"\n      }\n    },\n    {\n      \"column\": \"Adj Close\",\n      \"properties\": {\n        \"dtype\": \"number\",\n        \"std\": 3.5950682407353067,\n        \"min\": 221.89999389648438,\n        \"max\": 229.60000610351562,\n        \"num_unique_values\": 5,\n        \"samples\": [\n          228.5,\n          222.60000610351562,\n          229.60000610351562\n        ],\n        \"semantic_type\": \"\",\n        \"description\": \"\"\n      }\n    },\n    {\n      \"column\": \"Volume\",\n      \"properties\": {\n        \"dtype\": \"number\",\n        \"std\": 4032793,\n        \"min\": 14288582,\n        \"max\": 25023398,\n        \"num_unique_values\": 5,\n        \"samples\": [\n          25023398,\n          22492044,\n          21463226\n        ],\n        \"semantic_type\": \"\",\n        \"description\": \"\"\n      }\n    }\n  ]\n}",
              "type": "dataframe"
            },
            "text/html": [
              "\n",
              "  <div id=\"df-12a671af-0e28-4466-ab3b-7a906fc23d1f\" class=\"colab-df-container\">\n",
              "    <div>\n",
              "<style scoped>\n",
              "    .dataframe tbody tr th:only-of-type {\n",
              "        vertical-align: middle;\n",
              "    }\n",
              "\n",
              "    .dataframe tbody tr th {\n",
              "        vertical-align: top;\n",
              "    }\n",
              "\n",
              "    .dataframe thead th {\n",
              "        text-align: right;\n",
              "    }\n",
              "</style>\n",
              "<table border=\"1\" class=\"dataframe\">\n",
              "  <thead>\n",
              "    <tr style=\"text-align: right;\">\n",
              "      <th></th>\n",
              "      <th>Open</th>\n",
              "      <th>High</th>\n",
              "      <th>Low</th>\n",
              "      <th>Close</th>\n",
              "      <th>Adj Close</th>\n",
              "      <th>Volume</th>\n",
              "    </tr>\n",
              "    <tr>\n",
              "      <th>Date</th>\n",
              "      <th></th>\n",
              "      <th></th>\n",
              "      <th></th>\n",
              "      <th></th>\n",
              "      <th></th>\n",
              "      <th></th>\n",
              "    </tr>\n",
              "  </thead>\n",
              "  <tbody>\n",
              "    <tr>\n",
              "      <th>2024-02-21</th>\n",
              "      <td>232.000000</td>\n",
              "      <td>232.350006</td>\n",
              "      <td>220.050003</td>\n",
              "      <td>221.899994</td>\n",
              "      <td>221.899994</td>\n",
              "      <td>22193528</td>\n",
              "    </tr>\n",
              "    <tr>\n",
              "      <th>2024-02-22</th>\n",
              "      <td>224.000000</td>\n",
              "      <td>229.399994</td>\n",
              "      <td>220.949997</td>\n",
              "      <td>228.500000</td>\n",
              "      <td>228.500000</td>\n",
              "      <td>25023398</td>\n",
              "    </tr>\n",
              "    <tr>\n",
              "      <th>2024-02-23</th>\n",
              "      <td>229.449997</td>\n",
              "      <td>233.750000</td>\n",
              "      <td>228.500000</td>\n",
              "      <td>229.600006</td>\n",
              "      <td>229.600006</td>\n",
              "      <td>21463226</td>\n",
              "    </tr>\n",
              "    <tr>\n",
              "      <th>2024-02-26</th>\n",
              "      <td>229.800003</td>\n",
              "      <td>232.149994</td>\n",
              "      <td>226.250000</td>\n",
              "      <td>228.050003</td>\n",
              "      <td>228.050003</td>\n",
              "      <td>14288582</td>\n",
              "    </tr>\n",
              "    <tr>\n",
              "      <th>2024-02-27</th>\n",
              "      <td>228.050003</td>\n",
              "      <td>228.399994</td>\n",
              "      <td>221.750000</td>\n",
              "      <td>222.600006</td>\n",
              "      <td>222.600006</td>\n",
              "      <td>22492044</td>\n",
              "    </tr>\n",
              "  </tbody>\n",
              "</table>\n",
              "</div>\n",
              "    <div class=\"colab-df-buttons\">\n",
              "\n",
              "  <div class=\"colab-df-container\">\n",
              "    <button class=\"colab-df-convert\" onclick=\"convertToInteractive('df-12a671af-0e28-4466-ab3b-7a906fc23d1f')\"\n",
              "            title=\"Convert this dataframe to an interactive table.\"\n",
              "            style=\"display:none;\">\n",
              "\n",
              "  <svg xmlns=\"http://www.w3.org/2000/svg\" height=\"24px\" viewBox=\"0 -960 960 960\">\n",
              "    <path d=\"M120-120v-720h720v720H120Zm60-500h600v-160H180v160Zm220 220h160v-160H400v160Zm0 220h160v-160H400v160ZM180-400h160v-160H180v160Zm440 0h160v-160H620v160ZM180-180h160v-160H180v160Zm440 0h160v-160H620v160Z\"/>\n",
              "  </svg>\n",
              "    </button>\n",
              "\n",
              "  <style>\n",
              "    .colab-df-container {\n",
              "      display:flex;\n",
              "      gap: 12px;\n",
              "    }\n",
              "\n",
              "    .colab-df-convert {\n",
              "      background-color: #E8F0FE;\n",
              "      border: none;\n",
              "      border-radius: 50%;\n",
              "      cursor: pointer;\n",
              "      display: none;\n",
              "      fill: #1967D2;\n",
              "      height: 32px;\n",
              "      padding: 0 0 0 0;\n",
              "      width: 32px;\n",
              "    }\n",
              "\n",
              "    .colab-df-convert:hover {\n",
              "      background-color: #E2EBFA;\n",
              "      box-shadow: 0px 1px 2px rgba(60, 64, 67, 0.3), 0px 1px 3px 1px rgba(60, 64, 67, 0.15);\n",
              "      fill: #174EA6;\n",
              "    }\n",
              "\n",
              "    .colab-df-buttons div {\n",
              "      margin-bottom: 4px;\n",
              "    }\n",
              "\n",
              "    [theme=dark] .colab-df-convert {\n",
              "      background-color: #3B4455;\n",
              "      fill: #D2E3FC;\n",
              "    }\n",
              "\n",
              "    [theme=dark] .colab-df-convert:hover {\n",
              "      background-color: #434B5C;\n",
              "      box-shadow: 0px 1px 3px 1px rgba(0, 0, 0, 0.15);\n",
              "      filter: drop-shadow(0px 1px 2px rgba(0, 0, 0, 0.3));\n",
              "      fill: #FFFFFF;\n",
              "    }\n",
              "  </style>\n",
              "\n",
              "    <script>\n",
              "      const buttonEl =\n",
              "        document.querySelector('#df-12a671af-0e28-4466-ab3b-7a906fc23d1f button.colab-df-convert');\n",
              "      buttonEl.style.display =\n",
              "        google.colab.kernel.accessAllowed ? 'block' : 'none';\n",
              "\n",
              "      async function convertToInteractive(key) {\n",
              "        const element = document.querySelector('#df-12a671af-0e28-4466-ab3b-7a906fc23d1f');\n",
              "        const dataTable =\n",
              "          await google.colab.kernel.invokeFunction('convertToInteractive',\n",
              "                                                    [key], {});\n",
              "        if (!dataTable) return;\n",
              "\n",
              "        const docLinkHtml = 'Like what you see? Visit the ' +\n",
              "          '<a target=\"_blank\" href=https://colab.research.google.com/notebooks/data_table.ipynb>data table notebook</a>'\n",
              "          + ' to learn more about interactive tables.';\n",
              "        element.innerHTML = '';\n",
              "        dataTable['output_type'] = 'display_data';\n",
              "        await google.colab.output.renderOutput(dataTable, element);\n",
              "        const docLink = document.createElement('div');\n",
              "        docLink.innerHTML = docLinkHtml;\n",
              "        element.appendChild(docLink);\n",
              "      }\n",
              "    </script>\n",
              "  </div>\n",
              "\n",
              "\n",
              "<div id=\"df-b6d13f0e-588f-4da9-91f9-fa397740bb60\">\n",
              "  <button class=\"colab-df-quickchart\" onclick=\"quickchart('df-b6d13f0e-588f-4da9-91f9-fa397740bb60')\"\n",
              "            title=\"Suggest charts\"\n",
              "            style=\"display:none;\">\n",
              "\n",
              "<svg xmlns=\"http://www.w3.org/2000/svg\" height=\"24px\"viewBox=\"0 0 24 24\"\n",
              "     width=\"24px\">\n",
              "    <g>\n",
              "        <path d=\"M19 3H5c-1.1 0-2 .9-2 2v14c0 1.1.9 2 2 2h14c1.1 0 2-.9 2-2V5c0-1.1-.9-2-2-2zM9 17H7v-7h2v7zm4 0h-2V7h2v10zm4 0h-2v-4h2v4z\"/>\n",
              "    </g>\n",
              "</svg>\n",
              "  </button>\n",
              "\n",
              "<style>\n",
              "  .colab-df-quickchart {\n",
              "      --bg-color: #E8F0FE;\n",
              "      --fill-color: #1967D2;\n",
              "      --hover-bg-color: #E2EBFA;\n",
              "      --hover-fill-color: #174EA6;\n",
              "      --disabled-fill-color: #AAA;\n",
              "      --disabled-bg-color: #DDD;\n",
              "  }\n",
              "\n",
              "  [theme=dark] .colab-df-quickchart {\n",
              "      --bg-color: #3B4455;\n",
              "      --fill-color: #D2E3FC;\n",
              "      --hover-bg-color: #434B5C;\n",
              "      --hover-fill-color: #FFFFFF;\n",
              "      --disabled-bg-color: #3B4455;\n",
              "      --disabled-fill-color: #666;\n",
              "  }\n",
              "\n",
              "  .colab-df-quickchart {\n",
              "    background-color: var(--bg-color);\n",
              "    border: none;\n",
              "    border-radius: 50%;\n",
              "    cursor: pointer;\n",
              "    display: none;\n",
              "    fill: var(--fill-color);\n",
              "    height: 32px;\n",
              "    padding: 0;\n",
              "    width: 32px;\n",
              "  }\n",
              "\n",
              "  .colab-df-quickchart:hover {\n",
              "    background-color: var(--hover-bg-color);\n",
              "    box-shadow: 0 1px 2px rgba(60, 64, 67, 0.3), 0 1px 3px 1px rgba(60, 64, 67, 0.15);\n",
              "    fill: var(--button-hover-fill-color);\n",
              "  }\n",
              "\n",
              "  .colab-df-quickchart-complete:disabled,\n",
              "  .colab-df-quickchart-complete:disabled:hover {\n",
              "    background-color: var(--disabled-bg-color);\n",
              "    fill: var(--disabled-fill-color);\n",
              "    box-shadow: none;\n",
              "  }\n",
              "\n",
              "  .colab-df-spinner {\n",
              "    border: 2px solid var(--fill-color);\n",
              "    border-color: transparent;\n",
              "    border-bottom-color: var(--fill-color);\n",
              "    animation:\n",
              "      spin 1s steps(1) infinite;\n",
              "  }\n",
              "\n",
              "  @keyframes spin {\n",
              "    0% {\n",
              "      border-color: transparent;\n",
              "      border-bottom-color: var(--fill-color);\n",
              "      border-left-color: var(--fill-color);\n",
              "    }\n",
              "    20% {\n",
              "      border-color: transparent;\n",
              "      border-left-color: var(--fill-color);\n",
              "      border-top-color: var(--fill-color);\n",
              "    }\n",
              "    30% {\n",
              "      border-color: transparent;\n",
              "      border-left-color: var(--fill-color);\n",
              "      border-top-color: var(--fill-color);\n",
              "      border-right-color: var(--fill-color);\n",
              "    }\n",
              "    40% {\n",
              "      border-color: transparent;\n",
              "      border-right-color: var(--fill-color);\n",
              "      border-top-color: var(--fill-color);\n",
              "    }\n",
              "    60% {\n",
              "      border-color: transparent;\n",
              "      border-right-color: var(--fill-color);\n",
              "    }\n",
              "    80% {\n",
              "      border-color: transparent;\n",
              "      border-right-color: var(--fill-color);\n",
              "      border-bottom-color: var(--fill-color);\n",
              "    }\n",
              "    90% {\n",
              "      border-color: transparent;\n",
              "      border-bottom-color: var(--fill-color);\n",
              "    }\n",
              "  }\n",
              "</style>\n",
              "\n",
              "  <script>\n",
              "    async function quickchart(key) {\n",
              "      const quickchartButtonEl =\n",
              "        document.querySelector('#' + key + ' button');\n",
              "      quickchartButtonEl.disabled = true;  // To prevent multiple clicks.\n",
              "      quickchartButtonEl.classList.add('colab-df-spinner');\n",
              "      try {\n",
              "        const charts = await google.colab.kernel.invokeFunction(\n",
              "            'suggestCharts', [key], {});\n",
              "      } catch (error) {\n",
              "        console.error('Error during call to suggestCharts:', error);\n",
              "      }\n",
              "      quickchartButtonEl.classList.remove('colab-df-spinner');\n",
              "      quickchartButtonEl.classList.add('colab-df-quickchart-complete');\n",
              "    }\n",
              "    (() => {\n",
              "      let quickchartButtonEl =\n",
              "        document.querySelector('#df-b6d13f0e-588f-4da9-91f9-fa397740bb60 button');\n",
              "      quickchartButtonEl.style.display =\n",
              "        google.colab.kernel.accessAllowed ? 'block' : 'none';\n",
              "    })();\n",
              "  </script>\n",
              "</div>\n",
              "\n",
              "    </div>\n",
              "  </div>\n"
            ],
            "text/plain": [
              "                  Open        High         Low       Close   Adj Close  \\\n",
              "Date                                                                     \n",
              "2024-02-21  232.000000  232.350006  220.050003  221.899994  221.899994   \n",
              "2024-02-22  224.000000  229.399994  220.949997  228.500000  228.500000   \n",
              "2024-02-23  229.449997  233.750000  228.500000  229.600006  229.600006   \n",
              "2024-02-26  229.800003  232.149994  226.250000  228.050003  228.050003   \n",
              "2024-02-27  228.050003  228.399994  221.750000  222.600006  222.600006   \n",
              "\n",
              "              Volume  \n",
              "Date                  \n",
              "2024-02-21  22193528  \n",
              "2024-02-22  25023398  \n",
              "2024-02-23  21463226  \n",
              "2024-02-26  14288582  \n",
              "2024-02-27  22492044  "
            ]
          },
          "execution_count": 161,
          "metadata": {},
          "output_type": "execute_result"
        }
      ],
      "source": [
        "df.tail()"
      ]
    },
    {
      "cell_type": "code",
      "execution_count": null,
      "metadata": {
        "id": "QWmeANZnO945"
      },
      "outputs": [],
      "source": [
        "df1=df.reset_index()['Close']"
      ]
    },
    {
      "cell_type": "code",
      "execution_count": null,
      "metadata": {
        "colab": {
          "base_uri": "https://localhost:8080/"
        },
        "id": "yKqWCQ6CO945",
        "outputId": "b06b2de6-7b76-4435-c14d-77c8c2a414b0"
      },
      "outputs": [
        {
          "data": {
            "text/plain": [
              "0         5.883333\n",
              "1         5.616666\n",
              "2         5.700000\n",
              "3         5.600000\n",
              "4         5.700000\n",
              "           ...    \n",
              "7070    221.899994\n",
              "7071    228.500000\n",
              "7072    229.600006\n",
              "7073    228.050003\n",
              "7074    222.600006\n",
              "Name: Close, Length: 7075, dtype: float64"
            ]
          },
          "execution_count": 163,
          "metadata": {},
          "output_type": "execute_result"
        }
      ],
      "source": [
        "df1"
      ]
    },
    {
      "cell_type": "code",
      "execution_count": null,
      "metadata": {
        "colab": {
          "base_uri": "https://localhost:8080/",
          "height": 451
        },
        "id": "yslLiNS8O945",
        "outputId": "84f7ab78-9373-4efb-a22d-186944f82c39"
      },
      "outputs": [
        {
          "data": {
            "text/plain": [
              "[<matplotlib.lines.Line2D at 0x7861e73813c0>]"
            ]
          },
          "execution_count": 164,
          "metadata": {},
          "output_type": "execute_result"
        },
        {
          "data": {
            "image/png": "[encoded data removed]",
            "text/plain": [
              "<Figure size 640x480 with 1 Axes>"
            ]
          },
          "metadata": {},
          "output_type": "display_data"
        }
      ],
      "source": [
        "import matplotlib.pyplot as plt\n",
        "plt.plot(df1)"
      ]
    },
    {
      "cell_type": "code",
      "execution_count": null,
      "metadata": {
        "id": "9QxAaDB8O945"
      },
      "outputs": [],
      "source": [
        "### LSTM are sensitive to the scale of the data. so we apply MinMax scaler"
      ]
    },
    {
      "cell_type": "code",
      "execution_count": null,
      "metadata": {
        "id": "LRTts-VQO946"
      },
      "outputs": [],
      "source": [
        "import numpy as np"
      ]
    },
    {
      "cell_type": "code",
      "execution_count": null,
      "metadata": {
        "colab": {
          "base_uri": "https://localhost:8080/"
        },
        "id": "YLrXfCz9O946",
        "outputId": "01790886-e290-4358-8402-7b27faa52f39"
      },
      "outputs": [
        {
          "data": {
            "text/plain": [
              "0         5.883333\n",
              "1         5.616666\n",
              "2         5.700000\n",
              "3         5.600000\n",
              "4         5.700000\n",
              "           ...    \n",
              "7070    221.899994\n",
              "7071    228.500000\n",
              "7072    229.600006\n",
              "7073    228.050003\n",
              "7074    222.600006\n",
              "Name: Close, Length: 7075, dtype: float64"
            ]
          },
          "execution_count": 167,
          "metadata": {},
          "output_type": "execute_result"
        }
      ],
      "source": [
        "df1"
      ]
    },
    {
      "cell_type": "code",
      "execution_count": null,
      "metadata": {
        "id": "zOOJxZc-O946"
      },
      "outputs": [],
      "source": [
        "from sklearn.preprocessing import MinMaxScaler\n",
        "scaler=MinMaxScaler(feature_range=(0,1))\n",
        "df1=scaler.fit_transform(np.array(df1).reshape(-1,1))"
      ]
    },
    {
      "cell_type": "code",
      "execution_count": null,
      "metadata": {
        "colab": {
          "base_uri": "https://localhost:8080/"
        },
        "id": "WFjsd2ftO946",
        "outputId": "efb04d45-bef5-483e-af0e-9468e44cbcb4"
      },
      "outputs": [
        {
          "name": "stdout",
          "output_type": "stream",
          "text": [
            "[[0.00198644]\n",
            " [0.00128015]\n",
            " [0.00150087]\n",
            " ...\n",
            " [0.59451922]\n",
            " [0.5904139 ]\n",
            " [0.57597912]]\n"
          ]
        }
      ],
      "source": [
        "print(df1)"
      ]
    },
    {
      "cell_type": "code",
      "execution_count": null,
      "metadata": {
        "id": "XJot6ufLO946"
      },
      "outputs": [],
      "source": [
        "##splitting dataset into train and test split\n",
        "training_size=int(len(df1)*0.75)\n",
        "test_size=len(df1)-training_size\n",
        "train_data,test_data=df1[0:training_size,:],df1[training_size:len(df1),:1]"
      ]
    },
    {
      "cell_type": "code",
      "execution_count": null,
      "metadata": {
        "colab": {
          "base_uri": "https://localhost:8080/"
        },
        "id": "7eLe-uneO946",
        "outputId": "e20870e2-4c5a-4436-8e58-ddcbaa3b3189"
      },
      "outputs": [
        {
          "data": {
            "text/plain": [
              "(5306, 1769)"
            ]
          },
          "execution_count": 171,
          "metadata": {},
          "output_type": "execute_result"
        }
      ],
      "source": [
        "training_size,test_size"
      ]
    },
    {
      "cell_type": "code",
      "execution_count": null,
      "metadata": {
        "colab": {
          "base_uri": "https://localhost:8080/"
        },
        "id": "qo7e60BLO946",
        "outputId": "5a1fb980-5254-4689-82ca-3ed7f13717c3"
      },
      "outputs": [
        {
          "data": {
            "text/plain": [
              "array([[0.00198644],\n",
              "       [0.00128015],\n",
              "       [0.00150087],\n",
              "       ...,\n",
              "       [0.19714306],\n",
              "       [0.19608362],\n",
              "       [0.20040966]])"
            ]
          },
          "execution_count": 172,
          "metadata": {},
          "output_type": "execute_result"
        }
      ],
      "source": [
        "train_data"
      ]
    },
    {
      "cell_type": "code",
      "execution_count": null,
      "metadata": {
        "id": "OZCImm5vO946"
      },
      "outputs": [],
      "source": [
        "import numpy\n",
        "# convert an array of values into a dataset matrix\n",
        "def create_dataset(dataset, time_step=1):\n",
        "\tdataX, dataY = [], []\n",
        "\tfor i in range(len(dataset)-time_step-1):\n",
        "\t\ta = dataset[i:(i+time_step), 0]   ###i=0, 0,1,2,3-----99   100\n",
        "\t\tdataX.append(a)\n",
        "\t\tdataY.append(dataset[i + time_step, 0])\n",
        "\treturn numpy.array(dataX), numpy.array(dataY)"
      ]
    },
    {
      "cell_type": "code",
      "execution_count": null,
      "metadata": {
        "id": "lCzHz17rO946"
      },
      "outputs": [],
      "source": [
        "# reshape into X=t,t+1,t+2,t+3 and Y=t+4\n",
        "time_step = 100\n",
        "X_train, y_train = create_dataset(train_data, time_step)\n",
        "X_test, ytest = create_dataset(test_data, time_step)"
      ]
    },
    {
      "cell_type": "code",
      "execution_count": null,
      "metadata": {
        "colab": {
          "base_uri": "https://localhost:8080/"
        },
        "id": "5VsFxZhlO947",
        "outputId": "e7e54dd1-79ec-40dd-a58b-4c432738152c"
      },
      "outputs": [
        {
          "name": "stdout",
          "output_type": "stream",
          "text": [
            "(5205, 100)\n",
            "(5205,)\n"
          ]
        },
        {
          "data": {
            "text/plain": [
              "(None, None)"
            ]
          },
          "execution_count": 175,
          "metadata": {},
          "output_type": "execute_result"
        }
      ],
      "source": [
        "print(X_train.shape), print(y_train.shape)"
      ]
    },
    {
      "cell_type": "code",
      "execution_count": null,
      "metadata": {
        "colab": {
          "base_uri": "https://localhost:8080/"
        },
        "id": "qUMGd8m-O947",
        "outputId": "e6f76e1a-26d4-4c2d-b37f-9487141e0e80"
      },
      "outputs": [
        {
          "name": "stdout",
          "output_type": "stream",
          "text": [
            "(1668, 100)\n",
            "(1668,)\n"
          ]
        },
        {
          "data": {
            "text/plain": [
              "(None, None)"
            ]
          },
          "execution_count": 176,
          "metadata": {},
          "output_type": "execute_result"
        }
      ],
      "source": [
        "print(X_test.shape), print(ytest.shape)"
      ]
    },
    {
      "cell_type": "code",
      "execution_count": null,
      "metadata": {
        "id": "xMmKxrJMO947"
      },
      "outputs": [],
      "source": [
        "# reshape input to be [samples, time steps, features] which is required for LSTM\n",
        "X_train =X_train.reshape(X_train.shape[0],X_train.shape[1] , 1)\n",
        "X_test = X_test.reshape(X_test.shape[0],X_test.shape[1] , 1)"
      ]
    },
    {
      "cell_type": "code",
      "execution_count": null,
      "metadata": {
        "id": "lq6VW6H7O947"
      },
      "outputs": [],
      "source": [
        "### Create the Stacked LSTM model\n",
        "from tensorflow.keras.models import Sequential\n",
        "from tensorflow.keras.layers import Dense\n",
        "from tensorflow.keras.layers import LSTM"
      ]
    },
    {
      "cell_type": "code",
      "execution_count": null,
      "metadata": {
        "colab": {
          "base_uri": "https://localhost:8080/"
        },
        "id": "1VD29hn9O947",
        "outputId": "a3fc47a9-3878-4203-b884-b4c6a309a74d"
      },
      "outputs": [
        {
          "name": "stdout",
          "output_type": "stream",
          "text": [
            "Model: \"sequential_2\"\n",
            "_________________________________________________________________\n",
            " Layer (type)                Output Shape              Param #   \n",
            "=================================================================\n",
            " lstm_6 (LSTM)               (None, 100, 100)          40800     \n",
            "                                                                 \n",
            " dropout_6 (Dropout)         (None, 100, 100)          0         \n",
            "                                                                 \n",
            " batch_normalization_6 (Bat  (None, 100, 100)          400       \n",
            " chNormalization)                                                \n",
            "                                                                 \n",
            " lstm_7 (LSTM)               (None, 100, 100)          80400     \n",
            "                                                                 \n",
            " dropout_7 (Dropout)         (None, 100, 100)          0         \n",
            "                                                                 \n",
            " batch_normalization_7 (Bat  (None, 100, 100)          400       \n",
            " chNormalization)                                                \n",
            "                                                                 \n",
            " lstm_8 (LSTM)               (None, 100)               80400     \n",
            "                                                                 \n",
            " dropout_8 (Dropout)         (None, 100)               0         \n",
            "                                                                 \n",
            " batch_normalization_8 (Bat  (None, 100)               400       \n",
            " chNormalization)                                                \n",
            "                                                                 \n",
            " dense_2 (Dense)             (None, 1)                 101       \n",
            "                                                                 \n",
            "=================================================================\n",
            "Total params: 202901 (792.58 KB)\n",
            "Trainable params: 202301 (790.24 KB)\n",
            "Non-trainable params: 600 (2.34 KB)\n",
            "_________________________________________________________________\n"
          ]
        }
      ],
      "source": [
        "from tensorflow.keras.models import Sequential\n",
        "from tensorflow.keras.layers import LSTM, Dense, Dropout, BatchNormalization\n",
        "from tensorflow.keras.optimizers import Adam\n",
        "\n",
        "# Define the model\n",
        "model = Sequential()\n",
        "model.add(LSTM(units=100, return_sequences=True, input_shape=(X_train.shape[1], 1)))\n",
        "model.add(Dropout(0.2))\n",
        "model.add(BatchNormalization())\n",
        "\n",
        "model.add(LSTM(units=100, return_sequences=True))\n",
        "model.add(Dropout(0.2))\n",
        "model.add(BatchNormalization())\n",
        "\n",
        "model.add(LSTM(units=100))\n",
        "model.add(Dropout(0.2))\n",
        "model.add(BatchNormalization())\n",
        "\n",
        "model.add(Dense(units=1))\n",
        "\n",
        "# Compile the model with a custom learning rate\n",
        "optimizer = Adam(learning_rate=0.0005)\n",
        "model.compile(optimizer=optimizer, loss='mean_squared_error')\n",
        "# Display the model summary\n",
        "model.summary()\n"
      ]
    },
    {
      "cell_type": "code",
      "execution_count": null,
      "metadata": {
        "colab": {
          "base_uri": "https://localhost:8080/"
        },
        "id": "hbQgGkz9O947",
        "outputId": "a90b394c-5e06-4566-d3d7-698036e82209"
      },
      "outputs": [
        {
          "name": "stdout",
          "output_type": "stream",
          "text": [
            "Model: \"sequential_2\"\n",
            "_________________________________________________________________\n",
            " Layer (type)                Output Shape              Param #   \n",
            "=================================================================\n",
            " lstm_6 (LSTM)               (None, 100, 100)          40800     \n",
            "                                                                 \n",
            " dropout_6 (Dropout)         (None, 100, 100)          0         \n",
            "                                                                 \n",
            " batch_normalization_6 (Bat  (None, 100, 100)          400       \n",
            " chNormalization)                                                \n",
            "                                                                 \n",
            " lstm_7 (LSTM)               (None, 100, 100)          80400     \n",
            "                                                                 \n",
            " dropout_7 (Dropout)         (None, 100, 100)          0         \n",
            "                                                                 \n",
            " batch_normalization_7 (Bat  (None, 100, 100)          400       \n",
            " chNormalization)                                                \n",
            "                                                                 \n",
            " lstm_8 (LSTM)               (None, 100)               80400     \n",
            "                                                                 \n",
            " dropout_8 (Dropout)         (None, 100)               0         \n",
            "                                                                 \n",
            " batch_normalization_8 (Bat  (None, 100)               400       \n",
            " chNormalization)                                                \n",
            "                                                                 \n",
            " dense_2 (Dense)             (None, 1)                 101       \n",
            "                                                                 \n",
            "=================================================================\n",
            "Total params: 202901 (792.58 KB)\n",
            "Trainable params: 202301 (790.24 KB)\n",
            "Non-trainable params: 600 (2.34 KB)\n",
            "_________________________________________________________________\n"
          ]
        }
      ],
      "source": [
        "model.summary()"
      ]
    },
    {
      "cell_type": "code",
      "execution_count": null,
      "metadata": {
        "colab": {
          "base_uri": "https://localhost:8080/"
        },
        "id": "O2FgXBqaO947",
        "outputId": "9cfcb4a6-e6ad-4e02-ac0f-ab1f4d177eed"
      },
      "outputs": [
        {
          "name": "stdout",
          "output_type": "stream",
          "text": [
            "Model: \"sequential_2\"\n",
            "_________________________________________________________________\n",
            " Layer (type)                Output Shape              Param #   \n",
            "=================================================================\n",
            " lstm_6 (LSTM)               (None, 100, 100)          40800     \n",
            "                                                                 \n",
            " dropout_6 (Dropout)         (None, 100, 100)          0         \n",
            "                                                                 \n",
            " batch_normalization_6 (Bat  (None, 100, 100)          400       \n",
            " chNormalization)                                                \n",
            "                                                                 \n",
            " lstm_7 (LSTM)               (None, 100, 100)          80400     \n",
            "                                                                 \n",
            " dropout_7 (Dropout)         (None, 100, 100)          0         \n",
            "                                                                 \n",
            " batch_normalization_7 (Bat  (None, 100, 100)          400       \n",
            " chNormalization)                                                \n",
            "                                                                 \n",
            " lstm_8 (LSTM)               (None, 100)               80400     \n",
            "                                                                 \n",
            " dropout_8 (Dropout)         (None, 100)               0         \n",
            "                                                                 \n",
            " batch_normalization_8 (Bat  (None, 100)               400       \n",
            " chNormalization)                                                \n",
            "                                                                 \n",
            " dense_2 (Dense)             (None, 1)                 101       \n",
            "                                                                 \n",
            "=================================================================\n",
            "Total params: 202901 (792.58 KB)\n",
            "Trainable params: 202301 (790.24 KB)\n",
            "Non-trainable params: 600 (2.34 KB)\n",
            "_________________________________________________________________\n"
          ]
        }
      ],
      "source": [
        "model.summary()"
      ]
    },
    {
      "cell_type": "code",
      "execution_count": null,
      "metadata": {
        "colab": {
          "base_uri": "https://localhost:8080/"
        },
        "id": "eyqLvfwoO947",
        "outputId": "4453f455-7028-45e1-a2c8-426165045407"
      },
      "outputs": [
        {
          "name": "stdout",
          "output_type": "stream",
          "text": [
            "Epoch 1/100\n",
            "82/82 [==============================] - 15s 90ms/step - loss: 0.6519 - val_loss: 0.0104\n",
            "Epoch 2/100\n",
            "82/82 [==============================] - 3s 33ms/step - loss: 0.4132 - val_loss: 0.0103\n",
            "Epoch 3/100\n",
            "82/82 [==============================] - 3s 41ms/step - loss: 0.3387 - val_loss: 0.0129\n",
            "Epoch 4/100\n",
            "82/82 [==============================] - 3s 36ms/step - loss: 0.2810 - val_loss: 0.0088\n",
            "Epoch 5/100\n",
            "82/82 [==============================] - 2s 22ms/step - loss: 0.2309 - val_loss: 0.0070\n",
            "Epoch 6/100\n",
            "82/82 [==============================] - 2s 25ms/step - loss: 0.1945 - val_loss: 0.0159\n",
            "Epoch 7/100\n",
            "82/82 [==============================] - 2s 21ms/step - loss: 0.1567 - val_loss: 0.0015\n",
            "Epoch 8/100\n",
            "82/82 [==============================] - 2s 19ms/step - loss: 0.1300 - val_loss: 0.0021\n",
            "Epoch 9/100\n",
            "82/82 [==============================] - 2s 21ms/step - loss: 0.1037 - val_loss: 0.0015\n",
            "Epoch 10/100\n",
            "82/82 [==============================] - 2s 23ms/step - loss: 0.0863 - val_loss: 0.0022\n",
            "Epoch 11/100\n",
            "82/82 [==============================] - 2s 19ms/step - loss: 0.0685 - val_loss: 0.0017\n",
            "Epoch 12/100\n",
            "82/82 [==============================] - 2s 21ms/step - loss: 0.0563 - val_loss: 9.4738e-04\n",
            "Epoch 13/100\n",
            "82/82 [==============================] - 2s 23ms/step - loss: 0.0469 - val_loss: 8.3721e-04\n",
            "Epoch 14/100\n",
            "82/82 [==============================] - 2s 19ms/step - loss: 0.0356 - val_loss: 5.5086e-04\n",
            "Epoch 15/100\n",
            "82/82 [==============================] - 2s 18ms/step - loss: 0.0302 - val_loss: 5.1851e-04\n",
            "Epoch 16/100\n",
            "82/82 [==============================] - 1s 18ms/step - loss: 0.0252 - val_loss: 6.6371e-04\n",
            "Epoch 17/100\n",
            "82/82 [==============================] - 2s 18ms/step - loss: 0.0193 - val_loss: 4.7418e-04\n",
            "Epoch 18/100\n",
            "82/82 [==============================] - 2s 18ms/step - loss: 0.0158 - val_loss: 5.5164e-04\n",
            "Epoch 19/100\n",
            "82/82 [==============================] - 2s 19ms/step - loss: 0.0124 - val_loss: 4.2289e-04\n",
            "Epoch 20/100\n",
            "82/82 [==============================] - 2s 23ms/step - loss: 0.0109 - val_loss: 3.6443e-04\n",
            "Epoch 21/100\n",
            "82/82 [==============================] - 2s 23ms/step - loss: 0.0091 - val_loss: 4.2100e-04\n",
            "Epoch 22/100\n",
            "82/82 [==============================] - 2s 19ms/step - loss: 0.0074 - val_loss: 3.0226e-04\n",
            "Epoch 23/100\n",
            "82/82 [==============================] - 2s 19ms/step - loss: 0.0067 - val_loss: 0.0013\n",
            "Epoch 24/100\n",
            "82/82 [==============================] - 2s 20ms/step - loss: 0.0063 - val_loss: 5.5595e-04\n",
            "Epoch 25/100\n",
            "82/82 [==============================] - 2s 20ms/step - loss: 0.0046 - val_loss: 4.8242e-04\n",
            "Epoch 26/100\n",
            "82/82 [==============================] - 2s 18ms/step - loss: 0.0041 - val_loss: 3.7107e-04\n",
            "Epoch 27/100\n",
            "82/82 [==============================] - 2s 25ms/step - loss: 0.0040 - val_loss: 3.1968e-04\n",
            "Epoch 28/100\n",
            "82/82 [==============================] - 2s 24ms/step - loss: 0.0039 - val_loss: 0.0011\n",
            "Epoch 29/100\n",
            "82/82 [==============================] - 2s 19ms/step - loss: 0.0033 - val_loss: 0.0012\n",
            "Epoch 30/100\n",
            "82/82 [==============================] - 2s 21ms/step - loss: 0.0035 - val_loss: 3.9801e-04\n",
            "Epoch 31/100\n",
            "82/82 [==============================] - 2s 19ms/step - loss: 0.0030 - val_loss: 8.0947e-04\n",
            "Epoch 32/100\n",
            "82/82 [==============================] - 2s 19ms/step - loss: 0.0031 - val_loss: 2.3179e-04\n",
            "Epoch 33/100\n",
            "82/82 [==============================] - 2s 19ms/step - loss: 0.0029 - val_loss: 2.6115e-04\n",
            "Epoch 34/100\n",
            "82/82 [==============================] - 2s 20ms/step - loss: 0.0031 - val_loss: 2.5402e-04\n",
            "Epoch 35/100\n",
            "82/82 [==============================] - 2s 28ms/step - loss: 0.0025 - val_loss: 3.2204e-04\n",
            "Epoch 36/100\n",
            "82/82 [==============================] - 2s 20ms/step - loss: 0.0025 - val_loss: 3.3580e-04\n",
            "Epoch 37/100\n",
            "82/82 [==============================] - 2s 25ms/step - loss: 0.0024 - val_loss: 3.0348e-04\n",
            "Epoch 38/100\n",
            "82/82 [==============================] - 2s 21ms/step - loss: 0.0027 - val_loss: 3.1032e-04\n",
            "Epoch 39/100\n",
            "82/82 [==============================] - 2s 19ms/step - loss: 0.0028 - val_loss: 1.8161e-04\n",
            "Epoch 40/100\n",
            "82/82 [==============================] - 1s 18ms/step - loss: 0.0022 - val_loss: 5.3042e-04\n",
            "Epoch 41/100\n",
            "82/82 [==============================] - 2s 20ms/step - loss: 0.0026 - val_loss: 2.5295e-04\n",
            "Epoch 42/100\n",
            "82/82 [==============================] - 2s 25ms/step - loss: 0.0023 - val_loss: 4.4911e-04\n",
            "Epoch 43/100\n",
            "82/82 [==============================] - 2s 19ms/step - loss: 0.0021 - val_loss: 4.7285e-04\n",
            "Epoch 44/100\n",
            "82/82 [==============================] - 2s 19ms/step - loss: 0.0022 - val_loss: 2.6529e-04\n",
            "Epoch 45/100\n",
            "82/82 [==============================] - 2s 21ms/step - loss: 0.0023 - val_loss: 3.7356e-04\n",
            "Epoch 46/100\n",
            "82/82 [==============================] - 2s 19ms/step - loss: 0.0024 - val_loss: 2.3436e-04\n",
            "Epoch 47/100\n",
            "82/82 [==============================] - 2s 22ms/step - loss: 0.0024 - val_loss: 1.7464e-04\n",
            "Epoch 48/100\n",
            "82/82 [==============================] - 3s 31ms/step - loss: 0.0027 - val_loss: 1.7649e-04\n",
            "Epoch 49/100\n",
            "82/82 [==============================] - 2s 24ms/step - loss: 0.0022 - val_loss: 1.8236e-04\n",
            "Epoch 50/100\n",
            "82/82 [==============================] - 2s 19ms/step - loss: 0.0027 - val_loss: 1.8268e-04\n",
            "Epoch 51/100\n",
            "82/82 [==============================] - 2s 18ms/step - loss: 0.0022 - val_loss: 8.8530e-04\n",
            "Epoch 52/100\n",
            "82/82 [==============================] - 2s 20ms/step - loss: 0.0022 - val_loss: 2.3633e-04\n",
            "Epoch 53/100\n",
            "82/82 [==============================] - 2s 20ms/step - loss: 0.0021 - val_loss: 2.7990e-04\n",
            "Epoch 54/100\n",
            "82/82 [==============================] - 2s 25ms/step - loss: 0.0026 - val_loss: 3.0376e-04\n",
            "Epoch 55/100\n",
            "82/82 [==============================] - 2s 21ms/step - loss: 0.0022 - val_loss: 3.1681e-04\n",
            "Epoch 56/100\n",
            "82/82 [==============================] - 2s 26ms/step - loss: 0.0019 - val_loss: 3.7315e-04\n",
            "Epoch 57/100\n",
            "82/82 [==============================] - 2s 20ms/step - loss: 0.0022 - val_loss: 2.6935e-04\n",
            "Epoch 58/100\n",
            "82/82 [==============================] - 2s 19ms/step - loss: 0.0023 - val_loss: 2.1507e-04\n",
            "Epoch 59/100\n",
            "82/82 [==============================] - 2s 20ms/step - loss: 0.0024 - val_loss: 2.2876e-04\n",
            "Epoch 60/100\n",
            "82/82 [==============================] - 2s 22ms/step - loss: 0.0022 - val_loss: 2.2434e-04\n",
            "Epoch 61/100\n",
            "82/82 [==============================] - 2s 20ms/step - loss: 0.0020 - val_loss: 1.8745e-04\n",
            "Epoch 62/100\n",
            "82/82 [==============================] - 2s 21ms/step - loss: 0.0021 - val_loss: 1.7504e-04\n",
            "Epoch 63/100\n",
            "82/82 [==============================] - 2s 25ms/step - loss: 0.0021 - val_loss: 2.0475e-04\n",
            "Epoch 64/100\n",
            "82/82 [==============================] - 2s 27ms/step - loss: 0.0021 - val_loss: 2.1973e-04\n",
            "Epoch 65/100\n",
            "82/82 [==============================] - 2s 20ms/step - loss: 0.0025 - val_loss: 4.9791e-04\n",
            "Epoch 66/100\n",
            "82/82 [==============================] - 1s 18ms/step - loss: 0.0022 - val_loss: 3.1943e-04\n",
            "Epoch 67/100\n",
            "82/82 [==============================] - 2s 19ms/step - loss: 0.0022 - val_loss: 1.7796e-04\n",
            "Epoch 68/100\n",
            "82/82 [==============================] - 2s 22ms/step - loss: 0.0019 - val_loss: 2.4825e-04\n",
            "Epoch 69/100\n",
            "82/82 [==============================] - 2s 21ms/step - loss: 0.0020 - val_loss: 1.5958e-04\n",
            "Epoch 70/100\n",
            "82/82 [==============================] - 2s 24ms/step - loss: 0.0026 - val_loss: 2.6298e-04\n",
            "Epoch 71/100\n",
            "82/82 [==============================] - 2s 18ms/step - loss: 0.0023 - val_loss: 2.9391e-04\n",
            "Epoch 72/100\n",
            "82/82 [==============================] - 2s 18ms/step - loss: 0.0021 - val_loss: 2.6452e-04\n",
            "Epoch 73/100\n",
            "82/82 [==============================] - 2s 23ms/step - loss: 0.0020 - val_loss: 2.0078e-04\n",
            "Epoch 74/100\n",
            "82/82 [==============================] - 1s 18ms/step - loss: 0.0018 - val_loss: 2.2954e-04\n",
            "Epoch 75/100\n",
            "82/82 [==============================] - 2s 19ms/step - loss: 0.0023 - val_loss: 1.8983e-04\n",
            "Epoch 76/100\n",
            "82/82 [==============================] - 2s 26ms/step - loss: 0.0023 - val_loss: 5.2040e-04\n",
            "Epoch 77/100\n",
            "82/82 [==============================] - 2s 28ms/step - loss: 0.0020 - val_loss: 3.6674e-04\n",
            "Epoch 78/100\n",
            "82/82 [==============================] - 2s 19ms/step - loss: 0.0019 - val_loss: 7.4877e-04\n",
            "Epoch 79/100\n",
            "82/82 [==============================] - 2s 19ms/step - loss: 0.0023 - val_loss: 1.9495e-04\n",
            "Epoch 80/100\n",
            "82/82 [==============================] - 2s 18ms/step - loss: 0.0024 - val_loss: 2.7254e-04\n",
            "Epoch 81/100\n",
            "82/82 [==============================] - 2s 20ms/step - loss: 0.0022 - val_loss: 2.1912e-04\n",
            "Epoch 82/100\n",
            "82/82 [==============================] - 2s 29ms/step - loss: 0.0015 - val_loss: 2.6125e-04\n",
            "Epoch 83/100\n",
            "82/82 [==============================] - 2s 22ms/step - loss: 0.0024 - val_loss: 1.3574e-04\n",
            "Epoch 84/100\n",
            "82/82 [==============================] - 2s 24ms/step - loss: 0.0023 - val_loss: 2.0752e-04\n",
            "Epoch 85/100\n",
            "82/82 [==============================] - 2s 19ms/step - loss: 0.0021 - val_loss: 1.9458e-04\n",
            "Epoch 86/100\n",
            "82/82 [==============================] - 2s 19ms/step - loss: 0.0021 - val_loss: 1.5370e-04\n",
            "Epoch 87/100\n",
            "82/82 [==============================] - 2s 19ms/step - loss: 0.0023 - val_loss: 2.2773e-04\n",
            "Epoch 88/100\n",
            "82/82 [==============================] - 2s 18ms/step - loss: 0.0018 - val_loss: 3.6830e-04\n",
            "Epoch 89/100\n",
            "82/82 [==============================] - 2s 18ms/step - loss: 0.0021 - val_loss: 3.1073e-04\n",
            "Epoch 90/100\n",
            "82/82 [==============================] - 2s 19ms/step - loss: 0.0020 - val_loss: 4.6535e-04\n",
            "Epoch 91/100\n",
            "82/82 [==============================] - 2s 24ms/step - loss: 0.0017 - val_loss: 3.9906e-04\n",
            "Epoch 92/100\n",
            "82/82 [==============================] - 2s 27ms/step - loss: 0.0018 - val_loss: 1.8461e-04\n",
            "Epoch 93/100\n",
            "82/82 [==============================] - 2s 19ms/step - loss: 0.0020 - val_loss: 1.3901e-04\n",
            "Epoch 94/100\n",
            "82/82 [==============================] - 2s 21ms/step - loss: 0.0022 - val_loss: 1.5522e-04\n",
            "Epoch 95/100\n",
            "82/82 [==============================] - 2s 22ms/step - loss: 0.0019 - val_loss: 2.1172e-04\n",
            "Epoch 96/100\n",
            "82/82 [==============================] - 2s 19ms/step - loss: 0.0018 - val_loss: 1.7487e-04\n",
            "Epoch 97/100\n",
            "82/82 [==============================] - 2s 19ms/step - loss: 0.0022 - val_loss: 3.2402e-04\n",
            "Epoch 98/100\n",
            "82/82 [==============================] - 2s 26ms/step - loss: 0.0022 - val_loss: 4.2574e-04\n",
            "Epoch 99/100\n",
            "82/82 [==============================] - 2s 20ms/step - loss: 0.0022 - val_loss: 2.4693e-04\n",
            "Epoch 100/100\n",
            "82/82 [==============================] - 2s 19ms/step - loss: 0.0018 - val_loss: 1.5888e-04\n"
          ]
        },
        {
          "data": {
            "text/plain": [
              "<keras.src.callbacks.History at 0x7861e7fd8250>"
            ]
          },
          "execution_count": 182,
          "metadata": {},
          "output_type": "execute_result"
        }
      ],
      "source": [
        "model.fit(X_train,y_train,validation_data=(X_test,ytest),epochs=100,batch_size=64,verbose=1)"
      ]
    },
    {
      "cell_type": "code",
      "execution_count": null,
      "metadata": {
        "id": "EVS-_ndiO947"
      },
      "outputs": [],
      "source": [
        "import tensorflow as tf"
      ]
    },
    {
      "cell_type": "code",
      "execution_count": null,
      "metadata": {
        "colab": {
          "base_uri": "https://localhost:8080/",
          "height": 36
        },
        "id": "J_yzTdF6O948",
        "outputId": "83812566-f295-45e4-9ac0-91924cd842d3"
      },
      "outputs": [
        {
          "data": {
            "application/vnd.google.colaboratory.intrinsic+json": {
              "type": "string"
            },
            "text/plain": [
              "'2.15.0'"
            ]
          },
          "execution_count": 184,
          "metadata": {},
          "output_type": "execute_result"
        }
      ],
      "source": [
        "tf.__version__"
      ]
    },
    {
      "cell_type": "code",
      "execution_count": null,
      "metadata": {
        "colab": {
          "base_uri": "https://localhost:8080/"
        },
        "id": "-dYtW73UO948",
        "outputId": "35308070-f51e-42a5-ad9d-1873d1b9146f"
      },
      "outputs": [
        {
          "name": "stdout",
          "output_type": "stream",
          "text": [
            "163/163 [==============================] - 4s 12ms/step\n",
            "53/53 [==============================] - 1s 11ms/step\n"
          ]
        }
      ],
      "source": [
        "### Lets Do the prediction and check performance metrics\n",
        "train_predict=model.predict(X_train)\n",
        "test_predict=model.predict(X_test)"
      ]
    },
    {
      "cell_type": "code",
      "execution_count": null,
      "metadata": {
        "id": "34juAQJyO948"
      },
      "outputs": [],
      "source": [
        "##Transformback to original form\n",
        "train_predict=scaler.inverse_transform(train_predict)\n",
        "test_predict=scaler.inverse_transform(test_predict)"
      ]
    },
    {
      "cell_type": "code",
      "execution_count": null,
      "metadata": {
        "colab": {
          "base_uri": "https://localhost:8080/"
        },
        "id": "z4iWIQSaO948",
        "outputId": "55e3fb56-9ea6-4cea-fc0a-c98ae6aff3a3"
      },
      "outputs": [
        {
          "data": {
            "text/plain": [
              "150.28495816897905"
            ]
          },
          "execution_count": 187,
          "metadata": {},
          "output_type": "execute_result"
        }
      ],
      "source": [
        "### Calculate RMSE performance metrics\n",
        "import math\n",
        "from sklearn.metrics import mean_squared_error\n",
        "math.sqrt(mean_squared_error(y_train,train_predict))"
      ]
    },
    {
      "cell_type": "code",
      "execution_count": null,
      "metadata": {
        "colab": {
          "base_uri": "https://localhost:8080/"
        },
        "id": "8ai_7yVYO948",
        "outputId": "9a4707bd-018f-4e58-d6fc-847310985937"
      },
      "outputs": [
        {
          "data": {
            "text/plain": [
              "77.84981266850812"
            ]
          },
          "execution_count": 188,
          "metadata": {},
          "output_type": "execute_result"
        }
      ],
      "source": [
        "### Test Data RMSE\n",
        "math.sqrt(mean_squared_error(ytest,test_predict))"
      ]
    },
    {
      "cell_type": "code",
      "execution_count": null,
      "metadata": {
        "colab": {
          "base_uri": "https://localhost:8080/",
          "height": 679
        },
        "id": "-cbPJeKcO948",
        "outputId": "bc1dc73e-f89f-4abf-d514-4696fec87347"
      },
      "outputs": [
        {
          "data": {
            "image/png": "[encoded data removed]",
            "text/plain": [
              "<Figure size 2400x800 with 1 Axes>"
            ]
          },
          "metadata": {},
          "output_type": "display_data"
        }
      ],
      "source": [
        "### Plotting\n",
        "# shift train predictions for plotting\n",
        "plt.figure(figsize=(24,8))\n",
        "look_back=100\n",
        "trainPredictPlot = numpy.empty_like(df1)\n",
        "trainPredictPlot[:, :] = np.nan\n",
        "trainPredictPlot[look_back:len(train_predict)+look_back, :] = train_predict\n",
        "# shift test predictions for plotting\n",
        "testPredictPlot = numpy.empty_like(df1)\n",
        "testPredictPlot[:, :] = numpy.nan\n",
        "testPredictPlot[len(train_predict)+(look_back*2)+1:len(df1)-1, :] = test_predict\n",
        "# plot baseline and predictions\n",
        "plt.plot(scaler.inverse_transform(df1))\n",
        "plt.plot(trainPredictPlot)\n",
        "plt.plot(testPredictPlot)\n",
        "plt.show()"
      ]
    },
    {
      "cell_type": "code",
      "execution_count": null,
      "metadata": {
        "colab": {
          "base_uri": "https://localhost:8080/"
        },
        "id": "mM0G3lagDFnm",
        "outputId": "9b7a9c1a-24a4-4d6f-dc87-d0bc3fb32d31"
      },
      "outputs": [
        {
          "data": {
            "text/plain": [
              "array([219.75250244])"
            ]
          },
          "execution_count": 243,
          "metadata": {},
          "output_type": "execute_result"
        }
      ],
      "source": []
    },
    {
      "cell_type": "code",
      "execution_count": null,
      "metadata": {
        "colab": {
          "base_uri": "https://localhost:8080/"
        },
        "id": "VBLS_BmMO948",
        "outputId": "74af5cef-5312-4105-8d70-3547120855d4"
      },
      "outputs": [
        {
          "data": {
            "text/plain": [
              "1769"
            ]
          },
          "execution_count": 190,
          "metadata": {},
          "output_type": "execute_result"
        }
      ],
      "source": [
        "len(test_data)"
      ]
    },
    {
      "cell_type": "code",
      "execution_count": null,
      "metadata": {
        "colab": {
          "base_uri": "https://localhost:8080/"
        },
        "id": "Pa4NKiRhT__l",
        "outputId": "b4b9f919-4385-4cbc-89c5-8f6f4c04b9c0"
      },
      "outputs": [
        {
          "data": {
            "text/plain": [
              "(1769, 1)"
            ]
          },
          "execution_count": 191,
          "metadata": {},
          "output_type": "execute_result"
        }
      ],
      "source": [
        "test_data.shape"
      ]
    },
    {
      "cell_type": "code",
      "execution_count": null,
      "metadata": {
        "colab": {
          "base_uri": "https://localhost:8080/"
        },
        "id": "MEgTqZL-O949",
        "outputId": "b0d2ab85-041d-4b59-f822-b2d597564fd9"
      },
      "outputs": [
        {
          "data": {
            "text/plain": [
              "(1, 100)"
            ]
          },
          "execution_count": 192,
          "metadata": {},
          "output_type": "execute_result"
        }
      ],
      "source": [
        "x_input=test_data[1669:].reshape(1,-1)\n",
        "x_input.shape"
      ]
    },
    {
      "cell_type": "code",
      "execution_count": null,
      "metadata": {
        "id": "MDERqLdOO949"
      },
      "outputs": [],
      "source": [
        "temp_input=list(x_input)\n",
        "temp_input=temp_input[0].tolist()"
      ]
    },
    {
      "cell_type": "code",
      "execution_count": null,
      "metadata": {
        "colab": {
          "base_uri": "https://localhost:8080/"
        },
        "id": "hCF9ccxYO94-",
        "outputId": "fa1f43cc-01c7-4f42-97e1-11ef25bc867a"
      },
      "outputs": [
        {
          "data": {
            "text/plain": [
              "100"
            ]
          },
          "execution_count": 194,
          "metadata": {},
          "output_type": "execute_result"
        }
      ],
      "source": [
        "len(temp_input)"
      ]
    },
    {
      "cell_type": "code",
      "execution_count": null,
      "metadata": {
        "colab": {
          "base_uri": "https://localhost:8080/"
        },
        "id": "ko27km5fO94-",
        "outputId": "b4f9b8e7-25c8-4628-8563-c5db32c8333c"
      },
      "outputs": [
        {
          "name": "stdout",
          "output_type": "stream",
          "text": [
            "[0.56755453]\n",
            "101\n",
            "1 day input [0.32423104 0.32383375 0.32780661 0.32131758 0.33389836 0.33297138\n",
            " 0.33244163 0.32634992 0.33376592 0.33720909 0.32860119 0.32860119\n",
            " 0.31800685 0.29827489 0.29443445 0.29853975 0.29801004 0.30608821\n",
            " 0.3064855  0.30833953 0.32555533 0.32701206 0.3308525  0.32793904\n",
            " 0.31827172 0.31959601 0.32820392 0.34793587 0.35031958 0.35363032\n",
            " 0.36210582 0.35972207 0.35614651 0.36025178 0.36448953 0.3896511\n",
            " 0.39971573 0.423553   0.43785535 0.43798779 0.44739027 0.45440901\n",
            " 0.45904403 0.47188969 0.45440901 0.46222233 0.4575873  0.46222233\n",
            " 0.46685735 0.46725467 0.48274887 0.47573013 0.44196067 0.46434121\n",
            " 0.45864676 0.46897623 0.46831408 0.49652155 0.49903769 0.51122116\n",
            " 0.52141824 0.50128897 0.50301057 0.50499701 0.50327541 0.5044673\n",
            " 0.51519404 0.51016175 0.50671858 0.5194318  0.52406682 0.53492604\n",
            " 0.54830136 0.5750521  0.52393438 0.54234205 0.5688279  0.57253595\n",
            " 0.59014903 0.59094361 0.58895717 0.60564327 0.60961615 0.6003461\n",
            " 0.59968395 0.59769751 0.58908961 0.56035244 0.5514797  0.58087898\n",
            " 0.58908961 0.58458702 0.58418971 0.59796235 0.57412507 0.59160576\n",
            " 0.59451922 0.5904139  0.57597912 0.56755453]\n",
            "1 day output [[0.5620256]]\n",
            "2 day input [0.32383375 0.32780661 0.32131758 0.33389836 0.33297138 0.33244163\n",
            " 0.32634992 0.33376592 0.33720909 0.32860119 0.32860119 0.31800685\n",
            " 0.29827489 0.29443445 0.29853975 0.29801004 0.30608821 0.3064855\n",
            " 0.30833953 0.32555533 0.32701206 0.3308525  0.32793904 0.31827172\n",
            " 0.31959601 0.32820392 0.34793587 0.35031958 0.35363032 0.36210582\n",
            " 0.35972207 0.35614651 0.36025178 0.36448953 0.3896511  0.39971573\n",
            " 0.423553   0.43785535 0.43798779 0.44739027 0.45440901 0.45904403\n",
            " 0.47188969 0.45440901 0.46222233 0.4575873  0.46222233 0.46685735\n",
            " 0.46725467 0.48274887 0.47573013 0.44196067 0.46434121 0.45864676\n",
            " 0.46897623 0.46831408 0.49652155 0.49903769 0.51122116 0.52141824\n",
            " 0.50128897 0.50301057 0.50499701 0.50327541 0.5044673  0.51519404\n",
            " 0.51016175 0.50671858 0.5194318  0.52406682 0.53492604 0.54830136\n",
            " 0.5750521  0.52393438 0.54234205 0.5688279  0.57253595 0.59014903\n",
            " 0.59094361 0.58895717 0.60564327 0.60961615 0.6003461  0.59968395\n",
            " 0.59769751 0.58908961 0.56035244 0.5514797  0.58087898 0.58908961\n",
            " 0.58458702 0.58418971 0.59796235 0.57412507 0.59160576 0.59451922\n",
            " 0.5904139  0.57597912 0.56755453 0.56202561]\n",
            "2 day output [[0.55526865]]\n",
            "3 day input [0.32780661 0.32131758 0.33389836 0.33297138 0.33244163 0.32634992\n",
            " 0.33376592 0.33720909 0.32860119 0.32860119 0.31800685 0.29827489\n",
            " 0.29443445 0.29853975 0.29801004 0.30608821 0.3064855  0.30833953\n",
            " 0.32555533 0.32701206 0.3308525  0.32793904 0.31827172 0.31959601\n",
            " 0.32820392 0.34793587 0.35031958 0.35363032 0.36210582 0.35972207\n",
            " 0.35614651 0.36025178 0.36448953 0.3896511  0.39971573 0.423553\n",
            " 0.43785535 0.43798779 0.44739027 0.45440901 0.45904403 0.47188969\n",
            " 0.45440901 0.46222233 0.4575873  0.46222233 0.46685735 0.46725467\n",
            " 0.48274887 0.47573013 0.44196067 0.46434121 0.45864676 0.46897623\n",
            " 0.46831408 0.49652155 0.49903769 0.51122116 0.52141824 0.50128897\n",
            " 0.50301057 0.50499701 0.50327541 0.5044673  0.51519404 0.51016175\n",
            " 0.50671858 0.5194318  0.52406682 0.53492604 0.54830136 0.5750521\n",
            " 0.52393438 0.54234205 0.5688279  0.57253595 0.59014903 0.59094361\n",
            " 0.58895717 0.60564327 0.60961615 0.6003461  0.59968395 0.59769751\n",
            " 0.58908961 0.56035244 0.5514797  0.58087898 0.58908961 0.58458702\n",
            " 0.58418971 0.59796235 0.57412507 0.59160576 0.59451922 0.5904139\n",
            " 0.57597912 0.56755453 0.56202561 0.55526865]\n",
            "3 day output [[0.5479231]]\n",
            "4 day input [0.32131758 0.33389836 0.33297138 0.33244163 0.32634992 0.33376592\n",
            " 0.33720909 0.32860119 0.32860119 0.31800685 0.29827489 0.29443445\n",
            " 0.29853975 0.29801004 0.30608821 0.3064855  0.30833953 0.32555533\n",
            " 0.32701206 0.3308525  0.32793904 0.31827172 0.31959601 0.32820392\n",
            " 0.34793587 0.35031958 0.35363032 0.36210582 0.35972207 0.35614651\n",
            " 0.36025178 0.36448953 0.3896511  0.39971573 0.423553   0.43785535\n",
            " 0.43798779 0.44739027 0.45440901 0.45904403 0.47188969 0.45440901\n",
            " 0.46222233 0.4575873  0.46222233 0.46685735 0.46725467 0.48274887\n",
            " 0.47573013 0.44196067 0.46434121 0.45864676 0.46897623 0.46831408\n",
            " 0.49652155 0.49903769 0.51122116 0.52141824 0.50128897 0.50301057\n",
            " 0.50499701 0.50327541 0.5044673  0.51519404 0.51016175 0.50671858\n",
            " 0.5194318  0.52406682 0.53492604 0.54830136 0.5750521  0.52393438\n",
            " 0.54234205 0.5688279  0.57253595 0.59014903 0.59094361 0.58895717\n",
            " 0.60564327 0.60961615 0.6003461  0.59968395 0.59769751 0.58908961\n",
            " 0.56035244 0.5514797  0.58087898 0.58908961 0.58458702 0.58418971\n",
            " 0.59796235 0.57412507 0.59160576 0.59451922 0.5904139  0.57597912\n",
            " 0.56755453 0.56202561 0.55526865 0.54792309]\n",
            "4 day output [[0.540248]]\n",
            "5 day input [0.33389836 0.33297138 0.33244163 0.32634992 0.33376592 0.33720909\n",
            " 0.32860119 0.32860119 0.31800685 0.29827489 0.29443445 0.29853975\n",
            " 0.29801004 0.30608821 0.3064855  0.30833953 0.32555533 0.32701206\n",
            " 0.3308525  0.32793904 0.31827172 0.31959601 0.32820392 0.34793587\n",
            " 0.35031958 0.35363032 0.36210582 0.35972207 0.35614651 0.36025178\n",
            " 0.36448953 0.3896511  0.39971573 0.423553   0.43785535 0.43798779\n",
            " 0.44739027 0.45440901 0.45904403 0.47188969 0.45440901 0.46222233\n",
            " 0.4575873  0.46222233 0.46685735 0.46725467 0.48274887 0.47573013\n",
            " 0.44196067 0.46434121 0.45864676 0.46897623 0.46831408 0.49652155\n",
            " 0.49903769 0.51122116 0.52141824 0.50128897 0.50301057 0.50499701\n",
            " 0.50327541 0.5044673  0.51519404 0.51016175 0.50671858 0.5194318\n",
            " 0.52406682 0.53492604 0.54830136 0.5750521  0.52393438 0.54234205\n",
            " 0.5688279  0.57253595 0.59014903 0.59094361 0.58895717 0.60564327\n",
            " 0.60961615 0.6003461  0.59968395 0.59769751 0.58908961 0.56035244\n",
            " 0.5514797  0.58087898 0.58908961 0.58458702 0.58418971 0.59796235\n",
            " 0.57412507 0.59160576 0.59451922 0.5904139  0.57597912 0.56755453\n",
            " 0.56202561 0.55526865 0.54792309 0.54024798]\n",
            "5 day output [[0.5324011]]\n",
            "6 day input [0.33297138 0.33244163 0.32634992 0.33376592 0.33720909 0.32860119\n",
            " 0.32860119 0.31800685 0.29827489 0.29443445 0.29853975 0.29801004\n",
            " 0.30608821 0.3064855  0.30833953 0.32555533 0.32701206 0.3308525\n",
            " 0.32793904 0.31827172 0.31959601 0.32820392 0.34793587 0.35031958\n",
            " 0.35363032 0.36210582 0.35972207 0.35614651 0.36025178 0.36448953\n",
            " 0.3896511  0.39971573 0.423553   0.43785535 0.43798779 0.44739027\n",
            " 0.45440901 0.45904403 0.47188969 0.45440901 0.46222233 0.4575873\n",
            " 0.46222233 0.46685735 0.46725467 0.48274887 0.47573013 0.44196067\n",
            " 0.46434121 0.45864676 0.46897623 0.46831408 0.49652155 0.49903769\n",
            " 0.51122116 0.52141824 0.50128897 0.50301057 0.50499701 0.50327541\n",
            " 0.5044673  0.51519404 0.51016175 0.50671858 0.5194318  0.52406682\n",
            " 0.53492604 0.54830136 0.5750521  0.52393438 0.54234205 0.5688279\n",
            " 0.57253595 0.59014903 0.59094361 0.58895717 0.60564327 0.60961615\n",
            " 0.6003461  0.59968395 0.59769751 0.58908961 0.56035244 0.5514797\n",
            " 0.58087898 0.58908961 0.58458702 0.58418971 0.59796235 0.57412507\n",
            " 0.59160576 0.59451922 0.5904139  0.57597912 0.56755453 0.56202561\n",
            " 0.55526865 0.54792309 0.54024798 0.53240108]\n",
            "6 day output [[0.52451175]]\n",
            "7 day input [0.33244163 0.32634992 0.33376592 0.33720909 0.32860119 0.32860119\n",
            " 0.31800685 0.29827489 0.29443445 0.29853975 0.29801004 0.30608821\n",
            " 0.3064855  0.30833953 0.32555533 0.32701206 0.3308525  0.32793904\n",
            " 0.31827172 0.31959601 0.32820392 0.34793587 0.35031958 0.35363032\n",
            " 0.36210582 0.35972207 0.35614651 0.36025178 0.36448953 0.3896511\n",
            " 0.39971573 0.423553   0.43785535 0.43798779 0.44739027 0.45440901\n",
            " 0.45904403 0.47188969 0.45440901 0.46222233 0.4575873  0.46222233\n",
            " 0.46685735 0.46725467 0.48274887 0.47573013 0.44196067 0.46434121\n",
            " 0.45864676 0.46897623 0.46831408 0.49652155 0.49903769 0.51122116\n",
            " 0.52141824 0.50128897 0.50301057 0.50499701 0.50327541 0.5044673\n",
            " 0.51519404 0.51016175 0.50671858 0.5194318  0.52406682 0.53492604\n",
            " 0.54830136 0.5750521  0.52393438 0.54234205 0.5688279  0.57253595\n",
            " 0.59014903 0.59094361 0.58895717 0.60564327 0.60961615 0.6003461\n",
            " 0.59968395 0.59769751 0.58908961 0.56035244 0.5514797  0.58087898\n",
            " 0.58908961 0.58458702 0.58418971 0.59796235 0.57412507 0.59160576\n",
            " 0.59451922 0.5904139  0.57597912 0.56755453 0.56202561 0.55526865\n",
            " 0.54792309 0.54024798 0.53240108 0.52451175]\n",
            "7 day output [[0.5167018]]\n",
            "8 day input [0.32634992 0.33376592 0.33720909 0.32860119 0.32860119 0.31800685\n",
            " 0.29827489 0.29443445 0.29853975 0.29801004 0.30608821 0.3064855\n",
            " 0.30833953 0.32555533 0.32701206 0.3308525  0.32793904 0.31827172\n",
            " 0.31959601 0.32820392 0.34793587 0.35031958 0.35363032 0.36210582\n",
            " 0.35972207 0.35614651 0.36025178 0.36448953 0.3896511  0.39971573\n",
            " 0.423553   0.43785535 0.43798779 0.44739027 0.45440901 0.45904403\n",
            " 0.47188969 0.45440901 0.46222233 0.4575873  0.46222233 0.46685735\n",
            " 0.46725467 0.48274887 0.47573013 0.44196067 0.46434121 0.45864676\n",
            " 0.46897623 0.46831408 0.49652155 0.49903769 0.51122116 0.52141824\n",
            " 0.50128897 0.50301057 0.50499701 0.50327541 0.5044673  0.51519404\n",
            " 0.51016175 0.50671858 0.5194318  0.52406682 0.53492604 0.54830136\n",
            " 0.5750521  0.52393438 0.54234205 0.5688279  0.57253595 0.59014903\n",
            " 0.59094361 0.58895717 0.60564327 0.60961615 0.6003461  0.59968395\n",
            " 0.59769751 0.58908961 0.56035244 0.5514797  0.58087898 0.58908961\n",
            " 0.58458702 0.58418971 0.59796235 0.57412507 0.59160576 0.59451922\n",
            " 0.5904139  0.57597912 0.56755453 0.56202561 0.55526865 0.54792309\n",
            " 0.54024798 0.53240108 0.52451175 0.51670182]\n",
            "8 day output [[0.50908965]]\n",
            "9 day input [0.33376592 0.33720909 0.32860119 0.32860119 0.31800685 0.29827489\n",
            " 0.29443445 0.29853975 0.29801004 0.30608821 0.3064855  0.30833953\n",
            " 0.32555533 0.32701206 0.3308525  0.32793904 0.31827172 0.31959601\n",
            " 0.32820392 0.34793587 0.35031958 0.35363032 0.36210582 0.35972207\n",
            " 0.35614651 0.36025178 0.36448953 0.3896511  0.39971573 0.423553\n",
            " 0.43785535 0.43798779 0.44739027 0.45440901 0.45904403 0.47188969\n",
            " 0.45440901 0.46222233 0.4575873  0.46222233 0.46685735 0.46725467\n",
            " 0.48274887 0.47573013 0.44196067 0.46434121 0.45864676 0.46897623\n",
            " 0.46831408 0.49652155 0.49903769 0.51122116 0.52141824 0.50128897\n",
            " 0.50301057 0.50499701 0.50327541 0.5044673  0.51519404 0.51016175\n",
            " 0.50671858 0.5194318  0.52406682 0.53492604 0.54830136 0.5750521\n",
            " 0.52393438 0.54234205 0.5688279  0.57253595 0.59014903 0.59094361\n",
            " 0.58895717 0.60564327 0.60961615 0.6003461  0.59968395 0.59769751\n",
            " 0.58908961 0.56035244 0.5514797  0.58087898 0.58908961 0.58458702\n",
            " 0.58418971 0.59796235 0.57412507 0.59160576 0.59451922 0.5904139\n",
            " 0.57597912 0.56755453 0.56202561 0.55526865 0.54792309 0.54024798\n",
            " 0.53240108 0.52451175 0.51670182 0.50908965]\n",
            "9 day output [[0.50178564]]\n",
            "10 day input [0.33720909 0.32860119 0.32860119 0.31800685 0.29827489 0.29443445\n",
            " 0.29853975 0.29801004 0.30608821 0.3064855  0.30833953 0.32555533\n",
            " 0.32701206 0.3308525  0.32793904 0.31827172 0.31959601 0.32820392\n",
            " 0.34793587 0.35031958 0.35363032 0.36210582 0.35972207 0.35614651\n",
            " 0.36025178 0.36448953 0.3896511  0.39971573 0.423553   0.43785535\n",
            " 0.43798779 0.44739027 0.45440901 0.45904403 0.47188969 0.45440901\n",
            " 0.46222233 0.4575873  0.46222233 0.46685735 0.46725467 0.48274887\n",
            " 0.47573013 0.44196067 0.46434121 0.45864676 0.46897623 0.46831408\n",
            " 0.49652155 0.49903769 0.51122116 0.52141824 0.50128897 0.50301057\n",
            " 0.50499701 0.50327541 0.5044673  0.51519404 0.51016175 0.50671858\n",
            " 0.5194318  0.52406682 0.53492604 0.54830136 0.5750521  0.52393438\n",
            " 0.54234205 0.5688279  0.57253595 0.59014903 0.59094361 0.58895717\n",
            " 0.60564327 0.60961615 0.6003461  0.59968395 0.59769751 0.58908961\n",
            " 0.56035244 0.5514797  0.58087898 0.58908961 0.58458702 0.58418971\n",
            " 0.59796235 0.57412507 0.59160576 0.59451922 0.5904139  0.57597912\n",
            " 0.56755453 0.56202561 0.55526865 0.54792309 0.54024798 0.53240108\n",
            " 0.52451175 0.51670182 0.50908965 0.50178564]\n",
            "10 day output [[0.49488354]]\n",
            "11 day input [0.32860119 0.32860119 0.31800685 0.29827489 0.29443445 0.29853975\n",
            " 0.29801004 0.30608821 0.3064855  0.30833953 0.32555533 0.32701206\n",
            " 0.3308525  0.32793904 0.31827172 0.31959601 0.32820392 0.34793587\n",
            " 0.35031958 0.35363032 0.36210582 0.35972207 0.35614651 0.36025178\n",
            " 0.36448953 0.3896511  0.39971573 0.423553   0.43785535 0.43798779\n",
            " 0.44739027 0.45440901 0.45904403 0.47188969 0.45440901 0.46222233\n",
            " 0.4575873  0.46222233 0.46685735 0.46725467 0.48274887 0.47573013\n",
            " 0.44196067 0.46434121 0.45864676 0.46897623 0.46831408 0.49652155\n",
            " 0.49903769 0.51122116 0.52141824 0.50128897 0.50301057 0.50499701\n",
            " 0.50327541 0.5044673  0.51519404 0.51016175 0.50671858 0.5194318\n",
            " 0.52406682 0.53492604 0.54830136 0.5750521  0.52393438 0.54234205\n",
            " 0.5688279  0.57253595 0.59014903 0.59094361 0.58895717 0.60564327\n",
            " 0.60961615 0.6003461  0.59968395 0.59769751 0.58908961 0.56035244\n",
            " 0.5514797  0.58087898 0.58908961 0.58458702 0.58418971 0.59796235\n",
            " 0.57412507 0.59160576 0.59451922 0.5904139  0.57597912 0.56755453\n",
            " 0.56202561 0.55526865 0.54792309 0.54024798 0.53240108 0.52451175\n",
            " 0.51670182 0.50908965 0.50178564 0.49488354]\n",
            "11 day output [[0.48845288]]\n",
            "12 day input [0.32860119 0.31800685 0.29827489 0.29443445 0.29853975 0.29801004\n",
            " 0.30608821 0.3064855  0.30833953 0.32555533 0.32701206 0.3308525\n",
            " 0.32793904 0.31827172 0.31959601 0.32820392 0.34793587 0.35031958\n",
            " 0.35363032 0.36210582 0.35972207 0.35614651 0.36025178 0.36448953\n",
            " 0.3896511  0.39971573 0.423553   0.43785535 0.43798779 0.44739027\n",
            " 0.45440901 0.45904403 0.47188969 0.45440901 0.46222233 0.4575873\n",
            " 0.46222233 0.46685735 0.46725467 0.48274887 0.47573013 0.44196067\n",
            " 0.46434121 0.45864676 0.46897623 0.46831408 0.49652155 0.49903769\n",
            " 0.51122116 0.52141824 0.50128897 0.50301057 0.50499701 0.50327541\n",
            " 0.5044673  0.51519404 0.51016175 0.50671858 0.5194318  0.52406682\n",
            " 0.53492604 0.54830136 0.5750521  0.52393438 0.54234205 0.5688279\n",
            " 0.57253595 0.59014903 0.59094361 0.58895717 0.60564327 0.60961615\n",
            " 0.6003461  0.59968395 0.59769751 0.58908961 0.56035244 0.5514797\n",
            " 0.58087898 0.58908961 0.58458702 0.58418971 0.59796235 0.57412507\n",
            " 0.59160576 0.59451922 0.5904139  0.57597912 0.56755453 0.56202561\n",
            " 0.55526865 0.54792309 0.54024798 0.53240108 0.52451175 0.51670182\n",
            " 0.50908965 0.50178564 0.49488354 0.48845288]\n",
            "12 day output [[0.482537]]\n",
            "13 day input [0.31800685 0.29827489 0.29443445 0.29853975 0.29801004 0.30608821\n",
            " 0.3064855  0.30833953 0.32555533 0.32701206 0.3308525  0.32793904\n",
            " 0.31827172 0.31959601 0.32820392 0.34793587 0.35031958 0.35363032\n",
            " 0.36210582 0.35972207 0.35614651 0.36025178 0.36448953 0.3896511\n",
            " 0.39971573 0.423553   0.43785535 0.43798779 0.44739027 0.45440901\n",
            " 0.45904403 0.47188969 0.45440901 0.46222233 0.4575873  0.46222233\n",
            " 0.46685735 0.46725467 0.48274887 0.47573013 0.44196067 0.46434121\n",
            " 0.45864676 0.46897623 0.46831408 0.49652155 0.49903769 0.51122116\n",
            " 0.52141824 0.50128897 0.50301057 0.50499701 0.50327541 0.5044673\n",
            " 0.51519404 0.51016175 0.50671858 0.5194318  0.52406682 0.53492604\n",
            " 0.54830136 0.5750521  0.52393438 0.54234205 0.5688279  0.57253595\n",
            " 0.59014903 0.59094361 0.58895717 0.60564327 0.60961615 0.6003461\n",
            " 0.59968395 0.59769751 0.58908961 0.56035244 0.5514797  0.58087898\n",
            " 0.58908961 0.58458702 0.58418971 0.59796235 0.57412507 0.59160576\n",
            " 0.59451922 0.5904139  0.57597912 0.56755453 0.56202561 0.55526865\n",
            " 0.54792309 0.54024798 0.53240108 0.52451175 0.51670182 0.50908965\n",
            " 0.50178564 0.49488354 0.48845288 0.482537  ]\n",
            "13 day output [[0.47715482]]\n",
            "14 day input [0.29827489 0.29443445 0.29853975 0.29801004 0.30608821 0.3064855\n",
            " 0.30833953 0.32555533 0.32701206 0.3308525  0.32793904 0.31827172\n",
            " 0.31959601 0.32820392 0.34793587 0.35031958 0.35363032 0.36210582\n",
            " 0.35972207 0.35614651 0.36025178 0.36448953 0.3896511  0.39971573\n",
            " 0.423553   0.43785535 0.43798779 0.44739027 0.45440901 0.45904403\n",
            " 0.47188969 0.45440901 0.46222233 0.4575873  0.46222233 0.46685735\n",
            " 0.46725467 0.48274887 0.47573013 0.44196067 0.46434121 0.45864676\n",
            " 0.46897623 0.46831408 0.49652155 0.49903769 0.51122116 0.52141824\n",
            " 0.50128897 0.50301057 0.50499701 0.50327541 0.5044673  0.51519404\n",
            " 0.51016175 0.50671858 0.5194318  0.52406682 0.53492604 0.54830136\n",
            " 0.5750521  0.52393438 0.54234205 0.5688279  0.57253595 0.59014903\n",
            " 0.59094361 0.58895717 0.60564327 0.60961615 0.6003461  0.59968395\n",
            " 0.59769751 0.58908961 0.56035244 0.5514797  0.58087898 0.58908961\n",
            " 0.58458702 0.58418971 0.59796235 0.57412507 0.59160576 0.59451922\n",
            " 0.5904139  0.57597912 0.56755453 0.56202561 0.55526865 0.54792309\n",
            " 0.54024798 0.53240108 0.52451175 0.51670182 0.50908965 0.50178564\n",
            " 0.49488354 0.48845288 0.482537   0.47715482]\n",
            "14 day output [[0.47230503]]\n",
            "15 day input [0.29443445 0.29853975 0.29801004 0.30608821 0.3064855  0.30833953\n",
            " 0.32555533 0.32701206 0.3308525  0.32793904 0.31827172 0.31959601\n",
            " 0.32820392 0.34793587 0.35031958 0.35363032 0.36210582 0.35972207\n",
            " 0.35614651 0.36025178 0.36448953 0.3896511  0.39971573 0.423553\n",
            " 0.43785535 0.43798779 0.44739027 0.45440901 0.45904403 0.47188969\n",
            " 0.45440901 0.46222233 0.4575873  0.46222233 0.46685735 0.46725467\n",
            " 0.48274887 0.47573013 0.44196067 0.46434121 0.45864676 0.46897623\n",
            " 0.46831408 0.49652155 0.49903769 0.51122116 0.52141824 0.50128897\n",
            " 0.50301057 0.50499701 0.50327541 0.5044673  0.51519404 0.51016175\n",
            " 0.50671858 0.5194318  0.52406682 0.53492604 0.54830136 0.5750521\n",
            " 0.52393438 0.54234205 0.5688279  0.57253595 0.59014903 0.59094361\n",
            " 0.58895717 0.60564327 0.60961615 0.6003461  0.59968395 0.59769751\n",
            " 0.58908961 0.56035244 0.5514797  0.58087898 0.58908961 0.58458702\n",
            " 0.58418971 0.59796235 0.57412507 0.59160576 0.59451922 0.5904139\n",
            " 0.57597912 0.56755453 0.56202561 0.55526865 0.54792309 0.54024798\n",
            " 0.53240108 0.52451175 0.51670182 0.50908965 0.50178564 0.49488354\n",
            " 0.48845288 0.482537   0.47715482 0.47230503]\n",
            "15 day output [[0.46797013]]\n",
            "16 day input [0.29853975 0.29801004 0.30608821 0.3064855  0.30833953 0.32555533\n",
            " 0.32701206 0.3308525  0.32793904 0.31827172 0.31959601 0.32820392\n",
            " 0.34793587 0.35031958 0.35363032 0.36210582 0.35972207 0.35614651\n",
            " 0.36025178 0.36448953 0.3896511  0.39971573 0.423553   0.43785535\n",
            " 0.43798779 0.44739027 0.45440901 0.45904403 0.47188969 0.45440901\n",
            " 0.46222233 0.4575873  0.46222233 0.46685735 0.46725467 0.48274887\n",
            " 0.47573013 0.44196067 0.46434121 0.45864676 0.46897623 0.46831408\n",
            " 0.49652155 0.49903769 0.51122116 0.52141824 0.50128897 0.50301057\n",
            " 0.50499701 0.50327541 0.5044673  0.51519404 0.51016175 0.50671858\n",
            " 0.5194318  0.52406682 0.53492604 0.54830136 0.5750521  0.52393438\n",
            " 0.54234205 0.5688279  0.57253595 0.59014903 0.59094361 0.58895717\n",
            " 0.60564327 0.60961615 0.6003461  0.59968395 0.59769751 0.58908961\n",
            " 0.56035244 0.5514797  0.58087898 0.58908961 0.58458702 0.58418971\n",
            " 0.59796235 0.57412507 0.59160576 0.59451922 0.5904139  0.57597912\n",
            " 0.56755453 0.56202561 0.55526865 0.54792309 0.54024798 0.53240108\n",
            " 0.52451175 0.51670182 0.50908965 0.50178564 0.49488354 0.48845288\n",
            " 0.482537   0.47715482 0.47230503 0.46797013]\n",
            "16 day output [[0.46412063]]\n",
            "17 day input [0.29801004 0.30608821 0.3064855  0.30833953 0.32555533 0.32701206\n",
            " 0.3308525  0.32793904 0.31827172 0.31959601 0.32820392 0.34793587\n",
            " 0.35031958 0.35363032 0.36210582 0.35972207 0.35614651 0.36025178\n",
            " 0.36448953 0.3896511  0.39971573 0.423553   0.43785535 0.43798779\n",
            " 0.44739027 0.45440901 0.45904403 0.47188969 0.45440901 0.46222233\n",
            " 0.4575873  0.46222233 0.46685735 0.46725467 0.48274887 0.47573013\n",
            " 0.44196067 0.46434121 0.45864676 0.46897623 0.46831408 0.49652155\n",
            " 0.49903769 0.51122116 0.52141824 0.50128897 0.50301057 0.50499701\n",
            " 0.50327541 0.5044673  0.51519404 0.51016175 0.50671858 0.5194318\n",
            " 0.52406682 0.53492604 0.54830136 0.5750521  0.52393438 0.54234205\n",
            " 0.5688279  0.57253595 0.59014903 0.59094361 0.58895717 0.60564327\n",
            " 0.60961615 0.6003461  0.59968395 0.59769751 0.58908961 0.56035244\n",
            " 0.5514797  0.58087898 0.58908961 0.58458702 0.58418971 0.59796235\n",
            " 0.57412507 0.59160576 0.59451922 0.5904139  0.57597912 0.56755453\n",
            " 0.56202561 0.55526865 0.54792309 0.54024798 0.53240108 0.52451175\n",
            " 0.51670182 0.50908965 0.50178564 0.49488354 0.48845288 0.482537\n",
            " 0.47715482 0.47230503 0.46797013 0.46412063]\n",
            "17 day output [[0.46071953]]\n",
            "18 day input [0.30608821 0.3064855  0.30833953 0.32555533 0.32701206 0.3308525\n",
            " 0.32793904 0.31827172 0.31959601 0.32820392 0.34793587 0.35031958\n",
            " 0.35363032 0.36210582 0.35972207 0.35614651 0.36025178 0.36448953\n",
            " 0.3896511  0.39971573 0.423553   0.43785535 0.43798779 0.44739027\n",
            " 0.45440901 0.45904403 0.47188969 0.45440901 0.46222233 0.4575873\n",
            " 0.46222233 0.46685735 0.46725467 0.48274887 0.47573013 0.44196067\n",
            " 0.46434121 0.45864676 0.46897623 0.46831408 0.49652155 0.49903769\n",
            " 0.51122116 0.52141824 0.50128897 0.50301057 0.50499701 0.50327541\n",
            " 0.5044673  0.51519404 0.51016175 0.50671858 0.5194318  0.52406682\n",
            " 0.53492604 0.54830136 0.5750521  0.52393438 0.54234205 0.5688279\n",
            " 0.57253595 0.59014903 0.59094361 0.58895717 0.60564327 0.60961615\n",
            " 0.6003461  0.59968395 0.59769751 0.58908961 0.56035244 0.5514797\n",
            " 0.58087898 0.58908961 0.58458702 0.58418971 0.59796235 0.57412507\n",
            " 0.59160576 0.59451922 0.5904139  0.57597912 0.56755453 0.56202561\n",
            " 0.55526865 0.54792309 0.54024798 0.53240108 0.52451175 0.51670182\n",
            " 0.50908965 0.50178564 0.49488354 0.48845288 0.482537   0.47715482\n",
            " 0.47230503 0.46797013 0.46412063 0.46071953]\n",
            "18 day output [[0.4577262]]\n",
            "19 day input [0.3064855  0.30833953 0.32555533 0.32701206 0.3308525  0.32793904\n",
            " 0.31827172 0.31959601 0.32820392 0.34793587 0.35031958 0.35363032\n",
            " 0.36210582 0.35972207 0.35614651 0.36025178 0.36448953 0.3896511\n",
            " 0.39971573 0.423553   0.43785535 0.43798779 0.44739027 0.45440901\n",
            " 0.45904403 0.47188969 0.45440901 0.46222233 0.4575873  0.46222233\n",
            " 0.46685735 0.46725467 0.48274887 0.47573013 0.44196067 0.46434121\n",
            " 0.45864676 0.46897623 0.46831408 0.49652155 0.49903769 0.51122116\n",
            " 0.52141824 0.50128897 0.50301057 0.50499701 0.50327541 0.5044673\n",
            " 0.51519404 0.51016175 0.50671858 0.5194318  0.52406682 0.53492604\n",
            " 0.54830136 0.5750521  0.52393438 0.54234205 0.5688279  0.57253595\n",
            " 0.59014903 0.59094361 0.58895717 0.60564327 0.60961615 0.6003461\n",
            " 0.59968395 0.59769751 0.58908961 0.56035244 0.5514797  0.58087898\n",
            " 0.58908961 0.58458702 0.58418971 0.59796235 0.57412507 0.59160576\n",
            " 0.59451922 0.5904139  0.57597912 0.56755453 0.56202561 0.55526865\n",
            " 0.54792309 0.54024798 0.53240108 0.52451175 0.51670182 0.50908965\n",
            " 0.50178564 0.49488354 0.48845288 0.482537   0.47715482 0.47230503\n",
            " 0.46797013 0.46412063 0.46071953 0.45772621]\n",
            "19 day output [[0.45509946]]\n",
            "20 day input [0.30833953 0.32555533 0.32701206 0.3308525  0.32793904 0.31827172\n",
            " 0.31959601 0.32820392 0.34793587 0.35031958 0.35363032 0.36210582\n",
            " 0.35972207 0.35614651 0.36025178 0.36448953 0.3896511  0.39971573\n",
            " 0.423553   0.43785535 0.43798779 0.44739027 0.45440901 0.45904403\n",
            " 0.47188969 0.45440901 0.46222233 0.4575873  0.46222233 0.46685735\n",
            " 0.46725467 0.48274887 0.47573013 0.44196067 0.46434121 0.45864676\n",
            " 0.46897623 0.46831408 0.49652155 0.49903769 0.51122116 0.52141824\n",
            " 0.50128897 0.50301057 0.50499701 0.50327541 0.5044673  0.51519404\n",
            " 0.51016175 0.50671858 0.5194318  0.52406682 0.53492604 0.54830136\n",
            " 0.5750521  0.52393438 0.54234205 0.5688279  0.57253595 0.59014903\n",
            " 0.59094361 0.58895717 0.60564327 0.60961615 0.6003461  0.59968395\n",
            " 0.59769751 0.58908961 0.56035244 0.5514797  0.58087898 0.58908961\n",
            " 0.58458702 0.58418971 0.59796235 0.57412507 0.59160576 0.59451922\n",
            " 0.5904139  0.57597912 0.56755453 0.56202561 0.55526865 0.54792309\n",
            " 0.54024798 0.53240108 0.52451175 0.51670182 0.50908965 0.50178564\n",
            " 0.49488354 0.48845288 0.482537   0.47715482 0.47230503 0.46797013\n",
            " 0.46412063 0.46071953 0.45772621 0.45509946]\n",
            "20 day output [[0.4527995]]\n",
            "21 day input [0.32555533 0.32701206 0.3308525  0.32793904 0.31827172 0.31959601\n",
            " 0.32820392 0.34793587 0.35031958 0.35363032 0.36210582 0.35972207\n",
            " 0.35614651 0.36025178 0.36448953 0.3896511  0.39971573 0.423553\n",
            " 0.43785535 0.43798779 0.44739027 0.45440901 0.45904403 0.47188969\n",
            " 0.45440901 0.46222233 0.4575873  0.46222233 0.46685735 0.46725467\n",
            " 0.48274887 0.47573013 0.44196067 0.46434121 0.45864676 0.46897623\n",
            " 0.46831408 0.49652155 0.49903769 0.51122116 0.52141824 0.50128897\n",
            " 0.50301057 0.50499701 0.50327541 0.5044673  0.51519404 0.51016175\n",
            " 0.50671858 0.5194318  0.52406682 0.53492604 0.54830136 0.5750521\n",
            " 0.52393438 0.54234205 0.5688279  0.57253595 0.59014903 0.59094361\n",
            " 0.58895717 0.60564327 0.60961615 0.6003461  0.59968395 0.59769751\n",
            " 0.58908961 0.56035244 0.5514797  0.58087898 0.58908961 0.58458702\n",
            " 0.58418971 0.59796235 0.57412507 0.59160576 0.59451922 0.5904139\n",
            " 0.57597912 0.56755453 0.56202561 0.55526865 0.54792309 0.54024798\n",
            " 0.53240108 0.52451175 0.51670182 0.50908965 0.50178564 0.49488354\n",
            " 0.48845288 0.482537   0.47715482 0.47230503 0.46797013 0.46412063\n",
            " 0.46071953 0.45772621 0.45509946 0.4527995 ]\n",
            "21 day output [[0.45078883]]\n",
            "22 day input [0.32701206 0.3308525  0.32793904 0.31827172 0.31959601 0.32820392\n",
            " 0.34793587 0.35031958 0.35363032 0.36210582 0.35972207 0.35614651\n",
            " 0.36025178 0.36448953 0.3896511  0.39971573 0.423553   0.43785535\n",
            " 0.43798779 0.44739027 0.45440901 0.45904403 0.47188969 0.45440901\n",
            " 0.46222233 0.4575873  0.46222233 0.46685735 0.46725467 0.48274887\n",
            " 0.47573013 0.44196067 0.46434121 0.45864676 0.46897623 0.46831408\n",
            " 0.49652155 0.49903769 0.51122116 0.52141824 0.50128897 0.50301057\n",
            " 0.50499701 0.50327541 0.5044673  0.51519404 0.51016175 0.50671858\n",
            " 0.5194318  0.52406682 0.53492604 0.54830136 0.5750521  0.52393438\n",
            " 0.54234205 0.5688279  0.57253595 0.59014903 0.59094361 0.58895717\n",
            " 0.60564327 0.60961615 0.6003461  0.59968395 0.59769751 0.58908961\n",
            " 0.56035244 0.5514797  0.58087898 0.58908961 0.58458702 0.58418971\n",
            " 0.59796235 0.57412507 0.59160576 0.59451922 0.5904139  0.57597912\n",
            " 0.56755453 0.56202561 0.55526865 0.54792309 0.54024798 0.53240108\n",
            " 0.52451175 0.51670182 0.50908965 0.50178564 0.49488354 0.48845288\n",
            " 0.482537   0.47715482 0.47230503 0.46797013 0.46412063 0.46071953\n",
            " 0.45772621 0.45509946 0.4527995  0.45078883]\n",
            "22 day output [[0.4490323]]\n",
            "23 day input [0.3308525  0.32793904 0.31827172 0.31959601 0.32820392 0.34793587\n",
            " 0.35031958 0.35363032 0.36210582 0.35972207 0.35614651 0.36025178\n",
            " 0.36448953 0.3896511  0.39971573 0.423553   0.43785535 0.43798779\n",
            " 0.44739027 0.45440901 0.45904403 0.47188969 0.45440901 0.46222233\n",
            " 0.4575873  0.46222233 0.46685735 0.46725467 0.48274887 0.47573013\n",
            " 0.44196067 0.46434121 0.45864676 0.46897623 0.46831408 0.49652155\n",
            " 0.49903769 0.51122116 0.52141824 0.50128897 0.50301057 0.50499701\n",
            " 0.50327541 0.5044673  0.51519404 0.51016175 0.50671858 0.5194318\n",
            " 0.52406682 0.53492604 0.54830136 0.5750521  0.52393438 0.54234205\n",
            " 0.5688279  0.57253595 0.59014903 0.59094361 0.58895717 0.60564327\n",
            " 0.60961615 0.6003461  0.59968395 0.59769751 0.58908961 0.56035244\n",
            " 0.5514797  0.58087898 0.58908961 0.58458702 0.58418971 0.59796235\n",
            " 0.57412507 0.59160576 0.59451922 0.5904139  0.57597912 0.56755453\n",
            " 0.56202561 0.55526865 0.54792309 0.54024798 0.53240108 0.52451175\n",
            " 0.51670182 0.50908965 0.50178564 0.49488354 0.48845288 0.482537\n",
            " 0.47715482 0.47230503 0.46797013 0.46412063 0.46071953 0.45772621\n",
            " 0.45509946 0.4527995  0.45078883 0.44903231]\n",
            "23 day output [[0.44749692]]\n",
            "24 day input [0.32793904 0.31827172 0.31959601 0.32820392 0.34793587 0.35031958\n",
            " 0.35363032 0.36210582 0.35972207 0.35614651 0.36025178 0.36448953\n",
            " 0.3896511  0.39971573 0.423553   0.43785535 0.43798779 0.44739027\n",
            " 0.45440901 0.45904403 0.47188969 0.45440901 0.46222233 0.4575873\n",
            " 0.46222233 0.46685735 0.46725467 0.48274887 0.47573013 0.44196067\n",
            " 0.46434121 0.45864676 0.46897623 0.46831408 0.49652155 0.49903769\n",
            " 0.51122116 0.52141824 0.50128897 0.50301057 0.50499701 0.50327541\n",
            " 0.5044673  0.51519404 0.51016175 0.50671858 0.5194318  0.52406682\n",
            " 0.53492604 0.54830136 0.5750521  0.52393438 0.54234205 0.5688279\n",
            " 0.57253595 0.59014903 0.59094361 0.58895717 0.60564327 0.60961615\n",
            " 0.6003461  0.59968395 0.59769751 0.58908961 0.56035244 0.5514797\n",
            " 0.58087898 0.58908961 0.58458702 0.58418971 0.59796235 0.57412507\n",
            " 0.59160576 0.59451922 0.5904139  0.57597912 0.56755453 0.56202561\n",
            " 0.55526865 0.54792309 0.54024798 0.53240108 0.52451175 0.51670182\n",
            " 0.50908965 0.50178564 0.49488354 0.48845288 0.482537   0.47715482\n",
            " 0.47230503 0.46797013 0.46412063 0.46071953 0.45772621 0.45509946\n",
            " 0.4527995  0.45078883 0.44903231 0.44749692]\n",
            "24 day output [[0.44615167]]\n",
            "25 day input [0.31827172 0.31959601 0.32820392 0.34793587 0.35031958 0.35363032\n",
            " 0.36210582 0.35972207 0.35614651 0.36025178 0.36448953 0.3896511\n",
            " 0.39971573 0.423553   0.43785535 0.43798779 0.44739027 0.45440901\n",
            " 0.45904403 0.47188969 0.45440901 0.46222233 0.4575873  0.46222233\n",
            " 0.46685735 0.46725467 0.48274887 0.47573013 0.44196067 0.46434121\n",
            " 0.45864676 0.46897623 0.46831408 0.49652155 0.49903769 0.51122116\n",
            " 0.52141824 0.50128897 0.50301057 0.50499701 0.50327541 0.5044673\n",
            " 0.51519404 0.51016175 0.50671858 0.5194318  0.52406682 0.53492604\n",
            " 0.54830136 0.5750521  0.52393438 0.54234205 0.5688279  0.57253595\n",
            " 0.59014903 0.59094361 0.58895717 0.60564327 0.60961615 0.6003461\n",
            " 0.59968395 0.59769751 0.58908961 0.56035244 0.5514797  0.58087898\n",
            " 0.58908961 0.58458702 0.58418971 0.59796235 0.57412507 0.59160576\n",
            " 0.59451922 0.5904139  0.57597912 0.56755453 0.56202561 0.55526865\n",
            " 0.54792309 0.54024798 0.53240108 0.52451175 0.51670182 0.50908965\n",
            " 0.50178564 0.49488354 0.48845288 0.482537   0.47715482 0.47230503\n",
            " 0.46797013 0.46412063 0.46071953 0.45772621 0.45509946 0.4527995\n",
            " 0.45078883 0.44903231 0.44749692 0.44615167]\n",
            "25 day output [[0.44496706]]\n",
            "26 day input [0.31959601 0.32820392 0.34793587 0.35031958 0.35363032 0.36210582\n",
            " 0.35972207 0.35614651 0.36025178 0.36448953 0.3896511  0.39971573\n",
            " 0.423553   0.43785535 0.43798779 0.44739027 0.45440901 0.45904403\n",
            " 0.47188969 0.45440901 0.46222233 0.4575873  0.46222233 0.46685735\n",
            " 0.46725467 0.48274887 0.47573013 0.44196067 0.46434121 0.45864676\n",
            " 0.46897623 0.46831408 0.49652155 0.49903769 0.51122116 0.52141824\n",
            " 0.50128897 0.50301057 0.50499701 0.50327541 0.5044673  0.51519404\n",
            " 0.51016175 0.50671858 0.5194318  0.52406682 0.53492604 0.54830136\n",
            " 0.5750521  0.52393438 0.54234205 0.5688279  0.57253595 0.59014903\n",
            " 0.59094361 0.58895717 0.60564327 0.60961615 0.6003461  0.59968395\n",
            " 0.59769751 0.58908961 0.56035244 0.5514797  0.58087898 0.58908961\n",
            " 0.58458702 0.58418971 0.59796235 0.57412507 0.59160576 0.59451922\n",
            " 0.5904139  0.57597912 0.56755453 0.56202561 0.55526865 0.54792309\n",
            " 0.54024798 0.53240108 0.52451175 0.51670182 0.50908965 0.50178564\n",
            " 0.49488354 0.48845288 0.482537   0.47715482 0.47230503 0.46797013\n",
            " 0.46412063 0.46071953 0.45772621 0.45509946 0.4527995  0.45078883\n",
            " 0.44903231 0.44749692 0.44615167 0.44496706]\n",
            "26 day output [[0.44391525]]\n",
            "27 day input [0.32820392 0.34793587 0.35031958 0.35363032 0.36210582 0.35972207\n",
            " 0.35614651 0.36025178 0.36448953 0.3896511  0.39971573 0.423553\n",
            " 0.43785535 0.43798779 0.44739027 0.45440901 0.45904403 0.47188969\n",
            " 0.45440901 0.46222233 0.4575873  0.46222233 0.46685735 0.46725467\n",
            " 0.48274887 0.47573013 0.44196067 0.46434121 0.45864676 0.46897623\n",
            " 0.46831408 0.49652155 0.49903769 0.51122116 0.52141824 0.50128897\n",
            " 0.50301057 0.50499701 0.50327541 0.5044673  0.51519404 0.51016175\n",
            " 0.50671858 0.5194318  0.52406682 0.53492604 0.54830136 0.5750521\n",
            " 0.52393438 0.54234205 0.5688279  0.57253595 0.59014903 0.59094361\n",
            " 0.58895717 0.60564327 0.60961615 0.6003461  0.59968395 0.59769751\n",
            " 0.58908961 0.56035244 0.5514797  0.58087898 0.58908961 0.58458702\n",
            " 0.58418971 0.59796235 0.57412507 0.59160576 0.59451922 0.5904139\n",
            " 0.57597912 0.56755453 0.56202561 0.55526865 0.54792309 0.54024798\n",
            " 0.53240108 0.52451175 0.51670182 0.50908965 0.50178564 0.49488354\n",
            " 0.48845288 0.482537   0.47715482 0.47230503 0.46797013 0.46412063\n",
            " 0.46071953 0.45772621 0.45509946 0.4527995  0.45078883 0.44903231\n",
            " 0.44749692 0.44615167 0.44496706 0.44391525]\n",
            "27 day output [[0.44296992]]\n",
            "28 day input [0.34793587 0.35031958 0.35363032 0.36210582 0.35972207 0.35614651\n",
            " 0.36025178 0.36448953 0.3896511  0.39971573 0.423553   0.43785535\n",
            " 0.43798779 0.44739027 0.45440901 0.45904403 0.47188969 0.45440901\n",
            " 0.46222233 0.4575873  0.46222233 0.46685735 0.46725467 0.48274887\n",
            " 0.47573013 0.44196067 0.46434121 0.45864676 0.46897623 0.46831408\n",
            " 0.49652155 0.49903769 0.51122116 0.52141824 0.50128897 0.50301057\n",
            " 0.50499701 0.50327541 0.5044673  0.51519404 0.51016175 0.50671858\n",
            " 0.5194318  0.52406682 0.53492604 0.54830136 0.5750521  0.52393438\n",
            " 0.54234205 0.5688279  0.57253595 0.59014903 0.59094361 0.58895717\n",
            " 0.60564327 0.60961615 0.6003461  0.59968395 0.59769751 0.58908961\n",
            " 0.56035244 0.5514797  0.58087898 0.58908961 0.58458702 0.58418971\n",
            " 0.59796235 0.57412507 0.59160576 0.59451922 0.5904139  0.57597912\n",
            " 0.56755453 0.56202561 0.55526865 0.54792309 0.54024798 0.53240108\n",
            " 0.52451175 0.51670182 0.50908965 0.50178564 0.49488354 0.48845288\n",
            " 0.482537   0.47715482 0.47230503 0.46797013 0.46412063 0.46071953\n",
            " 0.45772621 0.45509946 0.4527995  0.45078883 0.44903231 0.44749692\n",
            " 0.44615167 0.44496706 0.44391525 0.44296992]\n",
            "28 day output [[0.44210654]]\n",
            "29 day input [0.35031958 0.35363032 0.36210582 0.35972207 0.35614651 0.36025178\n",
            " 0.36448953 0.3896511  0.39971573 0.423553   0.43785535 0.43798779\n",
            " 0.44739027 0.45440901 0.45904403 0.47188969 0.45440901 0.46222233\n",
            " 0.4575873  0.46222233 0.46685735 0.46725467 0.48274887 0.47573013\n",
            " 0.44196067 0.46434121 0.45864676 0.46897623 0.46831408 0.49652155\n",
            " 0.49903769 0.51122116 0.52141824 0.50128897 0.50301057 0.50499701\n",
            " 0.50327541 0.5044673  0.51519404 0.51016175 0.50671858 0.5194318\n",
            " 0.52406682 0.53492604 0.54830136 0.5750521  0.52393438 0.54234205\n",
            " 0.5688279  0.57253595 0.59014903 0.59094361 0.58895717 0.60564327\n",
            " 0.60961615 0.6003461  0.59968395 0.59769751 0.58908961 0.56035244\n",
            " 0.5514797  0.58087898 0.58908961 0.58458702 0.58418971 0.59796235\n",
            " 0.57412507 0.59160576 0.59451922 0.5904139  0.57597912 0.56755453\n",
            " 0.56202561 0.55526865 0.54792309 0.54024798 0.53240108 0.52451175\n",
            " 0.51670182 0.50908965 0.50178564 0.49488354 0.48845288 0.482537\n",
            " 0.47715482 0.47230503 0.46797013 0.46412063 0.46071953 0.45772621\n",
            " 0.45509946 0.4527995  0.45078883 0.44903231 0.44749692 0.44615167\n",
            " 0.44496706 0.44391525 0.44296992 0.44210654]\n",
            "29 day output [[0.44130263]]\n",
            "[[0.5675545334815979], [0.5620256066322327], [0.5552686452865601], [0.5479230880737305], [0.5402479767799377], [0.5324010848999023], [0.5245117545127869], [0.5167018175125122], [0.5090896487236023], [0.5017856359481812], [0.49488353729248047], [0.48845288157463074], [0.48253700137138367], [0.47715482115745544], [0.472305029630661], [0.4679701328277588], [0.46412062644958496], [0.4607195258140564], [0.45772621035575867], [0.4550994634628296], [0.4527994990348816], [0.45078882575035095], [0.4490323066711426], [0.4474969208240509], [0.4461516737937927], [0.4449670612812042], [0.4439152479171753], [0.4429699182510376], [0.44210654497146606], [0.441302627325058]]\n"
          ]
        }
      ],
      "source": [
        "# demonstrate prediction for next 10 days\n",
        "from numpy import array\n",
        "\n",
        "lst_output=[]\n",
        "n_steps=100\n",
        "i=0\n",
        "while(i<30):\n",
        "\n",
        "    if(len(temp_input)>100):\n",
        "        #print(temp_input)\n",
        "        x_input=np.array(temp_input[1:])\n",
        "        print(\"{} day input {}\".format(i,x_input))\n",
        "        x_input=x_input.reshape(1,-1)\n",
        "        x_input = x_input.reshape((1, n_steps, 1))\n",
        "        #print(x_input)\n",
        "        yhat = model.predict(x_input, verbose=0)\n",
        "        print(\"{} day output {}\".format(i,yhat))\n",
        "        temp_input.extend(yhat[0].tolist())\n",
        "        temp_input=temp_input[1:]\n",
        "        #print(temp_input)\n",
        "        lst_output.extend(yhat.tolist())\n",
        "        i=i+1\n",
        "    else:\n",
        "        x_input = x_input.reshape((1, n_steps,1))\n",
        "        yhat = model.predict(x_input, verbose=0)\n",
        "        print(yhat[0])\n",
        "        temp_input.extend(yhat[0].tolist())\n",
        "        print(len(temp_input))\n",
        "        lst_output.extend(yhat.tolist())\n",
        "        i=i+1\n",
        "\n",
        "\n",
        "print(lst_output)"
      ]
    },
    {
      "cell_type": "code",
      "execution_count": null,
      "metadata": {
        "id": "qMi3jh1WO94-"
      },
      "outputs": [],
      "source": [
        "day_new=np.arange(1,101)\n",
        "day_pred=np.arange(101,131)"
      ]
    },
    {
      "cell_type": "code",
      "execution_count": null,
      "metadata": {
        "id": "lgBNnbkEO94-"
      },
      "outputs": [],
      "source": [
        "import matplotlib.pyplot as plt"
      ]
    },
    {
      "cell_type": "code",
      "execution_count": null,
      "metadata": {
        "colab": {
          "base_uri": "https://localhost:8080/"
        },
        "id": "46UT539tO94-",
        "outputId": "40d0b904-890a-4c2d-a193-2f107c1ebb50"
      },
      "outputs": [
        {
          "data": {
            "text/plain": [
              "7075"
            ]
          },
          "execution_count": 198,
          "metadata": {},
          "output_type": "execute_result"
        }
      ],
      "source": [
        "len(df1)"
      ]
    },
    {
      "cell_type": "code",
      "execution_count": null,
      "metadata": {
        "colab": {
          "base_uri": "https://localhost:8080/",
          "height": 449
        },
        "id": "-vXrO5q4O94-",
        "outputId": "774e1ebc-cd3e-4fcd-8824-b86e68735246"
      },
      "outputs": [
        {
          "data": {
            "text/plain": [
              "[<matplotlib.lines.Line2D at 0x7861e4ae9240>]"
            ]
          },
          "execution_count": 218,
          "metadata": {},
          "output_type": "execute_result"
        },
        {
          "data": {
            "image/png": "[encoded data removed]",
            "text/plain": [
              "<Figure size 640x480 with 1 Axes>"
            ]
          },
          "metadata": {},
          "output_type": "display_data"
        }
      ],
      "source": [
        "plt.plot(day_new,scaler.inverse_transform(df1[6975:]))\n",
        "plt.plot(day_pred,scaler.inverse_transform(lst_output))"
      ]
    },
    {
      "cell_type": "code",
      "execution_count": null,
      "metadata": {
        "colab": {
          "base_uri": "https://localhost:8080/",
          "height": 539
        },
        "id": "7leTJw-GO94-",
        "outputId": "81512b10-0b4c-4cef-c89d-ea74e475dfc0"
      },
      "outputs": [
        {
          "data": {
            "text/plain": [
              "[<matplotlib.lines.Line2D at 0x7861e4b7db70>]"
            ]
          },
          "execution_count": 219,
          "metadata": {},
          "output_type": "execute_result"
        },
        {
          "data": {
            "image/png": "[encoded data removed]",
            "text/plain": [
              "<Figure size 2000x600 with 1 Axes>"
            ]
          },
          "metadata": {},
          "output_type": "display_data"
        }
      ],
      "source": [
        "plt.figure(figsize=(20,6))\n",
        "df3=df1.tolist()\n",
        "df3.extend(lst_output)\n",
        "plt.plot(df3)"
      ]
    },
    {
      "cell_type": "code",
      "execution_count": null,
      "metadata": {
        "id": "z_7RvsLaO94_"
      },
      "outputs": [],
      "source": [
        "df3=scaler.inverse_transform(df3).tolist()"
      ]
    },
    {
      "cell_type": "code",
      "execution_count": null,
      "metadata": {
        "colab": {
          "base_uri": "https://localhost:8080/",
          "height": 543
        },
        "id": "Rf4YnjARO94_",
        "outputId": "f6ae36b5-9eb0-40bd-e4dd-2792f2d93664"
      },
      "outputs": [
        {
          "data": {
            "text/plain": [
              "[<matplotlib.lines.Line2D at 0x7861e493d840>]"
            ]
          },
          "execution_count": 221,
          "metadata": {},
          "output_type": "execute_result"
        },
        {
          "data": {
            "image/png": "[encoded data removed]",
            "text/plain": [
              "<Figure size 2000x600 with 1 Axes>"
            ]
          },
          "metadata": {},
          "output_type": "display_data"
        }
      ],
      "source": [
        "plt.figure(figsize=(20,6))\n",
        "plt.plot(df3)"
      ]
    },
    {
      "cell_type": "code",
      "execution_count": null,
      "metadata": {
        "colab": {
          "base_uri": "https://localhost:8080/"
        },
        "id": "HcJqTDjQUNO9",
        "outputId": "f747ab8c-c356-4f36-f5aa-277e8207a55a"
      },
      "outputs": [
        {
          "data": {
            "text/plain": [
              "(1668,)"
            ]
          },
          "execution_count": 222,
          "metadata": {},
          "output_type": "execute_result"
        }
      ],
      "source": [
        "ytest.shape"
      ]
    },
    {
      "cell_type": "code",
      "execution_count": null,
      "metadata": {
        "colab": {
          "base_uri": "https://localhost:8080/"
        },
        "id": "YMDYxtH5Uc0e",
        "outputId": "c19fed37-e96a-4626-fe14-754af54b3172"
      },
      "outputs": [
        {
          "data": {
            "text/plain": [
              "0.2343115432961855"
            ]
          },
          "execution_count": 223,
          "metadata": {},
          "output_type": "execute_result"
        }
      ],
      "source": [
        "ytest[0]"
      ]
    },
    {
      "cell_type": "code",
      "execution_count": null,
      "metadata": {
        "colab": {
          "base_uri": "https://localhost:8080/"
        },
        "id": "MILhMoppTpcP",
        "outputId": "ea249b82-7b45-4ce8-f3bd-31dab7e31e7a"
      },
      "outputs": [
        {
          "data": {
            "text/plain": [
              "(1668, 1)"
            ]
          },
          "execution_count": 224,
          "metadata": {},
          "output_type": "execute_result"
        }
      ],
      "source": [
        "test_predict.shape"
      ]
    },
    {
      "cell_type": "code",
      "execution_count": null,
      "metadata": {
        "colab": {
          "base_uri": "https://localhost:8080/"
        },
        "id": "_oTey8fuT5NP",
        "outputId": "d20afdde-8002-4616-c702-b3a1da911a93"
      },
      "outputs": [
        {
          "data": {
            "text/plain": [
              "(1668, 1)"
            ]
          },
          "execution_count": 225,
          "metadata": {},
          "output_type": "execute_result"
        }
      ],
      "source": [
        "test_predict.shape"
      ]
    },
    {
      "cell_type": "code",
      "execution_count": null,
      "metadata": {
        "colab": {
          "base_uri": "https://localhost:8080/"
        },
        "id": "O1SSsd8tT53e",
        "outputId": "cbf51218-0bf1-4a95-99ec-0be1276f16b4"
      },
      "outputs": [
        {
          "data": {
            "text/plain": [
              "0.5904139008717724"
            ]
          },
          "execution_count": 226,
          "metadata": {},
          "output_type": "execute_result"
        }
      ],
      "source": [
        "ytest[-1]"
      ]
    },
    {
      "cell_type": "code",
      "execution_count": null,
      "metadata": {
        "id": "tIujxL5ZU5AW"
      },
      "outputs": [],
      "source": [
        "original_value = scaler.inverse_transform([[ytest[339]]])[0, 0]"
      ]
    },
    {
      "cell_type": "code",
      "execution_count": null,
      "metadata": {
        "colab": {
          "base_uri": "https://localhost:8080/"
        },
        "id": "yUglO0YgVIqe",
        "outputId": "88d464d2-4efc-487e-89a9-cfb2e6bc83ad"
      },
      "outputs": [
        {
          "data": {
            "text/plain": [
              "74.1500015258789"
            ]
          },
          "execution_count": 228,
          "metadata": {},
          "output_type": "execute_result"
        }
      ],
      "source": [
        "original_value"
      ]
    },
    {
      "cell_type": "code",
      "execution_count": null,
      "metadata": {
        "colab": {
          "base_uri": "https://localhost:8080/"
        },
        "id": "-r-x1o9mVKaI",
        "outputId": "d4bb5187-c220-48db-cc20-ec1ac399648a"
      },
      "outputs": [
        {
          "data": {
            "text/plain": [
              "7105"
            ]
          },
          "execution_count": 229,
          "metadata": {},
          "output_type": "execute_result"
        }
      ],
      "source": [
        "len(df3)"
      ]
    },
    {
      "cell_type": "code",
      "execution_count": null,
      "metadata": {
        "colab": {
          "base_uri": "https://localhost:8080/"
        },
        "id": "TJStHlwCVVGM",
        "outputId": "620e3ff1-0f40-4add-bfed-314e59feadd6"
      },
      "outputs": [
        {
          "data": {
            "text/plain": [
              "(7075, 1)"
            ]
          },
          "execution_count": 237,
          "metadata": {},
          "output_type": "execute_result"
        }
      ],
      "source": [
        "df1.shape"
      ]
    },
    {
      "cell_type": "code",
      "execution_count": null,
      "metadata": {
        "colab": {
          "base_uri": "https://localhost:8080/"
        },
        "id": "xH0NnDak9t51",
        "outputId": "cd0ae210-3272-4965-ed26-0a37c46a5011"
      },
      "outputs": [
        {
          "data": {
            "text/plain": [
              "7105"
            ]
          },
          "execution_count": 238,
          "metadata": {},
          "output_type": "execute_result"
        }
      ],
      "source": [
        "len(df3)"
      ]
    },
    {
      "cell_type": "code",
      "execution_count": null,
      "metadata": {
        "id": "Z-DAKD3xCtwy"
      },
      "outputs": [],
      "source": []
    },
    {
      "cell_type": "code",
      "execution_count": null,
      "metadata": {
        "colab": {
          "base_uri": "https://localhost:8080/"
        },
        "id": "FmnjffDDVX6V",
        "outputId": "b0e14bb2-a9db-4b66-fd8a-2d61e70f131c"
      },
      "outputs": [
        {
          "data": {
            "text/plain": [
              "array([0.57597912])"
            ]
          },
          "execution_count": 232,
          "metadata": {},
          "output_type": "execute_result"
        }
      ],
      "source": [
        "df1[7074]"
      ]
    },
    {
      "cell_type": "code",
      "execution_count": null,
      "metadata": {
        "colab": {
          "base_uri": "https://localhost:8080/"
        },
        "id": "_g2SJWwAVaPL",
        "outputId": "9cb594cc-f3f0-42fa-cdd9-e0b6c29eaa4a"
      },
      "outputs": [
        {
          "data": {
            "text/plain": [
              "[219.4192203993333]"
            ]
          },
          "execution_count": 239,
          "metadata": {},
          "output_type": "execute_result"
        }
      ],
      "source": [
        "df3[7075]"
      ]
    },
    {
      "cell_type": "code",
      "execution_count": null,
      "metadata": {
        "colab": {
          "base_uri": "https://localhost:8080/"
        },
        "id": "Z5D5smBdDU0d",
        "outputId": "49b16c15-f69c-45f0-a1ab-eb2c870d0487"
      },
      "outputs": [
        {
          "data": {
            "text/plain": [
              "array([219.75250244])"
            ]
          },
          "execution_count": 246,
          "metadata": {},
          "output_type": "execute_result"
        }
      ],
      "source": [
        "testPredictPlot[7073]"
      ]
    },
    {
      "cell_type": "code",
      "execution_count": null,
      "metadata": {
        "id": "6WKbgV6lDWI8"
      },
      "outputs": [],
      "source": []
    }
  ],
  "metadata": {
    "accelerator": "GPU",
    "colab": {
      "gpuType": "T4",
      "include_colab_link": true,
      "provenance": []
    },
    "kernelspec": {
      "display_name": "Python 3",
      "name": "python3"
    },
    "language_info": {
      "codemirror_mode": {
        "name": "ipython",
        "version": 3
      },
      "file_extension": ".py",
      "mimetype": "text/x-python",
      "name": "python",
      "nbconvert_exporter": "python",
      "pygments_lexer": "ipython3",
      "version": "3.11.3"
    }
  },
  "nbformat": 4,
  "nbformat_minor": 0
}
