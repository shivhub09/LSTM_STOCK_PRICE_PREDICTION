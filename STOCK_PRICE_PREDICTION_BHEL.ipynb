{
  "cells": [
    {
      "cell_type": "markdown",
      "metadata": {
        "id": "view-in-github",
        "colab_type": "text"
      },
      "source": [
        "<a href=\"https://colab.research.google.com/github/shivhub09/LSTM_STOCK_PRICE_PREDICTION/blob/main/STOCK_PRICE_PREDICTION_BHEL.ipynb\" target=\"_parent\"><img src=\"https://colab.research.google.com/assets/colab-badge.svg\" alt=\"Open In Colab\"/></a>"
      ]
    },
    {
      "cell_type": "markdown",
      "metadata": {
        "id": "Yhz7LGOAO942"
      },
      "source": [
        "### Stock Market Prediction And Forecasting Using Stacked LSTM"
      ]
    },
    {
      "cell_type": "code",
      "execution_count": null,
      "metadata": {
        "id": "20rrfStlO943"
      },
      "outputs": [],
      "source": [
        "### Keras and Tensorflow >2.0"
      ]
    },
    {
      "cell_type": "code",
      "execution_count": null,
      "metadata": {
        "colab": {
          "base_uri": "https://localhost:8080/"
        },
        "id": "xDhXtKi1O944",
        "outputId": "18e75166-44f4-4beb-a088-9b6ee247e3c2"
      },
      "outputs": [
        {
          "output_type": "stream",
          "name": "stdout",
          "text": [
            "Requirement already satisfied: yfinance in /usr/local/lib/python3.10/dist-packages (0.2.36)\n",
            "Requirement already satisfied: pandas>=1.3.0 in /usr/local/lib/python3.10/dist-packages (from yfinance) (1.5.3)\n",
            "Requirement already satisfied: numpy>=1.16.5 in /usr/local/lib/python3.10/dist-packages (from yfinance) (1.25.2)\n",
            "Requirement already satisfied: requests>=2.31 in /usr/local/lib/python3.10/dist-packages (from yfinance) (2.31.0)\n",
            "Requirement already satisfied: multitasking>=0.0.7 in /usr/local/lib/python3.10/dist-packages (from yfinance) (0.0.11)\n",
            "Requirement already satisfied: lxml>=4.9.1 in /usr/local/lib/python3.10/dist-packages (from yfinance) (4.9.4)\n",
            "Requirement already satisfied: appdirs>=1.4.4 in /usr/local/lib/python3.10/dist-packages (from yfinance) (1.4.4)\n",
            "Requirement already satisfied: pytz>=2022.5 in /usr/local/lib/python3.10/dist-packages (from yfinance) (2023.4)\n",
            "Requirement already satisfied: frozendict>=2.3.4 in /usr/local/lib/python3.10/dist-packages (from yfinance) (2.4.0)\n",
            "Requirement already satisfied: peewee>=3.16.2 in /usr/local/lib/python3.10/dist-packages (from yfinance) (3.17.1)\n",
            "Requirement already satisfied: beautifulsoup4>=4.11.1 in /usr/local/lib/python3.10/dist-packages (from yfinance) (4.12.3)\n",
            "Requirement already satisfied: html5lib>=1.1 in /usr/local/lib/python3.10/dist-packages (from yfinance) (1.1)\n",
            "Requirement already satisfied: soupsieve>1.2 in /usr/local/lib/python3.10/dist-packages (from beautifulsoup4>=4.11.1->yfinance) (2.5)\n",
            "Requirement already satisfied: six>=1.9 in /usr/local/lib/python3.10/dist-packages (from html5lib>=1.1->yfinance) (1.16.0)\n",
            "Requirement already satisfied: webencodings in /usr/local/lib/python3.10/dist-packages (from html5lib>=1.1->yfinance) (0.5.1)\n",
            "Requirement already satisfied: python-dateutil>=2.8.1 in /usr/local/lib/python3.10/dist-packages (from pandas>=1.3.0->yfinance) (2.8.2)\n",
            "Requirement already satisfied: charset-normalizer<4,>=2 in /usr/local/lib/python3.10/dist-packages (from requests>=2.31->yfinance) (3.3.2)\n",
            "Requirement already satisfied: idna<4,>=2.5 in /usr/local/lib/python3.10/dist-packages (from requests>=2.31->yfinance) (3.6)\n",
            "Requirement already satisfied: urllib3<3,>=1.21.1 in /usr/local/lib/python3.10/dist-packages (from requests>=2.31->yfinance) (2.0.7)\n",
            "Requirement already satisfied: certifi>=2017.4.17 in /usr/local/lib/python3.10/dist-packages (from requests>=2.31->yfinance) (2024.2.2)\n"
          ]
        }
      ],
      "source": [
        "!pip install yfinance"
      ]
    },
    {
      "cell_type": "code",
      "source": [
        "import yfinance as yf\n",
        "from datetime import datetime"
      ],
      "metadata": {
        "id": "z-9MI-XDPCm-"
      },
      "execution_count": null,
      "outputs": []
    },
    {
      "cell_type": "code",
      "execution_count": null,
      "metadata": {
        "colab": {
          "base_uri": "https://localhost:8080/"
        },
        "id": "V1orRdsOO944",
        "outputId": "4d9cd5f6-237f-4c39-86f8-93bba69c54ea"
      },
      "outputs": [
        {
          "output_type": "stream",
          "name": "stderr",
          "text": [
            "\r[*********************100%%**********************]  1 of 1 completed\n"
          ]
        }
      ],
      "source": [
        "df = yf.download(\"BHEL.NS\", )"
      ]
    },
    {
      "cell_type": "code",
      "execution_count": null,
      "metadata": {
        "id": "MlR4XFXPO944"
      },
      "outputs": [],
      "source": [
        "df.to_csv('BHEL.csv')"
      ]
    },
    {
      "cell_type": "code",
      "execution_count": null,
      "metadata": {
        "id": "L6QCzmGeO944"
      },
      "outputs": [],
      "source": [
        "import pandas as pd"
      ]
    },
    {
      "cell_type": "code",
      "source": [
        "end = datetime.now()\n",
        "start = datetime(end.year - 5, end.month - 1, end.day-3)"
      ],
      "metadata": {
        "id": "OJGoM4FWPeIV"
      },
      "execution_count": null,
      "outputs": []
    },
    {
      "cell_type": "code",
      "execution_count": null,
      "metadata": {
        "colab": {
          "base_uri": "https://localhost:8080/"
        },
        "id": "l89gOmJrO944",
        "outputId": "d90d52b7-d928-43cc-9d63-113a97a1229d"
      },
      "outputs": [
        {
          "output_type": "stream",
          "name": "stderr",
          "text": [
            "\r[*********************100%%**********************]  1 of 1 completed\n"
          ]
        }
      ],
      "source": [
        "df = yf.download(\"BHEL.NS\" , start=start, end=end)"
      ]
    },
    {
      "cell_type": "code",
      "execution_count": null,
      "metadata": {
        "colab": {
          "base_uri": "https://localhost:8080/",
          "height": 237
        },
        "id": "jFGnqVyWO945",
        "outputId": "d34f4430-d62b-4c2c-c7b3-ed46cb85d1c1"
      },
      "outputs": [
        {
          "output_type": "execute_result",
          "data": {
            "text/plain": [
              "                 Open       High        Low      Close  Adj Close   Volume\n",
              "Date                                                                      \n",
              "2019-01-23  71.250000  71.599998  69.050003  69.349998  66.177368  5371992\n",
              "2019-01-24  69.250000  70.099998  68.650002  69.050003  65.891106  6289323\n",
              "2019-01-25  69.150002  69.500000  66.050003  66.400002  63.362331  7134722\n",
              "2019-01-28  66.500000  66.750000  63.450001  63.750000  60.833565  8737901\n",
              "2019-01-29  63.200001  65.349998  63.200001  64.400002  61.453827  8758306"
            ],
            "text/html": [
              "\n",
              "  <div id=\"df-f39afe68-3664-4df0-a09c-ff5c5e1009a5\" class=\"colab-df-container\">\n",
              "    <div>\n",
              "<style scoped>\n",
              "    .dataframe tbody tr th:only-of-type {\n",
              "        vertical-align: middle;\n",
              "    }\n",
              "\n",
              "    .dataframe tbody tr th {\n",
              "        vertical-align: top;\n",
              "    }\n",
              "\n",
              "    .dataframe thead th {\n",
              "        text-align: right;\n",
              "    }\n",
              "</style>\n",
              "<table border=\"1\" class=\"dataframe\">\n",
              "  <thead>\n",
              "    <tr style=\"text-align: right;\">\n",
              "      <th></th>\n",
              "      <th>Open</th>\n",
              "      <th>High</th>\n",
              "      <th>Low</th>\n",
              "      <th>Close</th>\n",
              "      <th>Adj Close</th>\n",
              "      <th>Volume</th>\n",
              "    </tr>\n",
              "    <tr>\n",
              "      <th>Date</th>\n",
              "      <th></th>\n",
              "      <th></th>\n",
              "      <th></th>\n",
              "      <th></th>\n",
              "      <th></th>\n",
              "      <th></th>\n",
              "    </tr>\n",
              "  </thead>\n",
              "  <tbody>\n",
              "    <tr>\n",
              "      <th>2019-01-23</th>\n",
              "      <td>71.250000</td>\n",
              "      <td>71.599998</td>\n",
              "      <td>69.050003</td>\n",
              "      <td>69.349998</td>\n",
              "      <td>66.177368</td>\n",
              "      <td>5371992</td>\n",
              "    </tr>\n",
              "    <tr>\n",
              "      <th>2019-01-24</th>\n",
              "      <td>69.250000</td>\n",
              "      <td>70.099998</td>\n",
              "      <td>68.650002</td>\n",
              "      <td>69.050003</td>\n",
              "      <td>65.891106</td>\n",
              "      <td>6289323</td>\n",
              "    </tr>\n",
              "    <tr>\n",
              "      <th>2019-01-25</th>\n",
              "      <td>69.150002</td>\n",
              "      <td>69.500000</td>\n",
              "      <td>66.050003</td>\n",
              "      <td>66.400002</td>\n",
              "      <td>63.362331</td>\n",
              "      <td>7134722</td>\n",
              "    </tr>\n",
              "    <tr>\n",
              "      <th>2019-01-28</th>\n",
              "      <td>66.500000</td>\n",
              "      <td>66.750000</td>\n",
              "      <td>63.450001</td>\n",
              "      <td>63.750000</td>\n",
              "      <td>60.833565</td>\n",
              "      <td>8737901</td>\n",
              "    </tr>\n",
              "    <tr>\n",
              "      <th>2019-01-29</th>\n",
              "      <td>63.200001</td>\n",
              "      <td>65.349998</td>\n",
              "      <td>63.200001</td>\n",
              "      <td>64.400002</td>\n",
              "      <td>61.453827</td>\n",
              "      <td>8758306</td>\n",
              "    </tr>\n",
              "  </tbody>\n",
              "</table>\n",
              "</div>\n",
              "    <div class=\"colab-df-buttons\">\n",
              "\n",
              "  <div class=\"colab-df-container\">\n",
              "    <button class=\"colab-df-convert\" onclick=\"convertToInteractive('df-f39afe68-3664-4df0-a09c-ff5c5e1009a5')\"\n",
              "            title=\"Convert this dataframe to an interactive table.\"\n",
              "            style=\"display:none;\">\n",
              "\n",
              "  <svg xmlns=\"http://www.w3.org/2000/svg\" height=\"24px\" viewBox=\"0 -960 960 960\">\n",
              "    <path d=\"M120-120v-720h720v720H120Zm60-500h600v-160H180v160Zm220 220h160v-160H400v160Zm0 220h160v-160H400v160ZM180-400h160v-160H180v160Zm440 0h160v-160H620v160ZM180-180h160v-160H180v160Zm440 0h160v-160H620v160Z\"/>\n",
              "  </svg>\n",
              "    </button>\n",
              "\n",
              "  <style>\n",
              "    .colab-df-container {\n",
              "      display:flex;\n",
              "      gap: 12px;\n",
              "    }\n",
              "\n",
              "    .colab-df-convert {\n",
              "      background-color: #E8F0FE;\n",
              "      border: none;\n",
              "      border-radius: 50%;\n",
              "      cursor: pointer;\n",
              "      display: none;\n",
              "      fill: #1967D2;\n",
              "      height: 32px;\n",
              "      padding: 0 0 0 0;\n",
              "      width: 32px;\n",
              "    }\n",
              "\n",
              "    .colab-df-convert:hover {\n",
              "      background-color: #E2EBFA;\n",
              "      box-shadow: 0px 1px 2px rgba(60, 64, 67, 0.3), 0px 1px 3px 1px rgba(60, 64, 67, 0.15);\n",
              "      fill: #174EA6;\n",
              "    }\n",
              "\n",
              "    .colab-df-buttons div {\n",
              "      margin-bottom: 4px;\n",
              "    }\n",
              "\n",
              "    [theme=dark] .colab-df-convert {\n",
              "      background-color: #3B4455;\n",
              "      fill: #D2E3FC;\n",
              "    }\n",
              "\n",
              "    [theme=dark] .colab-df-convert:hover {\n",
              "      background-color: #434B5C;\n",
              "      box-shadow: 0px 1px 3px 1px rgba(0, 0, 0, 0.15);\n",
              "      filter: drop-shadow(0px 1px 2px rgba(0, 0, 0, 0.3));\n",
              "      fill: #FFFFFF;\n",
              "    }\n",
              "  </style>\n",
              "\n",
              "    <script>\n",
              "      const buttonEl =\n",
              "        document.querySelector('#df-f39afe68-3664-4df0-a09c-ff5c5e1009a5 button.colab-df-convert');\n",
              "      buttonEl.style.display =\n",
              "        google.colab.kernel.accessAllowed ? 'block' : 'none';\n",
              "\n",
              "      async function convertToInteractive(key) {\n",
              "        const element = document.querySelector('#df-f39afe68-3664-4df0-a09c-ff5c5e1009a5');\n",
              "        const dataTable =\n",
              "          await google.colab.kernel.invokeFunction('convertToInteractive',\n",
              "                                                    [key], {});\n",
              "        if (!dataTable) return;\n",
              "\n",
              "        const docLinkHtml = 'Like what you see? Visit the ' +\n",
              "          '<a target=\"_blank\" href=https://colab.research.google.com/notebooks/data_table.ipynb>data table notebook</a>'\n",
              "          + ' to learn more about interactive tables.';\n",
              "        element.innerHTML = '';\n",
              "        dataTable['output_type'] = 'display_data';\n",
              "        await google.colab.output.renderOutput(dataTable, element);\n",
              "        const docLink = document.createElement('div');\n",
              "        docLink.innerHTML = docLinkHtml;\n",
              "        element.appendChild(docLink);\n",
              "      }\n",
              "    </script>\n",
              "  </div>\n",
              "\n",
              "\n",
              "<div id=\"df-89195e64-ea9c-4e68-8275-5de8628494b2\">\n",
              "  <button class=\"colab-df-quickchart\" onclick=\"quickchart('df-89195e64-ea9c-4e68-8275-5de8628494b2')\"\n",
              "            title=\"Suggest charts\"\n",
              "            style=\"display:none;\">\n",
              "\n",
              "<svg xmlns=\"http://www.w3.org/2000/svg\" height=\"24px\"viewBox=\"0 0 24 24\"\n",
              "     width=\"24px\">\n",
              "    <g>\n",
              "        <path d=\"M19 3H5c-1.1 0-2 .9-2 2v14c0 1.1.9 2 2 2h14c1.1 0 2-.9 2-2V5c0-1.1-.9-2-2-2zM9 17H7v-7h2v7zm4 0h-2V7h2v10zm4 0h-2v-4h2v4z\"/>\n",
              "    </g>\n",
              "</svg>\n",
              "  </button>\n",
              "\n",
              "<style>\n",
              "  .colab-df-quickchart {\n",
              "      --bg-color: #E8F0FE;\n",
              "      --fill-color: #1967D2;\n",
              "      --hover-bg-color: #E2EBFA;\n",
              "      --hover-fill-color: #174EA6;\n",
              "      --disabled-fill-color: #AAA;\n",
              "      --disabled-bg-color: #DDD;\n",
              "  }\n",
              "\n",
              "  [theme=dark] .colab-df-quickchart {\n",
              "      --bg-color: #3B4455;\n",
              "      --fill-color: #D2E3FC;\n",
              "      --hover-bg-color: #434B5C;\n",
              "      --hover-fill-color: #FFFFFF;\n",
              "      --disabled-bg-color: #3B4455;\n",
              "      --disabled-fill-color: #666;\n",
              "  }\n",
              "\n",
              "  .colab-df-quickchart {\n",
              "    background-color: var(--bg-color);\n",
              "    border: none;\n",
              "    border-radius: 50%;\n",
              "    cursor: pointer;\n",
              "    display: none;\n",
              "    fill: var(--fill-color);\n",
              "    height: 32px;\n",
              "    padding: 0;\n",
              "    width: 32px;\n",
              "  }\n",
              "\n",
              "  .colab-df-quickchart:hover {\n",
              "    background-color: var(--hover-bg-color);\n",
              "    box-shadow: 0 1px 2px rgba(60, 64, 67, 0.3), 0 1px 3px 1px rgba(60, 64, 67, 0.15);\n",
              "    fill: var(--button-hover-fill-color);\n",
              "  }\n",
              "\n",
              "  .colab-df-quickchart-complete:disabled,\n",
              "  .colab-df-quickchart-complete:disabled:hover {\n",
              "    background-color: var(--disabled-bg-color);\n",
              "    fill: var(--disabled-fill-color);\n",
              "    box-shadow: none;\n",
              "  }\n",
              "\n",
              "  .colab-df-spinner {\n",
              "    border: 2px solid var(--fill-color);\n",
              "    border-color: transparent;\n",
              "    border-bottom-color: var(--fill-color);\n",
              "    animation:\n",
              "      spin 1s steps(1) infinite;\n",
              "  }\n",
              "\n",
              "  @keyframes spin {\n",
              "    0% {\n",
              "      border-color: transparent;\n",
              "      border-bottom-color: var(--fill-color);\n",
              "      border-left-color: var(--fill-color);\n",
              "    }\n",
              "    20% {\n",
              "      border-color: transparent;\n",
              "      border-left-color: var(--fill-color);\n",
              "      border-top-color: var(--fill-color);\n",
              "    }\n",
              "    30% {\n",
              "      border-color: transparent;\n",
              "      border-left-color: var(--fill-color);\n",
              "      border-top-color: var(--fill-color);\n",
              "      border-right-color: var(--fill-color);\n",
              "    }\n",
              "    40% {\n",
              "      border-color: transparent;\n",
              "      border-right-color: var(--fill-color);\n",
              "      border-top-color: var(--fill-color);\n",
              "    }\n",
              "    60% {\n",
              "      border-color: transparent;\n",
              "      border-right-color: var(--fill-color);\n",
              "    }\n",
              "    80% {\n",
              "      border-color: transparent;\n",
              "      border-right-color: var(--fill-color);\n",
              "      border-bottom-color: var(--fill-color);\n",
              "    }\n",
              "    90% {\n",
              "      border-color: transparent;\n",
              "      border-bottom-color: var(--fill-color);\n",
              "    }\n",
              "  }\n",
              "</style>\n",
              "\n",
              "  <script>\n",
              "    async function quickchart(key) {\n",
              "      const quickchartButtonEl =\n",
              "        document.querySelector('#' + key + ' button');\n",
              "      quickchartButtonEl.disabled = true;  // To prevent multiple clicks.\n",
              "      quickchartButtonEl.classList.add('colab-df-spinner');\n",
              "      try {\n",
              "        const charts = await google.colab.kernel.invokeFunction(\n",
              "            'suggestCharts', [key], {});\n",
              "      } catch (error) {\n",
              "        console.error('Error during call to suggestCharts:', error);\n",
              "      }\n",
              "      quickchartButtonEl.classList.remove('colab-df-spinner');\n",
              "      quickchartButtonEl.classList.add('colab-df-quickchart-complete');\n",
              "    }\n",
              "    (() => {\n",
              "      let quickchartButtonEl =\n",
              "        document.querySelector('#df-89195e64-ea9c-4e68-8275-5de8628494b2 button');\n",
              "      quickchartButtonEl.style.display =\n",
              "        google.colab.kernel.accessAllowed ? 'block' : 'none';\n",
              "    })();\n",
              "  </script>\n",
              "</div>\n",
              "\n",
              "    </div>\n",
              "  </div>\n"
            ],
            "application/vnd.google.colaboratory.intrinsic+json": {
              "type": "dataframe",
              "variable_name": "df",
              "summary": "{\n  \"name\": \"df\",\n  \"rows\": 1258,\n  \"fields\": [\n    {\n      \"column\": \"Open\",\n      \"properties\": {\n        \"dtype\": \"number\",\n        \"std\": 38.77338440541963,\n        \"min\": 20.0,\n        \"max\": 236.5,\n        \"num_unique_values\": 851,\n        \"samples\": [\n          63.849998474121094,\n          36.5,\n          74.19999694824219\n        ],\n        \"semantic_type\": \"\",\n        \"description\": \"\"\n      }\n    },\n    {\n      \"column\": \"High\",\n      \"properties\": {\n        \"dtype\": \"number\",\n        \"std\": 39.5964653559757,\n        \"min\": 20.200000762939453,\n        \"max\": 243.25,\n        \"num_unique_values\": 867,\n        \"samples\": [\n          28.899999618530273,\n          59.29999923706055,\n          62.70000076293945\n        ],\n        \"semantic_type\": \"\",\n        \"description\": \"\"\n      }\n    },\n    {\n      \"column\": \"Low\",\n      \"properties\": {\n        \"dtype\": \"number\",\n        \"std\": 38.00755139066696,\n        \"min\": 18.399999618530273,\n        \"max\": 232.35000610351562,\n        \"num_unique_values\": 837,\n        \"samples\": [\n          35.79999923706055,\n          228.6999969482422,\n          68.8499984741211\n        ],\n        \"semantic_type\": \"\",\n        \"description\": \"\"\n      }\n    },\n    {\n      \"column\": \"Close\",\n      \"properties\": {\n        \"dtype\": \"number\",\n        \"std\": 38.843551428533594,\n        \"min\": 19.850000381469727,\n        \"max\": 235.3000030517578,\n        \"num_unique_values\": 852,\n        \"samples\": [\n          63.95000076293945,\n          67.75,\n          39.45000076293945\n        ],\n        \"semantic_type\": \"\",\n        \"description\": \"\"\n      }\n    },\n    {\n      \"column\": \"Adj Close\",\n      \"properties\": {\n        \"dtype\": \"number\",\n        \"std\": 38.959039320090056,\n        \"min\": 19.645153045654297,\n        \"max\": 235.3000030517578,\n        \"num_unique_values\": 954,\n        \"samples\": [\n          42.95212173461914,\n          44.58509063720703,\n          85.15748596191406\n        ],\n        \"semantic_type\": \"\",\n        \"description\": \"\"\n      }\n    },\n    {\n      \"column\": \"Volume\",\n      \"properties\": {\n        \"dtype\": \"number\",\n        \"std\": 39720472,\n        \"min\": 2372937,\n        \"max\": 510138918,\n        \"num_unique_values\": 1258,\n        \"samples\": [\n          195095327,\n          16456718,\n          10842680\n        ],\n        \"semantic_type\": \"\",\n        \"description\": \"\"\n      }\n    }\n  ]\n}"
            }
          },
          "metadata": {},
          "execution_count": 68
        }
      ],
      "source": [
        "df.head()"
      ]
    },
    {
      "cell_type": "code",
      "source": [
        "df.shape"
      ],
      "metadata": {
        "colab": {
          "base_uri": "https://localhost:8080/"
        },
        "id": "Kl4bqphPPV8k",
        "outputId": "f8f2a65e-1ccb-4527-e17a-c611381749cf"
      },
      "execution_count": null,
      "outputs": [
        {
          "output_type": "execute_result",
          "data": {
            "text/plain": [
              "(1258, 6)"
            ]
          },
          "metadata": {},
          "execution_count": 69
        }
      ]
    },
    {
      "cell_type": "code",
      "execution_count": null,
      "metadata": {
        "colab": {
          "base_uri": "https://localhost:8080/",
          "height": 237
        },
        "id": "LW4umMhSO945",
        "outputId": "533bef6d-79b5-47ba-df55-b0b69fae3814"
      },
      "outputs": [
        {
          "output_type": "execute_result",
          "data": {
            "text/plain": [
              "                  Open        High         Low       Close   Adj Close  \\\n",
              "Date                                                                     \n",
              "2024-02-20  226.899994  233.800003  225.949997  230.899994  230.899994   \n",
              "2024-02-21  232.000000  232.350006  220.050003  221.899994  221.899994   \n",
              "2024-02-22  224.000000  229.399994  220.949997  228.500000  228.500000   \n",
              "2024-02-23  229.449997  233.750000  228.500000  229.600006  229.600006   \n",
              "2024-02-26  229.800003  232.149994  226.250000  228.050003  228.050003   \n",
              "\n",
              "              Volume  \n",
              "Date                  \n",
              "2024-02-20  22994469  \n",
              "2024-02-21  22193528  \n",
              "2024-02-22  25023398  \n",
              "2024-02-23  21463226  \n",
              "2024-02-26  14280717  "
            ],
            "text/html": [
              "\n",
              "  <div id=\"df-37c5e34a-c760-423f-9cf6-c4f6aa6aa344\" class=\"colab-df-container\">\n",
              "    <div>\n",
              "<style scoped>\n",
              "    .dataframe tbody tr th:only-of-type {\n",
              "        vertical-align: middle;\n",
              "    }\n",
              "\n",
              "    .dataframe tbody tr th {\n",
              "        vertical-align: top;\n",
              "    }\n",
              "\n",
              "    .dataframe thead th {\n",
              "        text-align: right;\n",
              "    }\n",
              "</style>\n",
              "<table border=\"1\" class=\"dataframe\">\n",
              "  <thead>\n",
              "    <tr style=\"text-align: right;\">\n",
              "      <th></th>\n",
              "      <th>Open</th>\n",
              "      <th>High</th>\n",
              "      <th>Low</th>\n",
              "      <th>Close</th>\n",
              "      <th>Adj Close</th>\n",
              "      <th>Volume</th>\n",
              "    </tr>\n",
              "    <tr>\n",
              "      <th>Date</th>\n",
              "      <th></th>\n",
              "      <th></th>\n",
              "      <th></th>\n",
              "      <th></th>\n",
              "      <th></th>\n",
              "      <th></th>\n",
              "    </tr>\n",
              "  </thead>\n",
              "  <tbody>\n",
              "    <tr>\n",
              "      <th>2024-02-20</th>\n",
              "      <td>226.899994</td>\n",
              "      <td>233.800003</td>\n",
              "      <td>225.949997</td>\n",
              "      <td>230.899994</td>\n",
              "      <td>230.899994</td>\n",
              "      <td>22994469</td>\n",
              "    </tr>\n",
              "    <tr>\n",
              "      <th>2024-02-21</th>\n",
              "      <td>232.000000</td>\n",
              "      <td>232.350006</td>\n",
              "      <td>220.050003</td>\n",
              "      <td>221.899994</td>\n",
              "      <td>221.899994</td>\n",
              "      <td>22193528</td>\n",
              "    </tr>\n",
              "    <tr>\n",
              "      <th>2024-02-22</th>\n",
              "      <td>224.000000</td>\n",
              "      <td>229.399994</td>\n",
              "      <td>220.949997</td>\n",
              "      <td>228.500000</td>\n",
              "      <td>228.500000</td>\n",
              "      <td>25023398</td>\n",
              "    </tr>\n",
              "    <tr>\n",
              "      <th>2024-02-23</th>\n",
              "      <td>229.449997</td>\n",
              "      <td>233.750000</td>\n",
              "      <td>228.500000</td>\n",
              "      <td>229.600006</td>\n",
              "      <td>229.600006</td>\n",
              "      <td>21463226</td>\n",
              "    </tr>\n",
              "    <tr>\n",
              "      <th>2024-02-26</th>\n",
              "      <td>229.800003</td>\n",
              "      <td>232.149994</td>\n",
              "      <td>226.250000</td>\n",
              "      <td>228.050003</td>\n",
              "      <td>228.050003</td>\n",
              "      <td>14280717</td>\n",
              "    </tr>\n",
              "  </tbody>\n",
              "</table>\n",
              "</div>\n",
              "    <div class=\"colab-df-buttons\">\n",
              "\n",
              "  <div class=\"colab-df-container\">\n",
              "    <button class=\"colab-df-convert\" onclick=\"convertToInteractive('df-37c5e34a-c760-423f-9cf6-c4f6aa6aa344')\"\n",
              "            title=\"Convert this dataframe to an interactive table.\"\n",
              "            style=\"display:none;\">\n",
              "\n",
              "  <svg xmlns=\"http://www.w3.org/2000/svg\" height=\"24px\" viewBox=\"0 -960 960 960\">\n",
              "    <path d=\"M120-120v-720h720v720H120Zm60-500h600v-160H180v160Zm220 220h160v-160H400v160Zm0 220h160v-160H400v160ZM180-400h160v-160H180v160Zm440 0h160v-160H620v160ZM180-180h160v-160H180v160Zm440 0h160v-160H620v160Z\"/>\n",
              "  </svg>\n",
              "    </button>\n",
              "\n",
              "  <style>\n",
              "    .colab-df-container {\n",
              "      display:flex;\n",
              "      gap: 12px;\n",
              "    }\n",
              "\n",
              "    .colab-df-convert {\n",
              "      background-color: #E8F0FE;\n",
              "      border: none;\n",
              "      border-radius: 50%;\n",
              "      cursor: pointer;\n",
              "      display: none;\n",
              "      fill: #1967D2;\n",
              "      height: 32px;\n",
              "      padding: 0 0 0 0;\n",
              "      width: 32px;\n",
              "    }\n",
              "\n",
              "    .colab-df-convert:hover {\n",
              "      background-color: #E2EBFA;\n",
              "      box-shadow: 0px 1px 2px rgba(60, 64, 67, 0.3), 0px 1px 3px 1px rgba(60, 64, 67, 0.15);\n",
              "      fill: #174EA6;\n",
              "    }\n",
              "\n",
              "    .colab-df-buttons div {\n",
              "      margin-bottom: 4px;\n",
              "    }\n",
              "\n",
              "    [theme=dark] .colab-df-convert {\n",
              "      background-color: #3B4455;\n",
              "      fill: #D2E3FC;\n",
              "    }\n",
              "\n",
              "    [theme=dark] .colab-df-convert:hover {\n",
              "      background-color: #434B5C;\n",
              "      box-shadow: 0px 1px 3px 1px rgba(0, 0, 0, 0.15);\n",
              "      filter: drop-shadow(0px 1px 2px rgba(0, 0, 0, 0.3));\n",
              "      fill: #FFFFFF;\n",
              "    }\n",
              "  </style>\n",
              "\n",
              "    <script>\n",
              "      const buttonEl =\n",
              "        document.querySelector('#df-37c5e34a-c760-423f-9cf6-c4f6aa6aa344 button.colab-df-convert');\n",
              "      buttonEl.style.display =\n",
              "        google.colab.kernel.accessAllowed ? 'block' : 'none';\n",
              "\n",
              "      async function convertToInteractive(key) {\n",
              "        const element = document.querySelector('#df-37c5e34a-c760-423f-9cf6-c4f6aa6aa344');\n",
              "        const dataTable =\n",
              "          await google.colab.kernel.invokeFunction('convertToInteractive',\n",
              "                                                    [key], {});\n",
              "        if (!dataTable) return;\n",
              "\n",
              "        const docLinkHtml = 'Like what you see? Visit the ' +\n",
              "          '<a target=\"_blank\" href=https://colab.research.google.com/notebooks/data_table.ipynb>data table notebook</a>'\n",
              "          + ' to learn more about interactive tables.';\n",
              "        element.innerHTML = '';\n",
              "        dataTable['output_type'] = 'display_data';\n",
              "        await google.colab.output.renderOutput(dataTable, element);\n",
              "        const docLink = document.createElement('div');\n",
              "        docLink.innerHTML = docLinkHtml;\n",
              "        element.appendChild(docLink);\n",
              "      }\n",
              "    </script>\n",
              "  </div>\n",
              "\n",
              "\n",
              "<div id=\"df-86885019-c396-4b0a-b03f-6ff96a306c28\">\n",
              "  <button class=\"colab-df-quickchart\" onclick=\"quickchart('df-86885019-c396-4b0a-b03f-6ff96a306c28')\"\n",
              "            title=\"Suggest charts\"\n",
              "            style=\"display:none;\">\n",
              "\n",
              "<svg xmlns=\"http://www.w3.org/2000/svg\" height=\"24px\"viewBox=\"0 0 24 24\"\n",
              "     width=\"24px\">\n",
              "    <g>\n",
              "        <path d=\"M19 3H5c-1.1 0-2 .9-2 2v14c0 1.1.9 2 2 2h14c1.1 0 2-.9 2-2V5c0-1.1-.9-2-2-2zM9 17H7v-7h2v7zm4 0h-2V7h2v10zm4 0h-2v-4h2v4z\"/>\n",
              "    </g>\n",
              "</svg>\n",
              "  </button>\n",
              "\n",
              "<style>\n",
              "  .colab-df-quickchart {\n",
              "      --bg-color: #E8F0FE;\n",
              "      --fill-color: #1967D2;\n",
              "      --hover-bg-color: #E2EBFA;\n",
              "      --hover-fill-color: #174EA6;\n",
              "      --disabled-fill-color: #AAA;\n",
              "      --disabled-bg-color: #DDD;\n",
              "  }\n",
              "\n",
              "  [theme=dark] .colab-df-quickchart {\n",
              "      --bg-color: #3B4455;\n",
              "      --fill-color: #D2E3FC;\n",
              "      --hover-bg-color: #434B5C;\n",
              "      --hover-fill-color: #FFFFFF;\n",
              "      --disabled-bg-color: #3B4455;\n",
              "      --disabled-fill-color: #666;\n",
              "  }\n",
              "\n",
              "  .colab-df-quickchart {\n",
              "    background-color: var(--bg-color);\n",
              "    border: none;\n",
              "    border-radius: 50%;\n",
              "    cursor: pointer;\n",
              "    display: none;\n",
              "    fill: var(--fill-color);\n",
              "    height: 32px;\n",
              "    padding: 0;\n",
              "    width: 32px;\n",
              "  }\n",
              "\n",
              "  .colab-df-quickchart:hover {\n",
              "    background-color: var(--hover-bg-color);\n",
              "    box-shadow: 0 1px 2px rgba(60, 64, 67, 0.3), 0 1px 3px 1px rgba(60, 64, 67, 0.15);\n",
              "    fill: var(--button-hover-fill-color);\n",
              "  }\n",
              "\n",
              "  .colab-df-quickchart-complete:disabled,\n",
              "  .colab-df-quickchart-complete:disabled:hover {\n",
              "    background-color: var(--disabled-bg-color);\n",
              "    fill: var(--disabled-fill-color);\n",
              "    box-shadow: none;\n",
              "  }\n",
              "\n",
              "  .colab-df-spinner {\n",
              "    border: 2px solid var(--fill-color);\n",
              "    border-color: transparent;\n",
              "    border-bottom-color: var(--fill-color);\n",
              "    animation:\n",
              "      spin 1s steps(1) infinite;\n",
              "  }\n",
              "\n",
              "  @keyframes spin {\n",
              "    0% {\n",
              "      border-color: transparent;\n",
              "      border-bottom-color: var(--fill-color);\n",
              "      border-left-color: var(--fill-color);\n",
              "    }\n",
              "    20% {\n",
              "      border-color: transparent;\n",
              "      border-left-color: var(--fill-color);\n",
              "      border-top-color: var(--fill-color);\n",
              "    }\n",
              "    30% {\n",
              "      border-color: transparent;\n",
              "      border-left-color: var(--fill-color);\n",
              "      border-top-color: var(--fill-color);\n",
              "      border-right-color: var(--fill-color);\n",
              "    }\n",
              "    40% {\n",
              "      border-color: transparent;\n",
              "      border-right-color: var(--fill-color);\n",
              "      border-top-color: var(--fill-color);\n",
              "    }\n",
              "    60% {\n",
              "      border-color: transparent;\n",
              "      border-right-color: var(--fill-color);\n",
              "    }\n",
              "    80% {\n",
              "      border-color: transparent;\n",
              "      border-right-color: var(--fill-color);\n",
              "      border-bottom-color: var(--fill-color);\n",
              "    }\n",
              "    90% {\n",
              "      border-color: transparent;\n",
              "      border-bottom-color: var(--fill-color);\n",
              "    }\n",
              "  }\n",
              "</style>\n",
              "\n",
              "  <script>\n",
              "    async function quickchart(key) {\n",
              "      const quickchartButtonEl =\n",
              "        document.querySelector('#' + key + ' button');\n",
              "      quickchartButtonEl.disabled = true;  // To prevent multiple clicks.\n",
              "      quickchartButtonEl.classList.add('colab-df-spinner');\n",
              "      try {\n",
              "        const charts = await google.colab.kernel.invokeFunction(\n",
              "            'suggestCharts', [key], {});\n",
              "      } catch (error) {\n",
              "        console.error('Error during call to suggestCharts:', error);\n",
              "      }\n",
              "      quickchartButtonEl.classList.remove('colab-df-spinner');\n",
              "      quickchartButtonEl.classList.add('colab-df-quickchart-complete');\n",
              "    }\n",
              "    (() => {\n",
              "      let quickchartButtonEl =\n",
              "        document.querySelector('#df-86885019-c396-4b0a-b03f-6ff96a306c28 button');\n",
              "      quickchartButtonEl.style.display =\n",
              "        google.colab.kernel.accessAllowed ? 'block' : 'none';\n",
              "    })();\n",
              "  </script>\n",
              "</div>\n",
              "\n",
              "    </div>\n",
              "  </div>\n"
            ],
            "application/vnd.google.colaboratory.intrinsic+json": {
              "type": "dataframe",
              "summary": "{\n  \"name\": \"df\",\n  \"rows\": 5,\n  \"fields\": [\n    {\n      \"column\": \"Open\",\n      \"properties\": {\n        \"dtype\": \"number\",\n        \"std\": 3.0670841532731337,\n        \"min\": 224.0,\n        \"max\": 232.0,\n        \"num_unique_values\": 5,\n        \"samples\": [\n          232.0,\n          229.8000030517578,\n          224.0\n        ],\n        \"semantic_type\": \"\",\n        \"description\": \"\"\n      }\n    },\n    {\n      \"column\": \"High\",\n      \"properties\": {\n        \"dtype\": \"number\",\n        \"std\": 1.787949030044926,\n        \"min\": 229.39999389648438,\n        \"max\": 233.8000030517578,\n        \"num_unique_values\": 5,\n        \"samples\": [\n          232.35000610351562,\n          232.14999389648438,\n          229.39999389648438\n        ],\n        \"semantic_type\": \"\",\n        \"description\": \"\"\n      }\n    },\n    {\n      \"column\": \"Low\",\n      \"properties\": {\n        \"dtype\": \"number\",\n        \"std\": 3.655201248912358,\n        \"min\": 220.0500030517578,\n        \"max\": 228.5,\n        \"num_unique_values\": 5,\n        \"samples\": [\n          220.0500030517578,\n          226.25,\n          220.9499969482422\n        ],\n        \"semantic_type\": \"\",\n        \"description\": \"\"\n      }\n    },\n    {\n      \"column\": \"Close\",\n      \"properties\": {\n        \"dtype\": \"number\",\n        \"std\": 3.471745152560406,\n        \"min\": 221.89999389648438,\n        \"max\": 230.89999389648438,\n        \"num_unique_values\": 5,\n        \"samples\": [\n          221.89999389648438,\n          228.0500030517578,\n          228.5\n        ],\n        \"semantic_type\": \"\",\n        \"description\": \"\"\n      }\n    },\n    {\n      \"column\": \"Adj Close\",\n      \"properties\": {\n        \"dtype\": \"number\",\n        \"std\": 3.471745152560406,\n        \"min\": 221.89999389648438,\n        \"max\": 230.89999389648438,\n        \"num_unique_values\": 5,\n        \"samples\": [\n          221.89999389648438,\n          228.0500030517578,\n          228.5\n        ],\n        \"semantic_type\": \"\",\n        \"description\": \"\"\n      }\n    },\n    {\n      \"column\": \"Volume\",\n      \"properties\": {\n        \"dtype\": \"number\",\n        \"std\": 4085674,\n        \"min\": 14280717,\n        \"max\": 25023398,\n        \"num_unique_values\": 5,\n        \"samples\": [\n          22193528,\n          14280717,\n          25023398\n        ],\n        \"semantic_type\": \"\",\n        \"description\": \"\"\n      }\n    }\n  ]\n}"
            }
          },
          "metadata": {},
          "execution_count": 126
        }
      ],
      "source": [
        "df.tail()"
      ]
    },
    {
      "cell_type": "code",
      "execution_count": null,
      "metadata": {
        "id": "QWmeANZnO945"
      },
      "outputs": [],
      "source": [
        "df1=df.reset_index()['Close']"
      ]
    },
    {
      "cell_type": "code",
      "execution_count": null,
      "metadata": {
        "colab": {
          "base_uri": "https://localhost:8080/"
        },
        "id": "yKqWCQ6CO945",
        "outputId": "c6cb763a-8c7f-4a22-e918-038aa4831865"
      },
      "outputs": [
        {
          "output_type": "execute_result",
          "data": {
            "text/plain": [
              "0        69.349998\n",
              "1        69.050003\n",
              "2        66.400002\n",
              "3        63.750000\n",
              "4        64.400002\n",
              "           ...    \n",
              "1253    230.899994\n",
              "1254    221.899994\n",
              "1255    228.500000\n",
              "1256    229.600006\n",
              "1257    228.050003\n",
              "Name: Close, Length: 1258, dtype: float64"
            ]
          },
          "metadata": {},
          "execution_count": 128
        }
      ],
      "source": [
        "df1"
      ]
    },
    {
      "cell_type": "code",
      "execution_count": null,
      "metadata": {
        "colab": {
          "base_uri": "https://localhost:8080/",
          "height": 447
        },
        "id": "yslLiNS8O945",
        "outputId": "60c456b1-c9f9-4e66-a53d-3f9f021601b0"
      },
      "outputs": [
        {
          "output_type": "execute_result",
          "data": {
            "text/plain": [
              "[<matplotlib.lines.Line2D at 0x791715c91f00>]"
            ]
          },
          "metadata": {},
          "execution_count": 129
        },
        {
          "output_type": "display_data",
          "data": {
            "text/plain": [
              "<Figure size 640x480 with 1 Axes>"
            ],
            "image/png": "[encoded data removed]"
          },
          "metadata": {}
        }
      ],
      "source": [
        "import matplotlib.pyplot as plt\n",
        "plt.plot(df1)"
      ]
    },
    {
      "cell_type": "code",
      "execution_count": null,
      "metadata": {
        "id": "9QxAaDB8O945"
      },
      "outputs": [],
      "source": [
        "### LSTM are sensitive to the scale of the data. so we apply MinMax scaler"
      ]
    },
    {
      "cell_type": "code",
      "execution_count": null,
      "metadata": {
        "id": "LRTts-VQO946"
      },
      "outputs": [],
      "source": [
        "import numpy as np"
      ]
    },
    {
      "cell_type": "code",
      "execution_count": null,
      "metadata": {
        "colab": {
          "base_uri": "https://localhost:8080/"
        },
        "id": "YLrXfCz9O946",
        "outputId": "b48c2f3b-5de7-4dae-90fa-58e2890718cf"
      },
      "outputs": [
        {
          "output_type": "execute_result",
          "data": {
            "text/plain": [
              "0        69.349998\n",
              "1        69.050003\n",
              "2        66.400002\n",
              "3        63.750000\n",
              "4        64.400002\n",
              "           ...    \n",
              "1253    230.899994\n",
              "1254    221.899994\n",
              "1255    228.500000\n",
              "1256    229.600006\n",
              "1257    228.050003\n",
              "Name: Close, Length: 1258, dtype: float64"
            ]
          },
          "metadata": {},
          "execution_count": 132
        }
      ],
      "source": [
        "df1"
      ]
    },
    {
      "cell_type": "code",
      "execution_count": null,
      "metadata": {
        "id": "zOOJxZc-O946"
      },
      "outputs": [],
      "source": [
        "from sklearn.preprocessing import MinMaxScaler\n",
        "scaler=MinMaxScaler(feature_range=(0,1))\n",
        "df1=scaler.fit_transform(np.array(df1).reshape(-1,1))"
      ]
    },
    {
      "cell_type": "code",
      "execution_count": null,
      "metadata": {
        "colab": {
          "base_uri": "https://localhost:8080/"
        },
        "id": "WFjsd2ftO946",
        "outputId": "27215f43-9084-4412-a780-048315b544f4"
      },
      "outputs": [
        {
          "output_type": "stream",
          "name": "stdout",
          "text": [
            "[[0.22975167]\n",
            " [0.22835926]\n",
            " [0.21605941]\n",
            " ...\n",
            " [0.96843814]\n",
            " [0.97354376]\n",
            " [0.9663495 ]]\n"
          ]
        }
      ],
      "source": [
        "print(df1)"
      ]
    },
    {
      "cell_type": "code",
      "execution_count": null,
      "metadata": {
        "id": "XJot6ufLO946"
      },
      "outputs": [],
      "source": [
        "##splitting dataset into train and test split\n",
        "training_size=int(len(df1)*0.65)\n",
        "test_size=len(df1)-training_size\n",
        "train_data,test_data=df1[0:training_size,:],df1[training_size:len(df1),:1]"
      ]
    },
    {
      "cell_type": "code",
      "execution_count": null,
      "metadata": {
        "colab": {
          "base_uri": "https://localhost:8080/"
        },
        "id": "7eLe-uneO946",
        "outputId": "43f9ba76-bd07-4b11-cef2-6bde6baf1487"
      },
      "outputs": [
        {
          "output_type": "execute_result",
          "data": {
            "text/plain": [
              "(817, 441)"
            ]
          },
          "metadata": {},
          "execution_count": 137
        }
      ],
      "source": [
        "training_size,test_size"
      ]
    },
    {
      "cell_type": "code",
      "execution_count": null,
      "metadata": {
        "colab": {
          "base_uri": "https://localhost:8080/"
        },
        "id": "qo7e60BLO946",
        "outputId": "4a1e4bb0-adec-49e8-d4cc-7cf6a5a111aa"
      },
      "outputs": [
        {
          "output_type": "execute_result",
          "data": {
            "text/plain": [
              "array([[0.22975167],\n",
              "       [0.22835926],\n",
              "       [0.21605941],\n",
              "       [0.20375957],\n",
              "       [0.20677652],\n",
              "       [0.20445579],\n",
              "       [0.20816893],\n",
              "       [0.20654443],\n",
              "       [0.20932929],\n",
              "       [0.18101647],\n",
              "       [0.19006729],\n",
              "       [0.19656533],\n",
              "       [0.1967974 ],\n",
              "       [0.19911812],\n",
              "       [0.19470874],\n",
              "       [0.19702947],\n",
              "       [0.19122766],\n",
              "       [0.19169181],\n",
              "       [0.1958691 ],\n",
              "       [0.19911812],\n",
              "       [0.20004641],\n",
              "       [0.20329543],\n",
              "       [0.20654443],\n",
              "       [0.20886515],\n",
              "       [0.20932929],\n",
              "       [0.20700857],\n",
              "       [0.21489905],\n",
              "       [0.22023672],\n",
              "       [0.22859131],\n",
              "       [0.22394986],\n",
              "       [0.21930841],\n",
              "       [0.23300071],\n",
              "       [0.23184034],\n",
              "       [0.22348572],\n",
              "       [0.22000464],\n",
              "       [0.22255745],\n",
              "       [0.2195405 ],\n",
              "       [0.22394986],\n",
              "       [0.22603853],\n",
              "       [0.22139709],\n",
              "       [0.22859131],\n",
              "       [0.23764215],\n",
              "       [0.23880252],\n",
              "       [0.23996288],\n",
              "       [0.26038522],\n",
              "       [0.25458341],\n",
              "       [0.25063819],\n",
              "       [0.24762124],\n",
              "       [0.24530051],\n",
              "       [0.24483638],\n",
              "       [0.24042702],\n",
              "       [0.24297979],\n",
              "       [0.25295891],\n",
              "       [0.26850776],\n",
              "       [0.2666512 ],\n",
              "       [0.26386631],\n",
              "       [0.26084939],\n",
              "       [0.24738919],\n",
              "       [0.24901369],\n",
              "       [0.2487816 ],\n",
              "       [0.24321188],\n",
              "       [0.23857043],\n",
              "       [0.23648179],\n",
              "       [0.23091203],\n",
              "       [0.22650267],\n",
              "       [0.21373869],\n",
              "       [0.20399164],\n",
              "       [0.19447667],\n",
              "       [0.19772569],\n",
              "       [0.20097471],\n",
              "       [0.18565791],\n",
              "       [0.20468786],\n",
              "       [0.189139  ],\n",
              "       [0.19656533],\n",
              "       [0.19610117],\n",
              "       [0.21397074],\n",
              "       [0.20143884],\n",
              "       [0.21072174],\n",
              "       [0.21675564],\n",
              "       [0.22812717],\n",
              "       [0.24530051],\n",
              "       [0.24483638],\n",
              "       [0.23717798],\n",
              "       [0.24042702],\n",
              "       [0.23369689],\n",
              "       [0.23996288],\n",
              "       [0.23694593],\n",
              "       [0.22603853],\n",
              "       [0.22580645],\n",
              "       [0.224414  ],\n",
              "       [0.23137617],\n",
              "       [0.224414  ],\n",
              "       [0.22673472],\n",
              "       [0.22650267],\n",
              "       [0.22186122],\n",
              "       [0.22627058],\n",
              "       [0.22186122],\n",
              "       [0.23648179],\n",
              "       [0.23926665],\n",
              "       [0.24994196],\n",
              "       [0.25087027],\n",
              "       [0.25690413],\n",
              "       [0.25458341],\n",
              "       [0.24738919],\n",
              "       [0.24692505],\n",
              "       [0.2422836 ],\n",
              "       [0.24646088],\n",
              "       [0.2471571 ],\n",
              "       [0.23346484],\n",
              "       [0.22023672],\n",
              "       [0.21977255],\n",
              "       [0.21768391],\n",
              "       [0.20979347],\n",
              "       [0.2086331 ],\n",
              "       [0.20608029],\n",
              "       [0.20724065],\n",
              "       [0.20538407],\n",
              "       [0.20491993],\n",
              "       [0.2035275 ],\n",
              "       [0.20538407],\n",
              "       [0.20445579],\n",
              "       [0.1951729 ],\n",
              "       [0.19169181],\n",
              "       [0.18937109],\n",
              "       [0.18287305],\n",
              "       [0.17591088],\n",
              "       [0.18124855],\n",
              "       [0.17498259],\n",
              "       [0.17010907],\n",
              "       [0.17034114],\n",
              "       [0.17382223],\n",
              "       [0.17475052],\n",
              "       [0.17869574],\n",
              "       [0.17196566],\n",
              "       [0.14249245],\n",
              "       [0.14481317],\n",
              "       [0.14620561],\n",
              "       [0.14597354],\n",
              "       [0.13970759],\n",
              "       [0.13204919],\n",
              "       [0.13065676],\n",
              "       [0.13204919],\n",
              "       [0.13993966],\n",
              "       [0.15247157],\n",
              "       [0.14620561],\n",
              "       [0.14272452],\n",
              "       [0.14249245],\n",
              "       [0.13692271],\n",
              "       [0.1404038 ],\n",
              "       [0.14527733],\n",
              "       [0.14829426],\n",
              "       [0.14643769],\n",
              "       [0.14899048],\n",
              "       [0.1471339 ],\n",
              "       [0.14759805],\n",
              "       [0.14272452],\n",
              "       [0.13413785],\n",
              "       [0.13367371],\n",
              "       [0.1278719 ],\n",
              "       [0.1404038 ],\n",
              "       [0.14829426],\n",
              "       [0.14875842],\n",
              "       [0.14063588],\n",
              "       [0.14783012],\n",
              "       [0.13993966],\n",
              "       [0.13251335],\n",
              "       [0.12531909],\n",
              "       [0.12694361],\n",
              "       [0.12090973],\n",
              "       [0.10652123],\n",
              "       [0.11046647],\n",
              "       [0.10768159],\n",
              "       [0.10768159],\n",
              "       [0.1067533 ],\n",
              "       [0.10628916],\n",
              "       [0.10211185],\n",
              "       [0.11487583],\n",
              "       [0.16012995],\n",
              "       [0.14829426],\n",
              "       [0.15780923],\n",
              "       [0.14597354],\n",
              "       [0.14434904],\n",
              "       [0.14783012],\n",
              "       [0.15757716],\n",
              "       [0.18124855],\n",
              "       [0.17034114],\n",
              "       [0.17196566],\n",
              "       [0.16964493],\n",
              "       [0.16802041],\n",
              "       [0.16569969],\n",
              "       [0.16523555],\n",
              "       [0.15966581],\n",
              "       [0.1715015 ],\n",
              "       [0.16129031],\n",
              "       [0.15780923],\n",
              "       [0.15943374],\n",
              "       [0.15827338],\n",
              "       [0.16616385],\n",
              "       [0.16686005],\n",
              "       [0.16523555],\n",
              "       [0.16825248],\n",
              "       [0.16848457],\n",
              "       [0.15618473],\n",
              "       [0.15525643],\n",
              "       [0.15966581],\n",
              "       [0.15525643],\n",
              "       [0.1455094 ],\n",
              "       [0.13993966],\n",
              "       [0.13970759],\n",
              "       [0.13413785],\n",
              "       [0.12392666],\n",
              "       [0.12137387],\n",
              "       [0.11533999],\n",
              "       [0.11301926],\n",
              "       [0.11766071],\n",
              "       [0.12439081],\n",
              "       [0.11951728],\n",
              "       [0.12090973],\n",
              "       [0.11789278],\n",
              "       [0.11417962],\n",
              "       [0.11603619],\n",
              "       [0.11255511],\n",
              "       [0.10977025],\n",
              "       [0.1051288 ],\n",
              "       [0.10814575],\n",
              "       [0.1067533 ],\n",
              "       [0.10953818],\n",
              "       [0.10977025],\n",
              "       [0.118589  ],\n",
              "       [0.11487583],\n",
              "       [0.10582502],\n",
              "       [0.10930611],\n",
              "       [0.10837781],\n",
              "       [0.11626828],\n",
              "       [0.11557206],\n",
              "       [0.12160593],\n",
              "       [0.1211418 ],\n",
              "       [0.12531909],\n",
              "       [0.12392666],\n",
              "       [0.12230216],\n",
              "       [0.11650035],\n",
              "       [0.10930611],\n",
              "       [0.10953818],\n",
              "       [0.10953818],\n",
              "       [0.11673242],\n",
              "       [0.1118589 ],\n",
              "       [0.10884195],\n",
              "       [0.11464376],\n",
              "       [0.11232304],\n",
              "       [0.10628916],\n",
              "       [0.09097238],\n",
              "       [0.09329311],\n",
              "       [0.09166859],\n",
              "       [0.09143652],\n",
              "       [0.09259688],\n",
              "       [0.08540264],\n",
              "       [0.08679507],\n",
              "       [0.07658388],\n",
              "       [0.0798329 ],\n",
              "       [0.07588768],\n",
              "       [0.06962171],\n",
              "       [0.06892551],\n",
              "       [0.07217452],\n",
              "       [0.07078207],\n",
              "       [0.06521235],\n",
              "       [0.06521235],\n",
              "       [0.0621954 ],\n",
              "       [0.05917845],\n",
              "       [0.04989557],\n",
              "       [0.04502204],\n",
              "       [0.05175214],\n",
              "       [0.05012764],\n",
              "       [0.05035971],\n",
              "       [0.04502204],\n",
              "       [0.03411465],\n",
              "       [0.03573914],\n",
              "       [0.01995822],\n",
              "       [0.02831284],\n",
              "       [0.01786958],\n",
              "       [0.01554885],\n",
              "       [0.01624507],\n",
              "       [0.01229984],\n",
              "       [0.01670921],\n",
              "       [0.00139243],\n",
              "       [0.00069622],\n",
              "       [0.        ],\n",
              "       [0.00348109],\n",
              "       [0.00232072],\n",
              "       [0.00162451],\n",
              "       [0.00440937],\n",
              "       [0.00394523],\n",
              "       [0.00371315],\n",
              "       [0.00673009],\n",
              "       [0.00649803],\n",
              "       [0.01160362],\n",
              "       [0.00997911],\n",
              "       [0.00742632],\n",
              "       [0.00858668],\n",
              "       [0.0092829 ],\n",
              "       [0.0125319 ],\n",
              "       [0.00858668],\n",
              "       [0.00696217],\n",
              "       [0.00719424],\n",
              "       [0.00371315],\n",
              "       [0.00371315],\n",
              "       [0.00510559],\n",
              "       [0.00510559],\n",
              "       [0.01206777],\n",
              "       [0.01694128],\n",
              "       [0.01415641],\n",
              "       [0.01462056],\n",
              "       [0.01485263],\n",
              "       [0.0109074 ],\n",
              "       [0.0125319 ],\n",
              "       [0.00765839],\n",
              "       [0.03132977],\n",
              "       [0.03527501],\n",
              "       [0.03457878],\n",
              "       [0.02877697],\n",
              "       [0.02576003],\n",
              "       [0.02831284],\n",
              "       [0.02645625],\n",
              "       [0.0218148 ],\n",
              "       [0.02320724],\n",
              "       [0.02483175],\n",
              "       [0.03249014],\n",
              "       [0.0378278 ],\n",
              "       [0.0378278 ],\n",
              "       [0.0378278 ],\n",
              "       [0.03643537],\n",
              "       [0.03225806],\n",
              "       [0.03666744],\n",
              "       [0.03759573],\n",
              "       [0.05012764],\n",
              "       [0.05314458],\n",
              "       [0.0471107 ],\n",
              "       [0.05360872],\n",
              "       [0.04293339],\n",
              "       [0.03945231],\n",
              "       [0.03527501],\n",
              "       [0.05523323],\n",
              "       [0.05848225],\n",
              "       [0.06405199],\n",
              "       [0.0698538 ],\n",
              "       [0.07658388],\n",
              "       [0.08354606],\n",
              "       [0.07913669],\n",
              "       [0.07379902],\n",
              "       [0.07356695],\n",
              "       [0.07519145],\n",
              "       [0.0782084 ],\n",
              "       [0.08725923],\n",
              "       [0.11000231],\n",
              "       [0.10536087],\n",
              "       [0.09932699],\n",
              "       [0.10304014],\n",
              "       [0.10002321],\n",
              "       [0.10559293],\n",
              "       [0.08841959],\n",
              "       [0.07867254],\n",
              "       [0.07913669],\n",
              "       [0.08586678],\n",
              "       [0.08424228],\n",
              "       [0.08424228],\n",
              "       [0.08424228],\n",
              "       [0.08284985],\n",
              "       [0.07913669],\n",
              "       [0.07588768],\n",
              "       [0.08168949],\n",
              "       [0.08633094],\n",
              "       [0.07867254],\n",
              "       [0.07472732],\n",
              "       [0.07588768],\n",
              "       [0.07797633],\n",
              "       [0.0782084 ],\n",
              "       [0.07356695],\n",
              "       [0.0714783 ],\n",
              "       [0.07611975],\n",
              "       [0.07379902],\n",
              "       [0.07519145],\n",
              "       [0.08865166],\n",
              "       [0.08122533],\n",
              "       [0.07960083],\n",
              "       [0.08168949],\n",
              "       [0.08424228],\n",
              "       [0.086563  ],\n",
              "       [0.09654213],\n",
              "       [0.09770249],\n",
              "       [0.09352518],\n",
              "       [0.09329311],\n",
              "       [0.08981202],\n",
              "       [0.10118357],\n",
              "       [0.08679507],\n",
              "       [0.08679507],\n",
              "       [0.08957995],\n",
              "       [0.09352518],\n",
              "       [0.0874913 ],\n",
              "       [0.08633094],\n",
              "       [0.08192156],\n",
              "       [0.07728011],\n",
              "       [0.0798329 ],\n",
              "       [0.08006497],\n",
              "       [0.07611975],\n",
              "       [0.07472732],\n",
              "       [0.07333488],\n",
              "       [0.07101416],\n",
              "       [0.06869344],\n",
              "       [0.06683685],\n",
              "       [0.05917845],\n",
              "       [0.05407287],\n",
              "       [0.04641448],\n",
              "       [0.04780691],\n",
              "       [0.0554653 ],\n",
              "       [0.04827106],\n",
              "       [0.04362961],\n",
              "       [0.04525412],\n",
              "       [0.04502204],\n",
              "       [0.04409376],\n",
              "       [0.03968438],\n",
              "       [0.04362961],\n",
              "       [0.04293339],\n",
              "       [0.04061267],\n",
              "       [0.03922023],\n",
              "       [0.03759573],\n",
              "       [0.03388257],\n",
              "       [0.03411465],\n",
              "       [0.04084474],\n",
              "       [0.04084474],\n",
              "       [0.03991646],\n",
              "       [0.04154095],\n",
              "       [0.04293339],\n",
              "       [0.0445579 ],\n",
              "       [0.04548619],\n",
              "       [0.04084474],\n",
              "       [0.03689951],\n",
              "       [0.0378278 ],\n",
              "       [0.03713158],\n",
              "       [0.03759573],\n",
              "       [0.03411465],\n",
              "       [0.03968438],\n",
              "       [0.03759573],\n",
              "       [0.03875609],\n",
              "       [0.03875609],\n",
              "       [0.03759573],\n",
              "       [0.03829195],\n",
              "       [0.03759573],\n",
              "       [0.03922023],\n",
              "       [0.03898816],\n",
              "       [0.03991646],\n",
              "       [0.04316546],\n",
              "       [0.04339754],\n",
              "       [0.05337665],\n",
              "       [0.05337665],\n",
              "       [0.05012764],\n",
              "       [0.0538408 ],\n",
              "       [0.06033882],\n",
              "       [0.06590856],\n",
              "       [0.0647482 ],\n",
              "       [0.06660478],\n",
              "       [0.06683685],\n",
              "       [0.07008587],\n",
              "       [0.07565561],\n",
              "       [0.07774425],\n",
              "       [0.07333488],\n",
              "       [0.07472732],\n",
              "       [0.07890461],\n",
              "       [0.07658388],\n",
              "       [0.07658388],\n",
              "       [0.07426316],\n",
              "       [0.07426316],\n",
              "       [0.05894639],\n",
              "       [0.05941054],\n",
              "       [0.06544442],\n",
              "       [0.0647482 ],\n",
              "       [0.0714783 ],\n",
              "       [0.07217452],\n",
              "       [0.07217452],\n",
              "       [0.07449525],\n",
              "       [0.0874913 ],\n",
              "       [0.09654213],\n",
              "       [0.0942214 ],\n",
              "       [0.09074032],\n",
              "       [0.09027616],\n",
              "       [0.09050823],\n",
              "       [0.08888373],\n",
              "       [0.09050823],\n",
              "       [0.09700626],\n",
              "       [0.09445347],\n",
              "       [0.09074032],\n",
              "       [0.08447435],\n",
              "       [0.09236481],\n",
              "       [0.0958459 ],\n",
              "       [0.08772337],\n",
              "       [0.08261778],\n",
              "       [0.07611975],\n",
              "       [0.07356695],\n",
              "       [0.07774425],\n",
              "       [0.07519145],\n",
              "       [0.08517057],\n",
              "       [0.08841959],\n",
              "       [0.09213275],\n",
              "       [0.10373637],\n",
              "       [0.11000231],\n",
              "       [0.09282895],\n",
              "       [0.08772337],\n",
              "       [0.08540264],\n",
              "       [0.08772337],\n",
              "       [0.08795544],\n",
              "       [0.08841959],\n",
              "       [0.09306104],\n",
              "       [0.09375725],\n",
              "       [0.10744952],\n",
              "       [0.09538176],\n",
              "       [0.09190068],\n",
              "       [0.09677419],\n",
              "       [0.10721745],\n",
              "       [0.12671154],\n",
              "       [0.12880018],\n",
              "       [0.13436992],\n",
              "       [0.14806219],\n",
              "       [0.14458111],\n",
              "       [0.15966581],\n",
              "       [0.15131121],\n",
              "       [0.16036204],\n",
              "       [0.16245067],\n",
              "       [0.1622186 ],\n",
              "       [0.15572059],\n",
              "       [0.16430726],\n",
              "       [0.15804131],\n",
              "       [0.1404038 ],\n",
              "       [0.14968669],\n",
              "       [0.14922255],\n",
              "       [0.15015085],\n",
              "       [0.14806219],\n",
              "       [0.13924343],\n",
              "       [0.13158505],\n",
              "       [0.13390578],\n",
              "       [0.13506614],\n",
              "       [0.13413785],\n",
              "       [0.14434904],\n",
              "       [0.13529821],\n",
              "       [0.13692271],\n",
              "       [0.13993966],\n",
              "       [0.14736597],\n",
              "       [0.14690183],\n",
              "       [0.11696449],\n",
              "       [0.12392666],\n",
              "       [0.12160593],\n",
              "       [0.12230216],\n",
              "       [0.11232304],\n",
              "       [0.11301926],\n",
              "       [0.11533999],\n",
              "       [0.118589  ],\n",
              "       [0.12207009],\n",
              "       [0.13204919],\n",
              "       [0.1311209 ],\n",
              "       [0.12694361],\n",
              "       [0.13204919],\n",
              "       [0.15618473],\n",
              "       [0.15177535],\n",
              "       [0.17126943],\n",
              "       [0.17730331],\n",
              "       [0.17614295],\n",
              "       [0.21257833],\n",
              "       [0.2487816 ],\n",
              "       [0.23926665],\n",
              "       [0.22348572],\n",
              "       [0.23857043],\n",
              "       [0.24089115],\n",
              "       [0.25017405],\n",
              "       [0.24460433],\n",
              "       [0.24297979],\n",
              "       [0.24414015],\n",
              "       [0.25365514],\n",
              "       [0.24437224],\n",
              "       [0.24808541],\n",
              "       [0.24158738],\n",
              "       [0.23764215],\n",
              "       [0.2378742 ],\n",
              "       [0.24321188],\n",
              "       [0.24367602],\n",
              "       [0.25087027],\n",
              "       [0.26525876],\n",
              "       [0.25945695],\n",
              "       [0.25504758],\n",
              "       [0.25968903],\n",
              "       [0.26154558],\n",
              "       [0.22070086],\n",
              "       [0.23114412],\n",
              "       [0.21884427],\n",
              "       [0.2118821 ],\n",
              "       [0.20608029],\n",
              "       [0.22232536],\n",
              "       [0.21768391],\n",
              "       [0.21443491],\n",
              "       [0.20793688],\n",
              "       [0.21048965],\n",
              "       [0.21559528],\n",
              "       [0.20909724],\n",
              "       [0.21211419],\n",
              "       [0.20932929],\n",
              "       [0.2135066 ],\n",
              "       [0.21397074],\n",
              "       [0.20700857],\n",
              "       [0.22255745],\n",
              "       [0.21907636],\n",
              "       [0.21629146],\n",
              "       [0.21698769],\n",
              "       [0.21605941],\n",
              "       [0.2135066 ],\n",
              "       [0.20932929],\n",
              "       [0.21536319],\n",
              "       [0.20491993],\n",
              "       [0.20120678],\n",
              "       [0.20747274],\n",
              "       [0.20468786],\n",
              "       [0.19888605],\n",
              "       [0.19331631],\n",
              "       [0.18774657],\n",
              "       [0.18728243],\n",
              "       [0.18356928],\n",
              "       [0.18565791],\n",
              "       [0.18217683],\n",
              "       [0.17707124],\n",
              "       [0.17359016],\n",
              "       [0.17498259],\n",
              "       [0.16778835],\n",
              "       [0.16129031],\n",
              "       [0.16082617],\n",
              "       [0.16709212],\n",
              "       [0.16593176],\n",
              "       [0.15943374],\n",
              "       [0.15270364],\n",
              "       [0.16059411],\n",
              "       [0.14759805],\n",
              "       [0.14666976],\n",
              "       [0.15502436],\n",
              "       [0.15432814],\n",
              "       [0.14922255],\n",
              "       [0.15943374],\n",
              "       [0.15896959],\n",
              "       [0.15177535],\n",
              "       [0.16291483],\n",
              "       [0.16175447],\n",
              "       [0.16523555],\n",
              "       [0.16523555],\n",
              "       [0.16453933],\n",
              "       [0.16639592],\n",
              "       [0.16616385],\n",
              "       [0.16384312],\n",
              "       [0.17707124],\n",
              "       [0.1766071 ],\n",
              "       [0.17799954],\n",
              "       [0.17034114],\n",
              "       [0.15873752],\n",
              "       [0.16036204],\n",
              "       [0.17266186],\n",
              "       [0.17312602],\n",
              "       [0.16894871],\n",
              "       [0.17219773],\n",
              "       [0.18797864],\n",
              "       [0.19935019],\n",
              "       [0.20793688],\n",
              "       [0.21234624],\n",
              "       [0.21211419],\n",
              "       [0.21536319],\n",
              "       [0.20120678],\n",
              "       [0.20143884],\n",
              "       [0.21165002],\n",
              "       [0.21768391],\n",
              "       [0.23555348],\n",
              "       [0.26177767],\n",
              "       [0.25295891],\n",
              "       [0.25411927],\n",
              "       [0.23091203],\n",
              "       [0.24622883],\n",
              "       [0.23996288],\n",
              "       [0.22951962],\n",
              "       [0.22673472],\n",
              "       [0.24042702],\n",
              "       [0.23694593],\n",
              "       [0.22325364],\n",
              "       [0.22464609],\n",
              "       [0.24089115],\n",
              "       [0.24367602],\n",
              "       [0.23926665],\n",
              "       [0.24042702],\n",
              "       [0.24669296],\n",
              "       [0.24251565],\n",
              "       [0.21536319],\n",
              "       [0.2086331 ],\n",
              "       [0.2102576 ],\n",
              "       [0.20561616],\n",
              "       [0.2035275 ],\n",
              "       [0.20515202],\n",
              "       [0.19702947],\n",
              "       [0.18658621],\n",
              "       [0.2035275 ],\n",
              "       [0.19772569],\n",
              "       [0.19911812],\n",
              "       [0.18380135],\n",
              "       [0.17614295],\n",
              "       [0.18124855],\n",
              "       [0.18658621],\n",
              "       [0.18890693],\n",
              "       [0.18844279],\n",
              "       [0.19053145],\n",
              "       [0.19610117],\n",
              "       [0.1984219 ],\n",
              "       [0.20561616],\n",
              "       [0.20747274],\n",
              "       [0.20468786],\n",
              "       [0.2086331 ],\n",
              "       [0.20724065],\n",
              "       [0.21002552],\n",
              "       [0.18705036],\n",
              "       [0.17242979],\n",
              "       [0.17382223],\n",
              "       [0.17892783],\n",
              "       [0.18101647],\n",
              "       [0.17312602],\n",
              "       [0.17521466],\n",
              "       [0.17799954],\n",
              "       [0.17753538],\n",
              "       [0.17289393],\n",
              "       [0.18148062],\n",
              "       [0.18960316],\n",
              "       [0.18658621],\n",
              "       [0.18542585],\n",
              "       [0.18705036],\n",
              "       [0.18403341],\n",
              "       [0.19865398],\n",
              "       [0.1951729 ],\n",
              "       [0.19726153],\n",
              "       [0.19888605],\n",
              "       [0.2035275 ],\n",
              "       [0.20422371],\n",
              "       [0.18937109],\n",
              "       [0.19494081],\n",
              "       [0.1942446 ],\n",
              "       [0.18449755],\n",
              "       [0.17359016],\n",
              "       [0.17521466],\n",
              "       [0.18356928],\n",
              "       [0.17591088],\n",
              "       [0.17707124],\n",
              "       [0.18542585],\n",
              "       [0.18797864],\n",
              "       [0.18681828],\n",
              "       [0.18055233],\n",
              "       [0.17521466],\n",
              "       [0.16662798],\n",
              "       [0.16639592],\n",
              "       [0.17266186],\n",
              "       [0.16918078],\n",
              "       [0.15456023],\n",
              "       [0.1622186 ],\n",
              "       [0.16361104],\n",
              "       [0.15966581],\n",
              "       [0.15572059],\n",
              "       [0.14226038],\n",
              "       [0.13738686],\n",
              "       [0.13831516],\n",
              "       [0.11371547],\n",
              "       [0.13135299],\n",
              "       [0.13924343],\n",
              "       [0.14179624],\n",
              "       [0.14202831],\n",
              "       [0.1362265 ],\n",
              "       [0.13413785],\n",
              "       [0.1404038 ],\n",
              "       [0.14295661],\n",
              "       [0.14481317],\n",
              "       [0.14875842],\n",
              "       [0.14481317],\n",
              "       [0.14086795],\n",
              "       [0.1455094 ],\n",
              "       [0.14643769],\n",
              "       [0.14318867],\n",
              "       [0.14458111],\n",
              "       [0.14574147],\n",
              "       [0.14620561],\n",
              "       [0.14759805],\n",
              "       [0.13924343],\n",
              "       [0.13576235],\n",
              "       [0.14086795],\n",
              "       [0.13692271],\n",
              "       [0.15780923],\n",
              "       [0.16036204],\n",
              "       [0.16802041],\n",
              "       [0.17126943],\n",
              "       [0.17034114],\n",
              "       [0.17034114],\n",
              "       [0.17057321],\n",
              "       [0.16430726],\n",
              "       [0.16175447],\n",
              "       [0.16036204],\n",
              "       [0.15641679],\n",
              "       [0.15780923],\n",
              "       [0.16175447],\n",
              "       [0.15827338],\n",
              "       [0.14783012],\n",
              "       [0.15363193],\n",
              "       [0.15200742],\n",
              "       [0.15757716],\n",
              "       [0.1522395 ],\n",
              "       [0.15107914],\n",
              "       [0.15084705],\n",
              "       [0.15780923],\n",
              "       [0.14481317],\n",
              "       [0.1371548 ],\n",
              "       [0.13228126],\n",
              "       [0.12531909],\n",
              "       [0.118589  ],\n",
              "       [0.1227663 ],\n",
              "       [0.13367371],\n",
              "       [0.13970759]])"
            ]
          },
          "metadata": {},
          "execution_count": 138
        }
      ],
      "source": [
        "train_data"
      ]
    },
    {
      "cell_type": "code",
      "execution_count": null,
      "metadata": {
        "id": "OZCImm5vO946"
      },
      "outputs": [],
      "source": [
        "import numpy\n",
        "# convert an array of values into a dataset matrix\n",
        "def create_dataset(dataset, time_step=1):\n",
        "\tdataX, dataY = [], []\n",
        "\tfor i in range(len(dataset)-time_step-1):\n",
        "\t\ta = dataset[i:(i+time_step), 0]   ###i=0, 0,1,2,3-----99   100\n",
        "\t\tdataX.append(a)\n",
        "\t\tdataY.append(dataset[i + time_step, 0])\n",
        "\treturn numpy.array(dataX), numpy.array(dataY)"
      ]
    },
    {
      "cell_type": "code",
      "execution_count": null,
      "metadata": {
        "id": "lCzHz17rO946"
      },
      "outputs": [],
      "source": [
        "# reshape into X=t,t+1,t+2,t+3 and Y=t+4\n",
        "time_step = 100\n",
        "X_train, y_train = create_dataset(train_data, time_step)\n",
        "X_test, ytest = create_dataset(test_data, time_step)"
      ]
    },
    {
      "cell_type": "code",
      "execution_count": null,
      "metadata": {
        "colab": {
          "base_uri": "https://localhost:8080/"
        },
        "id": "5VsFxZhlO947",
        "outputId": "e0622395-fa98-4eed-f912-7043e96eb80d"
      },
      "outputs": [
        {
          "output_type": "stream",
          "name": "stdout",
          "text": [
            "(716, 100)\n",
            "(716,)\n"
          ]
        },
        {
          "output_type": "execute_result",
          "data": {
            "text/plain": [
              "(None, None)"
            ]
          },
          "metadata": {},
          "execution_count": 84
        }
      ],
      "source": [
        "print(X_train.shape), print(y_train.shape)"
      ]
    },
    {
      "cell_type": "code",
      "execution_count": null,
      "metadata": {
        "colab": {
          "base_uri": "https://localhost:8080/"
        },
        "id": "qUMGd8m-O947",
        "outputId": "11e5fec2-71aa-438b-f075-58f93f670541"
      },
      "outputs": [
        {
          "output_type": "stream",
          "name": "stdout",
          "text": [
            "(340, 100)\n",
            "(340,)\n"
          ]
        },
        {
          "output_type": "execute_result",
          "data": {
            "text/plain": [
              "(None, None)"
            ]
          },
          "metadata": {},
          "execution_count": 85
        }
      ],
      "source": [
        "print(X_test.shape), print(ytest.shape)"
      ]
    },
    {
      "cell_type": "code",
      "execution_count": null,
      "metadata": {
        "id": "xMmKxrJMO947"
      },
      "outputs": [],
      "source": [
        "# reshape input to be [samples, time steps, features] which is required for LSTM\n",
        "X_train =X_train.reshape(X_train.shape[0],X_train.shape[1] , 1)\n",
        "X_test = X_test.reshape(X_test.shape[0],X_test.shape[1] , 1)"
      ]
    },
    {
      "cell_type": "code",
      "execution_count": null,
      "metadata": {
        "id": "lq6VW6H7O947"
      },
      "outputs": [],
      "source": [
        "### Create the Stacked LSTM model\n",
        "from tensorflow.keras.models import Sequential\n",
        "from tensorflow.keras.layers import Dense\n",
        "from tensorflow.keras.layers import LSTM"
      ]
    },
    {
      "cell_type": "code",
      "execution_count": null,
      "metadata": {
        "id": "1VD29hn9O947"
      },
      "outputs": [],
      "source": [
        "model=Sequential()\n",
        "model.add(LSTM(50,return_sequences=True,input_shape=(100,1)))\n",
        "model.add(LSTM(50,return_sequences=True))\n",
        "model.add(LSTM(50))\n",
        "model.add(Dense(1))\n",
        "model.compile(loss='mean_squared_error',optimizer='adam')"
      ]
    },
    {
      "cell_type": "code",
      "execution_count": null,
      "metadata": {
        "colab": {
          "base_uri": "https://localhost:8080/"
        },
        "id": "hbQgGkz9O947",
        "outputId": "af7361cb-b1ff-4380-b698-f4df1941aa0d"
      },
      "outputs": [
        {
          "output_type": "stream",
          "name": "stdout",
          "text": [
            "Model: \"sequential_1\"\n",
            "_________________________________________________________________\n",
            " Layer (type)                Output Shape              Param #   \n",
            "=================================================================\n",
            " lstm_3 (LSTM)               (None, 100, 50)           10400     \n",
            "                                                                 \n",
            " lstm_4 (LSTM)               (None, 100, 50)           20200     \n",
            "                                                                 \n",
            " lstm_5 (LSTM)               (None, 50)                20200     \n",
            "                                                                 \n",
            " dense_1 (Dense)             (None, 1)                 51        \n",
            "                                                                 \n",
            "=================================================================\n",
            "Total params: 50851 (198.64 KB)\n",
            "Trainable params: 50851 (198.64 KB)\n",
            "Non-trainable params: 0 (0.00 Byte)\n",
            "_________________________________________________________________\n"
          ]
        }
      ],
      "source": [
        "model.summary()"
      ]
    },
    {
      "cell_type": "code",
      "execution_count": null,
      "metadata": {
        "colab": {
          "base_uri": "https://localhost:8080/"
        },
        "id": "O2FgXBqaO947",
        "outputId": "3ff303ce-d1a5-4585-f72d-f9fd085216d3"
      },
      "outputs": [
        {
          "output_type": "stream",
          "name": "stdout",
          "text": [
            "Model: \"sequential_1\"\n",
            "_________________________________________________________________\n",
            " Layer (type)                Output Shape              Param #   \n",
            "=================================================================\n",
            " lstm_3 (LSTM)               (None, 100, 50)           10400     \n",
            "                                                                 \n",
            " lstm_4 (LSTM)               (None, 100, 50)           20200     \n",
            "                                                                 \n",
            " lstm_5 (LSTM)               (None, 50)                20200     \n",
            "                                                                 \n",
            " dense_1 (Dense)             (None, 1)                 51        \n",
            "                                                                 \n",
            "=================================================================\n",
            "Total params: 50851 (198.64 KB)\n",
            "Trainable params: 50851 (198.64 KB)\n",
            "Non-trainable params: 0 (0.00 Byte)\n",
            "_________________________________________________________________\n"
          ]
        }
      ],
      "source": [
        "model.summary()"
      ]
    },
    {
      "cell_type": "code",
      "execution_count": null,
      "metadata": {
        "colab": {
          "base_uri": "https://localhost:8080/"
        },
        "id": "eyqLvfwoO947",
        "outputId": "bdfc9a51-6221-440e-9ecd-688b73437299"
      },
      "outputs": [
        {
          "output_type": "stream",
          "name": "stdout",
          "text": [
            "Epoch 1/100\n",
            "12/12 [==============================] - 11s 335ms/step - loss: 0.0058 - val_loss: 0.0767\n",
            "Epoch 2/100\n",
            "12/12 [==============================] - 2s 195ms/step - loss: 0.0021 - val_loss: 0.0228\n",
            "Epoch 3/100\n",
            "12/12 [==============================] - 2s 213ms/step - loss: 9.0129e-04 - val_loss: 0.0095\n",
            "Epoch 4/100\n",
            "12/12 [==============================] - 3s 255ms/step - loss: 5.8563e-04 - val_loss: 0.0031\n",
            "Epoch 5/100\n",
            "12/12 [==============================] - 3s 254ms/step - loss: 5.5085e-04 - val_loss: 0.0055\n",
            "Epoch 6/100\n",
            "12/12 [==============================] - 2s 201ms/step - loss: 5.0666e-04 - val_loss: 0.0071\n",
            "Epoch 7/100\n",
            "12/12 [==============================] - 2s 195ms/step - loss: 4.8526e-04 - val_loss: 0.0058\n",
            "Epoch 8/100\n",
            "12/12 [==============================] - 2s 198ms/step - loss: 4.7457e-04 - val_loss: 0.0049\n",
            "Epoch 9/100\n",
            "12/12 [==============================] - 3s 220ms/step - loss: 4.1480e-04 - val_loss: 0.0044\n",
            "Epoch 10/100\n",
            "12/12 [==============================] - 3s 240ms/step - loss: 4.0259e-04 - val_loss: 0.0064\n",
            "Epoch 11/100\n",
            "12/12 [==============================] - 2s 181ms/step - loss: 3.8739e-04 - val_loss: 0.0059\n",
            "Epoch 12/100\n",
            "12/12 [==============================] - 2s 185ms/step - loss: 3.6195e-04 - val_loss: 0.0028\n",
            "Epoch 13/100\n",
            "12/12 [==============================] - 2s 183ms/step - loss: 3.3306e-04 - val_loss: 0.0065\n",
            "Epoch 14/100\n",
            "12/12 [==============================] - 3s 222ms/step - loss: 3.1539e-04 - val_loss: 0.0057\n",
            "Epoch 15/100\n",
            "12/12 [==============================] - 3s 282ms/step - loss: 3.0191e-04 - val_loss: 0.0040\n",
            "Epoch 16/100\n",
            "12/12 [==============================] - 2s 198ms/step - loss: 2.9833e-04 - val_loss: 0.0043\n",
            "Epoch 17/100\n",
            "12/12 [==============================] - 2s 207ms/step - loss: 2.8618e-04 - val_loss: 0.0065\n",
            "Epoch 18/100\n",
            "12/12 [==============================] - 2s 207ms/step - loss: 2.8199e-04 - val_loss: 0.0072\n",
            "Epoch 19/100\n",
            "12/12 [==============================] - 2s 194ms/step - loss: 2.6708e-04 - val_loss: 0.0074\n",
            "Epoch 20/100\n",
            "12/12 [==============================] - 3s 286ms/step - loss: 2.8602e-04 - val_loss: 0.0065\n",
            "Epoch 21/100\n",
            "12/12 [==============================] - 2s 184ms/step - loss: 2.6378e-04 - val_loss: 0.0080\n",
            "Epoch 22/100\n",
            "12/12 [==============================] - 2s 187ms/step - loss: 2.6508e-04 - val_loss: 0.0074\n",
            "Epoch 23/100\n",
            "12/12 [==============================] - 3s 286ms/step - loss: 2.4031e-04 - val_loss: 0.0056\n",
            "Epoch 24/100\n",
            "12/12 [==============================] - 3s 268ms/step - loss: 2.5731e-04 - val_loss: 0.0104\n",
            "Epoch 25/100\n",
            "12/12 [==============================] - 3s 247ms/step - loss: 2.6762e-04 - val_loss: 0.0054\n",
            "Epoch 26/100\n",
            "12/12 [==============================] - 3s 222ms/step - loss: 2.3106e-04 - val_loss: 0.0063\n",
            "Epoch 27/100\n",
            "12/12 [==============================] - 2s 199ms/step - loss: 2.2669e-04 - val_loss: 0.0085\n",
            "Epoch 28/100\n",
            "12/12 [==============================] - 2s 200ms/step - loss: 2.3504e-04 - val_loss: 0.0080\n",
            "Epoch 29/100\n",
            "12/12 [==============================] - 3s 258ms/step - loss: 2.1934e-04 - val_loss: 0.0059\n",
            "Epoch 30/100\n",
            "12/12 [==============================] - 3s 221ms/step - loss: 2.2224e-04 - val_loss: 0.0063\n",
            "Epoch 31/100\n",
            "12/12 [==============================] - 2s 190ms/step - loss: 2.1787e-04 - val_loss: 0.0063\n",
            "Epoch 32/100\n",
            "12/12 [==============================] - 2s 187ms/step - loss: 2.2117e-04 - val_loss: 0.0062\n",
            "Epoch 33/100\n",
            "12/12 [==============================] - 3s 236ms/step - loss: 2.1417e-04 - val_loss: 0.0045\n",
            "Epoch 34/100\n",
            "12/12 [==============================] - 3s 273ms/step - loss: 2.0598e-04 - val_loss: 0.0064\n",
            "Epoch 35/100\n",
            "12/12 [==============================] - 3s 236ms/step - loss: 2.0566e-04 - val_loss: 0.0052\n",
            "Epoch 36/100\n",
            "12/12 [==============================] - 2s 198ms/step - loss: 1.9727e-04 - val_loss: 0.0072\n",
            "Epoch 37/100\n",
            "12/12 [==============================] - 2s 194ms/step - loss: 2.0051e-04 - val_loss: 0.0034\n",
            "Epoch 38/100\n",
            "12/12 [==============================] - 2s 191ms/step - loss: 1.9246e-04 - val_loss: 0.0051\n",
            "Epoch 39/100\n",
            "12/12 [==============================] - 3s 253ms/step - loss: 1.8798e-04 - val_loss: 0.0051\n",
            "Epoch 40/100\n",
            "12/12 [==============================] - 3s 225ms/step - loss: 1.9443e-04 - val_loss: 0.0049\n",
            "Epoch 41/100\n",
            "12/12 [==============================] - 2s 186ms/step - loss: 2.0621e-04 - val_loss: 0.0057\n",
            "Epoch 42/100\n",
            "12/12 [==============================] - 2s 201ms/step - loss: 1.7855e-04 - val_loss: 0.0047\n",
            "Epoch 43/100\n",
            "12/12 [==============================] - 2s 191ms/step - loss: 1.7414e-04 - val_loss: 0.0041\n",
            "Epoch 44/100\n",
            "12/12 [==============================] - 3s 218ms/step - loss: 1.7973e-04 - val_loss: 0.0064\n",
            "Epoch 45/100\n",
            "12/12 [==============================] - 3s 259ms/step - loss: 1.8789e-04 - val_loss: 0.0037\n",
            "Epoch 46/100\n",
            "12/12 [==============================] - 2s 191ms/step - loss: 1.8285e-04 - val_loss: 0.0048\n",
            "Epoch 47/100\n",
            "12/12 [==============================] - 2s 193ms/step - loss: 1.7693e-04 - val_loss: 0.0065\n",
            "Epoch 48/100\n",
            "12/12 [==============================] - 2s 194ms/step - loss: 1.7796e-04 - val_loss: 0.0032\n",
            "Epoch 49/100\n",
            "12/12 [==============================] - 2s 200ms/step - loss: 1.6448e-04 - val_loss: 0.0057\n",
            "Epoch 50/100\n",
            "12/12 [==============================] - 3s 285ms/step - loss: 1.6309e-04 - val_loss: 0.0048\n",
            "Epoch 51/100\n",
            "12/12 [==============================] - 2s 197ms/step - loss: 1.5965e-04 - val_loss: 0.0023\n",
            "Epoch 52/100\n",
            "12/12 [==============================] - 2s 201ms/step - loss: 2.0504e-04 - val_loss: 0.0073\n",
            "Epoch 53/100\n",
            "12/12 [==============================] - 2s 188ms/step - loss: 2.0961e-04 - val_loss: 0.0025\n",
            "Epoch 54/100\n",
            "12/12 [==============================] - 2s 189ms/step - loss: 1.7360e-04 - val_loss: 0.0058\n",
            "Epoch 55/100\n",
            "12/12 [==============================] - 3s 285ms/step - loss: 1.6429e-04 - val_loss: 0.0033\n",
            "Epoch 56/100\n",
            "12/12 [==============================] - 2s 185ms/step - loss: 1.4914e-04 - val_loss: 0.0028\n",
            "Epoch 57/100\n",
            "12/12 [==============================] - 2s 186ms/step - loss: 1.4736e-04 - val_loss: 0.0029\n",
            "Epoch 58/100\n",
            "12/12 [==============================] - 2s 182ms/step - loss: 1.4302e-04 - val_loss: 0.0031\n",
            "Epoch 59/100\n",
            "12/12 [==============================] - 2s 185ms/step - loss: 1.4749e-04 - val_loss: 0.0032\n",
            "Epoch 60/100\n",
            "12/12 [==============================] - 3s 264ms/step - loss: 1.4442e-04 - val_loss: 0.0035\n",
            "Epoch 61/100\n",
            "12/12 [==============================] - 3s 235ms/step - loss: 1.3807e-04 - val_loss: 0.0026\n",
            "Epoch 62/100\n",
            "12/12 [==============================] - 2s 196ms/step - loss: 1.4775e-04 - val_loss: 0.0027\n",
            "Epoch 63/100\n",
            "12/12 [==============================] - 2s 201ms/step - loss: 1.4980e-04 - val_loss: 0.0040\n",
            "Epoch 64/100\n",
            "12/12 [==============================] - 2s 201ms/step - loss: 1.3811e-04 - val_loss: 0.0030\n",
            "Epoch 65/100\n",
            "12/12 [==============================] - 3s 255ms/step - loss: 1.3276e-04 - val_loss: 0.0028\n",
            "Epoch 66/100\n",
            "12/12 [==============================] - 3s 242ms/step - loss: 1.3306e-04 - val_loss: 0.0026\n",
            "Epoch 67/100\n",
            "12/12 [==============================] - 2s 191ms/step - loss: 1.3604e-04 - val_loss: 0.0025\n",
            "Epoch 68/100\n",
            "12/12 [==============================] - 2s 183ms/step - loss: 1.3567e-04 - val_loss: 0.0036\n",
            "Epoch 69/100\n",
            "12/12 [==============================] - 2s 191ms/step - loss: 1.3376e-04 - val_loss: 0.0040\n",
            "Epoch 70/100\n",
            "12/12 [==============================] - 3s 248ms/step - loss: 1.3882e-04 - val_loss: 0.0028\n",
            "Epoch 71/100\n",
            "12/12 [==============================] - 3s 259ms/step - loss: 1.2460e-04 - val_loss: 0.0029\n",
            "Epoch 72/100\n",
            "12/12 [==============================] - 2s 194ms/step - loss: 1.2722e-04 - val_loss: 0.0027\n",
            "Epoch 73/100\n",
            "12/12 [==============================] - 2s 187ms/step - loss: 1.2243e-04 - val_loss: 0.0033\n",
            "Epoch 74/100\n",
            "12/12 [==============================] - 2s 197ms/step - loss: 1.2865e-04 - val_loss: 0.0017\n",
            "Epoch 75/100\n",
            "12/12 [==============================] - 3s 225ms/step - loss: 1.2995e-04 - val_loss: 0.0040\n",
            "Epoch 76/100\n",
            "12/12 [==============================] - 3s 272ms/step - loss: 1.2697e-04 - val_loss: 0.0026\n",
            "Epoch 77/100\n",
            "12/12 [==============================] - 2s 197ms/step - loss: 1.1819e-04 - val_loss: 0.0022\n",
            "Epoch 78/100\n",
            "12/12 [==============================] - 2s 183ms/step - loss: 1.1506e-04 - val_loss: 0.0021\n",
            "Epoch 79/100\n",
            "12/12 [==============================] - 2s 187ms/step - loss: 1.2239e-04 - val_loss: 0.0033\n",
            "Epoch 80/100\n",
            "12/12 [==============================] - 2s 184ms/step - loss: 1.1991e-04 - val_loss: 0.0015\n",
            "Epoch 81/100\n",
            "12/12 [==============================] - 3s 285ms/step - loss: 1.3547e-04 - val_loss: 0.0018\n",
            "Epoch 82/100\n",
            "12/12 [==============================] - 2s 185ms/step - loss: 1.3125e-04 - val_loss: 0.0036\n",
            "Epoch 83/100\n",
            "12/12 [==============================] - 2s 210ms/step - loss: 1.1806e-04 - val_loss: 0.0021\n",
            "Epoch 84/100\n",
            "12/12 [==============================] - 2s 196ms/step - loss: 1.1015e-04 - val_loss: 0.0028\n",
            "Epoch 85/100\n",
            "12/12 [==============================] - 2s 191ms/step - loss: 1.0979e-04 - val_loss: 0.0021\n",
            "Epoch 86/100\n",
            "12/12 [==============================] - 3s 285ms/step - loss: 1.1984e-04 - val_loss: 0.0015\n",
            "Epoch 87/100\n",
            "12/12 [==============================] - 3s 233ms/step - loss: 1.2625e-04 - val_loss: 0.0040\n",
            "Epoch 88/100\n",
            "12/12 [==============================] - 3s 263ms/step - loss: 1.2282e-04 - val_loss: 0.0012\n",
            "Epoch 89/100\n",
            "12/12 [==============================] - 3s 219ms/step - loss: 1.1925e-04 - val_loss: 0.0032\n",
            "Epoch 90/100\n",
            "12/12 [==============================] - 3s 225ms/step - loss: 1.2146e-04 - val_loss: 0.0040\n",
            "Epoch 91/100\n",
            "12/12 [==============================] - 3s 243ms/step - loss: 1.6912e-04 - val_loss: 0.0012\n",
            "Epoch 92/100\n",
            "12/12 [==============================] - 2s 190ms/step - loss: 1.5020e-04 - val_loss: 0.0030\n",
            "Epoch 93/100\n",
            "12/12 [==============================] - 2s 200ms/step - loss: 1.1908e-04 - val_loss: 0.0034\n",
            "Epoch 94/100\n",
            "12/12 [==============================] - 2s 192ms/step - loss: 1.1263e-04 - val_loss: 0.0031\n",
            "Epoch 95/100\n",
            "12/12 [==============================] - 2s 198ms/step - loss: 1.1610e-04 - val_loss: 0.0028\n",
            "Epoch 96/100\n",
            "12/12 [==============================] - 3s 273ms/step - loss: 1.0215e-04 - val_loss: 0.0019\n",
            "Epoch 97/100\n",
            "12/12 [==============================] - 2s 196ms/step - loss: 9.8096e-05 - val_loss: 0.0021\n",
            "Epoch 98/100\n",
            "12/12 [==============================] - 2s 199ms/step - loss: 1.0329e-04 - val_loss: 0.0019\n",
            "Epoch 99/100\n",
            "12/12 [==============================] - 2s 197ms/step - loss: 9.8608e-05 - val_loss: 0.0030\n",
            "Epoch 100/100\n",
            "12/12 [==============================] - 2s 190ms/step - loss: 9.7817e-05 - val_loss: 0.0011\n"
          ]
        },
        {
          "output_type": "execute_result",
          "data": {
            "text/plain": [
              "<keras.src.callbacks.History at 0x7917158597e0>"
            ]
          },
          "metadata": {},
          "execution_count": 91
        }
      ],
      "source": [
        "model.fit(X_train,y_train,validation_data=(X_test,ytest),epochs=100,batch_size=64,verbose=1)"
      ]
    },
    {
      "cell_type": "code",
      "execution_count": null,
      "metadata": {
        "id": "EVS-_ndiO947"
      },
      "outputs": [],
      "source": [
        "import tensorflow as tf"
      ]
    },
    {
      "cell_type": "code",
      "execution_count": null,
      "metadata": {
        "colab": {
          "base_uri": "https://localhost:8080/",
          "height": 36
        },
        "id": "J_yzTdF6O948",
        "outputId": "6e863595-635e-43e6-c7ea-f85e874429f9"
      },
      "outputs": [
        {
          "output_type": "execute_result",
          "data": {
            "text/plain": [
              "'2.15.0'"
            ],
            "application/vnd.google.colaboratory.intrinsic+json": {
              "type": "string"
            }
          },
          "metadata": {},
          "execution_count": 93
        }
      ],
      "source": [
        "tf.__version__"
      ]
    },
    {
      "cell_type": "code",
      "execution_count": null,
      "metadata": {
        "colab": {
          "base_uri": "https://localhost:8080/"
        },
        "id": "-dYtW73UO948",
        "outputId": "0de8096f-3de3-49ab-9a71-1a414d150aed"
      },
      "outputs": [
        {
          "output_type": "stream",
          "name": "stdout",
          "text": [
            "23/23 [==============================] - 3s 61ms/step\n",
            "11/11 [==============================] - 0s 43ms/step\n"
          ]
        }
      ],
      "source": [
        "### Lets Do the prediction and check performance metrics\n",
        "train_predict=model.predict(X_train)\n",
        "test_predict=model.predict(X_test)"
      ]
    },
    {
      "cell_type": "code",
      "execution_count": null,
      "metadata": {
        "id": "34juAQJyO948"
      },
      "outputs": [],
      "source": [
        "##Transformback to original form\n",
        "train_predict=scaler.inverse_transform(train_predict)\n",
        "test_predict=scaler.inverse_transform(test_predict)"
      ]
    },
    {
      "cell_type": "code",
      "execution_count": null,
      "metadata": {
        "colab": {
          "base_uri": "https://localhost:8080/"
        },
        "id": "z4iWIQSaO948",
        "outputId": "17725cee-46e6-4cae-aca5-44d4ff61a62f"
      },
      "outputs": [
        {
          "output_type": "execute_result",
          "data": {
            "text/plain": [
              "50.44042296266806"
            ]
          },
          "metadata": {},
          "execution_count": 96
        }
      ],
      "source": [
        "### Calculate RMSE performance metrics\n",
        "import math\n",
        "from sklearn.metrics import mean_squared_error\n",
        "math.sqrt(mean_squared_error(y_train,train_predict))"
      ]
    },
    {
      "cell_type": "code",
      "execution_count": null,
      "metadata": {
        "colab": {
          "base_uri": "https://localhost:8080/"
        },
        "id": "8ai_7yVYO948",
        "outputId": "eb717742-d198-4da2-ee05-e099b38a7561"
      },
      "outputs": [
        {
          "output_type": "execute_result",
          "data": {
            "text/plain": [
              "115.898321579957"
            ]
          },
          "metadata": {},
          "execution_count": 97
        }
      ],
      "source": [
        "### Test Data RMSE\n",
        "math.sqrt(mean_squared_error(ytest,test_predict))"
      ]
    },
    {
      "cell_type": "code",
      "execution_count": null,
      "metadata": {
        "colab": {
          "base_uri": "https://localhost:8080/",
          "height": 430
        },
        "id": "-cbPJeKcO948",
        "outputId": "0452f81d-c62b-4845-c38f-50b456f4e691"
      },
      "outputs": [
        {
          "output_type": "display_data",
          "data": {
            "text/plain": [
              "<Figure size 640x480 with 1 Axes>"
            ],
            "image/png": "[encoded data removed]"
          },
          "metadata": {}
        }
      ],
      "source": [
        "### Plotting\n",
        "# shift train predictions for plotting\n",
        "look_back=100\n",
        "trainPredictPlot = numpy.empty_like(df1)\n",
        "trainPredictPlot[:, :] = np.nan\n",
        "trainPredictPlot[look_back:len(train_predict)+look_back, :] = train_predict\n",
        "# shift test predictions for plotting\n",
        "testPredictPlot = numpy.empty_like(df1)\n",
        "testPredictPlot[:, :] = numpy.nan\n",
        "testPredictPlot[len(train_predict)+(look_back*2)+1:len(df1)-1, :] = test_predict\n",
        "# plot baseline and predictions\n",
        "plt.plot(scaler.inverse_transform(df1))\n",
        "plt.plot(trainPredictPlot)\n",
        "plt.plot(testPredictPlot)\n",
        "plt.show()"
      ]
    },
    {
      "cell_type": "code",
      "execution_count": null,
      "metadata": {
        "colab": {
          "base_uri": "https://localhost:8080/"
        },
        "id": "VBLS_BmMO948",
        "outputId": "714e5c15-26d1-4ff2-a44d-43399d9457a3"
      },
      "outputs": [
        {
          "output_type": "execute_result",
          "data": {
            "text/plain": [
              "441"
            ]
          },
          "metadata": {},
          "execution_count": 99
        }
      ],
      "source": [
        "len(test_data)"
      ]
    },
    {
      "cell_type": "code",
      "source": [
        "test_data.shape"
      ],
      "metadata": {
        "colab": {
          "base_uri": "https://localhost:8080/"
        },
        "id": "Pa4NKiRhT__l",
        "outputId": "5278af7b-831d-4430-fcd3-8ea0f984ca3c"
      },
      "execution_count": null,
      "outputs": [
        {
          "output_type": "execute_result",
          "data": {
            "text/plain": [
              "(441, 1)"
            ]
          },
          "metadata": {},
          "execution_count": 116
        }
      ]
    },
    {
      "cell_type": "code",
      "execution_count": null,
      "metadata": {
        "colab": {
          "base_uri": "https://localhost:8080/"
        },
        "id": "MEgTqZL-O949",
        "outputId": "bf9b1772-76d3-41a3-9fc4-1e75748eaa7b"
      },
      "outputs": [
        {
          "output_type": "execute_result",
          "data": {
            "text/plain": [
              "(1, 100)"
            ]
          },
          "metadata": {},
          "execution_count": 100
        }
      ],
      "source": [
        "x_input=test_data[341:].reshape(1,-1)\n",
        "x_input.shape"
      ]
    },
    {
      "cell_type": "code",
      "execution_count": null,
      "metadata": {
        "id": "MDERqLdOO949"
      },
      "outputs": [],
      "source": [
        "temp_input=list(x_input)\n",
        "temp_input=temp_input[0].tolist()"
      ]
    },
    {
      "cell_type": "code",
      "execution_count": null,
      "metadata": {
        "colab": {
          "base_uri": "https://localhost:8080/"
        },
        "id": "hCF9ccxYO94-",
        "outputId": "8e85b412-844d-4f45-be3d-f547fc4a29a9"
      },
      "outputs": [
        {
          "output_type": "execute_result",
          "data": {
            "text/plain": [
              "100"
            ]
          },
          "metadata": {},
          "execution_count": 102
        }
      ],
      "source": [
        "len(temp_input)"
      ]
    },
    {
      "cell_type": "code",
      "execution_count": null,
      "metadata": {
        "colab": {
          "base_uri": "https://localhost:8080/"
        },
        "id": "ko27km5fO94-",
        "outputId": "6c9ac0aa-efbe-4133-fb37-de3580764109"
      },
      "outputs": [
        {
          "output_type": "stream",
          "name": "stdout",
          "text": [
            "[0.8912578]\n",
            "101\n",
            "1 day input [0.51659314 0.49988397 0.49918775 0.50614988 0.49477835 0.51682523\n",
            " 0.51520076 0.51427242 0.50359714 0.51659314 0.52262704 0.50754233\n",
            " 0.50754233 0.48897654 0.45439776 0.44766768 0.4548619  0.45393363\n",
            " 0.46809002 0.46878625 0.47203528 0.50220469 0.5047575  0.51148759\n",
            " 0.50638197 0.48944071 0.49176144 0.50684614 0.54142492 0.54560219\n",
            " 0.551404   0.56625669 0.56207935 0.55581343 0.56300762 0.57043397\n",
            " 0.61452772 0.63216524 0.67393827 0.69900206 0.69923415 0.71571131\n",
            " 0.72801111 0.73613365 0.7586447  0.72801111 0.74170337 0.73358084\n",
            " 0.74170337 0.74982591 0.75052217 0.77767459 0.76537479 0.70619632\n",
            " 0.74541654 0.73543746 0.75353908 0.75237872 0.80181018 0.80621954\n",
            " 0.82757016 0.84543976 0.81016473 0.81318172 0.8166628  0.81364582\n",
            " 0.81573453 0.83453233 0.82571361 0.81967971 0.84195868 0.85008121\n",
            " 0.86911118 0.89255043 0.93942909 0.84984913 0.88210718 0.92852166\n",
            " 0.93501973 0.96588533 0.96727778 0.96379669 0.99303783 1.\n",
            " 0.98375493 0.98259457 0.97911348 0.96402878 0.91366904 0.89812023\n",
            " 0.94964026 0.96402878 0.95613833 0.95544207 0.97957759 0.93780455\n",
            " 0.96843814 0.97354376 0.9663495  0.89125782]\n",
            "1 day output [[0.8478066]]\n",
            "2 day input [0.49988397 0.49918775 0.50614988 0.49477835 0.51682523 0.51520076\n",
            " 0.51427242 0.50359714 0.51659314 0.52262704 0.50754233 0.50754233\n",
            " 0.48897654 0.45439776 0.44766768 0.4548619  0.45393363 0.46809002\n",
            " 0.46878625 0.47203528 0.50220469 0.5047575  0.51148759 0.50638197\n",
            " 0.48944071 0.49176144 0.50684614 0.54142492 0.54560219 0.551404\n",
            " 0.56625669 0.56207935 0.55581343 0.56300762 0.57043397 0.61452772\n",
            " 0.63216524 0.67393827 0.69900206 0.69923415 0.71571131 0.72801111\n",
            " 0.73613365 0.7586447  0.72801111 0.74170337 0.73358084 0.74170337\n",
            " 0.74982591 0.75052217 0.77767459 0.76537479 0.70619632 0.74541654\n",
            " 0.73543746 0.75353908 0.75237872 0.80181018 0.80621954 0.82757016\n",
            " 0.84543976 0.81016473 0.81318172 0.8166628  0.81364582 0.81573453\n",
            " 0.83453233 0.82571361 0.81967971 0.84195868 0.85008121 0.86911118\n",
            " 0.89255043 0.93942909 0.84984913 0.88210718 0.92852166 0.93501973\n",
            " 0.96588533 0.96727778 0.96379669 0.99303783 1.         0.98375493\n",
            " 0.98259457 0.97911348 0.96402878 0.91366904 0.89812023 0.94964026\n",
            " 0.96402878 0.95613833 0.95544207 0.97957759 0.93780455 0.96843814\n",
            " 0.97354376 0.9663495  0.89125782 0.84780657]\n",
            "2 day output [[0.797204]]\n",
            "3 day input [0.49918775 0.50614988 0.49477835 0.51682523 0.51520076 0.51427242\n",
            " 0.50359714 0.51659314 0.52262704 0.50754233 0.50754233 0.48897654\n",
            " 0.45439776 0.44766768 0.4548619  0.45393363 0.46809002 0.46878625\n",
            " 0.47203528 0.50220469 0.5047575  0.51148759 0.50638197 0.48944071\n",
            " 0.49176144 0.50684614 0.54142492 0.54560219 0.551404   0.56625669\n",
            " 0.56207935 0.55581343 0.56300762 0.57043397 0.61452772 0.63216524\n",
            " 0.67393827 0.69900206 0.69923415 0.71571131 0.72801111 0.73613365\n",
            " 0.7586447  0.72801111 0.74170337 0.73358084 0.74170337 0.74982591\n",
            " 0.75052217 0.77767459 0.76537479 0.70619632 0.74541654 0.73543746\n",
            " 0.75353908 0.75237872 0.80181018 0.80621954 0.82757016 0.84543976\n",
            " 0.81016473 0.81318172 0.8166628  0.81364582 0.81573453 0.83453233\n",
            " 0.82571361 0.81967971 0.84195868 0.85008121 0.86911118 0.89255043\n",
            " 0.93942909 0.84984913 0.88210718 0.92852166 0.93501973 0.96588533\n",
            " 0.96727778 0.96379669 0.99303783 1.         0.98375493 0.98259457\n",
            " 0.97911348 0.96402878 0.91366904 0.89812023 0.94964026 0.96402878\n",
            " 0.95613833 0.95544207 0.97957759 0.93780455 0.96843814 0.97354376\n",
            " 0.9663495  0.89125782 0.84780657 0.79720402]\n",
            "3 day output [[0.75689226]]\n",
            "4 day input [0.50614988 0.49477835 0.51682523 0.51520076 0.51427242 0.50359714\n",
            " 0.51659314 0.52262704 0.50754233 0.50754233 0.48897654 0.45439776\n",
            " 0.44766768 0.4548619  0.45393363 0.46809002 0.46878625 0.47203528\n",
            " 0.50220469 0.5047575  0.51148759 0.50638197 0.48944071 0.49176144\n",
            " 0.50684614 0.54142492 0.54560219 0.551404   0.56625669 0.56207935\n",
            " 0.55581343 0.56300762 0.57043397 0.61452772 0.63216524 0.67393827\n",
            " 0.69900206 0.69923415 0.71571131 0.72801111 0.73613365 0.7586447\n",
            " 0.72801111 0.74170337 0.73358084 0.74170337 0.74982591 0.75052217\n",
            " 0.77767459 0.76537479 0.70619632 0.74541654 0.73543746 0.75353908\n",
            " 0.75237872 0.80181018 0.80621954 0.82757016 0.84543976 0.81016473\n",
            " 0.81318172 0.8166628  0.81364582 0.81573453 0.83453233 0.82571361\n",
            " 0.81967971 0.84195868 0.85008121 0.86911118 0.89255043 0.93942909\n",
            " 0.84984913 0.88210718 0.92852166 0.93501973 0.96588533 0.96727778\n",
            " 0.96379669 0.99303783 1.         0.98375493 0.98259457 0.97911348\n",
            " 0.96402878 0.91366904 0.89812023 0.94964026 0.96402878 0.95613833\n",
            " 0.95544207 0.97957759 0.93780455 0.96843814 0.97354376 0.9663495\n",
            " 0.89125782 0.84780657 0.79720402 0.75689226]\n",
            "4 day output [[0.7283123]]\n",
            "5 day input [0.49477835 0.51682523 0.51520076 0.51427242 0.50359714 0.51659314\n",
            " 0.52262704 0.50754233 0.50754233 0.48897654 0.45439776 0.44766768\n",
            " 0.4548619  0.45393363 0.46809002 0.46878625 0.47203528 0.50220469\n",
            " 0.5047575  0.51148759 0.50638197 0.48944071 0.49176144 0.50684614\n",
            " 0.54142492 0.54560219 0.551404   0.56625669 0.56207935 0.55581343\n",
            " 0.56300762 0.57043397 0.61452772 0.63216524 0.67393827 0.69900206\n",
            " 0.69923415 0.71571131 0.72801111 0.73613365 0.7586447  0.72801111\n",
            " 0.74170337 0.73358084 0.74170337 0.74982591 0.75052217 0.77767459\n",
            " 0.76537479 0.70619632 0.74541654 0.73543746 0.75353908 0.75237872\n",
            " 0.80181018 0.80621954 0.82757016 0.84543976 0.81016473 0.81318172\n",
            " 0.8166628  0.81364582 0.81573453 0.83453233 0.82571361 0.81967971\n",
            " 0.84195868 0.85008121 0.86911118 0.89255043 0.93942909 0.84984913\n",
            " 0.88210718 0.92852166 0.93501973 0.96588533 0.96727778 0.96379669\n",
            " 0.99303783 1.         0.98375493 0.98259457 0.97911348 0.96402878\n",
            " 0.91366904 0.89812023 0.94964026 0.96402878 0.95613833 0.95544207\n",
            " 0.97957759 0.93780455 0.96843814 0.97354376 0.9663495  0.89125782\n",
            " 0.84780657 0.79720402 0.75689226 0.72831231]\n",
            "5 day output [[0.70860136]]\n",
            "6 day input [0.51682523 0.51520076 0.51427242 0.50359714 0.51659314 0.52262704\n",
            " 0.50754233 0.50754233 0.48897654 0.45439776 0.44766768 0.4548619\n",
            " 0.45393363 0.46809002 0.46878625 0.47203528 0.50220469 0.5047575\n",
            " 0.51148759 0.50638197 0.48944071 0.49176144 0.50684614 0.54142492\n",
            " 0.54560219 0.551404   0.56625669 0.56207935 0.55581343 0.56300762\n",
            " 0.57043397 0.61452772 0.63216524 0.67393827 0.69900206 0.69923415\n",
            " 0.71571131 0.72801111 0.73613365 0.7586447  0.72801111 0.74170337\n",
            " 0.73358084 0.74170337 0.74982591 0.75052217 0.77767459 0.76537479\n",
            " 0.70619632 0.74541654 0.73543746 0.75353908 0.75237872 0.80181018\n",
            " 0.80621954 0.82757016 0.84543976 0.81016473 0.81318172 0.8166628\n",
            " 0.81364582 0.81573453 0.83453233 0.82571361 0.81967971 0.84195868\n",
            " 0.85008121 0.86911118 0.89255043 0.93942909 0.84984913 0.88210718\n",
            " 0.92852166 0.93501973 0.96588533 0.96727778 0.96379669 0.99303783\n",
            " 1.         0.98375493 0.98259457 0.97911348 0.96402878 0.91366904\n",
            " 0.89812023 0.94964026 0.96402878 0.95613833 0.95544207 0.97957759\n",
            " 0.93780455 0.96843814 0.97354376 0.9663495  0.89125782 0.84780657\n",
            " 0.79720402 0.75689226 0.72831231 0.70860136]\n",
            "6 day output [[0.6945323]]\n",
            "7 day input [0.51520076 0.51427242 0.50359714 0.51659314 0.52262704 0.50754233\n",
            " 0.50754233 0.48897654 0.45439776 0.44766768 0.4548619  0.45393363\n",
            " 0.46809002 0.46878625 0.47203528 0.50220469 0.5047575  0.51148759\n",
            " 0.50638197 0.48944071 0.49176144 0.50684614 0.54142492 0.54560219\n",
            " 0.551404   0.56625669 0.56207935 0.55581343 0.56300762 0.57043397\n",
            " 0.61452772 0.63216524 0.67393827 0.69900206 0.69923415 0.71571131\n",
            " 0.72801111 0.73613365 0.7586447  0.72801111 0.74170337 0.73358084\n",
            " 0.74170337 0.74982591 0.75052217 0.77767459 0.76537479 0.70619632\n",
            " 0.74541654 0.73543746 0.75353908 0.75237872 0.80181018 0.80621954\n",
            " 0.82757016 0.84543976 0.81016473 0.81318172 0.8166628  0.81364582\n",
            " 0.81573453 0.83453233 0.82571361 0.81967971 0.84195868 0.85008121\n",
            " 0.86911118 0.89255043 0.93942909 0.84984913 0.88210718 0.92852166\n",
            " 0.93501973 0.96588533 0.96727778 0.96379669 0.99303783 1.\n",
            " 0.98375493 0.98259457 0.97911348 0.96402878 0.91366904 0.89812023\n",
            " 0.94964026 0.96402878 0.95613833 0.95544207 0.97957759 0.93780455\n",
            " 0.96843814 0.97354376 0.9663495  0.89125782 0.84780657 0.79720402\n",
            " 0.75689226 0.72831231 0.70860136 0.69453228]\n",
            "7 day output [[0.6833005]]\n",
            "8 day input [0.51427242 0.50359714 0.51659314 0.52262704 0.50754233 0.50754233\n",
            " 0.48897654 0.45439776 0.44766768 0.4548619  0.45393363 0.46809002\n",
            " 0.46878625 0.47203528 0.50220469 0.5047575  0.51148759 0.50638197\n",
            " 0.48944071 0.49176144 0.50684614 0.54142492 0.54560219 0.551404\n",
            " 0.56625669 0.56207935 0.55581343 0.56300762 0.57043397 0.61452772\n",
            " 0.63216524 0.67393827 0.69900206 0.69923415 0.71571131 0.72801111\n",
            " 0.73613365 0.7586447  0.72801111 0.74170337 0.73358084 0.74170337\n",
            " 0.74982591 0.75052217 0.77767459 0.76537479 0.70619632 0.74541654\n",
            " 0.73543746 0.75353908 0.75237872 0.80181018 0.80621954 0.82757016\n",
            " 0.84543976 0.81016473 0.81318172 0.8166628  0.81364582 0.81573453\n",
            " 0.83453233 0.82571361 0.81967971 0.84195868 0.85008121 0.86911118\n",
            " 0.89255043 0.93942909 0.84984913 0.88210718 0.92852166 0.93501973\n",
            " 0.96588533 0.96727778 0.96379669 0.99303783 1.         0.98375493\n",
            " 0.98259457 0.97911348 0.96402878 0.91366904 0.89812023 0.94964026\n",
            " 0.96402878 0.95613833 0.95544207 0.97957759 0.93780455 0.96843814\n",
            " 0.97354376 0.9663495  0.89125782 0.84780657 0.79720402 0.75689226\n",
            " 0.72831231 0.70860136 0.69453228 0.6833005 ]\n",
            "8 day output [[0.6727531]]\n",
            "9 day input [0.50359714 0.51659314 0.52262704 0.50754233 0.50754233 0.48897654\n",
            " 0.45439776 0.44766768 0.4548619  0.45393363 0.46809002 0.46878625\n",
            " 0.47203528 0.50220469 0.5047575  0.51148759 0.50638197 0.48944071\n",
            " 0.49176144 0.50684614 0.54142492 0.54560219 0.551404   0.56625669\n",
            " 0.56207935 0.55581343 0.56300762 0.57043397 0.61452772 0.63216524\n",
            " 0.67393827 0.69900206 0.69923415 0.71571131 0.72801111 0.73613365\n",
            " 0.7586447  0.72801111 0.74170337 0.73358084 0.74170337 0.74982591\n",
            " 0.75052217 0.77767459 0.76537479 0.70619632 0.74541654 0.73543746\n",
            " 0.75353908 0.75237872 0.80181018 0.80621954 0.82757016 0.84543976\n",
            " 0.81016473 0.81318172 0.8166628  0.81364582 0.81573453 0.83453233\n",
            " 0.82571361 0.81967971 0.84195868 0.85008121 0.86911118 0.89255043\n",
            " 0.93942909 0.84984913 0.88210718 0.92852166 0.93501973 0.96588533\n",
            " 0.96727778 0.96379669 0.99303783 1.         0.98375493 0.98259457\n",
            " 0.97911348 0.96402878 0.91366904 0.89812023 0.94964026 0.96402878\n",
            " 0.95613833 0.95544207 0.97957759 0.93780455 0.96843814 0.97354376\n",
            " 0.9663495  0.89125782 0.84780657 0.79720402 0.75689226 0.72831231\n",
            " 0.70860136 0.69453228 0.6833005  0.6727531 ]\n",
            "9 day output [[0.66150326]]\n",
            "10 day input [0.51659314 0.52262704 0.50754233 0.50754233 0.48897654 0.45439776\n",
            " 0.44766768 0.4548619  0.45393363 0.46809002 0.46878625 0.47203528\n",
            " 0.50220469 0.5047575  0.51148759 0.50638197 0.48944071 0.49176144\n",
            " 0.50684614 0.54142492 0.54560219 0.551404   0.56625669 0.56207935\n",
            " 0.55581343 0.56300762 0.57043397 0.61452772 0.63216524 0.67393827\n",
            " 0.69900206 0.69923415 0.71571131 0.72801111 0.73613365 0.7586447\n",
            " 0.72801111 0.74170337 0.73358084 0.74170337 0.74982591 0.75052217\n",
            " 0.77767459 0.76537479 0.70619632 0.74541654 0.73543746 0.75353908\n",
            " 0.75237872 0.80181018 0.80621954 0.82757016 0.84543976 0.81016473\n",
            " 0.81318172 0.8166628  0.81364582 0.81573453 0.83453233 0.82571361\n",
            " 0.81967971 0.84195868 0.85008121 0.86911118 0.89255043 0.93942909\n",
            " 0.84984913 0.88210718 0.92852166 0.93501973 0.96588533 0.96727778\n",
            " 0.96379669 0.99303783 1.         0.98375493 0.98259457 0.97911348\n",
            " 0.96402878 0.91366904 0.89812023 0.94964026 0.96402878 0.95613833\n",
            " 0.95544207 0.97957759 0.93780455 0.96843814 0.97354376 0.9663495\n",
            " 0.89125782 0.84780657 0.79720402 0.75689226 0.72831231 0.70860136\n",
            " 0.69453228 0.6833005  0.6727531  0.66150326]\n",
            "10 day output [[0.6489187]]\n",
            "11 day input [0.52262704 0.50754233 0.50754233 0.48897654 0.45439776 0.44766768\n",
            " 0.4548619  0.45393363 0.46809002 0.46878625 0.47203528 0.50220469\n",
            " 0.5047575  0.51148759 0.50638197 0.48944071 0.49176144 0.50684614\n",
            " 0.54142492 0.54560219 0.551404   0.56625669 0.56207935 0.55581343\n",
            " 0.56300762 0.57043397 0.61452772 0.63216524 0.67393827 0.69900206\n",
            " 0.69923415 0.71571131 0.72801111 0.73613365 0.7586447  0.72801111\n",
            " 0.74170337 0.73358084 0.74170337 0.74982591 0.75052217 0.77767459\n",
            " 0.76537479 0.70619632 0.74541654 0.73543746 0.75353908 0.75237872\n",
            " 0.80181018 0.80621954 0.82757016 0.84543976 0.81016473 0.81318172\n",
            " 0.8166628  0.81364582 0.81573453 0.83453233 0.82571361 0.81967971\n",
            " 0.84195868 0.85008121 0.86911118 0.89255043 0.93942909 0.84984913\n",
            " 0.88210718 0.92852166 0.93501973 0.96588533 0.96727778 0.96379669\n",
            " 0.99303783 1.         0.98375493 0.98259457 0.97911348 0.96402878\n",
            " 0.91366904 0.89812023 0.94964026 0.96402878 0.95613833 0.95544207\n",
            " 0.97957759 0.93780455 0.96843814 0.97354376 0.9663495  0.89125782\n",
            " 0.84780657 0.79720402 0.75689226 0.72831231 0.70860136 0.69453228\n",
            " 0.6833005  0.6727531  0.66150326 0.64891869]\n",
            "11 day output [[0.6349966]]\n",
            "12 day input [0.50754233 0.50754233 0.48897654 0.45439776 0.44766768 0.4548619\n",
            " 0.45393363 0.46809002 0.46878625 0.47203528 0.50220469 0.5047575\n",
            " 0.51148759 0.50638197 0.48944071 0.49176144 0.50684614 0.54142492\n",
            " 0.54560219 0.551404   0.56625669 0.56207935 0.55581343 0.56300762\n",
            " 0.57043397 0.61452772 0.63216524 0.67393827 0.69900206 0.69923415\n",
            " 0.71571131 0.72801111 0.73613365 0.7586447  0.72801111 0.74170337\n",
            " 0.73358084 0.74170337 0.74982591 0.75052217 0.77767459 0.76537479\n",
            " 0.70619632 0.74541654 0.73543746 0.75353908 0.75237872 0.80181018\n",
            " 0.80621954 0.82757016 0.84543976 0.81016473 0.81318172 0.8166628\n",
            " 0.81364582 0.81573453 0.83453233 0.82571361 0.81967971 0.84195868\n",
            " 0.85008121 0.86911118 0.89255043 0.93942909 0.84984913 0.88210718\n",
            " 0.92852166 0.93501973 0.96588533 0.96727778 0.96379669 0.99303783\n",
            " 1.         0.98375493 0.98259457 0.97911348 0.96402878 0.91366904\n",
            " 0.89812023 0.94964026 0.96402878 0.95613833 0.95544207 0.97957759\n",
            " 0.93780455 0.96843814 0.97354376 0.9663495  0.89125782 0.84780657\n",
            " 0.79720402 0.75689226 0.72831231 0.70860136 0.69453228 0.6833005\n",
            " 0.6727531  0.66150326 0.64891869 0.63499659]\n",
            "12 day output [[0.62016165]]\n",
            "13 day input [0.50754233 0.48897654 0.45439776 0.44766768 0.4548619  0.45393363\n",
            " 0.46809002 0.46878625 0.47203528 0.50220469 0.5047575  0.51148759\n",
            " 0.50638197 0.48944071 0.49176144 0.50684614 0.54142492 0.54560219\n",
            " 0.551404   0.56625669 0.56207935 0.55581343 0.56300762 0.57043397\n",
            " 0.61452772 0.63216524 0.67393827 0.69900206 0.69923415 0.71571131\n",
            " 0.72801111 0.73613365 0.7586447  0.72801111 0.74170337 0.73358084\n",
            " 0.74170337 0.74982591 0.75052217 0.77767459 0.76537479 0.70619632\n",
            " 0.74541654 0.73543746 0.75353908 0.75237872 0.80181018 0.80621954\n",
            " 0.82757016 0.84543976 0.81016473 0.81318172 0.8166628  0.81364582\n",
            " 0.81573453 0.83453233 0.82571361 0.81967971 0.84195868 0.85008121\n",
            " 0.86911118 0.89255043 0.93942909 0.84984913 0.88210718 0.92852166\n",
            " 0.93501973 0.96588533 0.96727778 0.96379669 0.99303783 1.\n",
            " 0.98375493 0.98259457 0.97911348 0.96402878 0.91366904 0.89812023\n",
            " 0.94964026 0.96402878 0.95613833 0.95544207 0.97957759 0.93780455\n",
            " 0.96843814 0.97354376 0.9663495  0.89125782 0.84780657 0.79720402\n",
            " 0.75689226 0.72831231 0.70860136 0.69453228 0.6833005  0.6727531\n",
            " 0.66150326 0.64891869 0.63499659 0.62016165]\n",
            "13 day output [[0.6050371]]\n",
            "14 day input [0.48897654 0.45439776 0.44766768 0.4548619  0.45393363 0.46809002\n",
            " 0.46878625 0.47203528 0.50220469 0.5047575  0.51148759 0.50638197\n",
            " 0.48944071 0.49176144 0.50684614 0.54142492 0.54560219 0.551404\n",
            " 0.56625669 0.56207935 0.55581343 0.56300762 0.57043397 0.61452772\n",
            " 0.63216524 0.67393827 0.69900206 0.69923415 0.71571131 0.72801111\n",
            " 0.73613365 0.7586447  0.72801111 0.74170337 0.73358084 0.74170337\n",
            " 0.74982591 0.75052217 0.77767459 0.76537479 0.70619632 0.74541654\n",
            " 0.73543746 0.75353908 0.75237872 0.80181018 0.80621954 0.82757016\n",
            " 0.84543976 0.81016473 0.81318172 0.8166628  0.81364582 0.81573453\n",
            " 0.83453233 0.82571361 0.81967971 0.84195868 0.85008121 0.86911118\n",
            " 0.89255043 0.93942909 0.84984913 0.88210718 0.92852166 0.93501973\n",
            " 0.96588533 0.96727778 0.96379669 0.99303783 1.         0.98375493\n",
            " 0.98259457 0.97911348 0.96402878 0.91366904 0.89812023 0.94964026\n",
            " 0.96402878 0.95613833 0.95544207 0.97957759 0.93780455 0.96843814\n",
            " 0.97354376 0.9663495  0.89125782 0.84780657 0.79720402 0.75689226\n",
            " 0.72831231 0.70860136 0.69453228 0.6833005  0.6727531  0.66150326\n",
            " 0.64891869 0.63499659 0.62016165 0.60503709]\n",
            "14 day output [[0.59024704]]\n",
            "15 day input [0.45439776 0.44766768 0.4548619  0.45393363 0.46809002 0.46878625\n",
            " 0.47203528 0.50220469 0.5047575  0.51148759 0.50638197 0.48944071\n",
            " 0.49176144 0.50684614 0.54142492 0.54560219 0.551404   0.56625669\n",
            " 0.56207935 0.55581343 0.56300762 0.57043397 0.61452772 0.63216524\n",
            " 0.67393827 0.69900206 0.69923415 0.71571131 0.72801111 0.73613365\n",
            " 0.7586447  0.72801111 0.74170337 0.73358084 0.74170337 0.74982591\n",
            " 0.75052217 0.77767459 0.76537479 0.70619632 0.74541654 0.73543746\n",
            " 0.75353908 0.75237872 0.80181018 0.80621954 0.82757016 0.84543976\n",
            " 0.81016473 0.81318172 0.8166628  0.81364582 0.81573453 0.83453233\n",
            " 0.82571361 0.81967971 0.84195868 0.85008121 0.86911118 0.89255043\n",
            " 0.93942909 0.84984913 0.88210718 0.92852166 0.93501973 0.96588533\n",
            " 0.96727778 0.96379669 0.99303783 1.         0.98375493 0.98259457\n",
            " 0.97911348 0.96402878 0.91366904 0.89812023 0.94964026 0.96402878\n",
            " 0.95613833 0.95544207 0.97957759 0.93780455 0.96843814 0.97354376\n",
            " 0.9663495  0.89125782 0.84780657 0.79720402 0.75689226 0.72831231\n",
            " 0.70860136 0.69453228 0.6833005  0.6727531  0.66150326 0.64891869\n",
            " 0.63499659 0.62016165 0.60503709 0.59024704]\n",
            "15 day output [[0.57628256]]\n",
            "16 day input [0.44766768 0.4548619  0.45393363 0.46809002 0.46878625 0.47203528\n",
            " 0.50220469 0.5047575  0.51148759 0.50638197 0.48944071 0.49176144\n",
            " 0.50684614 0.54142492 0.54560219 0.551404   0.56625669 0.56207935\n",
            " 0.55581343 0.56300762 0.57043397 0.61452772 0.63216524 0.67393827\n",
            " 0.69900206 0.69923415 0.71571131 0.72801111 0.73613365 0.7586447\n",
            " 0.72801111 0.74170337 0.73358084 0.74170337 0.74982591 0.75052217\n",
            " 0.77767459 0.76537479 0.70619632 0.74541654 0.73543746 0.75353908\n",
            " 0.75237872 0.80181018 0.80621954 0.82757016 0.84543976 0.81016473\n",
            " 0.81318172 0.8166628  0.81364582 0.81573453 0.83453233 0.82571361\n",
            " 0.81967971 0.84195868 0.85008121 0.86911118 0.89255043 0.93942909\n",
            " 0.84984913 0.88210718 0.92852166 0.93501973 0.96588533 0.96727778\n",
            " 0.96379669 0.99303783 1.         0.98375493 0.98259457 0.97911348\n",
            " 0.96402878 0.91366904 0.89812023 0.94964026 0.96402878 0.95613833\n",
            " 0.95544207 0.97957759 0.93780455 0.96843814 0.97354376 0.9663495\n",
            " 0.89125782 0.84780657 0.79720402 0.75689226 0.72831231 0.70860136\n",
            " 0.69453228 0.6833005  0.6727531  0.66150326 0.64891869 0.63499659\n",
            " 0.62016165 0.60503709 0.59024704 0.57628256]\n",
            "16 day output [[0.56344116]]\n",
            "17 day input [0.4548619  0.45393363 0.46809002 0.46878625 0.47203528 0.50220469\n",
            " 0.5047575  0.51148759 0.50638197 0.48944071 0.49176144 0.50684614\n",
            " 0.54142492 0.54560219 0.551404   0.56625669 0.56207935 0.55581343\n",
            " 0.56300762 0.57043397 0.61452772 0.63216524 0.67393827 0.69900206\n",
            " 0.69923415 0.71571131 0.72801111 0.73613365 0.7586447  0.72801111\n",
            " 0.74170337 0.73358084 0.74170337 0.74982591 0.75052217 0.77767459\n",
            " 0.76537479 0.70619632 0.74541654 0.73543746 0.75353908 0.75237872\n",
            " 0.80181018 0.80621954 0.82757016 0.84543976 0.81016473 0.81318172\n",
            " 0.8166628  0.81364582 0.81573453 0.83453233 0.82571361 0.81967971\n",
            " 0.84195868 0.85008121 0.86911118 0.89255043 0.93942909 0.84984913\n",
            " 0.88210718 0.92852166 0.93501973 0.96588533 0.96727778 0.96379669\n",
            " 0.99303783 1.         0.98375493 0.98259457 0.97911348 0.96402878\n",
            " 0.91366904 0.89812023 0.94964026 0.96402878 0.95613833 0.95544207\n",
            " 0.97957759 0.93780455 0.96843814 0.97354376 0.9663495  0.89125782\n",
            " 0.84780657 0.79720402 0.75689226 0.72831231 0.70860136 0.69453228\n",
            " 0.6833005  0.6727531  0.66150326 0.64891869 0.63499659 0.62016165\n",
            " 0.60503709 0.59024704 0.57628256 0.56344116]\n",
            "17 day output [[0.55182904]]\n",
            "18 day input [0.45393363 0.46809002 0.46878625 0.47203528 0.50220469 0.5047575\n",
            " 0.51148759 0.50638197 0.48944071 0.49176144 0.50684614 0.54142492\n",
            " 0.54560219 0.551404   0.56625669 0.56207935 0.55581343 0.56300762\n",
            " 0.57043397 0.61452772 0.63216524 0.67393827 0.69900206 0.69923415\n",
            " 0.71571131 0.72801111 0.73613365 0.7586447  0.72801111 0.74170337\n",
            " 0.73358084 0.74170337 0.74982591 0.75052217 0.77767459 0.76537479\n",
            " 0.70619632 0.74541654 0.73543746 0.75353908 0.75237872 0.80181018\n",
            " 0.80621954 0.82757016 0.84543976 0.81016473 0.81318172 0.8166628\n",
            " 0.81364582 0.81573453 0.83453233 0.82571361 0.81967971 0.84195868\n",
            " 0.85008121 0.86911118 0.89255043 0.93942909 0.84984913 0.88210718\n",
            " 0.92852166 0.93501973 0.96588533 0.96727778 0.96379669 0.99303783\n",
            " 1.         0.98375493 0.98259457 0.97911348 0.96402878 0.91366904\n",
            " 0.89812023 0.94964026 0.96402878 0.95613833 0.95544207 0.97957759\n",
            " 0.93780455 0.96843814 0.97354376 0.9663495  0.89125782 0.84780657\n",
            " 0.79720402 0.75689226 0.72831231 0.70860136 0.69453228 0.6833005\n",
            " 0.6727531  0.66150326 0.64891869 0.63499659 0.62016165 0.60503709\n",
            " 0.59024704 0.57628256 0.56344116 0.55182904]\n",
            "18 day output [[0.54140055]]\n",
            "19 day input [0.46809002 0.46878625 0.47203528 0.50220469 0.5047575  0.51148759\n",
            " 0.50638197 0.48944071 0.49176144 0.50684614 0.54142492 0.54560219\n",
            " 0.551404   0.56625669 0.56207935 0.55581343 0.56300762 0.57043397\n",
            " 0.61452772 0.63216524 0.67393827 0.69900206 0.69923415 0.71571131\n",
            " 0.72801111 0.73613365 0.7586447  0.72801111 0.74170337 0.73358084\n",
            " 0.74170337 0.74982591 0.75052217 0.77767459 0.76537479 0.70619632\n",
            " 0.74541654 0.73543746 0.75353908 0.75237872 0.80181018 0.80621954\n",
            " 0.82757016 0.84543976 0.81016473 0.81318172 0.8166628  0.81364582\n",
            " 0.81573453 0.83453233 0.82571361 0.81967971 0.84195868 0.85008121\n",
            " 0.86911118 0.89255043 0.93942909 0.84984913 0.88210718 0.92852166\n",
            " 0.93501973 0.96588533 0.96727778 0.96379669 0.99303783 1.\n",
            " 0.98375493 0.98259457 0.97911348 0.96402878 0.91366904 0.89812023\n",
            " 0.94964026 0.96402878 0.95613833 0.95544207 0.97957759 0.93780455\n",
            " 0.96843814 0.97354376 0.9663495  0.89125782 0.84780657 0.79720402\n",
            " 0.75689226 0.72831231 0.70860136 0.69453228 0.6833005  0.6727531\n",
            " 0.66150326 0.64891869 0.63499659 0.62016165 0.60503709 0.59024704\n",
            " 0.57628256 0.56344116 0.55182904 0.54140055]\n",
            "19 day output [[0.5320124]]\n",
            "20 day input [0.46878625 0.47203528 0.50220469 0.5047575  0.51148759 0.50638197\n",
            " 0.48944071 0.49176144 0.50684614 0.54142492 0.54560219 0.551404\n",
            " 0.56625669 0.56207935 0.55581343 0.56300762 0.57043397 0.61452772\n",
            " 0.63216524 0.67393827 0.69900206 0.69923415 0.71571131 0.72801111\n",
            " 0.73613365 0.7586447  0.72801111 0.74170337 0.73358084 0.74170337\n",
            " 0.74982591 0.75052217 0.77767459 0.76537479 0.70619632 0.74541654\n",
            " 0.73543746 0.75353908 0.75237872 0.80181018 0.80621954 0.82757016\n",
            " 0.84543976 0.81016473 0.81318172 0.8166628  0.81364582 0.81573453\n",
            " 0.83453233 0.82571361 0.81967971 0.84195868 0.85008121 0.86911118\n",
            " 0.89255043 0.93942909 0.84984913 0.88210718 0.92852166 0.93501973\n",
            " 0.96588533 0.96727778 0.96379669 0.99303783 1.         0.98375493\n",
            " 0.98259457 0.97911348 0.96402878 0.91366904 0.89812023 0.94964026\n",
            " 0.96402878 0.95613833 0.95544207 0.97957759 0.93780455 0.96843814\n",
            " 0.97354376 0.9663495  0.89125782 0.84780657 0.79720402 0.75689226\n",
            " 0.72831231 0.70860136 0.69453228 0.6833005  0.6727531  0.66150326\n",
            " 0.64891869 0.63499659 0.62016165 0.60503709 0.59024704 0.57628256\n",
            " 0.56344116 0.55182904 0.54140055 0.5320124 ]\n",
            "20 day output [[0.5234776]]\n",
            "21 day input [0.47203528 0.50220469 0.5047575  0.51148759 0.50638197 0.48944071\n",
            " 0.49176144 0.50684614 0.54142492 0.54560219 0.551404   0.56625669\n",
            " 0.56207935 0.55581343 0.56300762 0.57043397 0.61452772 0.63216524\n",
            " 0.67393827 0.69900206 0.69923415 0.71571131 0.72801111 0.73613365\n",
            " 0.7586447  0.72801111 0.74170337 0.73358084 0.74170337 0.74982591\n",
            " 0.75052217 0.77767459 0.76537479 0.70619632 0.74541654 0.73543746\n",
            " 0.75353908 0.75237872 0.80181018 0.80621954 0.82757016 0.84543976\n",
            " 0.81016473 0.81318172 0.8166628  0.81364582 0.81573453 0.83453233\n",
            " 0.82571361 0.81967971 0.84195868 0.85008121 0.86911118 0.89255043\n",
            " 0.93942909 0.84984913 0.88210718 0.92852166 0.93501973 0.96588533\n",
            " 0.96727778 0.96379669 0.99303783 1.         0.98375493 0.98259457\n",
            " 0.97911348 0.96402878 0.91366904 0.89812023 0.94964026 0.96402878\n",
            " 0.95613833 0.95544207 0.97957759 0.93780455 0.96843814 0.97354376\n",
            " 0.9663495  0.89125782 0.84780657 0.79720402 0.75689226 0.72831231\n",
            " 0.70860136 0.69453228 0.6833005  0.6727531  0.66150326 0.64891869\n",
            " 0.63499659 0.62016165 0.60503709 0.59024704 0.57628256 0.56344116\n",
            " 0.55182904 0.54140055 0.5320124  0.52347761]\n",
            "21 day output [[0.51560736]]\n",
            "22 day input [0.50220469 0.5047575  0.51148759 0.50638197 0.48944071 0.49176144\n",
            " 0.50684614 0.54142492 0.54560219 0.551404   0.56625669 0.56207935\n",
            " 0.55581343 0.56300762 0.57043397 0.61452772 0.63216524 0.67393827\n",
            " 0.69900206 0.69923415 0.71571131 0.72801111 0.73613365 0.7586447\n",
            " 0.72801111 0.74170337 0.73358084 0.74170337 0.74982591 0.75052217\n",
            " 0.77767459 0.76537479 0.70619632 0.74541654 0.73543746 0.75353908\n",
            " 0.75237872 0.80181018 0.80621954 0.82757016 0.84543976 0.81016473\n",
            " 0.81318172 0.8166628  0.81364582 0.81573453 0.83453233 0.82571361\n",
            " 0.81967971 0.84195868 0.85008121 0.86911118 0.89255043 0.93942909\n",
            " 0.84984913 0.88210718 0.92852166 0.93501973 0.96588533 0.96727778\n",
            " 0.96379669 0.99303783 1.         0.98375493 0.98259457 0.97911348\n",
            " 0.96402878 0.91366904 0.89812023 0.94964026 0.96402878 0.95613833\n",
            " 0.95544207 0.97957759 0.93780455 0.96843814 0.97354376 0.9663495\n",
            " 0.89125782 0.84780657 0.79720402 0.75689226 0.72831231 0.70860136\n",
            " 0.69453228 0.6833005  0.6727531  0.66150326 0.64891869 0.63499659\n",
            " 0.62016165 0.60503709 0.59024704 0.57628256 0.56344116 0.55182904\n",
            " 0.54140055 0.5320124  0.52347761 0.51560736]\n",
            "22 day output [[0.5082388]]\n",
            "23 day input [0.5047575  0.51148759 0.50638197 0.48944071 0.49176144 0.50684614\n",
            " 0.54142492 0.54560219 0.551404   0.56625669 0.56207935 0.55581343\n",
            " 0.56300762 0.57043397 0.61452772 0.63216524 0.67393827 0.69900206\n",
            " 0.69923415 0.71571131 0.72801111 0.73613365 0.7586447  0.72801111\n",
            " 0.74170337 0.73358084 0.74170337 0.74982591 0.75052217 0.77767459\n",
            " 0.76537479 0.70619632 0.74541654 0.73543746 0.75353908 0.75237872\n",
            " 0.80181018 0.80621954 0.82757016 0.84543976 0.81016473 0.81318172\n",
            " 0.8166628  0.81364582 0.81573453 0.83453233 0.82571361 0.81967971\n",
            " 0.84195868 0.85008121 0.86911118 0.89255043 0.93942909 0.84984913\n",
            " 0.88210718 0.92852166 0.93501973 0.96588533 0.96727778 0.96379669\n",
            " 0.99303783 1.         0.98375493 0.98259457 0.97911348 0.96402878\n",
            " 0.91366904 0.89812023 0.94964026 0.96402878 0.95613833 0.95544207\n",
            " 0.97957759 0.93780455 0.96843814 0.97354376 0.9663495  0.89125782\n",
            " 0.84780657 0.79720402 0.75689226 0.72831231 0.70860136 0.69453228\n",
            " 0.6833005  0.6727531  0.66150326 0.64891869 0.63499659 0.62016165\n",
            " 0.60503709 0.59024704 0.57628256 0.56344116 0.55182904 0.54140055\n",
            " 0.5320124  0.52347761 0.51560736 0.50823879]\n",
            "23 day output [[0.50125045]]\n",
            "24 day input [0.51148759 0.50638197 0.48944071 0.49176144 0.50684614 0.54142492\n",
            " 0.54560219 0.551404   0.56625669 0.56207935 0.55581343 0.56300762\n",
            " 0.57043397 0.61452772 0.63216524 0.67393827 0.69900206 0.69923415\n",
            " 0.71571131 0.72801111 0.73613365 0.7586447  0.72801111 0.74170337\n",
            " 0.73358084 0.74170337 0.74982591 0.75052217 0.77767459 0.76537479\n",
            " 0.70619632 0.74541654 0.73543746 0.75353908 0.75237872 0.80181018\n",
            " 0.80621954 0.82757016 0.84543976 0.81016473 0.81318172 0.8166628\n",
            " 0.81364582 0.81573453 0.83453233 0.82571361 0.81967971 0.84195868\n",
            " 0.85008121 0.86911118 0.89255043 0.93942909 0.84984913 0.88210718\n",
            " 0.92852166 0.93501973 0.96588533 0.96727778 0.96379669 0.99303783\n",
            " 1.         0.98375493 0.98259457 0.97911348 0.96402878 0.91366904\n",
            " 0.89812023 0.94964026 0.96402878 0.95613833 0.95544207 0.97957759\n",
            " 0.93780455 0.96843814 0.97354376 0.9663495  0.89125782 0.84780657\n",
            " 0.79720402 0.75689226 0.72831231 0.70860136 0.69453228 0.6833005\n",
            " 0.6727531  0.66150326 0.64891869 0.63499659 0.62016165 0.60503709\n",
            " 0.59024704 0.57628256 0.56344116 0.55182904 0.54140055 0.5320124\n",
            " 0.52347761 0.51560736 0.50823879 0.50125045]\n",
            "24 day output [[0.49456435]]\n",
            "25 day input [0.50638197 0.48944071 0.49176144 0.50684614 0.54142492 0.54560219\n",
            " 0.551404   0.56625669 0.56207935 0.55581343 0.56300762 0.57043397\n",
            " 0.61452772 0.63216524 0.67393827 0.69900206 0.69923415 0.71571131\n",
            " 0.72801111 0.73613365 0.7586447  0.72801111 0.74170337 0.73358084\n",
            " 0.74170337 0.74982591 0.75052217 0.77767459 0.76537479 0.70619632\n",
            " 0.74541654 0.73543746 0.75353908 0.75237872 0.80181018 0.80621954\n",
            " 0.82757016 0.84543976 0.81016473 0.81318172 0.8166628  0.81364582\n",
            " 0.81573453 0.83453233 0.82571361 0.81967971 0.84195868 0.85008121\n",
            " 0.86911118 0.89255043 0.93942909 0.84984913 0.88210718 0.92852166\n",
            " 0.93501973 0.96588533 0.96727778 0.96379669 0.99303783 1.\n",
            " 0.98375493 0.98259457 0.97911348 0.96402878 0.91366904 0.89812023\n",
            " 0.94964026 0.96402878 0.95613833 0.95544207 0.97957759 0.93780455\n",
            " 0.96843814 0.97354376 0.9663495  0.89125782 0.84780657 0.79720402\n",
            " 0.75689226 0.72831231 0.70860136 0.69453228 0.6833005  0.6727531\n",
            " 0.66150326 0.64891869 0.63499659 0.62016165 0.60503709 0.59024704\n",
            " 0.57628256 0.56344116 0.55182904 0.54140055 0.5320124  0.52347761\n",
            " 0.51560736 0.50823879 0.50125045 0.49456435]\n",
            "25 day output [[0.4881413]]\n",
            "26 day input [0.48944071 0.49176144 0.50684614 0.54142492 0.54560219 0.551404\n",
            " 0.56625669 0.56207935 0.55581343 0.56300762 0.57043397 0.61452772\n",
            " 0.63216524 0.67393827 0.69900206 0.69923415 0.71571131 0.72801111\n",
            " 0.73613365 0.7586447  0.72801111 0.74170337 0.73358084 0.74170337\n",
            " 0.74982591 0.75052217 0.77767459 0.76537479 0.70619632 0.74541654\n",
            " 0.73543746 0.75353908 0.75237872 0.80181018 0.80621954 0.82757016\n",
            " 0.84543976 0.81016473 0.81318172 0.8166628  0.81364582 0.81573453\n",
            " 0.83453233 0.82571361 0.81967971 0.84195868 0.85008121 0.86911118\n",
            " 0.89255043 0.93942909 0.84984913 0.88210718 0.92852166 0.93501973\n",
            " 0.96588533 0.96727778 0.96379669 0.99303783 1.         0.98375493\n",
            " 0.98259457 0.97911348 0.96402878 0.91366904 0.89812023 0.94964026\n",
            " 0.96402878 0.95613833 0.95544207 0.97957759 0.93780455 0.96843814\n",
            " 0.97354376 0.9663495  0.89125782 0.84780657 0.79720402 0.75689226\n",
            " 0.72831231 0.70860136 0.69453228 0.6833005  0.6727531  0.66150326\n",
            " 0.64891869 0.63499659 0.62016165 0.60503709 0.59024704 0.57628256\n",
            " 0.56344116 0.55182904 0.54140055 0.5320124  0.52347761 0.51560736\n",
            " 0.50823879 0.50125045 0.49456435 0.4881413 ]\n",
            "26 day output [[0.48197094]]\n",
            "27 day input [0.49176144 0.50684614 0.54142492 0.54560219 0.551404   0.56625669\n",
            " 0.56207935 0.55581343 0.56300762 0.57043397 0.61452772 0.63216524\n",
            " 0.67393827 0.69900206 0.69923415 0.71571131 0.72801111 0.73613365\n",
            " 0.7586447  0.72801111 0.74170337 0.73358084 0.74170337 0.74982591\n",
            " 0.75052217 0.77767459 0.76537479 0.70619632 0.74541654 0.73543746\n",
            " 0.75353908 0.75237872 0.80181018 0.80621954 0.82757016 0.84543976\n",
            " 0.81016473 0.81318172 0.8166628  0.81364582 0.81573453 0.83453233\n",
            " 0.82571361 0.81967971 0.84195868 0.85008121 0.86911118 0.89255043\n",
            " 0.93942909 0.84984913 0.88210718 0.92852166 0.93501973 0.96588533\n",
            " 0.96727778 0.96379669 0.99303783 1.         0.98375493 0.98259457\n",
            " 0.97911348 0.96402878 0.91366904 0.89812023 0.94964026 0.96402878\n",
            " 0.95613833 0.95544207 0.97957759 0.93780455 0.96843814 0.97354376\n",
            " 0.9663495  0.89125782 0.84780657 0.79720402 0.75689226 0.72831231\n",
            " 0.70860136 0.69453228 0.6833005  0.6727531  0.66150326 0.64891869\n",
            " 0.63499659 0.62016165 0.60503709 0.59024704 0.57628256 0.56344116\n",
            " 0.55182904 0.54140055 0.5320124  0.52347761 0.51560736 0.50823879\n",
            " 0.50125045 0.49456435 0.4881413  0.48197094]\n",
            "27 day output [[0.4760606]]\n",
            "28 day input [0.50684614 0.54142492 0.54560219 0.551404   0.56625669 0.56207935\n",
            " 0.55581343 0.56300762 0.57043397 0.61452772 0.63216524 0.67393827\n",
            " 0.69900206 0.69923415 0.71571131 0.72801111 0.73613365 0.7586447\n",
            " 0.72801111 0.74170337 0.73358084 0.74170337 0.74982591 0.75052217\n",
            " 0.77767459 0.76537479 0.70619632 0.74541654 0.73543746 0.75353908\n",
            " 0.75237872 0.80181018 0.80621954 0.82757016 0.84543976 0.81016473\n",
            " 0.81318172 0.8166628  0.81364582 0.81573453 0.83453233 0.82571361\n",
            " 0.81967971 0.84195868 0.85008121 0.86911118 0.89255043 0.93942909\n",
            " 0.84984913 0.88210718 0.92852166 0.93501973 0.96588533 0.96727778\n",
            " 0.96379669 0.99303783 1.         0.98375493 0.98259457 0.97911348\n",
            " 0.96402878 0.91366904 0.89812023 0.94964026 0.96402878 0.95613833\n",
            " 0.95544207 0.97957759 0.93780455 0.96843814 0.97354376 0.9663495\n",
            " 0.89125782 0.84780657 0.79720402 0.75689226 0.72831231 0.70860136\n",
            " 0.69453228 0.6833005  0.6727531  0.66150326 0.64891869 0.63499659\n",
            " 0.62016165 0.60503709 0.59024704 0.57628256 0.56344116 0.55182904\n",
            " 0.54140055 0.5320124  0.52347761 0.51560736 0.50823879 0.50125045\n",
            " 0.49456435 0.4881413  0.48197094 0.4760606 ]\n",
            "28 day output [[0.47042418]]\n",
            "29 day input [0.54142492 0.54560219 0.551404   0.56625669 0.56207935 0.55581343\n",
            " 0.56300762 0.57043397 0.61452772 0.63216524 0.67393827 0.69900206\n",
            " 0.69923415 0.71571131 0.72801111 0.73613365 0.7586447  0.72801111\n",
            " 0.74170337 0.73358084 0.74170337 0.74982591 0.75052217 0.77767459\n",
            " 0.76537479 0.70619632 0.74541654 0.73543746 0.75353908 0.75237872\n",
            " 0.80181018 0.80621954 0.82757016 0.84543976 0.81016473 0.81318172\n",
            " 0.8166628  0.81364582 0.81573453 0.83453233 0.82571361 0.81967971\n",
            " 0.84195868 0.85008121 0.86911118 0.89255043 0.93942909 0.84984913\n",
            " 0.88210718 0.92852166 0.93501973 0.96588533 0.96727778 0.96379669\n",
            " 0.99303783 1.         0.98375493 0.98259457 0.97911348 0.96402878\n",
            " 0.91366904 0.89812023 0.94964026 0.96402878 0.95613833 0.95544207\n",
            " 0.97957759 0.93780455 0.96843814 0.97354376 0.9663495  0.89125782\n",
            " 0.84780657 0.79720402 0.75689226 0.72831231 0.70860136 0.69453228\n",
            " 0.6833005  0.6727531  0.66150326 0.64891869 0.63499659 0.62016165\n",
            " 0.60503709 0.59024704 0.57628256 0.56344116 0.55182904 0.54140055\n",
            " 0.5320124  0.52347761 0.51560736 0.50823879 0.50125045 0.49456435\n",
            " 0.4881413  0.48197094 0.4760606  0.47042418]\n",
            "29 day output [[0.4650749]]\n",
            "[[0.8912578225135803], [0.8478065729141235], [0.7972040176391602], [0.7568922638893127], [0.7283123135566711], [0.7086013555526733], [0.6945322751998901], [0.6833004951477051], [0.672753095626831], [0.661503255367279], [0.6489186882972717], [0.6349965929985046], [0.6201616525650024], [0.6050370931625366], [0.5902470350265503], [0.5762825608253479], [0.5634411573410034], [0.5518290400505066], [0.5414005517959595], [0.532012403011322], [0.5234776139259338], [0.5156073570251465], [0.5082387924194336], [0.5012504458427429], [0.49456435441970825], [0.4881412982940674], [0.4819709360599518], [0.4760605990886688], [0.47042417526245117], [0.46507489681243896]]\n"
          ]
        }
      ],
      "source": [
        "# demonstrate prediction for next 10 days\n",
        "from numpy import array\n",
        "\n",
        "lst_output=[]\n",
        "n_steps=100\n",
        "i=0\n",
        "while(i<30):\n",
        "\n",
        "    if(len(temp_input)>100):\n",
        "        #print(temp_input)\n",
        "        x_input=np.array(temp_input[1:])\n",
        "        print(\"{} day input {}\".format(i,x_input))\n",
        "        x_input=x_input.reshape(1,-1)\n",
        "        x_input = x_input.reshape((1, n_steps, 1))\n",
        "        #print(x_input)\n",
        "        yhat = model.predict(x_input, verbose=0)\n",
        "        print(\"{} day output {}\".format(i,yhat))\n",
        "        temp_input.extend(yhat[0].tolist())\n",
        "        temp_input=temp_input[1:]\n",
        "        #print(temp_input)\n",
        "        lst_output.extend(yhat.tolist())\n",
        "        i=i+1\n",
        "    else:\n",
        "        x_input = x_input.reshape((1, n_steps,1))\n",
        "        yhat = model.predict(x_input, verbose=0)\n",
        "        print(yhat[0])\n",
        "        temp_input.extend(yhat[0].tolist())\n",
        "        print(len(temp_input))\n",
        "        lst_output.extend(yhat.tolist())\n",
        "        i=i+1\n",
        "\n",
        "\n",
        "print(lst_output)"
      ]
    },
    {
      "cell_type": "code",
      "execution_count": null,
      "metadata": {
        "id": "qMi3jh1WO94-"
      },
      "outputs": [],
      "source": [
        "day_new=np.arange(1,101)\n",
        "day_pred=np.arange(101,131)"
      ]
    },
    {
      "cell_type": "code",
      "execution_count": null,
      "metadata": {
        "id": "lgBNnbkEO94-"
      },
      "outputs": [],
      "source": [
        "import matplotlib.pyplot as plt"
      ]
    },
    {
      "cell_type": "code",
      "execution_count": null,
      "metadata": {
        "colab": {
          "base_uri": "https://localhost:8080/"
        },
        "id": "46UT539tO94-",
        "outputId": "ec4a7906-85c7-493a-addd-b1ede26647e4"
      },
      "outputs": [
        {
          "output_type": "execute_result",
          "data": {
            "text/plain": [
              "1258"
            ]
          },
          "metadata": {},
          "execution_count": 106
        }
      ],
      "source": [
        "len(df1)"
      ]
    },
    {
      "cell_type": "code",
      "execution_count": null,
      "metadata": {
        "id": "lt7GTVNtO94-"
      },
      "outputs": [],
      "source": []
    },
    {
      "cell_type": "code",
      "execution_count": null,
      "metadata": {
        "colab": {
          "base_uri": "https://localhost:8080/",
          "height": 449
        },
        "id": "-vXrO5q4O94-",
        "outputId": "071f58fc-233c-4da3-8770-9fd3d17aee18"
      },
      "outputs": [
        {
          "output_type": "execute_result",
          "data": {
            "text/plain": [
              "[<matplotlib.lines.Line2D at 0x791715fd0130>]"
            ]
          },
          "metadata": {},
          "execution_count": 107
        },
        {
          "output_type": "display_data",
          "data": {
            "text/plain": [
              "<Figure size 640x480 with 1 Axes>"
            ],
            "image/png": "[encoded data removed]"
          },
          "metadata": {}
        }
      ],
      "source": [
        "plt.plot(day_new,scaler.inverse_transform(df1[1158:]))\n",
        "plt.plot(day_pred,scaler.inverse_transform(lst_output))"
      ]
    },
    {
      "cell_type": "code",
      "execution_count": null,
      "metadata": {
        "colab": {
          "base_uri": "https://localhost:8080/",
          "height": 447
        },
        "id": "7leTJw-GO94-",
        "outputId": "3e9ac9fa-497d-4e06-bf74-713cb3081b1b"
      },
      "outputs": [
        {
          "output_type": "execute_result",
          "data": {
            "text/plain": [
              "[<matplotlib.lines.Line2D at 0x791715f75c60>]"
            ]
          },
          "metadata": {},
          "execution_count": 108
        },
        {
          "output_type": "display_data",
          "data": {
            "text/plain": [
              "<Figure size 640x480 with 1 Axes>"
            ],
            "image/png": "[encoded data removed]"
          },
          "metadata": {}
        }
      ],
      "source": [
        "df3=df1.tolist()\n",
        "df3.extend(lst_output)\n",
        "plt.plot(df3[1200:])"
      ]
    },
    {
      "cell_type": "code",
      "execution_count": null,
      "metadata": {
        "id": "z_7RvsLaO94_"
      },
      "outputs": [],
      "source": [
        "df3=scaler.inverse_transform(df3).tolist()"
      ]
    },
    {
      "cell_type": "code",
      "execution_count": null,
      "metadata": {
        "colab": {
          "base_uri": "https://localhost:8080/",
          "height": 447
        },
        "id": "Rf4YnjARO94_",
        "outputId": "56d0728b-c6d9-4a4b-89d0-6486afbee94e"
      },
      "outputs": [
        {
          "output_type": "execute_result",
          "data": {
            "text/plain": [
              "[<matplotlib.lines.Line2D at 0x79171602d750>]"
            ]
          },
          "metadata": {},
          "execution_count": 110
        },
        {
          "output_type": "display_data",
          "data": {
            "text/plain": [
              "<Figure size 640x480 with 1 Axes>"
            ],
            "image/png": "[encoded data removed]"
          },
          "metadata": {}
        }
      ],
      "source": [
        "plt.plot(df3)"
      ]
    },
    {
      "cell_type": "code",
      "source": [
        "ytest.shape"
      ],
      "metadata": {
        "colab": {
          "base_uri": "https://localhost:8080/"
        },
        "id": "HcJqTDjQUNO9",
        "outputId": "a2b2c1d6-0dd2-4448-837c-0410b2de3e8c"
      },
      "execution_count": null,
      "outputs": [
        {
          "output_type": "execute_result",
          "data": {
            "text/plain": [
              "(340,)"
            ]
          },
          "metadata": {},
          "execution_count": 139
        }
      ]
    },
    {
      "cell_type": "code",
      "source": [
        "ytest[0]"
      ],
      "metadata": {
        "colab": {
          "base_uri": "https://localhost:8080/"
        },
        "id": "YMDYxtH5Uc0e",
        "outputId": "b998f45f-0df9-492e-83c4-d52a71b645b2"
      },
      "execution_count": null,
      "outputs": [
        {
          "output_type": "execute_result",
          "data": {
            "text/plain": [
              "0.19076351762393215"
            ]
          },
          "metadata": {},
          "execution_count": 140
        }
      ]
    },
    {
      "cell_type": "code",
      "source": [
        "test_predict.shape"
      ],
      "metadata": {
        "colab": {
          "base_uri": "https://localhost:8080/"
        },
        "id": "MILhMoppTpcP",
        "outputId": "ff3bf5b1-a1ca-4467-ec4b-cb9d7dfaaac3"
      },
      "execution_count": null,
      "outputs": [
        {
          "output_type": "execute_result",
          "data": {
            "text/plain": [
              "(340, 1)"
            ]
          },
          "metadata": {},
          "execution_count": 141
        }
      ]
    },
    {
      "cell_type": "code",
      "source": [
        "test_predict.shape"
      ],
      "metadata": {
        "colab": {
          "base_uri": "https://localhost:8080/"
        },
        "id": "_oTey8fuT5NP",
        "outputId": "a4c3ccb7-c02e-4d01-b3e7-e4d696178bd0"
      },
      "execution_count": null,
      "outputs": [
        {
          "output_type": "execute_result",
          "data": {
            "text/plain": [
              "(340, 1)"
            ]
          },
          "metadata": {},
          "execution_count": 144
        }
      ]
    },
    {
      "cell_type": "code",
      "source": [
        "ytest[-1]"
      ],
      "metadata": {
        "colab": {
          "base_uri": "https://localhost:8080/"
        },
        "id": "O1SSsd8tT53e",
        "outputId": "200cc139-7c21-442c-9d5f-09782cf2e6c3"
      },
      "execution_count": null,
      "outputs": [
        {
          "output_type": "execute_result",
          "data": {
            "text/plain": [
              "0.9735437601411168"
            ]
          },
          "metadata": {},
          "execution_count": 148
        }
      ]
    },
    {
      "cell_type": "code",
      "source": [
        "original_value = scaler.inverse_transform([[ytest[339]]])[0, 0]"
      ],
      "metadata": {
        "id": "tIujxL5ZU5AW"
      },
      "execution_count": null,
      "outputs": []
    },
    {
      "cell_type": "code",
      "source": [
        "original_value"
      ],
      "metadata": {
        "colab": {
          "base_uri": "https://localhost:8080/"
        },
        "id": "yUglO0YgVIqe",
        "outputId": "e427d071-98d2-4434-ba43-4cca07c5eae3"
      },
      "execution_count": null,
      "outputs": [
        {
          "output_type": "execute_result",
          "data": {
            "text/plain": [
              "228.5"
            ]
          },
          "metadata": {},
          "execution_count": 152
        }
      ]
    },
    {
      "cell_type": "code",
      "source": [
        "len(df3)"
      ],
      "metadata": {
        "colab": {
          "base_uri": "https://localhost:8080/"
        },
        "id": "-r-x1o9mVKaI",
        "outputId": "6f02ab2b-fb8f-4948-b478-b0add30303b2"
      },
      "execution_count": null,
      "outputs": [
        {
          "output_type": "execute_result",
          "data": {
            "text/plain": [
              "1288"
            ]
          },
          "metadata": {},
          "execution_count": 155
        }
      ]
    },
    {
      "cell_type": "code",
      "source": [
        "len(df1)"
      ],
      "metadata": {
        "colab": {
          "base_uri": "https://localhost:8080/"
        },
        "id": "TJStHlwCVVGM",
        "outputId": "1120177f-6095-46ad-b786-42c0c6a00708"
      },
      "execution_count": null,
      "outputs": [
        {
          "output_type": "execute_result",
          "data": {
            "text/plain": [
              "1258"
            ]
          },
          "metadata": {},
          "execution_count": 156
        }
      ]
    },
    {
      "cell_type": "code",
      "source": [
        "df3[1258]"
      ],
      "metadata": {
        "colab": {
          "base_uri": "https://localhost:8080/"
        },
        "id": "FmnjffDDVX6V",
        "outputId": "f2798206-d30e-4cb4-c3eb-060952fc0527"
      },
      "execution_count": null,
      "outputs": [
        {
          "output_type": "execute_result",
          "data": {
            "text/plain": [
              "[211.87150062193575]"
            ]
          },
          "metadata": {},
          "execution_count": 157
        }
      ]
    },
    {
      "cell_type": "code",
      "source": [],
      "metadata": {
        "id": "_g2SJWwAVaPL"
      },
      "execution_count": null,
      "outputs": []
    }
  ],
  "metadata": {
    "kernelspec": {
      "display_name": "Python 3",
      "language": "python",
      "name": "python3"
    },
    "language_info": {
      "codemirror_mode": {
        "name": "ipython",
        "version": 3
      },
      "file_extension": ".py",
      "mimetype": "text/x-python",
      "name": "python",
      "nbconvert_exporter": "python",
      "pygments_lexer": "ipython3",
      "version": "3.6.9"
    },
    "colab": {
      "provenance": [],
      "include_colab_link": true
    }
  },
  "nbformat": 4,
  "nbformat_minor": 0
}