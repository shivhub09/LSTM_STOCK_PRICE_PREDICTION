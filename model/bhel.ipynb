{
 "cells": [
  {
   "cell_type": "code",
   "execution_count": 1,
   "metadata": {},
   "outputs": [
    {
     "name": "stderr",
     "output_type": "stream",
     "text": [
      "c:\\Users\\Shivam\\anaconda3\\Lib\\site-packages\\yfinance\\base.py:48: FutureWarning: The default dtype for empty Series will be 'object' instead of 'float64' in a future version. Specify a dtype explicitly to silence this warning.\n",
      "  _empty_series = pd.Series()\n"
     ]
    }
   ],
   "source": [
    "import pandas as pd\n",
    "import yfinance as yf\n",
    "import numpy as np\n",
    "import tensorflow as tf\n",
    "from sklearn.metrics import accuracy_score\n",
    "from tensorflow.keras.models import Sequential\n",
    "from tensorflow.keras.layers import LSTM , Dense\n",
    "from sklearn.preprocessing import MinMaxScaler\n",
    "from datetime import datetime\n",
    "import matplotlib.pyplot as plt\n",
    "import seaborn as sns \n",
    "sns.set_style('whitegrid')\n",
    "plt.style.use(\"fivethirtyeight\")\n",
    "%matplotlib inline"
   ]
  },
  {
   "cell_type": "code",
   "execution_count": 2,
   "metadata": {},
   "outputs": [],
   "source": [
    "end = datetime.now()\n",
    "start = datetime(end.year - 5, end.month, end.day)"
   ]
  },
  {
   "cell_type": "code",
   "execution_count": 3,
   "metadata": {},
   "outputs": [
    {
     "name": "stderr",
     "output_type": "stream",
     "text": [
      "[*********************100%%**********************]  1 of 1 completed\n"
     ]
    }
   ],
   "source": [
    "df = yf.download(\"BHEL.NS\" , start=start, end=end)"
   ]
  },
  {
   "cell_type": "markdown",
   "metadata": {},
   "source": []
  },
  {
   "cell_type": "code",
   "execution_count": 4,
   "metadata": {},
   "outputs": [
    {
     "data": {
      "text/html": [
       "<div>\n",
       "<style scoped>\n",
       "    .dataframe tbody tr th:only-of-type {\n",
       "        vertical-align: middle;\n",
       "    }\n",
       "\n",
       "    .dataframe tbody tr th {\n",
       "        vertical-align: top;\n",
       "    }\n",
       "\n",
       "    .dataframe thead th {\n",
       "        text-align: right;\n",
       "    }\n",
       "</style>\n",
       "<table border=\"1\" class=\"dataframe\">\n",
       "  <thead>\n",
       "    <tr style=\"text-align: right;\">\n",
       "      <th></th>\n",
       "      <th>Open</th>\n",
       "      <th>High</th>\n",
       "      <th>Low</th>\n",
       "      <th>Close</th>\n",
       "      <th>Adj Close</th>\n",
       "      <th>Volume</th>\n",
       "    </tr>\n",
       "    <tr>\n",
       "      <th>Date</th>\n",
       "      <th></th>\n",
       "      <th></th>\n",
       "      <th></th>\n",
       "      <th></th>\n",
       "      <th></th>\n",
       "      <th></th>\n",
       "    </tr>\n",
       "  </thead>\n",
       "  <tbody>\n",
       "    <tr>\n",
       "      <th>2019-02-26</th>\n",
       "      <td>63.549999</td>\n",
       "      <td>65.599998</td>\n",
       "      <td>62.200001</td>\n",
       "      <td>64.849998</td>\n",
       "      <td>62.682377</td>\n",
       "      <td>6564549</td>\n",
       "    </tr>\n",
       "    <tr>\n",
       "      <th>2019-02-27</th>\n",
       "      <td>65.099998</td>\n",
       "      <td>66.000000</td>\n",
       "      <td>64.599998</td>\n",
       "      <td>64.949997</td>\n",
       "      <td>62.779034</td>\n",
       "      <td>6764048</td>\n",
       "    </tr>\n",
       "    <tr>\n",
       "      <th>2019-02-28</th>\n",
       "      <td>65.000000</td>\n",
       "      <td>65.150002</td>\n",
       "      <td>64.099998</td>\n",
       "      <td>64.449997</td>\n",
       "      <td>62.295750</td>\n",
       "      <td>14167452</td>\n",
       "    </tr>\n",
       "    <tr>\n",
       "      <th>2019-03-01</th>\n",
       "      <td>64.800003</td>\n",
       "      <td>66.599998</td>\n",
       "      <td>64.650002</td>\n",
       "      <td>66.150002</td>\n",
       "      <td>63.938931</td>\n",
       "      <td>9309674</td>\n",
       "    </tr>\n",
       "    <tr>\n",
       "      <th>2019-03-05</th>\n",
       "      <td>67.750000</td>\n",
       "      <td>68.000000</td>\n",
       "      <td>66.400002</td>\n",
       "      <td>67.300003</td>\n",
       "      <td>65.050491</td>\n",
       "      <td>9082342</td>\n",
       "    </tr>\n",
       "  </tbody>\n",
       "</table>\n",
       "</div>"
      ],
      "text/plain": [
       "                 Open       High        Low      Close  Adj Close    Volume\n",
       "Date                                                                       \n",
       "2019-02-26  63.549999  65.599998  62.200001  64.849998  62.682377   6564549\n",
       "2019-02-27  65.099998  66.000000  64.599998  64.949997  62.779034   6764048\n",
       "2019-02-28  65.000000  65.150002  64.099998  64.449997  62.295750  14167452\n",
       "2019-03-01  64.800003  66.599998  64.650002  66.150002  63.938931   9309674\n",
       "2019-03-05  67.750000  68.000000  66.400002  67.300003  65.050491   9082342"
      ]
     },
     "execution_count": 4,
     "metadata": {},
     "output_type": "execute_result"
    }
   ],
   "source": [
    "df.head()"
   ]
  },
  {
   "cell_type": "code",
   "execution_count": 5,
   "metadata": {},
   "outputs": [
    {
     "data": {
      "text/html": [
       "<div>\n",
       "<style scoped>\n",
       "    .dataframe tbody tr th:only-of-type {\n",
       "        vertical-align: middle;\n",
       "    }\n",
       "\n",
       "    .dataframe tbody tr th {\n",
       "        vertical-align: top;\n",
       "    }\n",
       "\n",
       "    .dataframe thead th {\n",
       "        text-align: right;\n",
       "    }\n",
       "</style>\n",
       "<table border=\"1\" class=\"dataframe\">\n",
       "  <thead>\n",
       "    <tr style=\"text-align: right;\">\n",
       "      <th></th>\n",
       "      <th>Open</th>\n",
       "      <th>High</th>\n",
       "      <th>Low</th>\n",
       "      <th>Close</th>\n",
       "      <th>Adj Close</th>\n",
       "      <th>Volume</th>\n",
       "    </tr>\n",
       "    <tr>\n",
       "      <th>Date</th>\n",
       "      <th></th>\n",
       "      <th></th>\n",
       "      <th></th>\n",
       "      <th></th>\n",
       "      <th></th>\n",
       "      <th></th>\n",
       "    </tr>\n",
       "  </thead>\n",
       "  <tbody>\n",
       "    <tr>\n",
       "      <th>2024-02-20</th>\n",
       "      <td>226.899994</td>\n",
       "      <td>233.800003</td>\n",
       "      <td>225.949997</td>\n",
       "      <td>230.899994</td>\n",
       "      <td>230.899994</td>\n",
       "      <td>22994469</td>\n",
       "    </tr>\n",
       "    <tr>\n",
       "      <th>2024-02-21</th>\n",
       "      <td>232.000000</td>\n",
       "      <td>232.350006</td>\n",
       "      <td>220.050003</td>\n",
       "      <td>221.899994</td>\n",
       "      <td>221.899994</td>\n",
       "      <td>22193528</td>\n",
       "    </tr>\n",
       "    <tr>\n",
       "      <th>2024-02-22</th>\n",
       "      <td>224.000000</td>\n",
       "      <td>229.399994</td>\n",
       "      <td>220.949997</td>\n",
       "      <td>228.500000</td>\n",
       "      <td>228.500000</td>\n",
       "      <td>25023398</td>\n",
       "    </tr>\n",
       "    <tr>\n",
       "      <th>2024-02-23</th>\n",
       "      <td>229.449997</td>\n",
       "      <td>233.750000</td>\n",
       "      <td>228.500000</td>\n",
       "      <td>229.600006</td>\n",
       "      <td>229.600006</td>\n",
       "      <td>21463226</td>\n",
       "    </tr>\n",
       "    <tr>\n",
       "      <th>2024-02-26</th>\n",
       "      <td>229.800003</td>\n",
       "      <td>232.149994</td>\n",
       "      <td>226.250000</td>\n",
       "      <td>228.050003</td>\n",
       "      <td>228.050003</td>\n",
       "      <td>14280717</td>\n",
       "    </tr>\n",
       "  </tbody>\n",
       "</table>\n",
       "</div>"
      ],
      "text/plain": [
       "                  Open        High         Low       Close   Adj Close  \\\n",
       "Date                                                                     \n",
       "2024-02-20  226.899994  233.800003  225.949997  230.899994  230.899994   \n",
       "2024-02-21  232.000000  232.350006  220.050003  221.899994  221.899994   \n",
       "2024-02-22  224.000000  229.399994  220.949997  228.500000  228.500000   \n",
       "2024-02-23  229.449997  233.750000  228.500000  229.600006  229.600006   \n",
       "2024-02-26  229.800003  232.149994  226.250000  228.050003  228.050003   \n",
       "\n",
       "              Volume  \n",
       "Date                  \n",
       "2024-02-20  22994469  \n",
       "2024-02-21  22193528  \n",
       "2024-02-22  25023398  \n",
       "2024-02-23  21463226  \n",
       "2024-02-26  14280717  "
      ]
     },
     "execution_count": 5,
     "metadata": {},
     "output_type": "execute_result"
    }
   ],
   "source": [
    "df.tail()"
   ]
  },
  {
   "cell_type": "code",
   "execution_count": 6,
   "metadata": {},
   "outputs": [
    {
     "data": {
      "text/plain": [
       "(1235, 6)"
      ]
     },
     "execution_count": 6,
     "metadata": {},
     "output_type": "execute_result"
    }
   ],
   "source": [
    "df.shape"
   ]
  },
  {
   "cell_type": "code",
   "execution_count": 7,
   "metadata": {},
   "outputs": [],
   "source": [
    "df2 = df.reset_index()['Close']"
   ]
  },
  {
   "cell_type": "code",
   "execution_count": 8,
   "metadata": {},
   "outputs": [
    {
     "data": {
      "text/plain": [
       "(1235,)"
      ]
     },
     "execution_count": 8,
     "metadata": {},
     "output_type": "execute_result"
    }
   ],
   "source": [
    "df2.shape"
   ]
  },
  {
   "cell_type": "code",
   "execution_count": 9,
   "metadata": {},
   "outputs": [
    {
     "data": {
      "text/plain": [
       "[<matplotlib.lines.Line2D at 0x1c6df457f10>]"
      ]
     },
     "execution_count": 9,
     "metadata": {},
     "output_type": "execute_result"
    },
    {
     "data": {
      "image/png": "[encoded data removed]",
      "text/plain": [
       "<Figure size 1800x600 with 1 Axes>"
      ]
     },
     "metadata": {},
     "output_type": "display_data"
    }
   ],
   "source": [
    "fig_size = (18, 6)  # Adjust the values according to your preference\n",
    "plt.figure(figsize=fig_size)\n",
    "plt.plot(df2)"
   ]
  },
  {
   "cell_type": "code",
   "execution_count": 10,
   "metadata": {},
   "outputs": [],
   "source": [
    "scaler = MinMaxScaler(feature_range=(0,1))\n",
    "df2 = scaler.fit_transform(np.array(df2).reshape(-1,1))"
   ]
  },
  {
   "cell_type": "code",
   "execution_count": 11,
   "metadata": {},
   "outputs": [
    {
     "data": {
      "text/plain": [
       "(1235, 1)"
      ]
     },
     "execution_count": 11,
     "metadata": {},
     "output_type": "execute_result"
    }
   ],
   "source": [
    "df2.shape"
   ]
  },
  {
   "cell_type": "code",
   "execution_count": 12,
   "metadata": {},
   "outputs": [],
   "source": [
    "training_size = int(len(df2)*0.75)\n",
    "testing_size = len(df2) - training_size\n",
    "train_data, test_data = df2[0:training_size,:], df2[training_size: len(df2), :1]"
   ]
  },
  {
   "cell_type": "code",
   "execution_count": 13,
   "metadata": {},
   "outputs": [
    {
     "data": {
      "text/plain": [
       "926"
      ]
     },
     "execution_count": 13,
     "metadata": {},
     "output_type": "execute_result"
    }
   ],
   "source": [
    "training_size"
   ]
  },
  {
   "cell_type": "code",
   "execution_count": 14,
   "metadata": {},
   "outputs": [
    {
     "data": {
      "text/plain": [
       "309"
      ]
     },
     "execution_count": 14,
     "metadata": {},
     "output_type": "execute_result"
    }
   ],
   "source": [
    "testing_size"
   ]
  },
  {
   "cell_type": "code",
   "execution_count": 15,
   "metadata": {},
   "outputs": [],
   "source": [
    "def create_dataset(dataset, time_step = 1):\n",
    "    dataX, dataY = [],[]\n",
    "    for i in range(len(dataset)-time_step-1):\n",
    "        a = dataset[i:(i+time_step), 0]\n",
    "        dataX.append(a)\n",
    "        dataY.append(dataset[i+time_step, 0])\n",
    "\n",
    "    return np.array(dataX), np.array(dataY)"
   ]
  },
  {
   "cell_type": "code",
   "execution_count": 16,
   "metadata": {},
   "outputs": [],
   "source": [
    "time_step = 100\n",
    "X_train , y_train = create_dataset(train_data,time_step)\n",
    "X_test , y_test = create_dataset(test_data,time_step)"
   ]
  },
  {
   "cell_type": "code",
   "execution_count": 17,
   "metadata": {},
   "outputs": [
    {
     "data": {
      "text/plain": [
       "(825, 100)"
      ]
     },
     "execution_count": 17,
     "metadata": {},
     "output_type": "execute_result"
    }
   ],
   "source": [
    "X_train.shape"
   ]
  },
  {
   "cell_type": "code",
   "execution_count": 18,
   "metadata": {},
   "outputs": [
    {
     "data": {
      "text/plain": [
       "(825,)"
      ]
     },
     "execution_count": 18,
     "metadata": {},
     "output_type": "execute_result"
    }
   ],
   "source": [
    "y_train.shape"
   ]
  },
  {
   "cell_type": "code",
   "execution_count": 19,
   "metadata": {},
   "outputs": [
    {
     "data": {
      "text/plain": [
       "(208, 100)"
      ]
     },
     "execution_count": 19,
     "metadata": {},
     "output_type": "execute_result"
    }
   ],
   "source": [
    "X_test.shape"
   ]
  },
  {
   "cell_type": "code",
   "execution_count": 20,
   "metadata": {},
   "outputs": [
    {
     "data": {
      "text/plain": [
       "(208,)"
      ]
     },
     "execution_count": 20,
     "metadata": {},
     "output_type": "execute_result"
    }
   ],
   "source": [
    "y_test.shape"
   ]
  },
  {
   "cell_type": "code",
   "execution_count": 21,
   "metadata": {},
   "outputs": [],
   "source": [
    "X_train = X_train.reshape(X_train.shape[0], X_train.shape[1], 1)\n",
    "X_test = X_test.reshape(X_test.shape[0], X_test.shape[1], 1)\n"
   ]
  },
  {
   "cell_type": "code",
   "execution_count": 22,
   "metadata": {},
   "outputs": [
    {
     "data": {
      "text/plain": [
       "(825, 100, 1)"
      ]
     },
     "execution_count": 22,
     "metadata": {},
     "output_type": "execute_result"
    }
   ],
   "source": [
    "X_train.shape"
   ]
  },
  {
   "cell_type": "code",
   "execution_count": 23,
   "metadata": {},
   "outputs": [],
   "source": [
    "model = Sequential()"
   ]
  },
  {
   "cell_type": "code",
   "execution_count": 24,
   "metadata": {},
   "outputs": [],
   "source": [
    "model.add(LSTM(100, return_sequences=True, input_shape=(100, 1)))\n",
    "model.add(LSTM(100, return_sequences=True))\n",
    "model.add(LSTM(100, return_sequences=True))\n",
    "model.add(LSTM(100))\n",
    "model.add(Dense(1))"
   ]
  },
  {
   "cell_type": "code",
   "execution_count": 25,
   "metadata": {},
   "outputs": [],
   "source": [
    "model.compile(loss=\"mean_squared_error\", optimizer=\"adam\",)"
   ]
  },
  {
   "cell_type": "code",
   "execution_count": 26,
   "metadata": {},
   "outputs": [
    {
     "name": "stdout",
     "output_type": "stream",
     "text": [
      "Model: \"sequential\"\n",
      "_________________________________________________________________\n",
      " Layer (type)                Output Shape              Param #   \n",
      "=================================================================\n",
      " lstm (LSTM)                 (None, 100, 100)          40800     \n",
      "                                                                 \n",
      " lstm_1 (LSTM)               (None, 100, 100)          80400     \n",
      "                                                                 \n",
      " lstm_2 (LSTM)               (None, 100, 100)          80400     \n",
      "                                                                 \n",
      " lstm_3 (LSTM)               (None, 100)               80400     \n",
      "                                                                 \n",
      " dense (Dense)               (None, 1)                 101       \n",
      "                                                                 \n",
      "=================================================================\n",
      "Total params: 282101 (1.08 MB)\n",
      "Trainable params: 282101 (1.08 MB)\n",
      "Non-trainable params: 0 (0.00 Byte)\n",
      "_________________________________________________________________\n"
     ]
    }
   ],
   "source": [
    "model.summary()"
   ]
  },
  {
   "cell_type": "code",
   "execution_count": 27,
   "metadata": {},
   "outputs": [
    {
     "name": "stdout",
     "output_type": "stream",
     "text": [
      "Epoch 1/100\n",
      "13/13 [==============================] - 19s 779ms/step - loss: 0.0065 - val_loss: 0.0734\n",
      "Epoch 2/100\n",
      "13/13 [==============================] - 8s 616ms/step - loss: 0.0024 - val_loss: 0.0618\n",
      "Epoch 3/100\n",
      "13/13 [==============================] - 10s 744ms/step - loss: 0.0012 - val_loss: 0.0125\n",
      "Epoch 4/100\n",
      "13/13 [==============================] - 15s 1s/step - loss: 7.4116e-04 - val_loss: 0.0123\n",
      "Epoch 5/100\n",
      "13/13 [==============================] - 16s 1s/step - loss: 6.4822e-04 - val_loss: 0.0095\n",
      "Epoch 6/100\n",
      "13/13 [==============================] - 15s 1s/step - loss: 5.8436e-04 - val_loss: 0.0098\n",
      "Epoch 7/100\n",
      "13/13 [==============================] - 16s 1s/step - loss: 5.3272e-04 - val_loss: 0.0107\n",
      "Epoch 8/100\n",
      "13/13 [==============================] - 16s 1s/step - loss: 4.8449e-04 - val_loss: 0.0087\n",
      "Epoch 9/100\n",
      "13/13 [==============================] - 16s 1s/step - loss: 4.4751e-04 - val_loss: 0.0069\n",
      "Epoch 10/100\n",
      "13/13 [==============================] - 16s 1s/step - loss: 4.2351e-04 - val_loss: 0.0087\n",
      "Epoch 11/100\n",
      "13/13 [==============================] - 16s 1s/step - loss: 3.9268e-04 - val_loss: 0.0122\n",
      "Epoch 12/100\n",
      "13/13 [==============================] - 16s 1s/step - loss: 3.8323e-04 - val_loss: 0.0105\n",
      "Epoch 13/100\n",
      "13/13 [==============================] - 15s 1s/step - loss: 3.7949e-04 - val_loss: 0.0126\n",
      "Epoch 14/100\n",
      "13/13 [==============================] - 15s 1s/step - loss: 3.4462e-04 - val_loss: 0.0076\n",
      "Epoch 15/100\n",
      "13/13 [==============================] - 15s 1s/step - loss: 3.2980e-04 - val_loss: 0.0167\n",
      "Epoch 16/100\n",
      "13/13 [==============================] - 15s 1s/step - loss: 3.2663e-04 - val_loss: 0.0115\n",
      "Epoch 17/100\n",
      "13/13 [==============================] - 15s 1s/step - loss: 3.0765e-04 - val_loss: 0.0140\n",
      "Epoch 18/100\n",
      "13/13 [==============================] - 15s 1s/step - loss: 3.1929e-04 - val_loss: 0.0113\n",
      "Epoch 19/100\n",
      "13/13 [==============================] - 15s 1s/step - loss: 3.1449e-04 - val_loss: 0.0128\n",
      "Epoch 20/100\n",
      "13/13 [==============================] - 13s 1s/step - loss: 2.7900e-04 - val_loss: 0.0113\n",
      "Epoch 21/100\n",
      "13/13 [==============================] - 10s 749ms/step - loss: 2.7295e-04 - val_loss: 0.0128\n",
      "Epoch 22/100\n",
      "13/13 [==============================] - 12s 926ms/step - loss: 2.7386e-04 - val_loss: 0.0111\n",
      "Epoch 23/100\n",
      "13/13 [==============================] - 15s 1s/step - loss: 2.6202e-04 - val_loss: 0.0122\n",
      "Epoch 24/100\n",
      "13/13 [==============================] - 14s 1s/step - loss: 2.7904e-04 - val_loss: 0.0146\n",
      "Epoch 25/100\n",
      "13/13 [==============================] - 15s 1s/step - loss: 2.7023e-04 - val_loss: 0.0130\n",
      "Epoch 26/100\n",
      "13/13 [==============================] - 15s 1s/step - loss: 2.5873e-04 - val_loss: 0.0176\n",
      "Epoch 27/100\n",
      "13/13 [==============================] - 15s 1s/step - loss: 2.6570e-04 - val_loss: 0.0105\n",
      "Epoch 28/100\n",
      "13/13 [==============================] - 15s 1s/step - loss: 2.4179e-04 - val_loss: 0.0065\n",
      "Epoch 29/100\n",
      "13/13 [==============================] - 15s 1s/step - loss: 2.4501e-04 - val_loss: 0.0079\n",
      "Epoch 30/100\n",
      "13/13 [==============================] - 15s 1s/step - loss: 2.3047e-04 - val_loss: 0.0140\n",
      "Epoch 31/100\n",
      "13/13 [==============================] - 15s 1s/step - loss: 2.3025e-04 - val_loss: 0.0141\n",
      "Epoch 32/100\n",
      "13/13 [==============================] - 15s 1s/step - loss: 2.4425e-04 - val_loss: 0.0138\n",
      "Epoch 33/100\n",
      "13/13 [==============================] - 14s 1s/step - loss: 2.3164e-04 - val_loss: 0.0100\n",
      "Epoch 34/100\n",
      "13/13 [==============================] - 15s 1s/step - loss: 2.1671e-04 - val_loss: 0.0118\n",
      "Epoch 35/100\n",
      "13/13 [==============================] - 15s 1s/step - loss: 2.1617e-04 - val_loss: 0.0096\n",
      "Epoch 36/100\n",
      "13/13 [==============================] - 15s 1s/step - loss: 1.9771e-04 - val_loss: 0.0140\n",
      "Epoch 37/100\n",
      "13/13 [==============================] - 14s 1s/step - loss: 1.9868e-04 - val_loss: 0.0118\n",
      "Epoch 38/100\n",
      "13/13 [==============================] - 11s 889ms/step - loss: 1.9625e-04 - val_loss: 0.0089\n",
      "Epoch 39/100\n",
      " 4/13 [========>.....................] - ETA: 9s - loss: 2.0543e-04 "
     ]
    },
    {
     "ename": "KeyboardInterrupt",
     "evalue": "",
     "output_type": "error",
     "traceback": [
      "\u001b[1;31m---------------------------------------------------------------------------\u001b[0m",
      "\u001b[1;31mKeyboardInterrupt\u001b[0m                         Traceback (most recent call last)",
      "Cell \u001b[1;32mIn[27], line 1\u001b[0m\n\u001b[1;32m----> 1\u001b[0m \u001b[43mmodel\u001b[49m\u001b[38;5;241;43m.\u001b[39;49m\u001b[43mfit\u001b[49m\u001b[43m(\u001b[49m\u001b[43mX_train\u001b[49m\u001b[43m,\u001b[49m\u001b[43my_train\u001b[49m\u001b[43m,\u001b[49m\u001b[43mvalidation_data\u001b[49m\u001b[38;5;241;43m=\u001b[39;49m\u001b[43m(\u001b[49m\u001b[43mX_test\u001b[49m\u001b[43m,\u001b[49m\u001b[43my_test\u001b[49m\u001b[43m)\u001b[49m\u001b[43m,\u001b[49m\u001b[43m \u001b[49m\u001b[43mepochs\u001b[49m\u001b[38;5;241;43m=\u001b[39;49m\u001b[38;5;241;43m100\u001b[39;49m\u001b[43m,\u001b[49m\u001b[43m \u001b[49m\u001b[43mbatch_size\u001b[49m\u001b[38;5;241;43m=\u001b[39;49m\u001b[38;5;241;43m64\u001b[39;49m\u001b[43m,\u001b[49m\u001b[43m \u001b[49m\u001b[43mverbose\u001b[49m\u001b[38;5;241;43m=\u001b[39;49m\u001b[38;5;241;43m1\u001b[39;49m\u001b[43m)\u001b[49m\n",
      "File \u001b[1;32mc:\\Users\\Shivam\\anaconda3\\Lib\\site-packages\\keras\\src\\utils\\traceback_utils.py:65\u001b[0m, in \u001b[0;36mfilter_traceback.<locals>.error_handler\u001b[1;34m(*args, **kwargs)\u001b[0m\n\u001b[0;32m     63\u001b[0m filtered_tb \u001b[38;5;241m=\u001b[39m \u001b[38;5;28;01mNone\u001b[39;00m\n\u001b[0;32m     64\u001b[0m \u001b[38;5;28;01mtry\u001b[39;00m:\n\u001b[1;32m---> 65\u001b[0m     \u001b[38;5;28;01mreturn\u001b[39;00m \u001b[43mfn\u001b[49m\u001b[43m(\u001b[49m\u001b[38;5;241;43m*\u001b[39;49m\u001b[43margs\u001b[49m\u001b[43m,\u001b[49m\u001b[43m \u001b[49m\u001b[38;5;241;43m*\u001b[39;49m\u001b[38;5;241;43m*\u001b[39;49m\u001b[43mkwargs\u001b[49m\u001b[43m)\u001b[49m\n\u001b[0;32m     66\u001b[0m \u001b[38;5;28;01mexcept\u001b[39;00m \u001b[38;5;167;01mException\u001b[39;00m \u001b[38;5;28;01mas\u001b[39;00m e:\n\u001b[0;32m     67\u001b[0m     filtered_tb \u001b[38;5;241m=\u001b[39m _process_traceback_frames(e\u001b[38;5;241m.\u001b[39m__traceback__)\n",
      "File \u001b[1;32mc:\\Users\\Shivam\\anaconda3\\Lib\\site-packages\\keras\\src\\engine\\training.py:1783\u001b[0m, in \u001b[0;36mModel.fit\u001b[1;34m(self, x, y, batch_size, epochs, verbose, callbacks, validation_split, validation_data, shuffle, class_weight, sample_weight, initial_epoch, steps_per_epoch, validation_steps, validation_batch_size, validation_freq, max_queue_size, workers, use_multiprocessing)\u001b[0m\n\u001b[0;32m   1775\u001b[0m \u001b[38;5;28;01mwith\u001b[39;00m tf\u001b[38;5;241m.\u001b[39mprofiler\u001b[38;5;241m.\u001b[39mexperimental\u001b[38;5;241m.\u001b[39mTrace(\n\u001b[0;32m   1776\u001b[0m     \u001b[38;5;124m\"\u001b[39m\u001b[38;5;124mtrain\u001b[39m\u001b[38;5;124m\"\u001b[39m,\n\u001b[0;32m   1777\u001b[0m     epoch_num\u001b[38;5;241m=\u001b[39mepoch,\n\u001b[1;32m   (...)\u001b[0m\n\u001b[0;32m   1780\u001b[0m     _r\u001b[38;5;241m=\u001b[39m\u001b[38;5;241m1\u001b[39m,\n\u001b[0;32m   1781\u001b[0m ):\n\u001b[0;32m   1782\u001b[0m     callbacks\u001b[38;5;241m.\u001b[39mon_train_batch_begin(step)\n\u001b[1;32m-> 1783\u001b[0m     tmp_logs \u001b[38;5;241m=\u001b[39m \u001b[38;5;28;43mself\u001b[39;49m\u001b[38;5;241;43m.\u001b[39;49m\u001b[43mtrain_function\u001b[49m\u001b[43m(\u001b[49m\u001b[43miterator\u001b[49m\u001b[43m)\u001b[49m\n\u001b[0;32m   1784\u001b[0m     \u001b[38;5;28;01mif\u001b[39;00m data_handler\u001b[38;5;241m.\u001b[39mshould_sync:\n\u001b[0;32m   1785\u001b[0m         context\u001b[38;5;241m.\u001b[39masync_wait()\n",
      "File \u001b[1;32mc:\\Users\\Shivam\\anaconda3\\Lib\\site-packages\\tensorflow\\python\\util\\traceback_utils.py:150\u001b[0m, in \u001b[0;36mfilter_traceback.<locals>.error_handler\u001b[1;34m(*args, **kwargs)\u001b[0m\n\u001b[0;32m    148\u001b[0m filtered_tb \u001b[38;5;241m=\u001b[39m \u001b[38;5;28;01mNone\u001b[39;00m\n\u001b[0;32m    149\u001b[0m \u001b[38;5;28;01mtry\u001b[39;00m:\n\u001b[1;32m--> 150\u001b[0m   \u001b[38;5;28;01mreturn\u001b[39;00m \u001b[43mfn\u001b[49m\u001b[43m(\u001b[49m\u001b[38;5;241;43m*\u001b[39;49m\u001b[43margs\u001b[49m\u001b[43m,\u001b[49m\u001b[43m \u001b[49m\u001b[38;5;241;43m*\u001b[39;49m\u001b[38;5;241;43m*\u001b[39;49m\u001b[43mkwargs\u001b[49m\u001b[43m)\u001b[49m\n\u001b[0;32m    151\u001b[0m \u001b[38;5;28;01mexcept\u001b[39;00m \u001b[38;5;167;01mException\u001b[39;00m \u001b[38;5;28;01mas\u001b[39;00m e:\n\u001b[0;32m    152\u001b[0m   filtered_tb \u001b[38;5;241m=\u001b[39m _process_traceback_frames(e\u001b[38;5;241m.\u001b[39m__traceback__)\n",
      "File \u001b[1;32mc:\\Users\\Shivam\\anaconda3\\Lib\\site-packages\\tensorflow\\python\\eager\\polymorphic_function\\polymorphic_function.py:831\u001b[0m, in \u001b[0;36mFunction.__call__\u001b[1;34m(self, *args, **kwds)\u001b[0m\n\u001b[0;32m    828\u001b[0m compiler \u001b[38;5;241m=\u001b[39m \u001b[38;5;124m\"\u001b[39m\u001b[38;5;124mxla\u001b[39m\u001b[38;5;124m\"\u001b[39m \u001b[38;5;28;01mif\u001b[39;00m \u001b[38;5;28mself\u001b[39m\u001b[38;5;241m.\u001b[39m_jit_compile \u001b[38;5;28;01melse\u001b[39;00m \u001b[38;5;124m\"\u001b[39m\u001b[38;5;124mnonXla\u001b[39m\u001b[38;5;124m\"\u001b[39m\n\u001b[0;32m    830\u001b[0m \u001b[38;5;28;01mwith\u001b[39;00m OptionalXlaContext(\u001b[38;5;28mself\u001b[39m\u001b[38;5;241m.\u001b[39m_jit_compile):\n\u001b[1;32m--> 831\u001b[0m   result \u001b[38;5;241m=\u001b[39m \u001b[38;5;28;43mself\u001b[39;49m\u001b[38;5;241;43m.\u001b[39;49m\u001b[43m_call\u001b[49m\u001b[43m(\u001b[49m\u001b[38;5;241;43m*\u001b[39;49m\u001b[43margs\u001b[49m\u001b[43m,\u001b[49m\u001b[43m \u001b[49m\u001b[38;5;241;43m*\u001b[39;49m\u001b[38;5;241;43m*\u001b[39;49m\u001b[43mkwds\u001b[49m\u001b[43m)\u001b[49m\n\u001b[0;32m    833\u001b[0m new_tracing_count \u001b[38;5;241m=\u001b[39m \u001b[38;5;28mself\u001b[39m\u001b[38;5;241m.\u001b[39mexperimental_get_tracing_count()\n\u001b[0;32m    834\u001b[0m without_tracing \u001b[38;5;241m=\u001b[39m (tracing_count \u001b[38;5;241m==\u001b[39m new_tracing_count)\n",
      "File \u001b[1;32mc:\\Users\\Shivam\\anaconda3\\Lib\\site-packages\\tensorflow\\python\\eager\\polymorphic_function\\polymorphic_function.py:867\u001b[0m, in \u001b[0;36mFunction._call\u001b[1;34m(self, *args, **kwds)\u001b[0m\n\u001b[0;32m    864\u001b[0m   \u001b[38;5;28mself\u001b[39m\u001b[38;5;241m.\u001b[39m_lock\u001b[38;5;241m.\u001b[39mrelease()\n\u001b[0;32m    865\u001b[0m   \u001b[38;5;66;03m# In this case we have created variables on the first call, so we run the\u001b[39;00m\n\u001b[0;32m    866\u001b[0m   \u001b[38;5;66;03m# defunned version which is guaranteed to never create variables.\u001b[39;00m\n\u001b[1;32m--> 867\u001b[0m   \u001b[38;5;28;01mreturn\u001b[39;00m \u001b[43mtracing_compilation\u001b[49m\u001b[38;5;241;43m.\u001b[39;49m\u001b[43mcall_function\u001b[49m\u001b[43m(\u001b[49m\n\u001b[0;32m    868\u001b[0m \u001b[43m      \u001b[49m\u001b[43margs\u001b[49m\u001b[43m,\u001b[49m\u001b[43m \u001b[49m\u001b[43mkwds\u001b[49m\u001b[43m,\u001b[49m\u001b[43m \u001b[49m\u001b[38;5;28;43mself\u001b[39;49m\u001b[38;5;241;43m.\u001b[39;49m\u001b[43m_no_variable_creation_config\u001b[49m\n\u001b[0;32m    869\u001b[0m \u001b[43m  \u001b[49m\u001b[43m)\u001b[49m\n\u001b[0;32m    870\u001b[0m \u001b[38;5;28;01melif\u001b[39;00m \u001b[38;5;28mself\u001b[39m\u001b[38;5;241m.\u001b[39m_variable_creation_config \u001b[38;5;129;01mis\u001b[39;00m \u001b[38;5;129;01mnot\u001b[39;00m \u001b[38;5;28;01mNone\u001b[39;00m:\n\u001b[0;32m    871\u001b[0m   \u001b[38;5;66;03m# Release the lock early so that multiple threads can perform the call\u001b[39;00m\n\u001b[0;32m    872\u001b[0m   \u001b[38;5;66;03m# in parallel.\u001b[39;00m\n\u001b[0;32m    873\u001b[0m   \u001b[38;5;28mself\u001b[39m\u001b[38;5;241m.\u001b[39m_lock\u001b[38;5;241m.\u001b[39mrelease()\n",
      "File \u001b[1;32mc:\\Users\\Shivam\\anaconda3\\Lib\\site-packages\\tensorflow\\python\\eager\\polymorphic_function\\tracing_compilation.py:139\u001b[0m, in \u001b[0;36mcall_function\u001b[1;34m(args, kwargs, tracing_options)\u001b[0m\n\u001b[0;32m    137\u001b[0m bound_args \u001b[38;5;241m=\u001b[39m function\u001b[38;5;241m.\u001b[39mfunction_type\u001b[38;5;241m.\u001b[39mbind(\u001b[38;5;241m*\u001b[39margs, \u001b[38;5;241m*\u001b[39m\u001b[38;5;241m*\u001b[39mkwargs)\n\u001b[0;32m    138\u001b[0m flat_inputs \u001b[38;5;241m=\u001b[39m function\u001b[38;5;241m.\u001b[39mfunction_type\u001b[38;5;241m.\u001b[39munpack_inputs(bound_args)\n\u001b[1;32m--> 139\u001b[0m \u001b[38;5;28;01mreturn\u001b[39;00m \u001b[43mfunction\u001b[49m\u001b[38;5;241;43m.\u001b[39;49m\u001b[43m_call_flat\u001b[49m\u001b[43m(\u001b[49m\u001b[43m  \u001b[49m\u001b[38;5;66;43;03m# pylint: disable=protected-access\u001b[39;49;00m\n\u001b[0;32m    140\u001b[0m \u001b[43m    \u001b[49m\u001b[43mflat_inputs\u001b[49m\u001b[43m,\u001b[49m\u001b[43m \u001b[49m\u001b[43mcaptured_inputs\u001b[49m\u001b[38;5;241;43m=\u001b[39;49m\u001b[43mfunction\u001b[49m\u001b[38;5;241;43m.\u001b[39;49m\u001b[43mcaptured_inputs\u001b[49m\n\u001b[0;32m    141\u001b[0m \u001b[43m\u001b[49m\u001b[43m)\u001b[49m\n",
      "File \u001b[1;32mc:\\Users\\Shivam\\anaconda3\\Lib\\site-packages\\tensorflow\\python\\eager\\polymorphic_function\\concrete_function.py:1264\u001b[0m, in \u001b[0;36mConcreteFunction._call_flat\u001b[1;34m(self, tensor_inputs, captured_inputs)\u001b[0m\n\u001b[0;32m   1260\u001b[0m possible_gradient_type \u001b[38;5;241m=\u001b[39m gradients_util\u001b[38;5;241m.\u001b[39mPossibleTapeGradientTypes(args)\n\u001b[0;32m   1261\u001b[0m \u001b[38;5;28;01mif\u001b[39;00m (possible_gradient_type \u001b[38;5;241m==\u001b[39m gradients_util\u001b[38;5;241m.\u001b[39mPOSSIBLE_GRADIENT_TYPES_NONE\n\u001b[0;32m   1262\u001b[0m     \u001b[38;5;129;01mand\u001b[39;00m executing_eagerly):\n\u001b[0;32m   1263\u001b[0m   \u001b[38;5;66;03m# No tape is watching; skip to running the function.\u001b[39;00m\n\u001b[1;32m-> 1264\u001b[0m   \u001b[38;5;28;01mreturn\u001b[39;00m \u001b[38;5;28;43mself\u001b[39;49m\u001b[38;5;241;43m.\u001b[39;49m\u001b[43m_inference_function\u001b[49m\u001b[38;5;241;43m.\u001b[39;49m\u001b[43mflat_call\u001b[49m\u001b[43m(\u001b[49m\u001b[43margs\u001b[49m\u001b[43m)\u001b[49m\n\u001b[0;32m   1265\u001b[0m forward_backward \u001b[38;5;241m=\u001b[39m \u001b[38;5;28mself\u001b[39m\u001b[38;5;241m.\u001b[39m_select_forward_and_backward_functions(\n\u001b[0;32m   1266\u001b[0m     args,\n\u001b[0;32m   1267\u001b[0m     possible_gradient_type,\n\u001b[0;32m   1268\u001b[0m     executing_eagerly)\n\u001b[0;32m   1269\u001b[0m forward_function, args_with_tangents \u001b[38;5;241m=\u001b[39m forward_backward\u001b[38;5;241m.\u001b[39mforward()\n",
      "File \u001b[1;32mc:\\Users\\Shivam\\anaconda3\\Lib\\site-packages\\tensorflow\\python\\eager\\polymorphic_function\\atomic_function.py:217\u001b[0m, in \u001b[0;36mAtomicFunction.flat_call\u001b[1;34m(self, args)\u001b[0m\n\u001b[0;32m    215\u001b[0m \u001b[38;5;28;01mdef\u001b[39;00m \u001b[38;5;21mflat_call\u001b[39m(\u001b[38;5;28mself\u001b[39m, args: Sequence[core\u001b[38;5;241m.\u001b[39mTensor]) \u001b[38;5;241m-\u001b[39m\u001b[38;5;241m>\u001b[39m Any:\n\u001b[0;32m    216\u001b[0m \u001b[38;5;250m  \u001b[39m\u001b[38;5;124;03m\"\"\"Calls with tensor inputs and returns the structured output.\"\"\"\u001b[39;00m\n\u001b[1;32m--> 217\u001b[0m   flat_outputs \u001b[38;5;241m=\u001b[39m \u001b[38;5;28;43mself\u001b[39;49m\u001b[43m(\u001b[49m\u001b[38;5;241;43m*\u001b[39;49m\u001b[43margs\u001b[49m\u001b[43m)\u001b[49m\n\u001b[0;32m    218\u001b[0m   \u001b[38;5;28;01mreturn\u001b[39;00m \u001b[38;5;28mself\u001b[39m\u001b[38;5;241m.\u001b[39mfunction_type\u001b[38;5;241m.\u001b[39mpack_output(flat_outputs)\n",
      "File \u001b[1;32mc:\\Users\\Shivam\\anaconda3\\Lib\\site-packages\\tensorflow\\python\\eager\\polymorphic_function\\atomic_function.py:252\u001b[0m, in \u001b[0;36mAtomicFunction.__call__\u001b[1;34m(self, *args)\u001b[0m\n\u001b[0;32m    250\u001b[0m \u001b[38;5;28;01mwith\u001b[39;00m record\u001b[38;5;241m.\u001b[39mstop_recording():\n\u001b[0;32m    251\u001b[0m   \u001b[38;5;28;01mif\u001b[39;00m \u001b[38;5;28mself\u001b[39m\u001b[38;5;241m.\u001b[39m_bound_context\u001b[38;5;241m.\u001b[39mexecuting_eagerly():\n\u001b[1;32m--> 252\u001b[0m     outputs \u001b[38;5;241m=\u001b[39m \u001b[38;5;28;43mself\u001b[39;49m\u001b[38;5;241;43m.\u001b[39;49m\u001b[43m_bound_context\u001b[49m\u001b[38;5;241;43m.\u001b[39;49m\u001b[43mcall_function\u001b[49m\u001b[43m(\u001b[49m\n\u001b[0;32m    253\u001b[0m \u001b[43m        \u001b[49m\u001b[38;5;28;43mself\u001b[39;49m\u001b[38;5;241;43m.\u001b[39;49m\u001b[43mname\u001b[49m\u001b[43m,\u001b[49m\n\u001b[0;32m    254\u001b[0m \u001b[43m        \u001b[49m\u001b[38;5;28;43mlist\u001b[39;49m\u001b[43m(\u001b[49m\u001b[43margs\u001b[49m\u001b[43m)\u001b[49m\u001b[43m,\u001b[49m\n\u001b[0;32m    255\u001b[0m \u001b[43m        \u001b[49m\u001b[38;5;28;43mlen\u001b[39;49m\u001b[43m(\u001b[49m\u001b[38;5;28;43mself\u001b[39;49m\u001b[38;5;241;43m.\u001b[39;49m\u001b[43mfunction_type\u001b[49m\u001b[38;5;241;43m.\u001b[39;49m\u001b[43mflat_outputs\u001b[49m\u001b[43m)\u001b[49m\u001b[43m,\u001b[49m\n\u001b[0;32m    256\u001b[0m \u001b[43m    \u001b[49m\u001b[43m)\u001b[49m\n\u001b[0;32m    257\u001b[0m   \u001b[38;5;28;01melse\u001b[39;00m:\n\u001b[0;32m    258\u001b[0m     outputs \u001b[38;5;241m=\u001b[39m make_call_op_in_graph(\n\u001b[0;32m    259\u001b[0m         \u001b[38;5;28mself\u001b[39m,\n\u001b[0;32m    260\u001b[0m         \u001b[38;5;28mlist\u001b[39m(args),\n\u001b[0;32m    261\u001b[0m         \u001b[38;5;28mself\u001b[39m\u001b[38;5;241m.\u001b[39m_bound_context\u001b[38;5;241m.\u001b[39mfunction_call_options\u001b[38;5;241m.\u001b[39mas_attrs(),\n\u001b[0;32m    262\u001b[0m     )\n",
      "File \u001b[1;32mc:\\Users\\Shivam\\anaconda3\\Lib\\site-packages\\tensorflow\\python\\eager\\context.py:1479\u001b[0m, in \u001b[0;36mContext.call_function\u001b[1;34m(self, name, tensor_inputs, num_outputs)\u001b[0m\n\u001b[0;32m   1477\u001b[0m cancellation_context \u001b[38;5;241m=\u001b[39m cancellation\u001b[38;5;241m.\u001b[39mcontext()\n\u001b[0;32m   1478\u001b[0m \u001b[38;5;28;01mif\u001b[39;00m cancellation_context \u001b[38;5;129;01mis\u001b[39;00m \u001b[38;5;28;01mNone\u001b[39;00m:\n\u001b[1;32m-> 1479\u001b[0m   outputs \u001b[38;5;241m=\u001b[39m \u001b[43mexecute\u001b[49m\u001b[38;5;241;43m.\u001b[39;49m\u001b[43mexecute\u001b[49m\u001b[43m(\u001b[49m\n\u001b[0;32m   1480\u001b[0m \u001b[43m      \u001b[49m\u001b[43mname\u001b[49m\u001b[38;5;241;43m.\u001b[39;49m\u001b[43mdecode\u001b[49m\u001b[43m(\u001b[49m\u001b[38;5;124;43m\"\u001b[39;49m\u001b[38;5;124;43mutf-8\u001b[39;49m\u001b[38;5;124;43m\"\u001b[39;49m\u001b[43m)\u001b[49m\u001b[43m,\u001b[49m\n\u001b[0;32m   1481\u001b[0m \u001b[43m      \u001b[49m\u001b[43mnum_outputs\u001b[49m\u001b[38;5;241;43m=\u001b[39;49m\u001b[43mnum_outputs\u001b[49m\u001b[43m,\u001b[49m\n\u001b[0;32m   1482\u001b[0m \u001b[43m      \u001b[49m\u001b[43minputs\u001b[49m\u001b[38;5;241;43m=\u001b[39;49m\u001b[43mtensor_inputs\u001b[49m\u001b[43m,\u001b[49m\n\u001b[0;32m   1483\u001b[0m \u001b[43m      \u001b[49m\u001b[43mattrs\u001b[49m\u001b[38;5;241;43m=\u001b[39;49m\u001b[43mattrs\u001b[49m\u001b[43m,\u001b[49m\n\u001b[0;32m   1484\u001b[0m \u001b[43m      \u001b[49m\u001b[43mctx\u001b[49m\u001b[38;5;241;43m=\u001b[39;49m\u001b[38;5;28;43mself\u001b[39;49m\u001b[43m,\u001b[49m\n\u001b[0;32m   1485\u001b[0m \u001b[43m  \u001b[49m\u001b[43m)\u001b[49m\n\u001b[0;32m   1486\u001b[0m \u001b[38;5;28;01melse\u001b[39;00m:\n\u001b[0;32m   1487\u001b[0m   outputs \u001b[38;5;241m=\u001b[39m execute\u001b[38;5;241m.\u001b[39mexecute_with_cancellation(\n\u001b[0;32m   1488\u001b[0m       name\u001b[38;5;241m.\u001b[39mdecode(\u001b[38;5;124m\"\u001b[39m\u001b[38;5;124mutf-8\u001b[39m\u001b[38;5;124m\"\u001b[39m),\n\u001b[0;32m   1489\u001b[0m       num_outputs\u001b[38;5;241m=\u001b[39mnum_outputs,\n\u001b[1;32m   (...)\u001b[0m\n\u001b[0;32m   1493\u001b[0m       cancellation_manager\u001b[38;5;241m=\u001b[39mcancellation_context,\n\u001b[0;32m   1494\u001b[0m   )\n",
      "File \u001b[1;32mc:\\Users\\Shivam\\anaconda3\\Lib\\site-packages\\tensorflow\\python\\eager\\execute.py:60\u001b[0m, in \u001b[0;36mquick_execute\u001b[1;34m(op_name, num_outputs, inputs, attrs, ctx, name)\u001b[0m\n\u001b[0;32m     53\u001b[0m   \u001b[38;5;66;03m# Convert any objects of type core_types.Tensor to Tensor.\u001b[39;00m\n\u001b[0;32m     54\u001b[0m   inputs \u001b[38;5;241m=\u001b[39m [\n\u001b[0;32m     55\u001b[0m       tensor_conversion_registry\u001b[38;5;241m.\u001b[39mconvert(t)\n\u001b[0;32m     56\u001b[0m       \u001b[38;5;28;01mif\u001b[39;00m \u001b[38;5;28misinstance\u001b[39m(t, core_types\u001b[38;5;241m.\u001b[39mTensor)\n\u001b[0;32m     57\u001b[0m       \u001b[38;5;28;01melse\u001b[39;00m t\n\u001b[0;32m     58\u001b[0m       \u001b[38;5;28;01mfor\u001b[39;00m t \u001b[38;5;129;01min\u001b[39;00m inputs\n\u001b[0;32m     59\u001b[0m   ]\n\u001b[1;32m---> 60\u001b[0m   tensors \u001b[38;5;241m=\u001b[39m \u001b[43mpywrap_tfe\u001b[49m\u001b[38;5;241;43m.\u001b[39;49m\u001b[43mTFE_Py_Execute\u001b[49m\u001b[43m(\u001b[49m\u001b[43mctx\u001b[49m\u001b[38;5;241;43m.\u001b[39;49m\u001b[43m_handle\u001b[49m\u001b[43m,\u001b[49m\u001b[43m \u001b[49m\u001b[43mdevice_name\u001b[49m\u001b[43m,\u001b[49m\u001b[43m \u001b[49m\u001b[43mop_name\u001b[49m\u001b[43m,\u001b[49m\n\u001b[0;32m     61\u001b[0m \u001b[43m                                      \u001b[49m\u001b[43minputs\u001b[49m\u001b[43m,\u001b[49m\u001b[43m \u001b[49m\u001b[43mattrs\u001b[49m\u001b[43m,\u001b[49m\u001b[43m \u001b[49m\u001b[43mnum_outputs\u001b[49m\u001b[43m)\u001b[49m\n\u001b[0;32m     62\u001b[0m \u001b[38;5;28;01mexcept\u001b[39;00m core\u001b[38;5;241m.\u001b[39m_NotOkStatusException \u001b[38;5;28;01mas\u001b[39;00m e:\n\u001b[0;32m     63\u001b[0m   \u001b[38;5;28;01mif\u001b[39;00m name \u001b[38;5;129;01mis\u001b[39;00m \u001b[38;5;129;01mnot\u001b[39;00m \u001b[38;5;28;01mNone\u001b[39;00m:\n",
      "\u001b[1;31mKeyboardInterrupt\u001b[0m: "
     ]
    }
   ],
   "source": [
    "model.fit(X_train,y_train,validation_data=(X_test,y_test), epochs=100, batch_size=64, verbose=1)"
   ]
  },
  {
   "cell_type": "code",
   "execution_count": 29,
   "metadata": {},
   "outputs": [
    {
     "name": "stdout",
     "output_type": "stream",
     "text": [
      "22/22 [==============================] - 3s 58ms/step\n",
      "11/11 [==============================] - 1s 57ms/step\n"
     ]
    }
   ],
   "source": [
    "train_predict = model.predict(X_train)\n",
    "test_predict = model.predict(X_test)"
   ]
  },
  {
   "cell_type": "code",
   "execution_count": 30,
   "metadata": {},
   "outputs": [
    {
     "data": {
      "text/plain": [
       "0.009311571222322117"
      ]
     },
     "execution_count": 30,
     "metadata": {},
     "output_type": "execute_result"
    }
   ],
   "source": [
    "import math\n",
    "from sklearn.metrics import mean_squared_error\n",
    "\n",
    "math.sqrt(mean_squared_error(y_train,train_predict))"
   ]
  },
  {
   "cell_type": "code",
   "execution_count": 31,
   "metadata": {},
   "outputs": [
    {
     "data": {
      "text/plain": [
       "0.0498528744228842"
      ]
     },
     "execution_count": 31,
     "metadata": {},
     "output_type": "execute_result"
    }
   ],
   "source": [
    "math.sqrt(mean_squared_error(y_test, test_predict))"
   ]
  },
  {
   "cell_type": "code",
   "execution_count": 51,
   "metadata": {},
   "outputs": [
    {
     "data": {
      "image/png": "[encoded data removed]",
      "text/plain": [
       "<Figure size 640x480 with 1 Axes>"
      ]
     },
     "metadata": {},
     "output_type": "display_data"
    }
   ],
   "source": [
    "### Plotting \n",
    "# shift train predictions for plotting\n",
    "look_back=100\n",
    "trainPredictPlot = np.empty_like(df2)\n",
    "trainPredictPlot[:, :] = np.nan\n",
    "trainPredictPlot[look_back:len(train_predict)+look_back, :] = train_predict\n",
    "# shift test predictions for plotting\n",
    "testPredictPlot = np.empty_like(df2)\n",
    "testPredictPlot[:, :] = np.nan\n",
    "testPredictPlot[len(train_predict)+(look_back*2)+1:len(df2)-1, :] = test_predict\n",
    "# plot baseline and predictions\n",
    "plt.plot(scaler.inverse_transform(df2))\n",
    "plt.plot(trainPredictPlot)\n",
    "plt.plot(testPredictPlot)\n",
    "plt.show()"
   ]
  },
  {
   "cell_type": "code",
   "execution_count": 33,
   "metadata": {},
   "outputs": [
    {
     "data": {
      "text/plain": [
       "433"
      ]
     },
     "execution_count": 33,
     "metadata": {},
     "output_type": "execute_result"
    }
   ],
   "source": [
    "len(test_data)"
   ]
  },
  {
   "cell_type": "code",
   "execution_count": 34,
   "metadata": {},
   "outputs": [
    {
     "data": {
      "text/plain": [
       "(1, 100)"
      ]
     },
     "execution_count": 34,
     "metadata": {},
     "output_type": "execute_result"
    }
   ],
   "source": [
    "x_input=test_data[333:].reshape(1,-1)\n",
    "x_input.shape"
   ]
  },
  {
   "cell_type": "code",
   "execution_count": 35,
   "metadata": {},
   "outputs": [],
   "source": [
    "temp_input = list(x_input)\n",
    "temp_input = temp_input[0].tolist()"
   ]
  },
  {
   "cell_type": "code",
   "execution_count": 36,
   "metadata": {},
   "outputs": [
    {
     "data": {
      "text/plain": [
       "[0.515896951686873,\n",
       " 0.5165931405688657,\n",
       " 0.4998839699951444,\n",
       " 0.4991877457017131,\n",
       " 0.506149882401711,\n",
       " 0.4947783487842735,\n",
       " 0.5168252271371557,\n",
       " 0.5152007628048801,\n",
       " 0.5142724165317203,\n",
       " 0.5035971426191527,\n",
       " 0.5165931405688657,\n",
       " 0.5226270372300195,\n",
       " 0.5075423309885737,\n",
       " 0.5075423309885737,\n",
       " 0.4889765386914098,\n",
       " 0.45439776470251714,\n",
       " 0.44766767915937067,\n",
       " 0.45486190242765856,\n",
       " 0.4539336269773758,\n",
       " 0.4680900223571002,\n",
       " 0.4687862466505316,\n",
       " 0.47203528154939844,\n",
       " 0.50220469403229,\n",
       " 0.5047575046377254,\n",
       " 0.511487590180872,\n",
       " 0.506381968970001,\n",
       " 0.48944071182798965,\n",
       " 0.4917614358651352,\n",
       " 0.506846142106581,\n",
       " 0.5414249160954735,\n",
       " 0.5456021910331845,\n",
       " 0.5514040011260483,\n",
       " 0.5662566916220811,\n",
       " 0.562079345861493,\n",
       " 0.5558134334549264,\n",
       " 0.5630076213117758,\n",
       " 0.5704339665597923,\n",
       " 0.6145277232655568,\n",
       " 0.632165240112438,\n",
       " 0.673938272781057,\n",
       " 0.6990020640530776,\n",
       " 0.6992341506213676,\n",
       " 0.7157113054496761,\n",
       " 0.7280111145173963,\n",
       " 0.7361336486474056,\n",
       " 0.7586447001368678,\n",
       " 0.7280111145173963,\n",
       " 0.7417033721719793,\n",
       " 0.7335808380419702,\n",
       " 0.7417033721719793,\n",
       " 0.7498259063019886,\n",
       " 0.7505221660068586,\n",
       " 0.7776745947477347,\n",
       " 0.7653747856800144,\n",
       " 0.7061963227328041,\n",
       " 0.7454165447959876,\n",
       " 0.7354374597654129,\n",
       " 0.7535390789259969,\n",
       " 0.7523787169074241,\n",
       " 0.8018101813923496,\n",
       " 0.8062195428983506,\n",
       " 0.827570161546363,\n",
       " 0.8454397649615342,\n",
       " 0.8101647312677717,\n",
       " 0.8131817150097871,\n",
       " 0.8166628010655054,\n",
       " 0.81364581732349,\n",
       " 0.8157345256152225,\n",
       " 0.8345323336577994,\n",
       " 0.8257136106457974,\n",
       " 0.8196797139846437,\n",
       " 0.8419586789058159,\n",
       " 0.8500812130358252,\n",
       " 0.8691111784695691,\n",
       " 0.892550434586437,\n",
       " 0.9394290884659269,\n",
       " 0.8498491264675352,\n",
       " 0.8821071764192823,\n",
       " 0.9285216571621921,\n",
       " 0.9350197269599259,\n",
       " 0.9658853283248103,\n",
       " 0.9672777769116729,\n",
       " 0.9637966908559548,\n",
       " 0.9930378278885634,\n",
       " 1.0,\n",
       " 0.9837549317399814,\n",
       " 0.9825945697214087,\n",
       " 0.9791134836656905,\n",
       " 0.9640287774242446,\n",
       " 0.9136690374890364,\n",
       " 0.8981202289338879,\n",
       " 0.9496402600647917,\n",
       " 0.9640287774242446,\n",
       " 0.9561383298625254,\n",
       " 0.9554420701576556,\n",
       " 0.9795775859793934,\n",
       " 0.9378045533107742,\n",
       " 0.9684381389302457,\n",
       " 0.9735437601411168,\n",
       " 0.9663495014613901]"
      ]
     },
     "execution_count": 36,
     "metadata": {},
     "output_type": "execute_result"
    }
   ],
   "source": [
    "temp_input"
   ]
  },
  {
   "cell_type": "code",
   "execution_count": 37,
   "metadata": {},
   "outputs": [
    {
     "name": "stdout",
     "output_type": "stream",
     "text": [
      "[0.84075564]\n",
      "101\n",
      "1 day input [0.51659314 0.49988397 0.49918775 0.50614988 0.49477835 0.51682523\n",
      " 0.51520076 0.51427242 0.50359714 0.51659314 0.52262704 0.50754233\n",
      " 0.50754233 0.48897654 0.45439776 0.44766768 0.4548619  0.45393363\n",
      " 0.46809002 0.46878625 0.47203528 0.50220469 0.5047575  0.51148759\n",
      " 0.50638197 0.48944071 0.49176144 0.50684614 0.54142492 0.54560219\n",
      " 0.551404   0.56625669 0.56207935 0.55581343 0.56300762 0.57043397\n",
      " 0.61452772 0.63216524 0.67393827 0.69900206 0.69923415 0.71571131\n",
      " 0.72801111 0.73613365 0.7586447  0.72801111 0.74170337 0.73358084\n",
      " 0.74170337 0.74982591 0.75052217 0.77767459 0.76537479 0.70619632\n",
      " 0.74541654 0.73543746 0.75353908 0.75237872 0.80181018 0.80621954\n",
      " 0.82757016 0.84543976 0.81016473 0.81318172 0.8166628  0.81364582\n",
      " 0.81573453 0.83453233 0.82571361 0.81967971 0.84195868 0.85008121\n",
      " 0.86911118 0.89255043 0.93942909 0.84984913 0.88210718 0.92852166\n",
      " 0.93501973 0.96588533 0.96727778 0.96379669 0.99303783 1.\n",
      " 0.98375493 0.98259457 0.97911348 0.96402878 0.91366904 0.89812023\n",
      " 0.94964026 0.96402878 0.95613833 0.95544207 0.97957759 0.93780455\n",
      " 0.96843814 0.97354376 0.9663495  0.84075564]\n",
      "1 day output [[0.7631021]]\n",
      "2 day input [0.49988397 0.49918775 0.50614988 0.49477835 0.51682523 0.51520076\n",
      " 0.51427242 0.50359714 0.51659314 0.52262704 0.50754233 0.50754233\n",
      " 0.48897654 0.45439776 0.44766768 0.4548619  0.45393363 0.46809002\n",
      " 0.46878625 0.47203528 0.50220469 0.5047575  0.51148759 0.50638197\n",
      " 0.48944071 0.49176144 0.50684614 0.54142492 0.54560219 0.551404\n",
      " 0.56625669 0.56207935 0.55581343 0.56300762 0.57043397 0.61452772\n",
      " 0.63216524 0.67393827 0.69900206 0.69923415 0.71571131 0.72801111\n",
      " 0.73613365 0.7586447  0.72801111 0.74170337 0.73358084 0.74170337\n",
      " 0.74982591 0.75052217 0.77767459 0.76537479 0.70619632 0.74541654\n",
      " 0.73543746 0.75353908 0.75237872 0.80181018 0.80621954 0.82757016\n",
      " 0.84543976 0.81016473 0.81318172 0.8166628  0.81364582 0.81573453\n",
      " 0.83453233 0.82571361 0.81967971 0.84195868 0.85008121 0.86911118\n",
      " 0.89255043 0.93942909 0.84984913 0.88210718 0.92852166 0.93501973\n",
      " 0.96588533 0.96727778 0.96379669 0.99303783 1.         0.98375493\n",
      " 0.98259457 0.97911348 0.96402878 0.91366904 0.89812023 0.94964026\n",
      " 0.96402878 0.95613833 0.95544207 0.97957759 0.93780455 0.96843814\n",
      " 0.97354376 0.9663495  0.84075564 0.76310211]\n",
      "2 day output [[0.6737208]]\n",
      "3 day input [0.49918775 0.50614988 0.49477835 0.51682523 0.51520076 0.51427242\n",
      " 0.50359714 0.51659314 0.52262704 0.50754233 0.50754233 0.48897654\n",
      " 0.45439776 0.44766768 0.4548619  0.45393363 0.46809002 0.46878625\n",
      " 0.47203528 0.50220469 0.5047575  0.51148759 0.50638197 0.48944071\n",
      " 0.49176144 0.50684614 0.54142492 0.54560219 0.551404   0.56625669\n",
      " 0.56207935 0.55581343 0.56300762 0.57043397 0.61452772 0.63216524\n",
      " 0.67393827 0.69900206 0.69923415 0.71571131 0.72801111 0.73613365\n",
      " 0.7586447  0.72801111 0.74170337 0.73358084 0.74170337 0.74982591\n",
      " 0.75052217 0.77767459 0.76537479 0.70619632 0.74541654 0.73543746\n",
      " 0.75353908 0.75237872 0.80181018 0.80621954 0.82757016 0.84543976\n",
      " 0.81016473 0.81318172 0.8166628  0.81364582 0.81573453 0.83453233\n",
      " 0.82571361 0.81967971 0.84195868 0.85008121 0.86911118 0.89255043\n",
      " 0.93942909 0.84984913 0.88210718 0.92852166 0.93501973 0.96588533\n",
      " 0.96727778 0.96379669 0.99303783 1.         0.98375493 0.98259457\n",
      " 0.97911348 0.96402878 0.91366904 0.89812023 0.94964026 0.96402878\n",
      " 0.95613833 0.95544207 0.97957759 0.93780455 0.96843814 0.97354376\n",
      " 0.9663495  0.84075564 0.76310211 0.67372078]\n",
      "3 day output [[0.5998642]]\n",
      "4 day input [0.50614988 0.49477835 0.51682523 0.51520076 0.51427242 0.50359714\n",
      " 0.51659314 0.52262704 0.50754233 0.50754233 0.48897654 0.45439776\n",
      " 0.44766768 0.4548619  0.45393363 0.46809002 0.46878625 0.47203528\n",
      " 0.50220469 0.5047575  0.51148759 0.50638197 0.48944071 0.49176144\n",
      " 0.50684614 0.54142492 0.54560219 0.551404   0.56625669 0.56207935\n",
      " 0.55581343 0.56300762 0.57043397 0.61452772 0.63216524 0.67393827\n",
      " 0.69900206 0.69923415 0.71571131 0.72801111 0.73613365 0.7586447\n",
      " 0.72801111 0.74170337 0.73358084 0.74170337 0.74982591 0.75052217\n",
      " 0.77767459 0.76537479 0.70619632 0.74541654 0.73543746 0.75353908\n",
      " 0.75237872 0.80181018 0.80621954 0.82757016 0.84543976 0.81016473\n",
      " 0.81318172 0.8166628  0.81364582 0.81573453 0.83453233 0.82571361\n",
      " 0.81967971 0.84195868 0.85008121 0.86911118 0.89255043 0.93942909\n",
      " 0.84984913 0.88210718 0.92852166 0.93501973 0.96588533 0.96727778\n",
      " 0.96379669 0.99303783 1.         0.98375493 0.98259457 0.97911348\n",
      " 0.96402878 0.91366904 0.89812023 0.94964026 0.96402878 0.95613833\n",
      " 0.95544207 0.97957759 0.93780455 0.96843814 0.97354376 0.9663495\n",
      " 0.84075564 0.76310211 0.67372078 0.59986418]\n",
      "4 day output [[0.5470589]]\n",
      "5 day input [0.49477835 0.51682523 0.51520076 0.51427242 0.50359714 0.51659314\n",
      " 0.52262704 0.50754233 0.50754233 0.48897654 0.45439776 0.44766768\n",
      " 0.4548619  0.45393363 0.46809002 0.46878625 0.47203528 0.50220469\n",
      " 0.5047575  0.51148759 0.50638197 0.48944071 0.49176144 0.50684614\n",
      " 0.54142492 0.54560219 0.551404   0.56625669 0.56207935 0.55581343\n",
      " 0.56300762 0.57043397 0.61452772 0.63216524 0.67393827 0.69900206\n",
      " 0.69923415 0.71571131 0.72801111 0.73613365 0.7586447  0.72801111\n",
      " 0.74170337 0.73358084 0.74170337 0.74982591 0.75052217 0.77767459\n",
      " 0.76537479 0.70619632 0.74541654 0.73543746 0.75353908 0.75237872\n",
      " 0.80181018 0.80621954 0.82757016 0.84543976 0.81016473 0.81318172\n",
      " 0.8166628  0.81364582 0.81573453 0.83453233 0.82571361 0.81967971\n",
      " 0.84195868 0.85008121 0.86911118 0.89255043 0.93942909 0.84984913\n",
      " 0.88210718 0.92852166 0.93501973 0.96588533 0.96727778 0.96379669\n",
      " 0.99303783 1.         0.98375493 0.98259457 0.97911348 0.96402878\n",
      " 0.91366904 0.89812023 0.94964026 0.96402878 0.95613833 0.95544207\n",
      " 0.97957759 0.93780455 0.96843814 0.97354376 0.9663495  0.84075564\n",
      " 0.76310211 0.67372078 0.59986418 0.54705888]\n",
      "5 day output [[0.5132378]]\n",
      "6 day input [0.51682523 0.51520076 0.51427242 0.50359714 0.51659314 0.52262704\n",
      " 0.50754233 0.50754233 0.48897654 0.45439776 0.44766768 0.4548619\n",
      " 0.45393363 0.46809002 0.46878625 0.47203528 0.50220469 0.5047575\n",
      " 0.51148759 0.50638197 0.48944071 0.49176144 0.50684614 0.54142492\n",
      " 0.54560219 0.551404   0.56625669 0.56207935 0.55581343 0.56300762\n",
      " 0.57043397 0.61452772 0.63216524 0.67393827 0.69900206 0.69923415\n",
      " 0.71571131 0.72801111 0.73613365 0.7586447  0.72801111 0.74170337\n",
      " 0.73358084 0.74170337 0.74982591 0.75052217 0.77767459 0.76537479\n",
      " 0.70619632 0.74541654 0.73543746 0.75353908 0.75237872 0.80181018\n",
      " 0.80621954 0.82757016 0.84543976 0.81016473 0.81318172 0.8166628\n",
      " 0.81364582 0.81573453 0.83453233 0.82571361 0.81967971 0.84195868\n",
      " 0.85008121 0.86911118 0.89255043 0.93942909 0.84984913 0.88210718\n",
      " 0.92852166 0.93501973 0.96588533 0.96727778 0.96379669 0.99303783\n",
      " 1.         0.98375493 0.98259457 0.97911348 0.96402878 0.91366904\n",
      " 0.89812023 0.94964026 0.96402878 0.95613833 0.95544207 0.97957759\n",
      " 0.93780455 0.96843814 0.97354376 0.9663495  0.84075564 0.76310211\n",
      " 0.67372078 0.59986418 0.54705888 0.51323777]\n",
      "6 day output [[0.49333197]]\n",
      "7 day input [0.51520076 0.51427242 0.50359714 0.51659314 0.52262704 0.50754233\n",
      " 0.50754233 0.48897654 0.45439776 0.44766768 0.4548619  0.45393363\n",
      " 0.46809002 0.46878625 0.47203528 0.50220469 0.5047575  0.51148759\n",
      " 0.50638197 0.48944071 0.49176144 0.50684614 0.54142492 0.54560219\n",
      " 0.551404   0.56625669 0.56207935 0.55581343 0.56300762 0.57043397\n",
      " 0.61452772 0.63216524 0.67393827 0.69900206 0.69923415 0.71571131\n",
      " 0.72801111 0.73613365 0.7586447  0.72801111 0.74170337 0.73358084\n",
      " 0.74170337 0.74982591 0.75052217 0.77767459 0.76537479 0.70619632\n",
      " 0.74541654 0.73543746 0.75353908 0.75237872 0.80181018 0.80621954\n",
      " 0.82757016 0.84543976 0.81016473 0.81318172 0.8166628  0.81364582\n",
      " 0.81573453 0.83453233 0.82571361 0.81967971 0.84195868 0.85008121\n",
      " 0.86911118 0.89255043 0.93942909 0.84984913 0.88210718 0.92852166\n",
      " 0.93501973 0.96588533 0.96727778 0.96379669 0.99303783 1.\n",
      " 0.98375493 0.98259457 0.97911348 0.96402878 0.91366904 0.89812023\n",
      " 0.94964026 0.96402878 0.95613833 0.95544207 0.97957759 0.93780455\n",
      " 0.96843814 0.97354376 0.9663495  0.84075564 0.76310211 0.67372078\n",
      " 0.59986418 0.54705888 0.51323777 0.49333197]\n",
      "7 day output [[0.48167932]]\n",
      "8 day input [0.51427242 0.50359714 0.51659314 0.52262704 0.50754233 0.50754233\n",
      " 0.48897654 0.45439776 0.44766768 0.4548619  0.45393363 0.46809002\n",
      " 0.46878625 0.47203528 0.50220469 0.5047575  0.51148759 0.50638197\n",
      " 0.48944071 0.49176144 0.50684614 0.54142492 0.54560219 0.551404\n",
      " 0.56625669 0.56207935 0.55581343 0.56300762 0.57043397 0.61452772\n",
      " 0.63216524 0.67393827 0.69900206 0.69923415 0.71571131 0.72801111\n",
      " 0.73613365 0.7586447  0.72801111 0.74170337 0.73358084 0.74170337\n",
      " 0.74982591 0.75052217 0.77767459 0.76537479 0.70619632 0.74541654\n",
      " 0.73543746 0.75353908 0.75237872 0.80181018 0.80621954 0.82757016\n",
      " 0.84543976 0.81016473 0.81318172 0.8166628  0.81364582 0.81573453\n",
      " 0.83453233 0.82571361 0.81967971 0.84195868 0.85008121 0.86911118\n",
      " 0.89255043 0.93942909 0.84984913 0.88210718 0.92852166 0.93501973\n",
      " 0.96588533 0.96727778 0.96379669 0.99303783 1.         0.98375493\n",
      " 0.98259457 0.97911348 0.96402878 0.91366904 0.89812023 0.94964026\n",
      " 0.96402878 0.95613833 0.95544207 0.97957759 0.93780455 0.96843814\n",
      " 0.97354376 0.9663495  0.84075564 0.76310211 0.67372078 0.59986418\n",
      " 0.54705888 0.51323777 0.49333197 0.48167932]\n",
      "8 day output [[0.47328052]]\n",
      "9 day input [0.50359714 0.51659314 0.52262704 0.50754233 0.50754233 0.48897654\n",
      " 0.45439776 0.44766768 0.4548619  0.45393363 0.46809002 0.46878625\n",
      " 0.47203528 0.50220469 0.5047575  0.51148759 0.50638197 0.48944071\n",
      " 0.49176144 0.50684614 0.54142492 0.54560219 0.551404   0.56625669\n",
      " 0.56207935 0.55581343 0.56300762 0.57043397 0.61452772 0.63216524\n",
      " 0.67393827 0.69900206 0.69923415 0.71571131 0.72801111 0.73613365\n",
      " 0.7586447  0.72801111 0.74170337 0.73358084 0.74170337 0.74982591\n",
      " 0.75052217 0.77767459 0.76537479 0.70619632 0.74541654 0.73543746\n",
      " 0.75353908 0.75237872 0.80181018 0.80621954 0.82757016 0.84543976\n",
      " 0.81016473 0.81318172 0.8166628  0.81364582 0.81573453 0.83453233\n",
      " 0.82571361 0.81967971 0.84195868 0.85008121 0.86911118 0.89255043\n",
      " 0.93942909 0.84984913 0.88210718 0.92852166 0.93501973 0.96588533\n",
      " 0.96727778 0.96379669 0.99303783 1.         0.98375493 0.98259457\n",
      " 0.97911348 0.96402878 0.91366904 0.89812023 0.94964026 0.96402878\n",
      " 0.95613833 0.95544207 0.97957759 0.93780455 0.96843814 0.97354376\n",
      " 0.9663495  0.84075564 0.76310211 0.67372078 0.59986418 0.54705888\n",
      " 0.51323777 0.49333197 0.48167932 0.47328052]\n",
      "9 day output [[0.4643875]]\n",
      "10 day input [0.51659314 0.52262704 0.50754233 0.50754233 0.48897654 0.45439776\n",
      " 0.44766768 0.4548619  0.45393363 0.46809002 0.46878625 0.47203528\n",
      " 0.50220469 0.5047575  0.51148759 0.50638197 0.48944071 0.49176144\n",
      " 0.50684614 0.54142492 0.54560219 0.551404   0.56625669 0.56207935\n",
      " 0.55581343 0.56300762 0.57043397 0.61452772 0.63216524 0.67393827\n",
      " 0.69900206 0.69923415 0.71571131 0.72801111 0.73613365 0.7586447\n",
      " 0.72801111 0.74170337 0.73358084 0.74170337 0.74982591 0.75052217\n",
      " 0.77767459 0.76537479 0.70619632 0.74541654 0.73543746 0.75353908\n",
      " 0.75237872 0.80181018 0.80621954 0.82757016 0.84543976 0.81016473\n",
      " 0.81318172 0.8166628  0.81364582 0.81573453 0.83453233 0.82571361\n",
      " 0.81967971 0.84195868 0.85008121 0.86911118 0.89255043 0.93942909\n",
      " 0.84984913 0.88210718 0.92852166 0.93501973 0.96588533 0.96727778\n",
      " 0.96379669 0.99303783 1.         0.98375493 0.98259457 0.97911348\n",
      " 0.96402878 0.91366904 0.89812023 0.94964026 0.96402878 0.95613833\n",
      " 0.95544207 0.97957759 0.93780455 0.96843814 0.97354376 0.9663495\n",
      " 0.84075564 0.76310211 0.67372078 0.59986418 0.54705888 0.51323777\n",
      " 0.49333197 0.48167932 0.47328052 0.46438751]\n",
      "10 day output [[0.45274535]]\n",
      "11 day input [0.52262704 0.50754233 0.50754233 0.48897654 0.45439776 0.44766768\n",
      " 0.4548619  0.45393363 0.46809002 0.46878625 0.47203528 0.50220469\n",
      " 0.5047575  0.51148759 0.50638197 0.48944071 0.49176144 0.50684614\n",
      " 0.54142492 0.54560219 0.551404   0.56625669 0.56207935 0.55581343\n",
      " 0.56300762 0.57043397 0.61452772 0.63216524 0.67393827 0.69900206\n",
      " 0.69923415 0.71571131 0.72801111 0.73613365 0.7586447  0.72801111\n",
      " 0.74170337 0.73358084 0.74170337 0.74982591 0.75052217 0.77767459\n",
      " 0.76537479 0.70619632 0.74541654 0.73543746 0.75353908 0.75237872\n",
      " 0.80181018 0.80621954 0.82757016 0.84543976 0.81016473 0.81318172\n",
      " 0.8166628  0.81364582 0.81573453 0.83453233 0.82571361 0.81967971\n",
      " 0.84195868 0.85008121 0.86911118 0.89255043 0.93942909 0.84984913\n",
      " 0.88210718 0.92852166 0.93501973 0.96588533 0.96727778 0.96379669\n",
      " 0.99303783 1.         0.98375493 0.98259457 0.97911348 0.96402878\n",
      " 0.91366904 0.89812023 0.94964026 0.96402878 0.95613833 0.95544207\n",
      " 0.97957759 0.93780455 0.96843814 0.97354376 0.9663495  0.84075564\n",
      " 0.76310211 0.67372078 0.59986418 0.54705888 0.51323777 0.49333197\n",
      " 0.48167932 0.47328052 0.46438751 0.45274535]\n",
      "11 day output [[0.43756738]]\n",
      "12 day input [0.50754233 0.50754233 0.48897654 0.45439776 0.44766768 0.4548619\n",
      " 0.45393363 0.46809002 0.46878625 0.47203528 0.50220469 0.5047575\n",
      " 0.51148759 0.50638197 0.48944071 0.49176144 0.50684614 0.54142492\n",
      " 0.54560219 0.551404   0.56625669 0.56207935 0.55581343 0.56300762\n",
      " 0.57043397 0.61452772 0.63216524 0.67393827 0.69900206 0.69923415\n",
      " 0.71571131 0.72801111 0.73613365 0.7586447  0.72801111 0.74170337\n",
      " 0.73358084 0.74170337 0.74982591 0.75052217 0.77767459 0.76537479\n",
      " 0.70619632 0.74541654 0.73543746 0.75353908 0.75237872 0.80181018\n",
      " 0.80621954 0.82757016 0.84543976 0.81016473 0.81318172 0.8166628\n",
      " 0.81364582 0.81573453 0.83453233 0.82571361 0.81967971 0.84195868\n",
      " 0.85008121 0.86911118 0.89255043 0.93942909 0.84984913 0.88210718\n",
      " 0.92852166 0.93501973 0.96588533 0.96727778 0.96379669 0.99303783\n",
      " 1.         0.98375493 0.98259457 0.97911348 0.96402878 0.91366904\n",
      " 0.89812023 0.94964026 0.96402878 0.95613833 0.95544207 0.97957759\n",
      " 0.93780455 0.96843814 0.97354376 0.9663495  0.84075564 0.76310211\n",
      " 0.67372078 0.59986418 0.54705888 0.51323777 0.49333197 0.48167932\n",
      " 0.47328052 0.46438751 0.45274535 0.43756738]\n",
      "12 day output [[0.41927114]]\n",
      "13 day input [0.50754233 0.48897654 0.45439776 0.44766768 0.4548619  0.45393363\n",
      " 0.46809002 0.46878625 0.47203528 0.50220469 0.5047575  0.51148759\n",
      " 0.50638197 0.48944071 0.49176144 0.50684614 0.54142492 0.54560219\n",
      " 0.551404   0.56625669 0.56207935 0.55581343 0.56300762 0.57043397\n",
      " 0.61452772 0.63216524 0.67393827 0.69900206 0.69923415 0.71571131\n",
      " 0.72801111 0.73613365 0.7586447  0.72801111 0.74170337 0.73358084\n",
      " 0.74170337 0.74982591 0.75052217 0.77767459 0.76537479 0.70619632\n",
      " 0.74541654 0.73543746 0.75353908 0.75237872 0.80181018 0.80621954\n",
      " 0.82757016 0.84543976 0.81016473 0.81318172 0.8166628  0.81364582\n",
      " 0.81573453 0.83453233 0.82571361 0.81967971 0.84195868 0.85008121\n",
      " 0.86911118 0.89255043 0.93942909 0.84984913 0.88210718 0.92852166\n",
      " 0.93501973 0.96588533 0.96727778 0.96379669 0.99303783 1.\n",
      " 0.98375493 0.98259457 0.97911348 0.96402878 0.91366904 0.89812023\n",
      " 0.94964026 0.96402878 0.95613833 0.95544207 0.97957759 0.93780455\n",
      " 0.96843814 0.97354376 0.9663495  0.84075564 0.76310211 0.67372078\n",
      " 0.59986418 0.54705888 0.51323777 0.49333197 0.48167932 0.47328052\n",
      " 0.46438751 0.45274535 0.43756738 0.41927114]\n",
      "13 day output [[0.39904407]]\n",
      "14 day input [0.48897654 0.45439776 0.44766768 0.4548619  0.45393363 0.46809002\n",
      " 0.46878625 0.47203528 0.50220469 0.5047575  0.51148759 0.50638197\n",
      " 0.48944071 0.49176144 0.50684614 0.54142492 0.54560219 0.551404\n",
      " 0.56625669 0.56207935 0.55581343 0.56300762 0.57043397 0.61452772\n",
      " 0.63216524 0.67393827 0.69900206 0.69923415 0.71571131 0.72801111\n",
      " 0.73613365 0.7586447  0.72801111 0.74170337 0.73358084 0.74170337\n",
      " 0.74982591 0.75052217 0.77767459 0.76537479 0.70619632 0.74541654\n",
      " 0.73543746 0.75353908 0.75237872 0.80181018 0.80621954 0.82757016\n",
      " 0.84543976 0.81016473 0.81318172 0.8166628  0.81364582 0.81573453\n",
      " 0.83453233 0.82571361 0.81967971 0.84195868 0.85008121 0.86911118\n",
      " 0.89255043 0.93942909 0.84984913 0.88210718 0.92852166 0.93501973\n",
      " 0.96588533 0.96727778 0.96379669 0.99303783 1.         0.98375493\n",
      " 0.98259457 0.97911348 0.96402878 0.91366904 0.89812023 0.94964026\n",
      " 0.96402878 0.95613833 0.95544207 0.97957759 0.93780455 0.96843814\n",
      " 0.97354376 0.9663495  0.84075564 0.76310211 0.67372078 0.59986418\n",
      " 0.54705888 0.51323777 0.49333197 0.48167932 0.47328052 0.46438751\n",
      " 0.45274535 0.43756738 0.41927114 0.39904407]\n",
      "14 day output [[0.37836397]]\n",
      "15 day input [0.45439776 0.44766768 0.4548619  0.45393363 0.46809002 0.46878625\n",
      " 0.47203528 0.50220469 0.5047575  0.51148759 0.50638197 0.48944071\n",
      " 0.49176144 0.50684614 0.54142492 0.54560219 0.551404   0.56625669\n",
      " 0.56207935 0.55581343 0.56300762 0.57043397 0.61452772 0.63216524\n",
      " 0.67393827 0.69900206 0.69923415 0.71571131 0.72801111 0.73613365\n",
      " 0.7586447  0.72801111 0.74170337 0.73358084 0.74170337 0.74982591\n",
      " 0.75052217 0.77767459 0.76537479 0.70619632 0.74541654 0.73543746\n",
      " 0.75353908 0.75237872 0.80181018 0.80621954 0.82757016 0.84543976\n",
      " 0.81016473 0.81318172 0.8166628  0.81364582 0.81573453 0.83453233\n",
      " 0.82571361 0.81967971 0.84195868 0.85008121 0.86911118 0.89255043\n",
      " 0.93942909 0.84984913 0.88210718 0.92852166 0.93501973 0.96588533\n",
      " 0.96727778 0.96379669 0.99303783 1.         0.98375493 0.98259457\n",
      " 0.97911348 0.96402878 0.91366904 0.89812023 0.94964026 0.96402878\n",
      " 0.95613833 0.95544207 0.97957759 0.93780455 0.96843814 0.97354376\n",
      " 0.9663495  0.84075564 0.76310211 0.67372078 0.59986418 0.54705888\n",
      " 0.51323777 0.49333197 0.48167932 0.47328052 0.46438751 0.45274535\n",
      " 0.43756738 0.41927114 0.39904407 0.37836397]\n",
      "15 day output [[0.3585904]]\n",
      "16 day input [0.44766768 0.4548619  0.45393363 0.46809002 0.46878625 0.47203528\n",
      " 0.50220469 0.5047575  0.51148759 0.50638197 0.48944071 0.49176144\n",
      " 0.50684614 0.54142492 0.54560219 0.551404   0.56625669 0.56207935\n",
      " 0.55581343 0.56300762 0.57043397 0.61452772 0.63216524 0.67393827\n",
      " 0.69900206 0.69923415 0.71571131 0.72801111 0.73613365 0.7586447\n",
      " 0.72801111 0.74170337 0.73358084 0.74170337 0.74982591 0.75052217\n",
      " 0.77767459 0.76537479 0.70619632 0.74541654 0.73543746 0.75353908\n",
      " 0.75237872 0.80181018 0.80621954 0.82757016 0.84543976 0.81016473\n",
      " 0.81318172 0.8166628  0.81364582 0.81573453 0.83453233 0.82571361\n",
      " 0.81967971 0.84195868 0.85008121 0.86911118 0.89255043 0.93942909\n",
      " 0.84984913 0.88210718 0.92852166 0.93501973 0.96588533 0.96727778\n",
      " 0.96379669 0.99303783 1.         0.98375493 0.98259457 0.97911348\n",
      " 0.96402878 0.91366904 0.89812023 0.94964026 0.96402878 0.95613833\n",
      " 0.95544207 0.97957759 0.93780455 0.96843814 0.97354376 0.9663495\n",
      " 0.84075564 0.76310211 0.67372078 0.59986418 0.54705888 0.51323777\n",
      " 0.49333197 0.48167932 0.47328052 0.46438751 0.45274535 0.43756738\n",
      " 0.41927114 0.39904407 0.37836397 0.35859039]\n",
      "16 day output [[0.34070858]]\n",
      "17 day input [0.4548619  0.45393363 0.46809002 0.46878625 0.47203528 0.50220469\n",
      " 0.5047575  0.51148759 0.50638197 0.48944071 0.49176144 0.50684614\n",
      " 0.54142492 0.54560219 0.551404   0.56625669 0.56207935 0.55581343\n",
      " 0.56300762 0.57043397 0.61452772 0.63216524 0.67393827 0.69900206\n",
      " 0.69923415 0.71571131 0.72801111 0.73613365 0.7586447  0.72801111\n",
      " 0.74170337 0.73358084 0.74170337 0.74982591 0.75052217 0.77767459\n",
      " 0.76537479 0.70619632 0.74541654 0.73543746 0.75353908 0.75237872\n",
      " 0.80181018 0.80621954 0.82757016 0.84543976 0.81016473 0.81318172\n",
      " 0.8166628  0.81364582 0.81573453 0.83453233 0.82571361 0.81967971\n",
      " 0.84195868 0.85008121 0.86911118 0.89255043 0.93942909 0.84984913\n",
      " 0.88210718 0.92852166 0.93501973 0.96588533 0.96727778 0.96379669\n",
      " 0.99303783 1.         0.98375493 0.98259457 0.97911348 0.96402878\n",
      " 0.91366904 0.89812023 0.94964026 0.96402878 0.95613833 0.95544207\n",
      " 0.97957759 0.93780455 0.96843814 0.97354376 0.9663495  0.84075564\n",
      " 0.76310211 0.67372078 0.59986418 0.54705888 0.51323777 0.49333197\n",
      " 0.48167932 0.47328052 0.46438751 0.45274535 0.43756738 0.41927114\n",
      " 0.39904407 0.37836397 0.35859039 0.34070858]\n",
      "17 day output [[0.32524228]]\n",
      "18 day input [0.45393363 0.46809002 0.46878625 0.47203528 0.50220469 0.5047575\n",
      " 0.51148759 0.50638197 0.48944071 0.49176144 0.50684614 0.54142492\n",
      " 0.54560219 0.551404   0.56625669 0.56207935 0.55581343 0.56300762\n",
      " 0.57043397 0.61452772 0.63216524 0.67393827 0.69900206 0.69923415\n",
      " 0.71571131 0.72801111 0.73613365 0.7586447  0.72801111 0.74170337\n",
      " 0.73358084 0.74170337 0.74982591 0.75052217 0.77767459 0.76537479\n",
      " 0.70619632 0.74541654 0.73543746 0.75353908 0.75237872 0.80181018\n",
      " 0.80621954 0.82757016 0.84543976 0.81016473 0.81318172 0.8166628\n",
      " 0.81364582 0.81573453 0.83453233 0.82571361 0.81967971 0.84195868\n",
      " 0.85008121 0.86911118 0.89255043 0.93942909 0.84984913 0.88210718\n",
      " 0.92852166 0.93501973 0.96588533 0.96727778 0.96379669 0.99303783\n",
      " 1.         0.98375493 0.98259457 0.97911348 0.96402878 0.91366904\n",
      " 0.89812023 0.94964026 0.96402878 0.95613833 0.95544207 0.97957759\n",
      " 0.93780455 0.96843814 0.97354376 0.9663495  0.84075564 0.76310211\n",
      " 0.67372078 0.59986418 0.54705888 0.51323777 0.49333197 0.48167932\n",
      " 0.47328052 0.46438751 0.45274535 0.43756738 0.41927114 0.39904407\n",
      " 0.37836397 0.35859039 0.34070858 0.32524228]\n",
      "18 day output [[0.31229421]]\n",
      "19 day input [0.46809002 0.46878625 0.47203528 0.50220469 0.5047575  0.51148759\n",
      " 0.50638197 0.48944071 0.49176144 0.50684614 0.54142492 0.54560219\n",
      " 0.551404   0.56625669 0.56207935 0.55581343 0.56300762 0.57043397\n",
      " 0.61452772 0.63216524 0.67393827 0.69900206 0.69923415 0.71571131\n",
      " 0.72801111 0.73613365 0.7586447  0.72801111 0.74170337 0.73358084\n",
      " 0.74170337 0.74982591 0.75052217 0.77767459 0.76537479 0.70619632\n",
      " 0.74541654 0.73543746 0.75353908 0.75237872 0.80181018 0.80621954\n",
      " 0.82757016 0.84543976 0.81016473 0.81318172 0.8166628  0.81364582\n",
      " 0.81573453 0.83453233 0.82571361 0.81967971 0.84195868 0.85008121\n",
      " 0.86911118 0.89255043 0.93942909 0.84984913 0.88210718 0.92852166\n",
      " 0.93501973 0.96588533 0.96727778 0.96379669 0.99303783 1.\n",
      " 0.98375493 0.98259457 0.97911348 0.96402878 0.91366904 0.89812023\n",
      " 0.94964026 0.96402878 0.95613833 0.95544207 0.97957759 0.93780455\n",
      " 0.96843814 0.97354376 0.9663495  0.84075564 0.76310211 0.67372078\n",
      " 0.59986418 0.54705888 0.51323777 0.49333197 0.48167932 0.47328052\n",
      " 0.46438751 0.45274535 0.43756738 0.41927114 0.39904407 0.37836397\n",
      " 0.35859039 0.34070858 0.32524228 0.31229421]\n",
      "19 day output [[0.30165842]]\n",
      "20 day input [0.46878625 0.47203528 0.50220469 0.5047575  0.51148759 0.50638197\n",
      " 0.48944071 0.49176144 0.50684614 0.54142492 0.54560219 0.551404\n",
      " 0.56625669 0.56207935 0.55581343 0.56300762 0.57043397 0.61452772\n",
      " 0.63216524 0.67393827 0.69900206 0.69923415 0.71571131 0.72801111\n",
      " 0.73613365 0.7586447  0.72801111 0.74170337 0.73358084 0.74170337\n",
      " 0.74982591 0.75052217 0.77767459 0.76537479 0.70619632 0.74541654\n",
      " 0.73543746 0.75353908 0.75237872 0.80181018 0.80621954 0.82757016\n",
      " 0.84543976 0.81016473 0.81318172 0.8166628  0.81364582 0.81573453\n",
      " 0.83453233 0.82571361 0.81967971 0.84195868 0.85008121 0.86911118\n",
      " 0.89255043 0.93942909 0.84984913 0.88210718 0.92852166 0.93501973\n",
      " 0.96588533 0.96727778 0.96379669 0.99303783 1.         0.98375493\n",
      " 0.98259457 0.97911348 0.96402878 0.91366904 0.89812023 0.94964026\n",
      " 0.96402878 0.95613833 0.95544207 0.97957759 0.93780455 0.96843814\n",
      " 0.97354376 0.9663495  0.84075564 0.76310211 0.67372078 0.59986418\n",
      " 0.54705888 0.51323777 0.49333197 0.48167932 0.47328052 0.46438751\n",
      " 0.45274535 0.43756738 0.41927114 0.39904407 0.37836397 0.35859039\n",
      " 0.34070858 0.32524228 0.31229421 0.30165842]\n",
      "20 day output [[0.29294798]]\n",
      "21 day input [0.47203528 0.50220469 0.5047575  0.51148759 0.50638197 0.48944071\n",
      " 0.49176144 0.50684614 0.54142492 0.54560219 0.551404   0.56625669\n",
      " 0.56207935 0.55581343 0.56300762 0.57043397 0.61452772 0.63216524\n",
      " 0.67393827 0.69900206 0.69923415 0.71571131 0.72801111 0.73613365\n",
      " 0.7586447  0.72801111 0.74170337 0.73358084 0.74170337 0.74982591\n",
      " 0.75052217 0.77767459 0.76537479 0.70619632 0.74541654 0.73543746\n",
      " 0.75353908 0.75237872 0.80181018 0.80621954 0.82757016 0.84543976\n",
      " 0.81016473 0.81318172 0.8166628  0.81364582 0.81573453 0.83453233\n",
      " 0.82571361 0.81967971 0.84195868 0.85008121 0.86911118 0.89255043\n",
      " 0.93942909 0.84984913 0.88210718 0.92852166 0.93501973 0.96588533\n",
      " 0.96727778 0.96379669 0.99303783 1.         0.98375493 0.98259457\n",
      " 0.97911348 0.96402878 0.91366904 0.89812023 0.94964026 0.96402878\n",
      " 0.95613833 0.95544207 0.97957759 0.93780455 0.96843814 0.97354376\n",
      " 0.9663495  0.84075564 0.76310211 0.67372078 0.59986418 0.54705888\n",
      " 0.51323777 0.49333197 0.48167932 0.47328052 0.46438751 0.45274535\n",
      " 0.43756738 0.41927114 0.39904407 0.37836397 0.35859039 0.34070858\n",
      " 0.32524228 0.31229421 0.30165842 0.29294798]\n",
      "21 day output [[0.28571072]]\n",
      "22 day input [0.50220469 0.5047575  0.51148759 0.50638197 0.48944071 0.49176144\n",
      " 0.50684614 0.54142492 0.54560219 0.551404   0.56625669 0.56207935\n",
      " 0.55581343 0.56300762 0.57043397 0.61452772 0.63216524 0.67393827\n",
      " 0.69900206 0.69923415 0.71571131 0.72801111 0.73613365 0.7586447\n",
      " 0.72801111 0.74170337 0.73358084 0.74170337 0.74982591 0.75052217\n",
      " 0.77767459 0.76537479 0.70619632 0.74541654 0.73543746 0.75353908\n",
      " 0.75237872 0.80181018 0.80621954 0.82757016 0.84543976 0.81016473\n",
      " 0.81318172 0.8166628  0.81364582 0.81573453 0.83453233 0.82571361\n",
      " 0.81967971 0.84195868 0.85008121 0.86911118 0.89255043 0.93942909\n",
      " 0.84984913 0.88210718 0.92852166 0.93501973 0.96588533 0.96727778\n",
      " 0.96379669 0.99303783 1.         0.98375493 0.98259457 0.97911348\n",
      " 0.96402878 0.91366904 0.89812023 0.94964026 0.96402878 0.95613833\n",
      " 0.95544207 0.97957759 0.93780455 0.96843814 0.97354376 0.9663495\n",
      " 0.84075564 0.76310211 0.67372078 0.59986418 0.54705888 0.51323777\n",
      " 0.49333197 0.48167932 0.47328052 0.46438751 0.45274535 0.43756738\n",
      " 0.41927114 0.39904407 0.37836397 0.35859039 0.34070858 0.32524228\n",
      " 0.31229421 0.30165842 0.29294798 0.28571072]\n",
      "22 day output [[0.27951476]]\n",
      "23 day input [0.5047575  0.51148759 0.50638197 0.48944071 0.49176144 0.50684614\n",
      " 0.54142492 0.54560219 0.551404   0.56625669 0.56207935 0.55581343\n",
      " 0.56300762 0.57043397 0.61452772 0.63216524 0.67393827 0.69900206\n",
      " 0.69923415 0.71571131 0.72801111 0.73613365 0.7586447  0.72801111\n",
      " 0.74170337 0.73358084 0.74170337 0.74982591 0.75052217 0.77767459\n",
      " 0.76537479 0.70619632 0.74541654 0.73543746 0.75353908 0.75237872\n",
      " 0.80181018 0.80621954 0.82757016 0.84543976 0.81016473 0.81318172\n",
      " 0.8166628  0.81364582 0.81573453 0.83453233 0.82571361 0.81967971\n",
      " 0.84195868 0.85008121 0.86911118 0.89255043 0.93942909 0.84984913\n",
      " 0.88210718 0.92852166 0.93501973 0.96588533 0.96727778 0.96379669\n",
      " 0.99303783 1.         0.98375493 0.98259457 0.97911348 0.96402878\n",
      " 0.91366904 0.89812023 0.94964026 0.96402878 0.95613833 0.95544207\n",
      " 0.97957759 0.93780455 0.96843814 0.97354376 0.9663495  0.84075564\n",
      " 0.76310211 0.67372078 0.59986418 0.54705888 0.51323777 0.49333197\n",
      " 0.48167932 0.47328052 0.46438751 0.45274535 0.43756738 0.41927114\n",
      " 0.39904407 0.37836397 0.35859039 0.34070858 0.32524228 0.31229421\n",
      " 0.30165842 0.29294798 0.28571072 0.27951476]\n",
      "23 day output [[0.27400297]]\n",
      "24 day input [0.51148759 0.50638197 0.48944071 0.49176144 0.50684614 0.54142492\n",
      " 0.54560219 0.551404   0.56625669 0.56207935 0.55581343 0.56300762\n",
      " 0.57043397 0.61452772 0.63216524 0.67393827 0.69900206 0.69923415\n",
      " 0.71571131 0.72801111 0.73613365 0.7586447  0.72801111 0.74170337\n",
      " 0.73358084 0.74170337 0.74982591 0.75052217 0.77767459 0.76537479\n",
      " 0.70619632 0.74541654 0.73543746 0.75353908 0.75237872 0.80181018\n",
      " 0.80621954 0.82757016 0.84543976 0.81016473 0.81318172 0.8166628\n",
      " 0.81364582 0.81573453 0.83453233 0.82571361 0.81967971 0.84195868\n",
      " 0.85008121 0.86911118 0.89255043 0.93942909 0.84984913 0.88210718\n",
      " 0.92852166 0.93501973 0.96588533 0.96727778 0.96379669 0.99303783\n",
      " 1.         0.98375493 0.98259457 0.97911348 0.96402878 0.91366904\n",
      " 0.89812023 0.94964026 0.96402878 0.95613833 0.95544207 0.97957759\n",
      " 0.93780455 0.96843814 0.97354376 0.9663495  0.84075564 0.76310211\n",
      " 0.67372078 0.59986418 0.54705888 0.51323777 0.49333197 0.48167932\n",
      " 0.47328052 0.46438751 0.45274535 0.43756738 0.41927114 0.39904407\n",
      " 0.37836397 0.35859039 0.34070858 0.32524228 0.31229421 0.30165842\n",
      " 0.29294798 0.28571072 0.27951476 0.27400297]\n",
      "24 day output [[0.26891842]]\n",
      "25 day input [0.50638197 0.48944071 0.49176144 0.50684614 0.54142492 0.54560219\n",
      " 0.551404   0.56625669 0.56207935 0.55581343 0.56300762 0.57043397\n",
      " 0.61452772 0.63216524 0.67393827 0.69900206 0.69923415 0.71571131\n",
      " 0.72801111 0.73613365 0.7586447  0.72801111 0.74170337 0.73358084\n",
      " 0.74170337 0.74982591 0.75052217 0.77767459 0.76537479 0.70619632\n",
      " 0.74541654 0.73543746 0.75353908 0.75237872 0.80181018 0.80621954\n",
      " 0.82757016 0.84543976 0.81016473 0.81318172 0.8166628  0.81364582\n",
      " 0.81573453 0.83453233 0.82571361 0.81967971 0.84195868 0.85008121\n",
      " 0.86911118 0.89255043 0.93942909 0.84984913 0.88210718 0.92852166\n",
      " 0.93501973 0.96588533 0.96727778 0.96379669 0.99303783 1.\n",
      " 0.98375493 0.98259457 0.97911348 0.96402878 0.91366904 0.89812023\n",
      " 0.94964026 0.96402878 0.95613833 0.95544207 0.97957759 0.93780455\n",
      " 0.96843814 0.97354376 0.9663495  0.84075564 0.76310211 0.67372078\n",
      " 0.59986418 0.54705888 0.51323777 0.49333197 0.48167932 0.47328052\n",
      " 0.46438751 0.45274535 0.43756738 0.41927114 0.39904407 0.37836397\n",
      " 0.35859039 0.34070858 0.32524228 0.31229421 0.30165842 0.29294798\n",
      " 0.28571072 0.27951476 0.27400297 0.26891842]\n",
      "25 day output [[0.2641058]]\n",
      "26 day input [0.48944071 0.49176144 0.50684614 0.54142492 0.54560219 0.551404\n",
      " 0.56625669 0.56207935 0.55581343 0.56300762 0.57043397 0.61452772\n",
      " 0.63216524 0.67393827 0.69900206 0.69923415 0.71571131 0.72801111\n",
      " 0.73613365 0.7586447  0.72801111 0.74170337 0.73358084 0.74170337\n",
      " 0.74982591 0.75052217 0.77767459 0.76537479 0.70619632 0.74541654\n",
      " 0.73543746 0.75353908 0.75237872 0.80181018 0.80621954 0.82757016\n",
      " 0.84543976 0.81016473 0.81318172 0.8166628  0.81364582 0.81573453\n",
      " 0.83453233 0.82571361 0.81967971 0.84195868 0.85008121 0.86911118\n",
      " 0.89255043 0.93942909 0.84984913 0.88210718 0.92852166 0.93501973\n",
      " 0.96588533 0.96727778 0.96379669 0.99303783 1.         0.98375493\n",
      " 0.98259457 0.97911348 0.96402878 0.91366904 0.89812023 0.94964026\n",
      " 0.96402878 0.95613833 0.95544207 0.97957759 0.93780455 0.96843814\n",
      " 0.97354376 0.9663495  0.84075564 0.76310211 0.67372078 0.59986418\n",
      " 0.54705888 0.51323777 0.49333197 0.48167932 0.47328052 0.46438751\n",
      " 0.45274535 0.43756738 0.41927114 0.39904407 0.37836397 0.35859039\n",
      " 0.34070858 0.32524228 0.31229421 0.30165842 0.29294798 0.28571072\n",
      " 0.27951476 0.27400297 0.26891842 0.2641058 ]\n",
      "26 day output [[0.2594971]]\n",
      "27 day input [0.49176144 0.50684614 0.54142492 0.54560219 0.551404   0.56625669\n",
      " 0.56207935 0.55581343 0.56300762 0.57043397 0.61452772 0.63216524\n",
      " 0.67393827 0.69900206 0.69923415 0.71571131 0.72801111 0.73613365\n",
      " 0.7586447  0.72801111 0.74170337 0.73358084 0.74170337 0.74982591\n",
      " 0.75052217 0.77767459 0.76537479 0.70619632 0.74541654 0.73543746\n",
      " 0.75353908 0.75237872 0.80181018 0.80621954 0.82757016 0.84543976\n",
      " 0.81016473 0.81318172 0.8166628  0.81364582 0.81573453 0.83453233\n",
      " 0.82571361 0.81967971 0.84195868 0.85008121 0.86911118 0.89255043\n",
      " 0.93942909 0.84984913 0.88210718 0.92852166 0.93501973 0.96588533\n",
      " 0.96727778 0.96379669 0.99303783 1.         0.98375493 0.98259457\n",
      " 0.97911348 0.96402878 0.91366904 0.89812023 0.94964026 0.96402878\n",
      " 0.95613833 0.95544207 0.97957759 0.93780455 0.96843814 0.97354376\n",
      " 0.9663495  0.84075564 0.76310211 0.67372078 0.59986418 0.54705888\n",
      " 0.51323777 0.49333197 0.48167932 0.47328052 0.46438751 0.45274535\n",
      " 0.43756738 0.41927114 0.39904407 0.37836397 0.35859039 0.34070858\n",
      " 0.32524228 0.31229421 0.30165842 0.29294798 0.28571072 0.27951476\n",
      " 0.27400297 0.26891842 0.2641058  0.25949711]\n",
      "27 day output [[0.25508788]]\n",
      "28 day input [0.50684614 0.54142492 0.54560219 0.551404   0.56625669 0.56207935\n",
      " 0.55581343 0.56300762 0.57043397 0.61452772 0.63216524 0.67393827\n",
      " 0.69900206 0.69923415 0.71571131 0.72801111 0.73613365 0.7586447\n",
      " 0.72801111 0.74170337 0.73358084 0.74170337 0.74982591 0.75052217\n",
      " 0.77767459 0.76537479 0.70619632 0.74541654 0.73543746 0.75353908\n",
      " 0.75237872 0.80181018 0.80621954 0.82757016 0.84543976 0.81016473\n",
      " 0.81318172 0.8166628  0.81364582 0.81573453 0.83453233 0.82571361\n",
      " 0.81967971 0.84195868 0.85008121 0.86911118 0.89255043 0.93942909\n",
      " 0.84984913 0.88210718 0.92852166 0.93501973 0.96588533 0.96727778\n",
      " 0.96379669 0.99303783 1.         0.98375493 0.98259457 0.97911348\n",
      " 0.96402878 0.91366904 0.89812023 0.94964026 0.96402878 0.95613833\n",
      " 0.95544207 0.97957759 0.93780455 0.96843814 0.97354376 0.9663495\n",
      " 0.84075564 0.76310211 0.67372078 0.59986418 0.54705888 0.51323777\n",
      " 0.49333197 0.48167932 0.47328052 0.46438751 0.45274535 0.43756738\n",
      " 0.41927114 0.39904407 0.37836397 0.35859039 0.34070858 0.32524228\n",
      " 0.31229421 0.30165842 0.29294798 0.28571072 0.27951476 0.27400297\n",
      " 0.26891842 0.2641058  0.25949711 0.25508788]\n",
      "28 day output [[0.25091073]]\n",
      "29 day input [0.54142492 0.54560219 0.551404   0.56625669 0.56207935 0.55581343\n",
      " 0.56300762 0.57043397 0.61452772 0.63216524 0.67393827 0.69900206\n",
      " 0.69923415 0.71571131 0.72801111 0.73613365 0.7586447  0.72801111\n",
      " 0.74170337 0.73358084 0.74170337 0.74982591 0.75052217 0.77767459\n",
      " 0.76537479 0.70619632 0.74541654 0.73543746 0.75353908 0.75237872\n",
      " 0.80181018 0.80621954 0.82757016 0.84543976 0.81016473 0.81318172\n",
      " 0.8166628  0.81364582 0.81573453 0.83453233 0.82571361 0.81967971\n",
      " 0.84195868 0.85008121 0.86911118 0.89255043 0.93942909 0.84984913\n",
      " 0.88210718 0.92852166 0.93501973 0.96588533 0.96727778 0.96379669\n",
      " 0.99303783 1.         0.98375493 0.98259457 0.97911348 0.96402878\n",
      " 0.91366904 0.89812023 0.94964026 0.96402878 0.95613833 0.95544207\n",
      " 0.97957759 0.93780455 0.96843814 0.97354376 0.9663495  0.84075564\n",
      " 0.76310211 0.67372078 0.59986418 0.54705888 0.51323777 0.49333197\n",
      " 0.48167932 0.47328052 0.46438751 0.45274535 0.43756738 0.41927114\n",
      " 0.39904407 0.37836397 0.35859039 0.34070858 0.32524228 0.31229421\n",
      " 0.30165842 0.29294798 0.28571072 0.27951476 0.27400297 0.26891842\n",
      " 0.2641058  0.25949711 0.25508788 0.25091073]\n",
      "29 day output [[0.24701172]]\n",
      "[[0.8407556414604187], [0.763102114200592], [0.6737207770347595], [0.5998641848564148], [0.5470588803291321], [0.5132377743721008], [0.4933319687843323], [0.4816793203353882], [0.47328051924705505], [0.4643875062465668], [0.45274534821510315], [0.4375673830509186], [0.4192711412906647], [0.39904406666755676], [0.3783639669418335], [0.35859039425849915], [0.34070858359336853], [0.325242280960083], [0.31229421496391296], [0.30165842175483704], [0.2929479777812958], [0.28571072220802307], [0.27951475977897644], [0.27400296926498413], [0.2689184248447418], [0.26410579681396484], [0.25949710607528687], [0.25508788228034973], [0.2509107291698456], [0.2470117211341858]]\n"
     ]
    }
   ],
   "source": [
    "from numpy import array\n",
    "\n",
    "lst_output=[]\n",
    "n_steps=100\n",
    "i=0\n",
    "while(i<30):\n",
    "    \n",
    "    if(len(temp_input)>100):\n",
    "        #print(temp_input)\n",
    "        x_input=np.array(temp_input[1:])\n",
    "        print(\"{} day input {}\".format(i,x_input))\n",
    "        x_input=x_input.reshape(1,-1)\n",
    "        x_input = x_input.reshape((1, n_steps, 1))\n",
    "        #print(x_input)\n",
    "        yhat = model.predict(x_input, verbose=0)\n",
    "        print(\"{} day output {}\".format(i,yhat))\n",
    "        temp_input.extend(yhat[0].tolist())\n",
    "        temp_input=temp_input[1:]\n",
    "        #print(temp_input)\n",
    "        lst_output.extend(yhat.tolist())\n",
    "        i=i+1\n",
    "    else:\n",
    "        x_input = x_input.reshape((1, n_steps,1))\n",
    "        yhat = model.predict(x_input, verbose=0)\n",
    "        print(yhat[0])\n",
    "        temp_input.extend(yhat[0].tolist())\n",
    "        print(len(temp_input))\n",
    "        lst_output.extend(yhat.tolist())\n",
    "        i=i+1\n",
    "    \n",
    "\n",
    "print(lst_output)"
   ]
  },
  {
   "cell_type": "code",
   "execution_count": null,
   "metadata": {},
   "outputs": [],
   "source": []
  },
  {
   "cell_type": "code",
   "execution_count": 38,
   "metadata": {},
   "outputs": [],
   "source": [
    "day_new=np.arange(1,101)\n",
    "day_pred=np.arange(101,131)"
   ]
  },
  {
   "cell_type": "code",
   "execution_count": 39,
   "metadata": {},
   "outputs": [
    {
     "data": {
      "text/plain": [
       "1235"
      ]
     },
     "execution_count": 39,
     "metadata": {},
     "output_type": "execute_result"
    }
   ],
   "source": [
    "len(df2)"
   ]
  },
  {
   "cell_type": "code",
   "execution_count": 40,
   "metadata": {},
   "outputs": [],
   "source": [
    "df3 = df2.tolist()"
   ]
  },
  {
   "cell_type": "code",
   "execution_count": 41,
   "metadata": {},
   "outputs": [],
   "source": [
    "df3.extend(lst_output)"
   ]
  },
  {
   "cell_type": "code",
   "execution_count": 42,
   "metadata": {},
   "outputs": [
    {
     "data": {
      "text/plain": [
       "1265"
      ]
     },
     "execution_count": 42,
     "metadata": {},
     "output_type": "execute_result"
    }
   ],
   "source": [
    "len(df3)"
   ]
  },
  {
   "cell_type": "code",
   "execution_count": 43,
   "metadata": {},
   "outputs": [
    {
     "data": {
      "text/plain": [
       "[<matplotlib.lines.Line2D at 0x267ac92a290>]"
      ]
     },
     "execution_count": 43,
     "metadata": {},
     "output_type": "execute_result"
    },
    {
     "data": {
      "image/png": "[encoded data removed]",
      "text/plain": [
       "<Figure size 1800x600 with 1 Axes>"
      ]
     },
     "metadata": {},
     "output_type": "display_data"
    }
   ],
   "source": [
    "fig_size = (18, 6)  # Adjust the values according to your preference\n",
    "plt.figure(figsize=fig_size)\n",
    "plt.plot(df3)"
   ]
  },
  {
   "cell_type": "code",
   "execution_count": 44,
   "metadata": {},
   "outputs": [],
   "source": [
    "df3=scaler.inverse_transform(df3).tolist()"
   ]
  },
  {
   "cell_type": "code",
   "execution_count": 45,
   "metadata": {},
   "outputs": [
    {
     "data": {
      "text/plain": [
       "[<matplotlib.lines.Line2D at 0x267aca21bd0>]"
      ]
     },
     "execution_count": 45,
     "metadata": {},
     "output_type": "execute_result"
    },
    {
     "data": {
      "image/png": "[encoded data removed]",
      "text/plain": [
       "<Figure size 1800x600 with 1 Axes>"
      ]
     },
     "metadata": {},
     "output_type": "display_data"
    }
   ],
   "source": [
    "fig_size = (18, 6)  \n",
    "plt.figure(figsize=fig_size)\n",
    "plt.plot(df3)"
   ]
  },
  {
   "cell_type": "code",
   "execution_count": 46,
   "metadata": {},
   "outputs": [
    {
     "data": {
      "text/plain": [
       "1235"
      ]
     },
     "execution_count": 46,
     "metadata": {},
     "output_type": "execute_result"
    }
   ],
   "source": [
    "len(df2)"
   ]
  },
  {
   "cell_type": "code",
   "execution_count": 47,
   "metadata": {},
   "outputs": [
    {
     "data": {
      "text/plain": [
       "1265"
      ]
     },
     "execution_count": 47,
     "metadata": {},
     "output_type": "execute_result"
    }
   ],
   "source": [
    "len(df3)"
   ]
  },
  {
   "cell_type": "code",
   "execution_count": 48,
   "metadata": {},
   "outputs": [
    {
     "name": "stderr",
     "output_type": "stream",
     "text": [
      "c:\\Users\\Shivam\\anaconda3\\Lib\\site-packages\\keras\\src\\engine\\training.py:3079: UserWarning: You are saving your model as an HDF5 file via `model.save()`. This file format is considered legacy. We recommend using instead the native Keras format, e.g. `model.save('my_model.keras')`.\n",
      "  saving_api.save_model(\n"
     ]
    }
   ],
   "source": [
    "model.save(\"bhel.h5\", model)"
   ]
  },
  {
   "cell_type": "code",
   "execution_count": 49,
   "metadata": {},
   "outputs": [],
   "source": [
    "from tensorflow.keras.models import load_model"
   ]
  },
  {
   "cell_type": "code",
   "execution_count": 50,
   "metadata": {},
   "outputs": [],
   "source": [
    "model_check = load_model(\"bhel.h5\")"
   ]
  }
 ],
 "metadata": {
  "kernelspec": {
   "display_name": "base",
   "language": "python",
   "name": "python3"
  },
  "language_info": {
   "codemirror_mode": {
    "name": "ipython",
    "version": 3
   },
   "file_extension": ".py",
   "mimetype": "text/x-python",
   "name": "python",
   "nbconvert_exporter": "python",
   "pygments_lexer": "ipython3",
   "version": "3.11.3"
  }
 },
 "nbformat": 4,
 "nbformat_minor": 2
}
